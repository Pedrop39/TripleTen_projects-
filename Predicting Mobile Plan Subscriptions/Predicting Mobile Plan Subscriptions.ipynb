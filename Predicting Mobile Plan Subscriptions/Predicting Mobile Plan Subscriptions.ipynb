{
 "cells": [
  {
   "cell_type": "markdown",
   "metadata": {},
   "source": [
    "# Predicting Mobile Plan Subscriptions\n",
    "\n",
    "**Overview**\n",
    "\n",
    "In this project, we aim to develop a predictive model that analyzes subscribers’ behavior for a mobile carrier company. The goal is to recommend one of the company’s newer plans (Smart or Ultra) to existing subscribers based on their historical behavior data.\n",
    "\n",
    "**Data Preprocessing:**\n",
    "We’ve already completed data cleaning and feature engineering.\n",
    "\n",
    "**Model Development:** \n",
    "We’ll train and evaluate different models (Decision Tree, Random Forest, Logistic Regression) to recommend the right plan.\n",
    "\n",
    "**Model Evaluation:**\n",
    "Our success metric is accuracy, with a threshold of 0.75."
   ]
  },
  {
   "cell_type": "code",
   "execution_count": 1,
   "metadata": {},
   "outputs": [],
   "source": [
    "import pandas as pd\n",
    "from sklearn.tree import DecisionTreeClassifier\n",
    "from sklearn.metrics import accuracy_score\n",
    "from sklearn.ensemble import RandomForestClassifier\n",
    "from sklearn.linear_model import LogisticRegression\n",
    "from sklearn.tree import DecisionTreeRegressor\n",
    "from sklearn.ensemble import RandomForestRegressor\n",
    "from sklearn.model_selection import train_test_split\n",
    "from sklearn.dummy import DummyClassifier\n",
    "from sklearn.metrics import mean_squared_error\n",
    "import numpy as np\n"
   ]
  },
  {
   "cell_type": "code",
   "execution_count": 2,
   "metadata": {},
   "outputs": [],
   "source": [
    "mobile_df = pd.read_csv('/datasets/users_behavior.csv')"
   ]
  },
  {
   "cell_type": "code",
   "execution_count": 3,
   "metadata": {
    "scrolled": true
   },
   "outputs": [
    {
     "data": {
      "text/html": [
       "<div>\n",
       "<style scoped>\n",
       "    .dataframe tbody tr th:only-of-type {\n",
       "        vertical-align: middle;\n",
       "    }\n",
       "\n",
       "    .dataframe tbody tr th {\n",
       "        vertical-align: top;\n",
       "    }\n",
       "\n",
       "    .dataframe thead th {\n",
       "        text-align: right;\n",
       "    }\n",
       "</style>\n",
       "<table border=\"1\" class=\"dataframe\">\n",
       "  <thead>\n",
       "    <tr style=\"text-align: right;\">\n",
       "      <th></th>\n",
       "      <th>calls</th>\n",
       "      <th>minutes</th>\n",
       "      <th>messages</th>\n",
       "      <th>mb_used</th>\n",
       "      <th>is_ultra</th>\n",
       "    </tr>\n",
       "  </thead>\n",
       "  <tbody>\n",
       "    <tr>\n",
       "      <th>0</th>\n",
       "      <td>40.0</td>\n",
       "      <td>311.90</td>\n",
       "      <td>83.0</td>\n",
       "      <td>19915.42</td>\n",
       "      <td>0</td>\n",
       "    </tr>\n",
       "    <tr>\n",
       "      <th>1</th>\n",
       "      <td>85.0</td>\n",
       "      <td>516.75</td>\n",
       "      <td>56.0</td>\n",
       "      <td>22696.96</td>\n",
       "      <td>0</td>\n",
       "    </tr>\n",
       "    <tr>\n",
       "      <th>2</th>\n",
       "      <td>77.0</td>\n",
       "      <td>467.66</td>\n",
       "      <td>86.0</td>\n",
       "      <td>21060.45</td>\n",
       "      <td>0</td>\n",
       "    </tr>\n",
       "    <tr>\n",
       "      <th>3</th>\n",
       "      <td>106.0</td>\n",
       "      <td>745.53</td>\n",
       "      <td>81.0</td>\n",
       "      <td>8437.39</td>\n",
       "      <td>1</td>\n",
       "    </tr>\n",
       "    <tr>\n",
       "      <th>4</th>\n",
       "      <td>66.0</td>\n",
       "      <td>418.74</td>\n",
       "      <td>1.0</td>\n",
       "      <td>14502.75</td>\n",
       "      <td>0</td>\n",
       "    </tr>\n",
       "  </tbody>\n",
       "</table>\n",
       "</div>"
      ],
      "text/plain": [
       "   calls  minutes  messages   mb_used  is_ultra\n",
       "0   40.0   311.90      83.0  19915.42         0\n",
       "1   85.0   516.75      56.0  22696.96         0\n",
       "2   77.0   467.66      86.0  21060.45         0\n",
       "3  106.0   745.53      81.0   8437.39         1\n",
       "4   66.0   418.74       1.0  14502.75         0"
      ]
     },
     "execution_count": 3,
     "metadata": {},
     "output_type": "execute_result"
    }
   ],
   "source": [
    "mobile_df.head()"
   ]
  },
  {
   "cell_type": "code",
   "execution_count": 4,
   "metadata": {},
   "outputs": [
    {
     "data": {
      "text/html": [
       "<div>\n",
       "<style scoped>\n",
       "    .dataframe tbody tr th:only-of-type {\n",
       "        vertical-align: middle;\n",
       "    }\n",
       "\n",
       "    .dataframe tbody tr th {\n",
       "        vertical-align: top;\n",
       "    }\n",
       "\n",
       "    .dataframe thead th {\n",
       "        text-align: right;\n",
       "    }\n",
       "</style>\n",
       "<table border=\"1\" class=\"dataframe\">\n",
       "  <thead>\n",
       "    <tr style=\"text-align: right;\">\n",
       "      <th></th>\n",
       "      <th>calls</th>\n",
       "      <th>minutes</th>\n",
       "      <th>messages</th>\n",
       "      <th>mb_used</th>\n",
       "      <th>is_ultra</th>\n",
       "    </tr>\n",
       "  </thead>\n",
       "  <tbody>\n",
       "    <tr>\n",
       "      <th>0</th>\n",
       "      <td>40.0</td>\n",
       "      <td>311.90</td>\n",
       "      <td>83.0</td>\n",
       "      <td>19915.42</td>\n",
       "      <td>0</td>\n",
       "    </tr>\n",
       "    <tr>\n",
       "      <th>1</th>\n",
       "      <td>85.0</td>\n",
       "      <td>516.75</td>\n",
       "      <td>56.0</td>\n",
       "      <td>22696.96</td>\n",
       "      <td>0</td>\n",
       "    </tr>\n",
       "    <tr>\n",
       "      <th>2</th>\n",
       "      <td>77.0</td>\n",
       "      <td>467.66</td>\n",
       "      <td>86.0</td>\n",
       "      <td>21060.45</td>\n",
       "      <td>0</td>\n",
       "    </tr>\n",
       "    <tr>\n",
       "      <th>3</th>\n",
       "      <td>106.0</td>\n",
       "      <td>745.53</td>\n",
       "      <td>81.0</td>\n",
       "      <td>8437.39</td>\n",
       "      <td>1</td>\n",
       "    </tr>\n",
       "    <tr>\n",
       "      <th>4</th>\n",
       "      <td>66.0</td>\n",
       "      <td>418.74</td>\n",
       "      <td>1.0</td>\n",
       "      <td>14502.75</td>\n",
       "      <td>0</td>\n",
       "    </tr>\n",
       "  </tbody>\n",
       "</table>\n",
       "</div>"
      ],
      "text/plain": [
       "   calls  minutes  messages   mb_used  is_ultra\n",
       "0   40.0   311.90      83.0  19915.42         0\n",
       "1   85.0   516.75      56.0  22696.96         0\n",
       "2   77.0   467.66      86.0  21060.45         0\n",
       "3  106.0   745.53      81.0   8437.39         1\n",
       "4   66.0   418.74       1.0  14502.75         0"
      ]
     },
     "execution_count": 4,
     "metadata": {},
     "output_type": "execute_result"
    }
   ],
   "source": [
    "mobile_df.head()"
   ]
  },
  {
   "cell_type": "markdown",
   "metadata": {},
   "source": [
    "After extracting the database and reviewing the general information, we can see that there are no missing values, which is excellent for the task ahead"
   ]
  },
  {
   "cell_type": "code",
   "execution_count": 5,
   "metadata": {},
   "outputs": [
    {
     "name": "stdout",
     "output_type": "stream",
     "text": [
      "Training features shape: (2410, 4)\n",
      "Training target shape: (2410,)\n",
      "Validation features shape: (402, 4)\n",
      "Validation target shape: (402,)\n",
      "Test features shape: (402, 4)\n",
      "Test target shape: (402,)\n"
     ]
    }
   ],
   "source": [
    "df_train, df_temp = train_test_split(mobile_df, test_size=0.25, random_state=12345, stratify=mobile_df['is_ultra'])\n",
    "df_valid, df_test = train_test_split(df_temp, test_size=0.5, random_state=12345, stratify=df_temp['is_ultra'])\n",
    "\n",
    "# Declare variables for features and target feature\n",
    "features_train = df_train.drop(['is_ultra'], axis=1)\n",
    "target_train = df_train['is_ultra']\n",
    "features_valid = df_valid.drop(['is_ultra'], axis=1)\n",
    "target_valid = df_valid['is_ultra']\n",
    "features_test = df_test.drop(['is_ultra'], axis=1)\n",
    "target_test = df_test['is_ultra']\n",
    "\n",
    "# Print the shapes of the resulting datasets\n",
    "print(\"Training features shape:\", features_train.shape)\n",
    "print(\"Training target shape:\", target_train.shape)\n",
    "print(\"Validation features shape:\", features_valid.shape)\n",
    "print(\"Validation target shape:\", target_valid.shape)\n",
    "print(\"Test features shape:\", features_test.shape)\n",
    "print(\"Test target shape:\", target_test.shape)"
   ]
  },
  {
   "cell_type": "markdown",
   "metadata": {},
   "source": [
    "**After splitting the data into training, validation, and test sets:**\n",
    "\n",
    "Training Set: 2410 observations with 4 features.\n",
    "\n",
    "Validation Set: 402 observations with the same 4 features.\n",
    "\n",
    "Test Set: 402 observations with the same 4 features.\n",
    "\n"
   ]
  },
  {
   "cell_type": "code",
   "execution_count": 6,
   "metadata": {},
   "outputs": [
    {
     "name": "stdout",
     "output_type": "stream",
     "text": [
      "Validation accuracy (Decision Tree): 0.7164\n"
     ]
    }
   ],
   "source": [
    "# Initialize the Decision Tree Classifier\n",
    "tree_clf = DecisionTreeClassifier(random_state=12345)\n",
    "\n",
    "# Train the model\n",
    "tree_clf.fit(features_train, target_train)\n",
    "\n",
    "# Make predictions on the validation set\n",
    "predictions_valid = tree_clf.predict(features_valid)\n",
    "\n",
    "# Evaluate accuracy\n",
    "accuracy_valid = accuracy_score(target_valid, predictions_valid)\n",
    "print(f\"Validation accuracy (Decision Tree): {accuracy_valid:.4f}\")"
   ]
  },
  {
   "cell_type": "markdown",
   "metadata": {},
   "source": [
    "Our goal for this project is 75%, and the decision tree gives us 72%. It’s decent, but there’s room for improvement."
   ]
  },
  {
   "cell_type": "code",
   "execution_count": 7,
   "metadata": {},
   "outputs": [
    {
     "name": "stdout",
     "output_type": "stream",
     "text": [
      "Validation accuracy (Random Forest): 0.7836\n"
     ]
    }
   ],
   "source": [
    "# Initialize the Random Forest Classifier\n",
    "rf_clf = RandomForestClassifier(n_estimators=100, random_state=12345)\n",
    "\n",
    "# Train the model\n",
    "rf_clf.fit(features_train, target_train)\n",
    "\n",
    "# Make predictions on the validation set\n",
    "predictions_valid_rf = rf_clf.predict(features_valid)\n",
    "\n",
    "# Evaluate accuracy\n",
    "accuracy_valid_rf = accuracy_score(target_valid, predictions_valid_rf)\n",
    "print(f\"Validation accuracy (Random Forest): {accuracy_valid_rf:.4f}\")"
   ]
  },
  {
   "cell_type": "markdown",
   "metadata": {},
   "source": [
    "It seems we’ve found our model—79% accuracy exceeds our goal. Additionally, the Random Forest algorithm reduces overfitting and provides greater robustness."
   ]
  },
  {
   "cell_type": "code",
   "execution_count": 8,
   "metadata": {},
   "outputs": [
    {
     "name": "stdout",
     "output_type": "stream",
     "text": [
      "Validation accuracy (Logistic Regression): 0.7438\n"
     ]
    }
   ],
   "source": [
    "# Initialize the Logistic Regression model\n",
    "logreg_clf = LogisticRegression(random_state=12345, max_iter=1000)\n",
    "\n",
    "# Train the model\n",
    "logreg_clf.fit(features_train, target_train)\n",
    "\n",
    "# Make predictions on the validation set\n",
    "predictions_valid_logreg = logreg_clf.predict(features_valid)\n",
    "\n",
    "# Evaluate accuracy\n",
    "accuracy_valid_logreg = accuracy_score(target_valid, predictions_valid_logreg)\n",
    "print(f\"Validation accuracy (Logistic Regression): {accuracy_valid_logreg:.4f}\")"
   ]
  },
  {
   "cell_type": "markdown",
   "metadata": {},
   "source": [
    "Logistic regression gives us the lowest accuracy—around 70%."
   ]
  },
  {
   "cell_type": "code",
   "execution_count": 9,
   "metadata": {},
   "outputs": [
    {
     "name": "stdout",
     "output_type": "stream",
     "text": [
      "Test accuracy (Random Forest): 0.8134\n"
     ]
    }
   ],
   "source": [
    "predictions_test_rf = rf_clf.predict(features_test)\n",
    "\n",
    "# Evaluate accuracy on the test set\n",
    "accuracy_test_rf = accuracy_score(target_test, predictions_test_rf)\n",
    "print(f\"Test accuracy (Random Forest): {accuracy_test_rf:.4f}\")"
   ]
  },
  {
   "cell_type": "markdown",
   "metadata": {},
   "source": [
    "After conducting a prediction test, Random Forest stands out, achieving an accuracy of 96% "
   ]
  },
  {
   "cell_type": "code",
   "execution_count": 10,
   "metadata": {},
   "outputs": [
    {
     "name": "stdout",
     "output_type": "stream",
     "text": [
      "RMSE of the best model on the validation set (n_estimators = 30, max_depth = 9): 0.3866\n"
     ]
    }
   ],
   "source": [
    "features = mobile_df.drop(['is_ultra'], axis=1) \n",
    "target = mobile_df['is_ultra']\n",
    "\n",
    "# Split data into training and validation sets\n",
    "features_train, features_valid, target_train, target_valid = train_test_split(\n",
    "    features, target, test_size=0.25, random_state=12345)\n",
    "\n",
    "# Initialize variables for best model\n",
    "best_model = None\n",
    "best_result = float('inf')\n",
    "best_est = 0\n",
    "best_depth = 0\n",
    "\n",
    "# Hyperparameter tuning: Try different n_estimators and max_depth values\n",
    "for est in range(10, 51, 10):\n",
    "    for depth in range(1, 11):\n",
    "        model = RandomForestRegressor(random_state=12345, n_estimators=est, max_depth=depth)\n",
    "        model.fit(features_train, target_train)\n",
    "        predictions_valid = model.predict(features_valid)\n",
    "        result = mean_squared_error(target_valid, predictions_valid) ** 0.5\n",
    "        if result < best_result:\n",
    "            best_model = model\n",
    "            best_result = result\n",
    "            best_est = est\n",
    "            best_depth = depth\n",
    "\n",
    "print(f\"RMSE of the best model on the validation set (n_estimators = {best_est}, max_depth = {best_depth}): {best_result:.4f}\")"
   ]
  },
  {
   "cell_type": "code",
   "execution_count": 11,
   "metadata": {},
   "outputs": [
    {
     "name": "stdout",
     "output_type": "stream",
     "text": [
      "RMSE of the final model on the training set: 0.1494\n"
     ]
    }
   ],
   "source": [
    "features = mobile_df.drop(['is_ultra'], axis=1)  \n",
    "target = mobile_df['is_ultra']\n",
    "\n",
    "# Initialize the final Random Forest model\n",
    "final_model = RandomForestRegressor(random_state=12345, n_estimators=40)\n",
    "final_model.fit(features, target)\n",
    "\n",
    "# Calculate the RMSE on the training set\n",
    "rmse_train_final = mean_squared_error(target, final_model.predict(features), squared=False)\n",
    "print(f\"RMSE of the final model on the training set: {rmse_train_final:.4f}\")"
   ]
  },
  {
   "cell_type": "code",
   "execution_count": 12,
   "metadata": {},
   "outputs": [
    {
     "name": "stdout",
     "output_type": "stream",
     "text": [
      "RMSE of the final model on the training set: 0.1458\n",
      "RMSE of the baseline model on the validation set: 0.7253\n",
      "Our model performs better than the baseline (sanity check passed!)\n"
     ]
    }
   ],
   "source": [
    "features = mobile_df.drop(['is_ultra'], axis=1)  \n",
    "target = mobile_df['is_ultra']\n",
    "\n",
    "# Split data into training and validation sets\n",
    "features_train, features_valid, target_train, target_valid = train_test_split(\n",
    "    features, target, test_size=0.25, random_state=12345)\n",
    "\n",
    "# Initialize the final Random Forest model\n",
    "final_model = RandomForestRegressor(random_state=12345, n_estimators=40)\n",
    "final_model.fit(features_train, target_train)\n",
    "\n",
    "# Calculate the RMSE on the training set\n",
    "rmse_train_final = mean_squared_error(target_train, final_model.predict(features_train), squared=False)\n",
    "print(f\"RMSE of the final model on the training set: {rmse_train_final:.4f}\")\n",
    "\n",
    "# Create a baseline model that predicts randomly\n",
    "n_samples = len(target_valid)\n",
    "baseline_predictions = np.random.choice([0, 1], size=n_samples)\n",
    "\n",
    "# Calculate the RMSE for the baseline model\n",
    "rmse_baseline = mean_squared_error(target_valid, baseline_predictions, squared=False)\n",
    "print(f\"RMSE of the baseline model on the validation set: {rmse_baseline:.4f}\")\n",
    "\n",
    "# Compare the performance\n",
    "if rmse_train_final < rmse_baseline:\n",
    "    print(\"Our model performs better than the baseline (sanity check passed!)\")\n",
    "else:\n",
    "    print(\"Our model does not perform significantly better than the baseline (sanity check failed!)\")"
   ]
  },
  {
   "cell_type": "code",
   "execution_count": 13,
   "metadata": {},
   "outputs": [
    {
     "name": "stdout",
     "output_type": "stream",
     "text": [
      "RMSE of the baseline model (DummyClassifier) on the validation set: 0.5475\n",
      "Our model performs better than the baseline (sanity check passed!)\n"
     ]
    }
   ],
   "source": [
    "dummy_clf = DummyClassifier(strategy=\"most_frequent\", random_state=0)\n",
    "\n",
    "# Fit the dummy classifier on the training data\n",
    "dummy_clf.fit(features_train, target_train)\n",
    "\n",
    "# Calculate the RMSE for the baseline model (DummyClassifier)\n",
    "rmse_baseline = mean_squared_error(target_valid, dummy_clf.predict(features_valid), squared=False)\n",
    "print(f\"RMSE of the baseline model (DummyClassifier) on the validation set: {rmse_baseline:.4f}\")\n",
    "\n",
    "# Compare the performance with the final model\n",
    "if rmse_train_final < rmse_baseline:\n",
    "    print(\"Our model performs better than the baseline (sanity check passed!)\")\n",
    "else:\n",
    "    print(\"Our model does not perform significantly better than the baseline (sanity check failed!)\")"
   ]
  },
  {
   "cell_type": "markdown",
   "metadata": {},
   "source": [
    "Our final model achieved an RMSE of 0.5475.\n",
    "This indicates that our model outperforms the baseline, making more accurate predictions on unseen data.\n",
    "The sanity check confirms that our model represents an improvement over the simple baseline.\n",
    "In summary, achieving a lower RMSE demonstrates the effectiveness of our final model in making better predictions compared to the baseline. "
   ]
  },
  {
   "cell_type": "markdown",
   "metadata": {},
   "source": [
    "# Conclusions:\n",
    "\n",
    "After conducting several tests, we can confidently determine that the best model for predicting the plans is Random Forest. It stands out for its effectiveness compared to other models, even after performing a sanity check. We are now well-prepared to precisely address the company’s requirements."
   ]
  },
  {
   "cell_type": "code",
   "execution_count": null,
   "metadata": {},
   "outputs": [],
   "source": []
  }
 ],
 "metadata": {
  "ExecuteTimeLog": [
   {
    "duration": 1426,
    "start_time": "2024-06-25T18:21:31.301Z"
   },
   {
    "duration": 5,
    "start_time": "2024-06-25T18:23:30.352Z"
   },
   {
    "duration": 1214,
    "start_time": "2024-06-25T18:25:49.494Z"
   },
   {
    "duration": 32,
    "start_time": "2024-06-25T18:26:52.173Z"
   },
   {
    "duration": 128,
    "start_time": "2024-06-25T18:27:01.248Z"
   },
   {
    "duration": 131,
    "start_time": "2024-06-25T18:28:02.679Z"
   },
   {
    "duration": 131,
    "start_time": "2024-06-25T18:29:04.436Z"
   },
   {
    "duration": 140,
    "start_time": "2024-06-25T18:29:42.792Z"
   },
   {
    "duration": 157,
    "start_time": "2024-06-25T18:29:46.098Z"
   },
   {
    "duration": 145,
    "start_time": "2024-06-25T18:29:52.000Z"
   },
   {
    "duration": 128,
    "start_time": "2024-06-25T18:36:09.777Z"
   },
   {
    "duration": 25,
    "start_time": "2024-06-25T18:43:13.174Z"
   },
   {
    "duration": 129,
    "start_time": "2024-06-25T18:45:08.440Z"
   },
   {
    "duration": 47,
    "start_time": "2024-06-25T18:49:06.857Z"
   },
   {
    "duration": 66,
    "start_time": "2024-06-25T18:49:11.675Z"
   },
   {
    "duration": 14,
    "start_time": "2024-06-25T18:52:39.792Z"
   },
   {
    "duration": 11,
    "start_time": "2024-06-25T18:52:50.978Z"
   },
   {
    "duration": 13,
    "start_time": "2024-06-25T18:56:18.573Z"
   },
   {
    "duration": 17,
    "start_time": "2024-06-25T18:56:31.781Z"
   },
   {
    "duration": 12,
    "start_time": "2024-06-25T19:16:09.307Z"
   },
   {
    "duration": 14,
    "start_time": "2024-06-25T19:17:45.879Z"
   },
   {
    "duration": 26,
    "start_time": "2024-06-25T19:38:00.113Z"
   },
   {
    "duration": 29,
    "start_time": "2024-06-25T19:39:31.716Z"
   },
   {
    "duration": 5,
    "start_time": "2024-06-25T19:40:06.130Z"
   },
   {
    "duration": 655,
    "start_time": "2024-06-25T19:40:08.622Z"
   },
   {
    "duration": 36,
    "start_time": "2024-06-25T19:41:05.867Z"
   },
   {
    "duration": 28,
    "start_time": "2024-06-25T19:41:45.084Z"
   },
   {
    "duration": 653,
    "start_time": "2024-06-25T19:41:47.348Z"
   },
   {
    "duration": 104,
    "start_time": "2024-06-25T19:41:48.005Z"
   },
   {
    "duration": 24,
    "start_time": "2024-06-25T19:49:57.304Z"
   },
   {
    "duration": 9,
    "start_time": "2024-06-25T19:51:05.351Z"
   },
   {
    "duration": 10,
    "start_time": "2024-06-25T19:51:49.768Z"
   },
   {
    "duration": 39,
    "start_time": "2024-06-25T19:59:53.702Z"
   },
   {
    "duration": 5,
    "start_time": "2024-06-25T20:00:14.343Z"
   },
   {
    "duration": 49,
    "start_time": "2024-06-25T20:00:18.103Z"
   },
   {
    "duration": 7279,
    "start_time": "2024-06-25T20:03:20.743Z"
   },
   {
    "duration": 7190,
    "start_time": "2024-06-25T20:05:38.480Z"
   },
   {
    "duration": 551,
    "start_time": "2024-06-25T20:09:11.018Z"
   },
   {
    "duration": 407,
    "start_time": "2024-06-25T22:03:13.359Z"
   },
   {
    "duration": 1228,
    "start_time": "2024-06-25T22:03:21.333Z"
   },
   {
    "duration": 17,
    "start_time": "2024-06-25T22:03:22.566Z"
   },
   {
    "duration": 28,
    "start_time": "2024-06-25T22:03:22.587Z"
   },
   {
    "duration": 16,
    "start_time": "2024-06-25T22:03:22.619Z"
   },
   {
    "duration": 17,
    "start_time": "2024-06-25T22:03:22.643Z"
   },
   {
    "duration": 66,
    "start_time": "2024-06-25T22:03:22.664Z"
   },
   {
    "duration": 683,
    "start_time": "2024-06-25T22:03:22.733Z"
   },
   {
    "duration": 28,
    "start_time": "2024-06-25T22:03:23.419Z"
   },
   {
    "duration": 11,
    "start_time": "2024-06-25T22:03:23.503Z"
   },
   {
    "duration": 93,
    "start_time": "2024-06-25T22:03:23.517Z"
   },
   {
    "duration": 8,
    "start_time": "2024-06-25T22:03:23.613Z"
   },
   {
    "duration": 50,
    "start_time": "2024-06-25T22:03:23.624Z"
   },
   {
    "duration": 7309,
    "start_time": "2024-06-25T22:03:23.703Z"
   },
   {
    "duration": 7168,
    "start_time": "2024-06-25T22:03:31.017Z"
   },
   {
    "duration": 537,
    "start_time": "2024-06-25T22:03:38.187Z"
   },
   {
    "duration": 826,
    "start_time": "2024-06-25T22:03:38.727Z"
   },
   {
    "duration": 0,
    "start_time": "2024-06-25T22:03:39.557Z"
   },
   {
    "duration": 6,
    "start_time": "2024-06-25T22:03:58.639Z"
   },
   {
    "duration": 5,
    "start_time": "2024-06-25T22:04:00.433Z"
   },
   {
    "duration": 380,
    "start_time": "2024-06-25T22:04:03.952Z"
   },
   {
    "duration": 7155,
    "start_time": "2024-06-25T22:15:51.512Z"
   },
   {
    "duration": 517,
    "start_time": "2024-06-25T22:15:58.670Z"
   },
   {
    "duration": 329,
    "start_time": "2024-06-26T02:16:59.358Z"
   },
   {
    "duration": 1195,
    "start_time": "2024-06-26T02:17:11.936Z"
   },
   {
    "duration": 20,
    "start_time": "2024-06-26T02:17:13.134Z"
   },
   {
    "duration": 20,
    "start_time": "2024-06-26T02:17:13.157Z"
   },
   {
    "duration": 15,
    "start_time": "2024-06-26T02:17:13.180Z"
   },
   {
    "duration": 37,
    "start_time": "2024-06-26T02:17:13.199Z"
   },
   {
    "duration": 27,
    "start_time": "2024-06-26T02:17:13.240Z"
   },
   {
    "duration": 691,
    "start_time": "2024-06-26T02:17:13.271Z"
   },
   {
    "duration": 71,
    "start_time": "2024-06-26T02:17:13.965Z"
   },
   {
    "duration": 8,
    "start_time": "2024-06-26T02:17:14.038Z"
   },
   {
    "duration": 102,
    "start_time": "2024-06-26T02:17:14.125Z"
   },
   {
    "duration": 8,
    "start_time": "2024-06-26T02:17:14.230Z"
   },
   {
    "duration": 7200,
    "start_time": "2024-06-26T02:17:14.242Z"
   },
   {
    "duration": 533,
    "start_time": "2024-06-26T02:17:21.445Z"
   },
   {
    "duration": 394,
    "start_time": "2024-06-26T02:17:21.983Z"
   },
   {
    "duration": 420,
    "start_time": "2024-06-26T02:17:22.380Z"
   },
   {
    "duration": 1470,
    "start_time": "2024-06-26T09:58:29.023Z"
   },
   {
    "duration": 27,
    "start_time": "2024-06-26T09:58:30.498Z"
   },
   {
    "duration": 83,
    "start_time": "2024-06-26T09:58:30.530Z"
   },
   {
    "duration": 69,
    "start_time": "2024-06-26T09:58:30.627Z"
   },
   {
    "duration": 20,
    "start_time": "2024-06-26T09:58:30.701Z"
   },
   {
    "duration": 79,
    "start_time": "2024-06-26T09:58:30.725Z"
   },
   {
    "duration": 1710,
    "start_time": "2024-06-26T09:58:30.809Z"
   },
   {
    "duration": 304,
    "start_time": "2024-06-26T09:58:32.523Z"
   },
   {
    "duration": 15,
    "start_time": "2024-06-26T09:58:32.892Z"
   },
   {
    "duration": 97,
    "start_time": "2024-06-26T09:58:32.912Z"
   },
   {
    "duration": 11,
    "start_time": "2024-06-26T09:58:33.013Z"
   },
   {
    "duration": 27798,
    "start_time": "2024-06-26T09:58:33.028Z"
   },
   {
    "duration": 1107,
    "start_time": "2024-06-26T09:59:00.830Z"
   },
   {
    "duration": 1130,
    "start_time": "2024-06-26T09:59:01.995Z"
   },
   {
    "duration": 324,
    "start_time": "2024-06-26T21:51:09.979Z"
   },
   {
    "duration": 1191,
    "start_time": "2024-06-26T21:51:18.556Z"
   },
   {
    "duration": 15,
    "start_time": "2024-06-26T21:51:19.750Z"
   },
   {
    "duration": 32,
    "start_time": "2024-06-26T21:51:19.768Z"
   },
   {
    "duration": 20,
    "start_time": "2024-06-26T21:51:19.803Z"
   },
   {
    "duration": 19,
    "start_time": "2024-06-26T21:51:19.829Z"
   },
   {
    "duration": 60,
    "start_time": "2024-06-26T21:51:19.851Z"
   },
   {
    "duration": 660,
    "start_time": "2024-06-26T21:51:19.914Z"
   },
   {
    "duration": 118,
    "start_time": "2024-06-26T21:51:20.577Z"
   },
   {
    "duration": 93,
    "start_time": "2024-06-26T21:51:20.699Z"
   },
   {
    "duration": 7267,
    "start_time": "2024-06-26T21:51:20.795Z"
   },
   {
    "duration": 518,
    "start_time": "2024-06-26T21:51:28.065Z"
   },
   {
    "duration": 402,
    "start_time": "2024-06-26T21:51:28.590Z"
   },
   {
    "duration": 27,
    "start_time": "2024-06-26T21:58:26.205Z"
   },
   {
    "duration": 658,
    "start_time": "2024-06-26T21:58:29.822Z"
   },
   {
    "duration": 47,
    "start_time": "2024-06-26T21:58:39.644Z"
   },
   {
    "duration": 23,
    "start_time": "2024-06-26T21:58:43.162Z"
   },
   {
    "duration": 421,
    "start_time": "2024-06-26T22:01:23.203Z"
   },
   {
    "duration": 6,
    "start_time": "2024-06-26T22:01:47.370Z"
   },
   {
    "duration": 10,
    "start_time": "2024-06-26T22:01:51.188Z"
   },
   {
    "duration": 21,
    "start_time": "2024-06-26T22:04:12.484Z"
   },
   {
    "duration": 11,
    "start_time": "2024-06-26T22:04:24.081Z"
   },
   {
    "duration": 9,
    "start_time": "2024-06-26T22:05:23.223Z"
   },
   {
    "duration": 1206,
    "start_time": "2024-06-27T08:09:49.887Z"
   },
   {
    "duration": 18,
    "start_time": "2024-06-27T08:09:51.098Z"
   },
   {
    "duration": 19,
    "start_time": "2024-06-27T08:09:51.118Z"
   },
   {
    "duration": 15,
    "start_time": "2024-06-27T08:09:51.142Z"
   },
   {
    "duration": 17,
    "start_time": "2024-06-27T08:09:51.160Z"
   },
   {
    "duration": 58,
    "start_time": "2024-06-27T08:09:51.179Z"
   },
   {
    "duration": 672,
    "start_time": "2024-06-27T08:09:51.240Z"
   },
   {
    "duration": 115,
    "start_time": "2024-06-27T08:09:51.915Z"
   },
   {
    "duration": 99,
    "start_time": "2024-06-27T08:09:52.032Z"
   },
   {
    "duration": 7141,
    "start_time": "2024-06-27T08:09:52.136Z"
   },
   {
    "duration": 514,
    "start_time": "2024-06-27T08:09:59.280Z"
   },
   {
    "duration": 400,
    "start_time": "2024-06-27T08:09:59.798Z"
   },
   {
    "duration": 13,
    "start_time": "2024-06-27T08:10:00.203Z"
   },
   {
    "duration": 348,
    "start_time": "2024-07-09T22:48:46.524Z"
   },
   {
    "duration": 807,
    "start_time": "2024-12-08T00:43:12.889Z"
   },
   {
    "duration": 14,
    "start_time": "2024-12-08T00:43:13.698Z"
   },
   {
    "duration": 11,
    "start_time": "2024-12-08T00:43:13.713Z"
   },
   {
    "duration": 7,
    "start_time": "2024-12-08T00:43:13.726Z"
   },
   {
    "duration": 9,
    "start_time": "2024-12-08T00:43:13.743Z"
   },
   {
    "duration": 14,
    "start_time": "2024-12-08T00:43:13.754Z"
   },
   {
    "duration": 401,
    "start_time": "2024-12-08T00:43:13.770Z"
   },
   {
    "duration": 79,
    "start_time": "2024-12-08T00:43:14.172Z"
   },
   {
    "duration": 90,
    "start_time": "2024-12-08T00:43:14.254Z"
   },
   {
    "duration": 4114,
    "start_time": "2024-12-08T00:43:14.346Z"
   },
   {
    "duration": 301,
    "start_time": "2024-12-08T00:43:18.461Z"
   },
   {
    "duration": 232,
    "start_time": "2024-12-08T00:43:18.764Z"
   },
   {
    "duration": 5,
    "start_time": "2024-12-08T00:43:18.998Z"
   }
  ],
  "kernelspec": {
   "display_name": "Python 3 (ipykernel)",
   "language": "python",
   "name": "python3"
  },
  "language_info": {
   "codemirror_mode": {
    "name": "ipython",
    "version": 3
   },
   "file_extension": ".py",
   "mimetype": "text/x-python",
   "name": "python",
   "nbconvert_exporter": "python",
   "pygments_lexer": "ipython3",
   "version": "3.12.3"
  },
  "toc": {
   "base_numbering": 1,
   "nav_menu": {},
   "number_sections": true,
   "sideBar": true,
   "skip_h1_title": true,
   "title_cell": "Table of Contents",
   "title_sidebar": "Contents",
   "toc_cell": false,
   "toc_position": {},
   "toc_section_display": true,
   "toc_window_display": false
  }
 },
 "nbformat": 4,
 "nbformat_minor": 2
}
