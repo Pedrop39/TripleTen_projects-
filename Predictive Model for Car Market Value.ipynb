{
 "cells": [
  {
   "cell_type": "markdown",
   "metadata": {},
   "source": [
    "# Predictive Model for Car Market Value\n",
    "\n",
    "Rusty Bargain used car sales service is developing an app to attract new customers. In that app, you can quickly find out the market value of your car. You have access to historical data: technical specifications, trim versions, and prices. You need to build the model to determine the value. \n",
    "\n",
    "Rusty Bargain is interested in:\n",
    "\n",
    "- the quality of the prediction;\n",
    "- the speed of the prediction;\n",
    "- the time required for training"
   ]
  },
  {
   "cell_type": "markdown",
   "metadata": {},
   "source": [
    "## Data preparation"
   ]
  },
  {
   "cell_type": "code",
   "execution_count": 1,
   "metadata": {},
   "outputs": [],
   "source": [
    "import pandas as pd\n",
    "import numpy as np\n",
    "from sklearn.model_selection import train_test_split, GridSearchCV, RandomizedSearchCV\n",
    "from sklearn.linear_model import LinearRegression\n",
    "from sklearn.tree import DecisionTreeRegressor\n",
    "from sklearn.ensemble import RandomForestRegressor\n",
    "import lightgbm as lgb\n",
    "from sklearn.metrics import mean_squared_error\n",
    "from sklearn.feature_selection import VarianceThreshold\n",
    "from scipy import sparse"
   ]
  },
  {
   "cell_type": "code",
   "execution_count": 2,
   "metadata": {},
   "outputs": [],
   "source": [
    "df = pd.read_csv('/datasets/car_data.csv')"
   ]
  },
  {
   "cell_type": "code",
   "execution_count": 3,
   "metadata": {},
   "outputs": [
    {
     "data": {
      "text/html": [
       "<div>\n",
       "<style scoped>\n",
       "    .dataframe tbody tr th:only-of-type {\n",
       "        vertical-align: middle;\n",
       "    }\n",
       "\n",
       "    .dataframe tbody tr th {\n",
       "        vertical-align: top;\n",
       "    }\n",
       "\n",
       "    .dataframe thead th {\n",
       "        text-align: right;\n",
       "    }\n",
       "</style>\n",
       "<table border=\"1\" class=\"dataframe\">\n",
       "  <thead>\n",
       "    <tr style=\"text-align: right;\">\n",
       "      <th></th>\n",
       "      <th>DateCrawled</th>\n",
       "      <th>Price</th>\n",
       "      <th>VehicleType</th>\n",
       "      <th>RegistrationYear</th>\n",
       "      <th>Gearbox</th>\n",
       "      <th>Power</th>\n",
       "      <th>Model</th>\n",
       "      <th>Mileage</th>\n",
       "      <th>RegistrationMonth</th>\n",
       "      <th>FuelType</th>\n",
       "      <th>Brand</th>\n",
       "      <th>NotRepaired</th>\n",
       "      <th>DateCreated</th>\n",
       "      <th>NumberOfPictures</th>\n",
       "      <th>PostalCode</th>\n",
       "      <th>LastSeen</th>\n",
       "    </tr>\n",
       "  </thead>\n",
       "  <tbody>\n",
       "    <tr>\n",
       "      <th>0</th>\n",
       "      <td>24/03/2016 11:52</td>\n",
       "      <td>480</td>\n",
       "      <td>NaN</td>\n",
       "      <td>1993</td>\n",
       "      <td>manual</td>\n",
       "      <td>0</td>\n",
       "      <td>golf</td>\n",
       "      <td>150000</td>\n",
       "      <td>0</td>\n",
       "      <td>petrol</td>\n",
       "      <td>volkswagen</td>\n",
       "      <td>NaN</td>\n",
       "      <td>24/03/2016 00:00</td>\n",
       "      <td>0</td>\n",
       "      <td>70435</td>\n",
       "      <td>07/04/2016 03:16</td>\n",
       "    </tr>\n",
       "    <tr>\n",
       "      <th>1</th>\n",
       "      <td>24/03/2016 10:58</td>\n",
       "      <td>18300</td>\n",
       "      <td>coupe</td>\n",
       "      <td>2011</td>\n",
       "      <td>manual</td>\n",
       "      <td>190</td>\n",
       "      <td>NaN</td>\n",
       "      <td>125000</td>\n",
       "      <td>5</td>\n",
       "      <td>gasoline</td>\n",
       "      <td>audi</td>\n",
       "      <td>yes</td>\n",
       "      <td>24/03/2016 00:00</td>\n",
       "      <td>0</td>\n",
       "      <td>66954</td>\n",
       "      <td>07/04/2016 01:46</td>\n",
       "    </tr>\n",
       "    <tr>\n",
       "      <th>2</th>\n",
       "      <td>14/03/2016 12:52</td>\n",
       "      <td>9800</td>\n",
       "      <td>suv</td>\n",
       "      <td>2004</td>\n",
       "      <td>auto</td>\n",
       "      <td>163</td>\n",
       "      <td>grand</td>\n",
       "      <td>125000</td>\n",
       "      <td>8</td>\n",
       "      <td>gasoline</td>\n",
       "      <td>jeep</td>\n",
       "      <td>NaN</td>\n",
       "      <td>14/03/2016 00:00</td>\n",
       "      <td>0</td>\n",
       "      <td>90480</td>\n",
       "      <td>05/04/2016 12:47</td>\n",
       "    </tr>\n",
       "    <tr>\n",
       "      <th>3</th>\n",
       "      <td>17/03/2016 16:54</td>\n",
       "      <td>1500</td>\n",
       "      <td>small</td>\n",
       "      <td>2001</td>\n",
       "      <td>manual</td>\n",
       "      <td>75</td>\n",
       "      <td>golf</td>\n",
       "      <td>150000</td>\n",
       "      <td>6</td>\n",
       "      <td>petrol</td>\n",
       "      <td>volkswagen</td>\n",
       "      <td>no</td>\n",
       "      <td>17/03/2016 00:00</td>\n",
       "      <td>0</td>\n",
       "      <td>91074</td>\n",
       "      <td>17/03/2016 17:40</td>\n",
       "    </tr>\n",
       "    <tr>\n",
       "      <th>4</th>\n",
       "      <td>31/03/2016 17:25</td>\n",
       "      <td>3600</td>\n",
       "      <td>small</td>\n",
       "      <td>2008</td>\n",
       "      <td>manual</td>\n",
       "      <td>69</td>\n",
       "      <td>fabia</td>\n",
       "      <td>90000</td>\n",
       "      <td>7</td>\n",
       "      <td>gasoline</td>\n",
       "      <td>skoda</td>\n",
       "      <td>no</td>\n",
       "      <td>31/03/2016 00:00</td>\n",
       "      <td>0</td>\n",
       "      <td>60437</td>\n",
       "      <td>06/04/2016 10:17</td>\n",
       "    </tr>\n",
       "  </tbody>\n",
       "</table>\n",
       "</div>"
      ],
      "text/plain": [
       "        DateCrawled  Price VehicleType  RegistrationYear Gearbox  Power  \\\n",
       "0  24/03/2016 11:52    480         NaN              1993  manual      0   \n",
       "1  24/03/2016 10:58  18300       coupe              2011  manual    190   \n",
       "2  14/03/2016 12:52   9800         suv              2004    auto    163   \n",
       "3  17/03/2016 16:54   1500       small              2001  manual     75   \n",
       "4  31/03/2016 17:25   3600       small              2008  manual     69   \n",
       "\n",
       "   Model  Mileage  RegistrationMonth  FuelType       Brand NotRepaired  \\\n",
       "0   golf   150000                  0    petrol  volkswagen         NaN   \n",
       "1    NaN   125000                  5  gasoline        audi         yes   \n",
       "2  grand   125000                  8  gasoline        jeep         NaN   \n",
       "3   golf   150000                  6    petrol  volkswagen          no   \n",
       "4  fabia    90000                  7  gasoline       skoda          no   \n",
       "\n",
       "        DateCreated  NumberOfPictures  PostalCode          LastSeen  \n",
       "0  24/03/2016 00:00                 0       70435  07/04/2016 03:16  \n",
       "1  24/03/2016 00:00                 0       66954  07/04/2016 01:46  \n",
       "2  14/03/2016 00:00                 0       90480  05/04/2016 12:47  \n",
       "3  17/03/2016 00:00                 0       91074  17/03/2016 17:40  \n",
       "4  31/03/2016 00:00                 0       60437  06/04/2016 10:17  "
      ]
     },
     "execution_count": 3,
     "metadata": {},
     "output_type": "execute_result"
    }
   ],
   "source": [
    "df.head()"
   ]
  },
  {
   "cell_type": "code",
   "execution_count": 4,
   "metadata": {},
   "outputs": [
    {
     "name": "stdout",
     "output_type": "stream",
     "text": [
      "<class 'pandas.core.frame.DataFrame'>\n",
      "RangeIndex: 354369 entries, 0 to 354368\n",
      "Data columns (total 16 columns):\n",
      " #   Column             Non-Null Count   Dtype \n",
      "---  ------             --------------   ----- \n",
      " 0   DateCrawled        354369 non-null  object\n",
      " 1   Price              354369 non-null  int64 \n",
      " 2   VehicleType        316879 non-null  object\n",
      " 3   RegistrationYear   354369 non-null  int64 \n",
      " 4   Gearbox            334536 non-null  object\n",
      " 5   Power              354369 non-null  int64 \n",
      " 6   Model              334664 non-null  object\n",
      " 7   Mileage            354369 non-null  int64 \n",
      " 8   RegistrationMonth  354369 non-null  int64 \n",
      " 9   FuelType           321474 non-null  object\n",
      " 10  Brand              354369 non-null  object\n",
      " 11  NotRepaired        283215 non-null  object\n",
      " 12  DateCreated        354369 non-null  object\n",
      " 13  NumberOfPictures   354369 non-null  int64 \n",
      " 14  PostalCode         354369 non-null  int64 \n",
      " 15  LastSeen           354369 non-null  object\n",
      "dtypes: int64(7), object(9)\n",
      "memory usage: 43.3+ MB\n"
     ]
    }
   ],
   "source": [
    "df.info()"
   ]
  },
  {
   "cell_type": "code",
   "execution_count": 5,
   "metadata": {},
   "outputs": [
    {
     "name": "stdout",
     "output_type": "stream",
     "text": [
      "<class 'pandas.core.frame.DataFrame'>\n",
      "RangeIndex: 354369 entries, 0 to 354368\n",
      "Data columns (total 16 columns):\n",
      " #   Column              Non-Null Count   Dtype \n",
      "---  ------              --------------   ----- \n",
      " 0   date_crawled        354369 non-null  object\n",
      " 1   price               354369 non-null  int64 \n",
      " 2   vehicle_type        316879 non-null  object\n",
      " 3   registration_year   354369 non-null  int64 \n",
      " 4   gearbox             334536 non-null  object\n",
      " 5   power               354369 non-null  int64 \n",
      " 6   model               334664 non-null  object\n",
      " 7   mileage             354369 non-null  int64 \n",
      " 8   registration_month  354369 non-null  int64 \n",
      " 9   fuel_type           321474 non-null  object\n",
      " 10  brand               354369 non-null  object\n",
      " 11  not_repaired        283215 non-null  object\n",
      " 12  date_created        354369 non-null  object\n",
      " 13  number_of_pictures  354369 non-null  int64 \n",
      " 14  postal_code         354369 non-null  int64 \n",
      " 15  last_seen           354369 non-null  object\n",
      "dtypes: int64(7), object(9)\n",
      "memory usage: 43.3+ MB\n"
     ]
    }
   ],
   "source": [
    "df.columns = df.columns.str.lower()\n",
    "df.rename(columns={\n",
    "    'datecrawled': 'date_crawled',\n",
    "    'price': 'price',\n",
    "    'vehicletype': 'vehicle_type',\n",
    "    'registrationyear': 'registration_year',\n",
    "    'gearbox': 'gearbox',\n",
    "    'power': 'power',\n",
    "    'model': 'model',\n",
    "    'mileage': 'mileage',\n",
    "    'registrationmonth': 'registration_month',\n",
    "    'fueltype': 'fuel_type',\n",
    "    'brand': 'brand',\n",
    "    'notrepaired': 'not_repaired',\n",
    "    'datecreated': 'date_created',\n",
    "    'numberofpictures': 'number_of_pictures',\n",
    "    'postalcode': 'postal_code',\n",
    "    'lastseen': 'last_seen'\n",
    "}, inplace=True)\n",
    "\n",
    "df.info()"
   ]
  },
  {
   "cell_type": "code",
   "execution_count": 6,
   "metadata": {},
   "outputs": [
    {
     "name": "stdout",
     "output_type": "stream",
     "text": [
      "Number of duplicate rows: 254\n",
      "               price  registration_year          power        mileage  \\\n",
      "count  307895.000000      307895.000000  307895.000000  307895.000000   \n",
      "mean     4760.017191        2003.398688     125.764137  128738.222446   \n",
      "std      4601.443245           6.765898     198.490993   36566.527367   \n",
      "min         0.000000        1930.000000      50.000000    5000.000000   \n",
      "25%      1299.000000        1999.000000      80.000000  125000.000000   \n",
      "50%      3000.000000        2003.000000     114.000000  150000.000000   \n",
      "75%      6900.000000        2008.000000     150.000000  150000.000000   \n",
      "max     20000.000000        2019.000000   20000.000000  150000.000000   \n",
      "\n",
      "       registration_month    postal_code  \n",
      "count       307895.000000  307895.000000  \n",
      "mean             6.151315   51111.378577  \n",
      "std              3.341854   25793.270531  \n",
      "min              1.000000    1067.000000  \n",
      "25%              3.000000   30890.000000  \n",
      "50%              6.000000   50129.000000  \n",
      "75%              9.000000   71706.000000  \n",
      "max             12.000000   99998.000000  \n",
      "<class 'pandas.core.frame.DataFrame'>\n",
      "Int64Index: 307895 entries, 1 to 354368\n",
      "Data columns (total 15 columns):\n",
      " #   Column              Non-Null Count   Dtype  \n",
      "---  ------              --------------   -----  \n",
      " 0   date_crawled        307895 non-null  object \n",
      " 1   price               307895 non-null  int64  \n",
      " 2   vehicle_type        285743 non-null  object \n",
      " 3   registration_year   307895 non-null  int64  \n",
      " 4   gearbox             301845 non-null  object \n",
      " 5   power               307895 non-null  int64  \n",
      " 6   model               295150 non-null  object \n",
      " 7   mileage             307895 non-null  int64  \n",
      " 8   registration_month  307895 non-null  float64\n",
      " 9   fuel_type           287464 non-null  object \n",
      " 10  brand               307895 non-null  object \n",
      " 11  not_repaired        259779 non-null  object \n",
      " 12  date_created        307895 non-null  object \n",
      " 13  postal_code         307895 non-null  int64  \n",
      " 14  last_seen           307895 non-null  object \n",
      "dtypes: float64(1), int64(5), object(9)\n",
      "memory usage: 37.6+ MB\n",
      "None\n"
     ]
    }
   ],
   "source": [
    "# Filling missing values\n",
    "df['registration_year'].fillna(df['registration_year'].median(), inplace=True)\n",
    "df['power'].fillna(df['power'].median(), inplace=True)\n",
    "df['registration_month'].replace(0, np.nan, inplace=True)\n",
    "df['registration_month'].fillna(df['registration_month'].mode()[0], inplace=True)\n",
    "\n",
    "# Drop non-informative columns if they exist\n",
    "if 'number_of_pictures' in df.columns:\n",
    "    df.drop(columns=['number_of_pictures'], inplace=True)\n",
    "\n",
    "# Remove unrealistic values\n",
    "df = df[(df['registration_year'] >= 1920) & (df['registration_year'] <= 2023)]\n",
    "df = df[df['power'] >= 50]\n",
    "\n",
    "# Check for and drop duplicates\n",
    "duplicate_rows = df.duplicated().sum()\n",
    "print(f\"Number of duplicate rows: {duplicate_rows}\")\n",
    "df.drop_duplicates(inplace=True)\n",
    "\n",
    "# Final dataset check\n",
    "print(df.describe())\n",
    "print(df.info())\n"
   ]
  },
  {
   "cell_type": "code",
   "execution_count": 7,
   "metadata": {},
   "outputs": [
    {
     "name": "stdout",
     "output_type": "stream",
     "text": [
      "<class 'pandas.core.frame.DataFrame'>\n",
      "Int64Index: 307895 entries, 1 to 354368\n",
      "Data columns (total 15 columns):\n",
      " #   Column              Non-Null Count   Dtype  \n",
      "---  ------              --------------   -----  \n",
      " 0   date_crawled        307895 non-null  object \n",
      " 1   price               307895 non-null  int64  \n",
      " 2   vehicle_type        307895 non-null  object \n",
      " 3   registration_year   307895 non-null  int64  \n",
      " 4   gearbox             307895 non-null  object \n",
      " 5   power               307895 non-null  int64  \n",
      " 6   model               295150 non-null  object \n",
      " 7   mileage             307895 non-null  int64  \n",
      " 8   registration_month  307895 non-null  float64\n",
      " 9   fuel_type           307895 non-null  object \n",
      " 10  brand               307895 non-null  object \n",
      " 11  not_repaired        307895 non-null  object \n",
      " 12  date_created        307895 non-null  object \n",
      " 13  postal_code         307895 non-null  int64  \n",
      " 14  last_seen           307895 non-null  object \n",
      "dtypes: float64(1), int64(5), object(9)\n",
      "memory usage: 37.6+ MB\n"
     ]
    }
   ],
   "source": [
    "df.loc[df['vehicle_type'].isna(), 'vehicle_type'] = 'unknown'\n",
    "df.loc[df['not_repaired'].isna(), 'not_repaired'] = 'unknown'\n",
    "df.loc[df['fuel_type'].isna(), 'fuel_type'] = 'unknown'\n",
    "df.loc[df['gearbox'].isna(), 'gearbox'] = 'unknown'\n",
    "df.info()"
   ]
  },
  {
   "cell_type": "code",
   "execution_count": 8,
   "metadata": {},
   "outputs": [
    {
     "name": "stdout",
     "output_type": "stream",
     "text": [
      "Number of duplicate rows: 0\n",
      "Empty DataFrame\n",
      "Columns: [date_crawled, price, vehicle_type, registration_year, gearbox, power, model, mileage, registration_month, fuel_type, brand, not_repaired, date_created, postal_code, last_seen]\n",
      "Index: []\n"
     ]
    }
   ],
   "source": [
    "# Find and count duplicate rows\n",
    "duplicate_rows = df.duplicated().sum()\n",
    "print(f\"Number of duplicate rows: {duplicate_rows}\")\n",
    "\n",
    "# Display the duplicate rows if needed\n",
    "duplicates = df[df.duplicated()]\n",
    "print(duplicates)"
   ]
  },
  {
   "cell_type": "code",
   "execution_count": 9,
   "metadata": {},
   "outputs": [],
   "source": [
    "df.drop(columns=['date_crawled', 'date_created', 'last_seen', 'brand', 'model'], inplace=True)"
   ]
  },
  {
   "cell_type": "markdown",
   "metadata": {},
   "source": [
    "## Model training"
   ]
  },
  {
   "cell_type": "code",
   "execution_count": 10,
   "metadata": {},
   "outputs": [],
   "source": [
    "# Convert categorical columns to category dtype\n",
    "categorical_cols = df.select_dtypes(include=['object']).columns\n",
    "for col in categorical_cols:\n",
    "    df[col] = df[col].astype('category')\n",
    "\n",
    "# Convert categorical columns to one-hot encoding using sparse matrices\n",
    "df_sparse = pd.get_dummies(df, sparse=True)\n",
    "\n",
    "# Ensure all columns are numeric\n",
    "for col in df_sparse.columns:\n",
    "    df_sparse[col] = pd.to_numeric(df_sparse[col], errors='coerce')"
   ]
  },
  {
   "cell_type": "code",
   "execution_count": 11,
   "metadata": {},
   "outputs": [
    {
     "name": "stderr",
     "output_type": "stream",
     "text": [
      "/opt/conda/envs/python3/lib/python3.9/site-packages/sklearn/utils/validation.py:515: UserWarning: pandas.DataFrame with sparse columns found.It will be converted to a dense numpy array.\n",
      "  warnings.warn(\n",
      "/opt/conda/envs/python3/lib/python3.9/site-packages/sklearn/utils/validation.py:515: UserWarning: pandas.DataFrame with sparse columns found.It will be converted to a dense numpy array.\n",
      "  warnings.warn(\n"
     ]
    }
   ],
   "source": [
    "# Apply variance threshold\n",
    "threshold = 0.01  \n",
    "selector = VarianceThreshold(threshold=threshold)\n",
    "X = df_sparse.drop(columns=['price'])\n",
    "X = selector.fit_transform(X)\n",
    "y = df_sparse['price']\n",
    "\n",
    "# Convert to sparse matrices\n",
    "X_sparse = sparse.csr_matrix(X)\n",
    "y_sparse = y.values\n",
    "\n",
    "# Split the data into training and testing sets\n",
    "X_train, X_test, y_train, y_test = train_test_split(X_sparse, y_sparse, test_size=0.2, random_state=12345)\n",
    "\n",
    "# Function to calculate RMSE\n",
    "def rmse(y_true, y_pred):\n",
    "    return np.sqrt(mean_squared_error(y_true, y_pred))\n"
   ]
  },
  {
   "cell_type": "code",
   "execution_count": 12,
   "metadata": {},
   "outputs": [
    {
     "name": "stdout",
     "output_type": "stream",
     "text": [
      "Linear Regression RMSE: 3283.486995233522\n"
     ]
    }
   ],
   "source": [
    "# Linear Regression\n",
    "lr = LinearRegression()\n",
    "lr.fit(X_train, y_train)\n",
    "y_pred_lr = lr.predict(X_test)\n",
    "rmse_lr = rmse(y_test, y_pred_lr)\n",
    "print(f\"Linear Regression RMSE: {rmse_lr}\")"
   ]
  },
  {
   "cell_type": "code",
   "execution_count": 13,
   "metadata": {},
   "outputs": [
    {
     "name": "stdout",
     "output_type": "stream",
     "text": [
      "Decision Tree RMSE: 2562.9680870017874\n"
     ]
    }
   ],
   "source": [
    "dt_params = {'max_depth': [5], 'min_samples_split': [2]}\n",
    "dt = GridSearchCV(DecisionTreeRegressor(random_state=12345), dt_params, cv=3, scoring='neg_mean_squared_error')\n",
    "dt.fit(X_train, y_train)\n",
    "y_pred_dt = dt.predict(X_test)\n",
    "rmse_dt = rmse(y_test, y_pred_dt)\n",
    "print(f\"Decision Tree RMSE: {rmse_dt}\")"
   ]
  },
  {
   "cell_type": "code",
   "execution_count": 14,
   "metadata": {},
   "outputs": [
    {
     "name": "stdout",
     "output_type": "stream",
     "text": [
      "Random Forest RMSE: 2250.7961685733308\n"
     ]
    }
   ],
   "source": [
    "rf_params = {\n",
    "    'n_estimators': [10, 50],  \n",
    "    'max_depth': [5, 10],  \n",
    "    'min_samples_split': [2, 5],\n",
    "    'max_features': ['sqrt', 'log2']  \n",
    "}\n",
    "rf = RandomizedSearchCV(RandomForestRegressor(random_state=42), rf_params, cv=3, scoring='neg_mean_squared_error', n_iter=10, random_state=42)\n",
    "rf.fit(X_train, y_train)\n",
    "y_pred_rf = rf.predict(X_test)\n",
    "rmse_rf = rmse(y_test, y_pred_rf)\n",
    "print(f\"Random Forest RMSE: {rmse_rf}\")\n"
   ]
  },
  {
   "cell_type": "code",
   "execution_count": 17,
   "metadata": {},
   "outputs": [],
   "source": [
    "# LightGBM\n",
    "lgb_train = lgb.Dataset(X_train, y_train)\n",
    "lgb_eval = lgb.Dataset(X_test, y_test, reference=lgb_train)\n",
    "\n",
    "params = {\n",
    "    'objective': 'regression',\n",
    "    'metric': 'rmse',\n",
    "    'boosting_type': 'gbdt',\n",
    "    'learning_rate': 0.1,\n",
    "    'num_leaves': 31,\n",
    "    'feature_fraction': 0.9,\n",
    "    'bagging_fraction': 0.8,\n",
    "    'bagging_freq': 5,\n",
    "    'verbose': 0\n",
    "}"
   ]
  },
  {
   "cell_type": "code",
   "execution_count": 18,
   "metadata": {},
   "outputs": [
    {
     "name": "stderr",
     "output_type": "stream",
     "text": [
      "/opt/conda/envs/python3/lib/python3.9/site-packages/lightgbm/engine.py:181: UserWarning: 'early_stopping_rounds' argument is deprecated and will be removed in a future release of LightGBM. Pass 'early_stopping()' callback via 'callbacks' argument instead.\n",
      "  _log_warning(\"'early_stopping_rounds' argument is deprecated and will be removed in a future release of LightGBM. \"\n"
     ]
    },
    {
     "name": "stdout",
     "output_type": "stream",
     "text": [
      "[LightGBM] [Warning] Auto-choosing row-wise multi-threading, the overhead of testing was 0.177479 seconds.\n",
      "You can set `force_row_wise=true` to remove the overhead.\n",
      "And if memory is not enough, you can set `force_col_wise=true`.\n",
      "[1]\tvalid_0's rmse: 4299.21\n",
      "Training until validation scores don't improve for 10 rounds\n",
      "[2]\tvalid_0's rmse: 4018.24\n",
      "[3]\tvalid_0's rmse: 3773.6\n",
      "[4]\tvalid_0's rmse: 3556.53\n",
      "[5]\tvalid_0's rmse: 3371.93\n",
      "[6]\tvalid_0's rmse: 3206.38\n",
      "[7]\tvalid_0's rmse: 3065.23\n",
      "[8]\tvalid_0's rmse: 2941.11\n",
      "[9]\tvalid_0's rmse: 2828.04\n",
      "[10]\tvalid_0's rmse: 2734.65\n",
      "[11]\tvalid_0's rmse: 2649.53\n",
      "[12]\tvalid_0's rmse: 2575.77\n",
      "[13]\tvalid_0's rmse: 2514.13\n",
      "[14]\tvalid_0's rmse: 2460.9\n",
      "[15]\tvalid_0's rmse: 2413.14\n",
      "[16]\tvalid_0's rmse: 2372.66\n",
      "[17]\tvalid_0's rmse: 2335.39\n",
      "[18]\tvalid_0's rmse: 2303.24\n",
      "[19]\tvalid_0's rmse: 2274.93\n",
      "[20]\tvalid_0's rmse: 2250.42\n",
      "[21]\tvalid_0's rmse: 2225.52\n",
      "[22]\tvalid_0's rmse: 2205.88\n",
      "[23]\tvalid_0's rmse: 2189.13\n",
      "[24]\tvalid_0's rmse: 2172.68\n",
      "[25]\tvalid_0's rmse: 2158.18\n",
      "[26]\tvalid_0's rmse: 2145.67\n",
      "[27]\tvalid_0's rmse: 2133.86\n",
      "[28]\tvalid_0's rmse: 2124.01\n",
      "[29]\tvalid_0's rmse: 2115.44\n",
      "[30]\tvalid_0's rmse: 2106.54\n",
      "[31]\tvalid_0's rmse: 2099.4\n",
      "[32]\tvalid_0's rmse: 2092.63\n",
      "[33]\tvalid_0's rmse: 2086.28\n",
      "[34]\tvalid_0's rmse: 2080.53\n",
      "[35]\tvalid_0's rmse: 2075.53\n",
      "[36]\tvalid_0's rmse: 2071.36\n",
      "[37]\tvalid_0's rmse: 2066.83\n",
      "[38]\tvalid_0's rmse: 2063.66\n",
      "[39]\tvalid_0's rmse: 2059.48\n",
      "[40]\tvalid_0's rmse: 2056.03\n",
      "[41]\tvalid_0's rmse: 2053.12\n",
      "[42]\tvalid_0's rmse: 2050.07\n",
      "[43]\tvalid_0's rmse: 2047.16\n",
      "[44]\tvalid_0's rmse: 2044.92\n",
      "[45]\tvalid_0's rmse: 2042.34\n",
      "[46]\tvalid_0's rmse: 2040.55\n",
      "[47]\tvalid_0's rmse: 2038.46\n",
      "[48]\tvalid_0's rmse: 2036.26\n",
      "[49]\tvalid_0's rmse: 2034.84\n",
      "[50]\tvalid_0's rmse: 2033.14\n",
      "[51]\tvalid_0's rmse: 2031.94\n",
      "[52]\tvalid_0's rmse: 2030.1\n",
      "[53]\tvalid_0's rmse: 2028.15\n",
      "[54]\tvalid_0's rmse: 2026.22\n",
      "[55]\tvalid_0's rmse: 2024.39\n",
      "[56]\tvalid_0's rmse: 2022.14\n",
      "[57]\tvalid_0's rmse: 2020.04\n",
      "[58]\tvalid_0's rmse: 2017.6\n",
      "[59]\tvalid_0's rmse: 2015.37\n",
      "[60]\tvalid_0's rmse: 2013.19\n",
      "[61]\tvalid_0's rmse: 2012.1\n",
      "[62]\tvalid_0's rmse: 2010.67\n",
      "[63]\tvalid_0's rmse: 2008.79\n",
      "[64]\tvalid_0's rmse: 2007.43\n",
      "[65]\tvalid_0's rmse: 2006.41\n",
      "[66]\tvalid_0's rmse: 2005.54\n",
      "[67]\tvalid_0's rmse: 2003.47\n",
      "[68]\tvalid_0's rmse: 2002.67\n",
      "[69]\tvalid_0's rmse: 2001.99\n",
      "[70]\tvalid_0's rmse: 2001.63\n",
      "[71]\tvalid_0's rmse: 2000.83\n",
      "[72]\tvalid_0's rmse: 1999.84\n",
      "[73]\tvalid_0's rmse: 1999.24\n",
      "[74]\tvalid_0's rmse: 1997.95\n",
      "[75]\tvalid_0's rmse: 1996.22\n",
      "[76]\tvalid_0's rmse: 1995.31\n",
      "[77]\tvalid_0's rmse: 1994.78\n",
      "[78]\tvalid_0's rmse: 1994.29\n",
      "[79]\tvalid_0's rmse: 1993.93\n",
      "[80]\tvalid_0's rmse: 1993.59\n",
      "[81]\tvalid_0's rmse: 1992.44\n",
      "[82]\tvalid_0's rmse: 1991.33\n",
      "[83]\tvalid_0's rmse: 1990.65\n",
      "[84]\tvalid_0's rmse: 1989.05\n",
      "[85]\tvalid_0's rmse: 1987.69\n",
      "[86]\tvalid_0's rmse: 1987.41\n",
      "[87]\tvalid_0's rmse: 1987.12\n",
      "[88]\tvalid_0's rmse: 1986.65\n",
      "[89]\tvalid_0's rmse: 1985.95\n",
      "[90]\tvalid_0's rmse: 1985.25\n",
      "[91]\tvalid_0's rmse: 1984.66\n",
      "[92]\tvalid_0's rmse: 1984.17\n",
      "[93]\tvalid_0's rmse: 1983.73\n",
      "[94]\tvalid_0's rmse: 1983.3\n",
      "[95]\tvalid_0's rmse: 1982.5\n",
      "[96]\tvalid_0's rmse: 1982.17\n",
      "[97]\tvalid_0's rmse: 1981.3\n",
      "[98]\tvalid_0's rmse: 1981.03\n",
      "[99]\tvalid_0's rmse: 1980.74\n",
      "[100]\tvalid_0's rmse: 1979.8\n",
      "Did not meet early stopping. Best iteration is:\n",
      "[100]\tvalid_0's rmse: 1979.8\n",
      "LightGBM RMSE: 1979.7996809582553\n"
     ]
    }
   ],
   "source": [
    "gbm = lgb.train(params, lgb_train, num_boost_round=100, valid_sets=lgb_eval, early_stopping_rounds=10)\n",
    "y_pred_gbm = gbm.predict(X_test, num_iteration=gbm.best_iteration)\n",
    "rmse_gbm = rmse(y_test, y_pred_gbm)\n",
    "print(f\"LightGBM RMSE: {rmse_gbm}\")"
   ]
  },
  {
   "cell_type": "markdown",
   "metadata": {},
   "source": [
    "Linear Regression RMSE: 3283.49\n",
    "\n",
    "Decision Tree RMSE: 2562.97\n",
    "\n",
    "Random Forest RMSE: 2250.80\n",
    "\n",
    "LightGBM RMSE: 1979.80\n",
    "\n",
    "It looks like the LightGBM model performed the best with the lowest RMSE, followed by the Random Forest, Decision Tree, and Linear Regression models."
   ]
  },
  {
   "cell_type": "markdown",
   "metadata": {},
   "source": [
    "## Model analysis"
   ]
  },
  {
   "cell_type": "markdown",
   "metadata": {},
   "source": [
    "**Quality Analysis (Based on RMSE)**\n",
    "\n",
    "**Linear Regression**: RMSE = 3283.49\n",
    "\n",
    "Linear Regression serves as a baseline model. Its higher RMSE indicates that it doesn’t capture the complexities of the data as well as the other models.\n",
    "\n",
    "**Decision Tree**: RMSE = 2562.97\n",
    "\n",
    "The Decision Tree model performs better than Linear Regression, but it may still be prone to overfitting, especially with limited hyperparameter tuning.\n",
    "\n",
    "**Random Forest**: RMSE = 2250.80\n",
    "\n",
    "The Random Forest model shows a significant improvement over the Decision Tree, benefiting from the ensemble approach that reduces overfitting and improves generalization.\n",
    "\n",
    "**LightGBM**: RMSE = 1979.80\n",
    "\n",
    "LightGBM outperforms all other models, indicating its strong ability to handle complex patterns in the data. It also benefits from efficient handling of large datasets and faster training times.\n",
    "\n",
    "**Speed Analysis (Based on Training Time)**\n",
    "\n",
    "**Linear Regression:**\n",
    "\n",
    "Linear Regression is typically very fast to train, making it suitable for quick sanity checks and baseline comparisons.\n",
    "\n",
    "**Decision Tree:**\n",
    "\n",
    "Decision Trees are relatively fast to train, but the speed can vary depending on the depth and complexity of the tree.\n",
    "\n",
    "**Random Forest:**\n",
    "\n",
    "Random Forests take longer to train compared to individual Decision Trees due to the ensemble approach. However, they offer better performance and robustness.\n",
    "\n",
    "**LightGBM:**\n",
    "\n",
    "LightGBM is designed for high efficiency and speed. It can handle large datasets and complex patterns quickly, making it an excellent choice for this task.\n",
    "\n",
    "**Summary**\n",
    "\n",
    "**Quality:** LightGBM has the best performance with the lowest RMSE, followed by Random Forest, Decision Tree, and Linear Regression.\n",
    "\n",
    "**Speed:** Linear Regression is the fastest to train, followed by Decision Tree, Random Forest, and LightGBM. However, LightGBM’s training time is justified by its superior performance."
   ]
  }
 ],
 "metadata": {
  "ExecuteTimeLog": [
   {
    "duration": 5225,
    "start_time": "2024-08-21T21:57:46.090Z"
   },
   {
    "duration": 489,
    "start_time": "2024-08-21T21:58:58.238Z"
   },
   {
    "duration": 807,
    "start_time": "2024-08-21T21:59:04.978Z"
   },
   {
    "duration": 741,
    "start_time": "2024-08-21T21:59:25.480Z"
   },
   {
    "duration": 22,
    "start_time": "2024-08-21T21:59:34.621Z"
   },
   {
    "duration": 26,
    "start_time": "2024-08-21T21:59:47.078Z"
   },
   {
    "duration": 140,
    "start_time": "2024-08-21T21:59:50.600Z"
   },
   {
    "duration": 36,
    "start_time": "2024-08-21T22:12:07.520Z"
   },
   {
    "duration": 866,
    "start_time": "2024-08-21T22:13:38.457Z"
   },
   {
    "duration": 4,
    "start_time": "2024-08-21T22:14:57.228Z"
   },
   {
    "duration": 142,
    "start_time": "2024-08-21T22:15:09.458Z"
   },
   {
    "duration": 91,
    "start_time": "2024-08-21T22:15:14.798Z"
   },
   {
    "duration": 161,
    "start_time": "2024-08-21T22:17:18.758Z"
   },
   {
    "duration": 733,
    "start_time": "2024-08-21T22:17:21.619Z"
   },
   {
    "duration": 1570,
    "start_time": "2024-08-21T22:17:40.493Z"
   },
   {
    "duration": 734,
    "start_time": "2024-08-21T22:17:42.068Z"
   },
   {
    "duration": 22,
    "start_time": "2024-08-21T22:17:42.808Z"
   },
   {
    "duration": 157,
    "start_time": "2024-08-21T22:17:42.833Z"
   },
   {
    "duration": 165,
    "start_time": "2024-08-21T22:17:42.994Z"
   },
   {
    "duration": 1948,
    "start_time": "2024-08-21T22:17:43.162Z"
   },
   {
    "duration": 1170,
    "start_time": "2024-08-21T22:18:57.177Z"
   },
   {
    "duration": 211,
    "start_time": "2024-08-21T22:23:19.383Z"
   },
   {
    "duration": 671,
    "start_time": "2024-08-21T22:24:14.667Z"
   },
   {
    "duration": 60,
    "start_time": "2024-08-21T22:49:44.530Z"
   },
   {
    "duration": 322,
    "start_time": "2024-08-21T22:50:18.843Z"
   },
   {
    "duration": 1534,
    "start_time": "2024-08-21T22:50:36.605Z"
   },
   {
    "duration": 842,
    "start_time": "2024-08-21T22:50:38.143Z"
   },
   {
    "duration": 34,
    "start_time": "2024-08-21T22:50:38.989Z"
   },
   {
    "duration": 214,
    "start_time": "2024-08-21T22:50:39.026Z"
   },
   {
    "duration": 189,
    "start_time": "2024-08-21T22:50:39.245Z"
   },
   {
    "duration": 1273,
    "start_time": "2024-08-21T22:50:39.436Z"
   },
   {
    "duration": 204,
    "start_time": "2024-08-21T22:50:40.713Z"
   },
   {
    "duration": 696,
    "start_time": "2024-08-21T22:50:40.920Z"
   },
   {
    "duration": 1407,
    "start_time": "2024-08-21T22:50:54.484Z"
   },
   {
    "duration": 783,
    "start_time": "2024-08-21T22:50:55.895Z"
   },
   {
    "duration": 37,
    "start_time": "2024-08-21T22:50:56.681Z"
   },
   {
    "duration": 165,
    "start_time": "2024-08-21T22:50:56.723Z"
   },
   {
    "duration": 190,
    "start_time": "2024-08-21T22:50:56.891Z"
   },
   {
    "duration": 1227,
    "start_time": "2024-08-21T22:50:57.087Z"
   },
   {
    "duration": 214,
    "start_time": "2024-08-21T22:50:58.318Z"
   },
   {
    "duration": 660,
    "start_time": "2024-08-21T22:50:58.536Z"
   },
   {
    "duration": 316,
    "start_time": "2024-08-21T22:51:07.849Z"
   },
   {
    "duration": 1529,
    "start_time": "2024-08-21T22:51:13.529Z"
   },
   {
    "duration": 171,
    "start_time": "2024-08-21T22:51:20.208Z"
   },
   {
    "duration": 5,
    "start_time": "2024-08-21T22:51:27.599Z"
   },
   {
    "duration": 838,
    "start_time": "2024-08-21T22:51:27.864Z"
   },
   {
    "duration": 30,
    "start_time": "2024-08-21T22:51:28.706Z"
   },
   {
    "duration": 162,
    "start_time": "2024-08-21T22:51:28.879Z"
   },
   {
    "duration": 156,
    "start_time": "2024-08-21T22:51:29.648Z"
   },
   {
    "duration": 1243,
    "start_time": "2024-08-21T22:51:30.608Z"
   },
   {
    "duration": 230,
    "start_time": "2024-08-21T22:51:31.855Z"
   },
   {
    "duration": 679,
    "start_time": "2024-08-21T22:51:32.458Z"
   },
   {
    "duration": 316,
    "start_time": "2024-08-21T22:51:45.379Z"
   },
   {
    "duration": 1347,
    "start_time": "2024-08-21T22:51:51.923Z"
   },
   {
    "duration": 804,
    "start_time": "2024-08-21T22:51:53.273Z"
   },
   {
    "duration": 39,
    "start_time": "2024-08-21T22:51:54.080Z"
   },
   {
    "duration": 184,
    "start_time": "2024-08-21T22:51:54.125Z"
   },
   {
    "duration": 164,
    "start_time": "2024-08-21T22:51:54.312Z"
   },
   {
    "duration": 1274,
    "start_time": "2024-08-21T22:51:54.480Z"
   },
   {
    "duration": 262,
    "start_time": "2024-08-21T22:51:55.757Z"
   },
   {
    "duration": 656,
    "start_time": "2024-08-21T22:51:56.023Z"
   },
   {
    "duration": 376,
    "start_time": "2024-08-21T22:52:04.689Z"
   },
   {
    "duration": 1297,
    "start_time": "2024-08-21T22:52:12.058Z"
   },
   {
    "duration": 851,
    "start_time": "2024-08-21T22:52:13.358Z"
   },
   {
    "duration": 30,
    "start_time": "2024-08-21T22:52:14.212Z"
   },
   {
    "duration": 190,
    "start_time": "2024-08-21T22:52:14.246Z"
   },
   {
    "duration": 188,
    "start_time": "2024-08-21T22:52:14.440Z"
   },
   {
    "duration": 1272,
    "start_time": "2024-08-21T22:52:14.632Z"
   },
   {
    "duration": 207,
    "start_time": "2024-08-21T22:52:15.910Z"
   },
   {
    "duration": 680,
    "start_time": "2024-08-21T22:52:16.120Z"
   },
   {
    "duration": 312,
    "start_time": "2024-08-21T22:52:38.213Z"
   },
   {
    "duration": 1331,
    "start_time": "2024-08-21T22:53:02.833Z"
   },
   {
    "duration": 862,
    "start_time": "2024-08-21T22:53:04.167Z"
   },
   {
    "duration": 25,
    "start_time": "2024-08-21T22:53:05.032Z"
   },
   {
    "duration": 168,
    "start_time": "2024-08-21T22:53:05.062Z"
   },
   {
    "duration": 191,
    "start_time": "2024-08-21T22:53:05.233Z"
   },
   {
    "duration": 1225,
    "start_time": "2024-08-21T22:53:05.427Z"
   },
   {
    "duration": 203,
    "start_time": "2024-08-21T22:53:06.655Z"
   },
   {
    "duration": 691,
    "start_time": "2024-08-21T22:53:06.862Z"
   },
   {
    "duration": 175,
    "start_time": "2024-08-21T22:53:07.557Z"
   },
   {
    "duration": 9,
    "start_time": "2024-08-21T22:53:36.766Z"
   },
   {
    "duration": 1302,
    "start_time": "2024-08-21T22:53:42.230Z"
   },
   {
    "duration": 788,
    "start_time": "2024-08-21T22:53:43.535Z"
   },
   {
    "duration": 26,
    "start_time": "2024-08-21T22:53:44.326Z"
   },
   {
    "duration": 178,
    "start_time": "2024-08-21T22:53:44.357Z"
   },
   {
    "duration": 178,
    "start_time": "2024-08-21T22:53:44.538Z"
   },
   {
    "duration": 1262,
    "start_time": "2024-08-21T22:53:44.719Z"
   },
   {
    "duration": 221,
    "start_time": "2024-08-21T22:53:45.983Z"
   },
   {
    "duration": 639,
    "start_time": "2024-08-21T22:53:46.210Z"
   },
   {
    "duration": 192,
    "start_time": "2024-08-21T22:53:46.852Z"
   },
   {
    "duration": 4,
    "start_time": "2024-08-21T22:53:47.048Z"
   },
   {
    "duration": 362,
    "start_time": "2024-08-21T22:53:54.029Z"
   },
   {
    "duration": 1282,
    "start_time": "2024-08-21T22:56:22.660Z"
   },
   {
    "duration": 745,
    "start_time": "2024-08-21T22:56:23.945Z"
   },
   {
    "duration": 34,
    "start_time": "2024-08-21T22:56:24.692Z"
   },
   {
    "duration": 163,
    "start_time": "2024-08-21T22:56:24.729Z"
   },
   {
    "duration": 174,
    "start_time": "2024-08-21T22:56:24.898Z"
   },
   {
    "duration": 1226,
    "start_time": "2024-08-21T22:56:25.075Z"
   },
   {
    "duration": 202,
    "start_time": "2024-08-21T22:56:26.308Z"
   },
   {
    "duration": 659,
    "start_time": "2024-08-21T22:56:26.513Z"
   },
   {
    "duration": 34131,
    "start_time": "2024-08-21T22:56:27.177Z"
   },
   {
    "duration": 162,
    "start_time": "2024-08-21T22:57:01.312Z"
   },
   {
    "duration": 4,
    "start_time": "2024-08-21T22:57:01.479Z"
   },
   {
    "duration": 378,
    "start_time": "2024-08-21T22:57:01.487Z"
   },
   {
    "duration": 1291,
    "start_time": "2024-08-21T22:59:48.049Z"
   },
   {
    "duration": 767,
    "start_time": "2024-08-21T22:59:49.344Z"
   },
   {
    "duration": 25,
    "start_time": "2024-08-21T22:59:50.114Z"
   },
   {
    "duration": 164,
    "start_time": "2024-08-21T22:59:50.144Z"
   },
   {
    "duration": 157,
    "start_time": "2024-08-21T22:59:50.311Z"
   },
   {
    "duration": 1204,
    "start_time": "2024-08-21T22:59:50.470Z"
   },
   {
    "duration": 207,
    "start_time": "2024-08-21T22:59:51.677Z"
   },
   {
    "duration": 657,
    "start_time": "2024-08-21T22:59:51.887Z"
   },
   {
    "duration": 38081,
    "start_time": "2024-08-21T22:59:52.547Z"
   },
   {
    "duration": 309,
    "start_time": "2024-08-21T23:02:23.634Z"
   },
   {
    "duration": 1283,
    "start_time": "2024-08-21T23:02:29.542Z"
   },
   {
    "duration": 791,
    "start_time": "2024-08-21T23:02:30.828Z"
   },
   {
    "duration": 26,
    "start_time": "2024-08-21T23:02:31.621Z"
   },
   {
    "duration": 167,
    "start_time": "2024-08-21T23:02:31.651Z"
   },
   {
    "duration": 163,
    "start_time": "2024-08-21T23:02:31.821Z"
   },
   {
    "duration": 1209,
    "start_time": "2024-08-21T23:02:31.987Z"
   },
   {
    "duration": 204,
    "start_time": "2024-08-21T23:02:33.199Z"
   },
   {
    "duration": 655,
    "start_time": "2024-08-21T23:02:33.410Z"
   },
   {
    "duration": 37152,
    "start_time": "2024-08-21T23:02:34.068Z"
   },
   {
    "duration": 469,
    "start_time": "2024-08-21T23:03:11.225Z"
   },
   {
    "duration": 0,
    "start_time": "2024-08-21T23:03:11.697Z"
   },
   {
    "duration": 0,
    "start_time": "2024-08-21T23:03:11.699Z"
   },
   {
    "duration": 0,
    "start_time": "2024-08-21T23:03:11.701Z"
   },
   {
    "duration": 1251,
    "start_time": "2024-08-21T23:04:19.878Z"
   },
   {
    "duration": 710,
    "start_time": "2024-08-21T23:04:21.132Z"
   },
   {
    "duration": 25,
    "start_time": "2024-08-21T23:04:21.845Z"
   },
   {
    "duration": 172,
    "start_time": "2024-08-21T23:04:21.873Z"
   },
   {
    "duration": 161,
    "start_time": "2024-08-21T23:04:22.049Z"
   },
   {
    "duration": 1210,
    "start_time": "2024-08-21T23:04:22.213Z"
   },
   {
    "duration": 209,
    "start_time": "2024-08-21T23:04:23.426Z"
   },
   {
    "duration": 657,
    "start_time": "2024-08-21T23:04:23.638Z"
   },
   {
    "duration": 37764,
    "start_time": "2024-08-21T23:04:24.298Z"
   },
   {
    "duration": 310,
    "start_time": "2024-08-21T23:08:25.968Z"
   },
   {
    "duration": 1286,
    "start_time": "2024-08-21T23:08:31.297Z"
   },
   {
    "duration": 771,
    "start_time": "2024-08-21T23:08:32.586Z"
   },
   {
    "duration": 24,
    "start_time": "2024-08-21T23:08:33.360Z"
   },
   {
    "duration": 141,
    "start_time": "2024-08-21T23:08:33.408Z"
   },
   {
    "duration": 163,
    "start_time": "2024-08-21T23:08:33.552Z"
   },
   {
    "duration": 1250,
    "start_time": "2024-08-21T23:08:33.718Z"
   },
   {
    "duration": 209,
    "start_time": "2024-08-21T23:08:34.971Z"
   },
   {
    "duration": 659,
    "start_time": "2024-08-21T23:08:35.183Z"
   },
   {
    "duration": 34766,
    "start_time": "2024-08-21T23:08:35.845Z"
   },
   {
    "duration": 1238,
    "start_time": "2024-08-21T23:12:11.439Z"
   },
   {
    "duration": 788,
    "start_time": "2024-08-21T23:12:12.681Z"
   },
   {
    "duration": 26,
    "start_time": "2024-08-21T23:12:13.472Z"
   },
   {
    "duration": 154,
    "start_time": "2024-08-21T23:12:13.509Z"
   },
   {
    "duration": 162,
    "start_time": "2024-08-21T23:12:13.669Z"
   },
   {
    "duration": 1262,
    "start_time": "2024-08-21T23:12:13.834Z"
   },
   {
    "duration": 210,
    "start_time": "2024-08-21T23:12:15.108Z"
   },
   {
    "duration": 645,
    "start_time": "2024-08-21T23:12:15.323Z"
   },
   {
    "duration": 35567,
    "start_time": "2024-08-21T23:12:15.970Z"
   },
   {
    "duration": 4804,
    "start_time": "2024-08-21T23:12:51.539Z"
   },
   {
    "duration": 73,
    "start_time": "2024-08-21T23:12:56.346Z"
   },
   {
    "duration": 4,
    "start_time": "2024-08-21T23:12:56.422Z"
   },
   {
    "duration": 1039,
    "start_time": "2024-08-21T23:12:56.429Z"
   },
   {
    "duration": 7928,
    "start_time": "2024-08-21T23:16:17.759Z"
   },
   {
    "duration": 59,
    "start_time": "2024-08-21T23:16:26.634Z"
   },
   {
    "duration": 4,
    "start_time": "2024-08-21T23:16:27.879Z"
   },
   {
    "duration": 291,
    "start_time": "2024-08-21T23:16:28.959Z"
   },
   {
    "duration": 1273,
    "start_time": "2024-08-22T22:20:55.579Z"
   },
   {
    "duration": 405,
    "start_time": "2024-08-22T22:21:34.422Z"
   },
   {
    "duration": 27,
    "start_time": "2024-08-22T22:21:47.361Z"
   },
   {
    "duration": 1279,
    "start_time": "2024-08-22T22:22:12.906Z"
   },
   {
    "duration": 803,
    "start_time": "2024-08-22T22:22:14.189Z"
   },
   {
    "duration": 37,
    "start_time": "2024-08-22T22:22:14.995Z"
   },
   {
    "duration": 161,
    "start_time": "2024-08-22T22:22:15.035Z"
   },
   {
    "duration": 160,
    "start_time": "2024-08-22T22:22:15.202Z"
   },
   {
    "duration": 1241,
    "start_time": "2024-08-22T22:22:15.365Z"
   },
   {
    "duration": 228,
    "start_time": "2024-08-22T22:22:16.609Z"
   },
   {
    "duration": 665,
    "start_time": "2024-08-22T22:22:16.841Z"
   },
   {
    "duration": 313,
    "start_time": "2024-08-23T21:56:17.564Z"
   },
   {
    "duration": 1250,
    "start_time": "2024-08-23T21:56:25.284Z"
   },
   {
    "duration": 783,
    "start_time": "2024-08-23T21:56:26.537Z"
   },
   {
    "duration": 36,
    "start_time": "2024-08-23T21:56:27.323Z"
   },
   {
    "duration": 172,
    "start_time": "2024-08-23T21:56:27.364Z"
   },
   {
    "duration": 157,
    "start_time": "2024-08-23T21:56:27.539Z"
   },
   {
    "duration": 1166,
    "start_time": "2024-08-23T21:56:27.699Z"
   },
   {
    "duration": 226,
    "start_time": "2024-08-23T21:56:28.869Z"
   },
   {
    "duration": 631,
    "start_time": "2024-08-23T21:56:29.097Z"
   },
   {
    "duration": 35184,
    "start_time": "2024-08-23T21:56:29.731Z"
   },
   {
    "duration": 7807,
    "start_time": "2024-08-23T21:57:04.921Z"
   },
   {
    "duration": 743,
    "start_time": "2024-08-23T21:57:12.731Z"
   },
   {
    "duration": 6,
    "start_time": "2024-08-23T21:57:13.477Z"
   },
   {
    "duration": 328,
    "start_time": "2024-08-23T22:06:15.104Z"
   },
   {
    "duration": 1273,
    "start_time": "2024-08-23T22:06:36.068Z"
   },
   {
    "duration": 799,
    "start_time": "2024-08-23T22:06:37.344Z"
   },
   {
    "duration": 25,
    "start_time": "2024-08-23T22:06:38.147Z"
   },
   {
    "duration": 158,
    "start_time": "2024-08-23T22:06:38.176Z"
   },
   {
    "duration": 160,
    "start_time": "2024-08-23T22:06:38.337Z"
   },
   {
    "duration": 1193,
    "start_time": "2024-08-23T22:06:38.508Z"
   },
   {
    "duration": 202,
    "start_time": "2024-08-23T22:06:39.709Z"
   },
   {
    "duration": 638,
    "start_time": "2024-08-23T22:06:39.914Z"
   },
   {
    "duration": 34561,
    "start_time": "2024-08-23T22:06:40.555Z"
   },
   {
    "duration": 7572,
    "start_time": "2024-08-23T22:07:15.121Z"
   },
   {
    "duration": 742,
    "start_time": "2024-08-23T22:07:22.695Z"
   },
   {
    "duration": 7,
    "start_time": "2024-08-23T22:07:23.439Z"
   },
   {
    "duration": 1281,
    "start_time": "2024-08-23T22:12:09.112Z"
   },
   {
    "duration": 783,
    "start_time": "2024-08-23T22:12:10.396Z"
   },
   {
    "duration": 33,
    "start_time": "2024-08-23T22:12:11.182Z"
   },
   {
    "duration": 160,
    "start_time": "2024-08-23T22:12:11.217Z"
   },
   {
    "duration": 165,
    "start_time": "2024-08-23T22:12:11.382Z"
   },
   {
    "duration": 1237,
    "start_time": "2024-08-23T22:12:11.551Z"
   },
   {
    "duration": 209,
    "start_time": "2024-08-23T22:12:12.792Z"
   },
   {
    "duration": 642,
    "start_time": "2024-08-23T22:12:13.007Z"
   },
   {
    "duration": 35524,
    "start_time": "2024-08-23T22:12:13.652Z"
   },
   {
    "duration": 8137,
    "start_time": "2024-08-23T22:12:49.179Z"
   },
   {
    "duration": 574,
    "start_time": "2024-08-23T22:12:57.319Z"
   },
   {
    "duration": 0,
    "start_time": "2024-08-23T22:12:57.895Z"
   },
   {
    "duration": 10,
    "start_time": "2024-08-23T22:13:59.756Z"
   },
   {
    "duration": 8322,
    "start_time": "2024-08-23T22:14:04.500Z"
   },
   {
    "duration": 309,
    "start_time": "2024-08-23T22:17:36.984Z"
   },
   {
    "duration": 1245,
    "start_time": "2024-08-23T22:17:41.966Z"
   },
   {
    "duration": 786,
    "start_time": "2024-08-23T22:17:43.215Z"
   },
   {
    "duration": 25,
    "start_time": "2024-08-23T22:17:44.004Z"
   },
   {
    "duration": 158,
    "start_time": "2024-08-23T22:17:44.032Z"
   },
   {
    "duration": 160,
    "start_time": "2024-08-23T22:17:44.194Z"
   },
   {
    "duration": 1191,
    "start_time": "2024-08-23T22:17:44.357Z"
   },
   {
    "duration": 204,
    "start_time": "2024-08-23T22:17:45.552Z"
   },
   {
    "duration": 639,
    "start_time": "2024-08-23T22:17:45.759Z"
   },
   {
    "duration": 34807,
    "start_time": "2024-08-23T22:17:46.401Z"
   },
   {
    "duration": 1755,
    "start_time": "2024-08-23T22:18:21.211Z"
   },
   {
    "duration": 312,
    "start_time": "2024-08-23T22:19:05.784Z"
   },
   {
    "duration": 1285,
    "start_time": "2024-08-23T22:30:45.725Z"
   },
   {
    "duration": 771,
    "start_time": "2024-08-23T22:30:47.014Z"
   },
   {
    "duration": 35,
    "start_time": "2024-08-23T22:30:47.788Z"
   },
   {
    "duration": 174,
    "start_time": "2024-08-23T22:30:47.826Z"
   },
   {
    "duration": 164,
    "start_time": "2024-08-23T22:30:48.008Z"
   },
   {
    "duration": 1223,
    "start_time": "2024-08-23T22:30:48.174Z"
   },
   {
    "duration": 216,
    "start_time": "2024-08-23T22:30:49.400Z"
   },
   {
    "duration": 651,
    "start_time": "2024-08-23T22:30:49.620Z"
   },
   {
    "duration": 34374,
    "start_time": "2024-08-23T22:30:50.274Z"
   },
   {
    "duration": 8018,
    "start_time": "2024-08-23T22:31:24.651Z"
   },
   {
    "duration": 307,
    "start_time": "2024-08-23T22:35:53.544Z"
   },
   {
    "duration": 1423,
    "start_time": "2024-08-23T22:47:34.825Z"
   },
   {
    "duration": 818,
    "start_time": "2024-08-23T22:47:36.251Z"
   },
   {
    "duration": 46,
    "start_time": "2024-08-23T22:47:37.072Z"
   },
   {
    "duration": 155,
    "start_time": "2024-08-23T22:47:37.130Z"
   },
   {
    "duration": 197,
    "start_time": "2024-08-23T22:47:37.288Z"
   },
   {
    "duration": 1314,
    "start_time": "2024-08-23T22:47:37.488Z"
   },
   {
    "duration": 248,
    "start_time": "2024-08-23T22:47:38.810Z"
   },
   {
    "duration": 701,
    "start_time": "2024-08-23T22:47:39.061Z"
   },
   {
    "duration": 29,
    "start_time": "2024-08-23T22:47:39.767Z"
   },
   {
    "duration": 784,
    "start_time": "2024-08-23T22:47:39.820Z"
   },
   {
    "duration": 407,
    "start_time": "2024-08-23T22:47:40.607Z"
   },
   {
    "duration": 641,
    "start_time": "2024-08-23T22:47:53.484Z"
   },
   {
    "duration": 1364,
    "start_time": "2024-08-23T22:49:40.646Z"
   },
   {
    "duration": 812,
    "start_time": "2024-08-23T22:49:42.015Z"
   },
   {
    "duration": 28,
    "start_time": "2024-08-23T22:49:42.829Z"
   },
   {
    "duration": 189,
    "start_time": "2024-08-23T22:49:42.859Z"
   },
   {
    "duration": 169,
    "start_time": "2024-08-23T22:49:43.052Z"
   },
   {
    "duration": 1376,
    "start_time": "2024-08-23T22:49:43.224Z"
   },
   {
    "duration": 245,
    "start_time": "2024-08-23T22:49:44.603Z"
   },
   {
    "duration": 774,
    "start_time": "2024-08-23T22:49:44.852Z"
   },
   {
    "duration": 31,
    "start_time": "2024-08-23T22:49:45.637Z"
   },
   {
    "duration": 729,
    "start_time": "2024-08-23T22:49:45.671Z"
   },
   {
    "duration": 433,
    "start_time": "2024-08-23T22:49:46.403Z"
   },
   {
    "duration": 699,
    "start_time": "2024-08-23T22:49:46.839Z"
   },
   {
    "duration": 115866,
    "start_time": "2024-08-23T22:49:47.553Z"
   },
   {
    "duration": 1282,
    "start_time": "2024-08-23T22:58:04.271Z"
   },
   {
    "duration": 716,
    "start_time": "2024-08-23T22:58:05.557Z"
   },
   {
    "duration": 35,
    "start_time": "2024-08-23T22:58:06.275Z"
   },
   {
    "duration": 161,
    "start_time": "2024-08-23T22:58:06.313Z"
   },
   {
    "duration": 163,
    "start_time": "2024-08-23T22:58:06.479Z"
   },
   {
    "duration": 1227,
    "start_time": "2024-08-23T22:58:06.646Z"
   },
   {
    "duration": 204,
    "start_time": "2024-08-23T22:58:07.875Z"
   },
   {
    "duration": 659,
    "start_time": "2024-08-23T22:58:08.082Z"
   },
   {
    "duration": 26,
    "start_time": "2024-08-23T22:58:08.745Z"
   },
   {
    "duration": 678,
    "start_time": "2024-08-23T22:58:08.774Z"
   },
   {
    "duration": 405,
    "start_time": "2024-08-23T22:58:09.454Z"
   },
   {
    "duration": 651,
    "start_time": "2024-08-23T22:58:09.862Z"
   },
   {
    "duration": 113105,
    "start_time": "2024-08-23T22:58:10.516Z"
   },
   {
    "duration": 1210,
    "start_time": "2024-08-23T23:08:09.865Z"
   },
   {
    "duration": 729,
    "start_time": "2024-08-23T23:08:11.078Z"
   },
   {
    "duration": 24,
    "start_time": "2024-08-23T23:08:11.810Z"
   },
   {
    "duration": 171,
    "start_time": "2024-08-23T23:08:11.837Z"
   },
   {
    "duration": 162,
    "start_time": "2024-08-23T23:08:12.013Z"
   },
   {
    "duration": 1228,
    "start_time": "2024-08-23T23:08:12.177Z"
   },
   {
    "duration": 228,
    "start_time": "2024-08-23T23:08:13.410Z"
   },
   {
    "duration": 664,
    "start_time": "2024-08-23T23:08:13.640Z"
   },
   {
    "duration": 27,
    "start_time": "2024-08-23T23:08:14.309Z"
   },
   {
    "duration": 687,
    "start_time": "2024-08-23T23:08:14.339Z"
   },
   {
    "duration": 401,
    "start_time": "2024-08-23T23:08:15.029Z"
   },
   {
    "duration": 495,
    "start_time": "2024-08-23T23:08:15.433Z"
   },
   {
    "duration": 555,
    "start_time": "2024-08-23T23:08:15.933Z"
   },
   {
    "duration": 0,
    "start_time": "2024-08-23T23:08:16.491Z"
   },
   {
    "duration": 0,
    "start_time": "2024-08-23T23:08:16.493Z"
   },
   {
    "duration": 0,
    "start_time": "2024-08-23T23:08:16.495Z"
   },
   {
    "duration": 5,
    "start_time": "2024-08-23T23:08:41.585Z"
   },
   {
    "duration": 1252,
    "start_time": "2024-08-23T23:08:45.865Z"
   },
   {
    "duration": 725,
    "start_time": "2024-08-23T23:08:47.121Z"
   },
   {
    "duration": 24,
    "start_time": "2024-08-23T23:08:47.848Z"
   },
   {
    "duration": 170,
    "start_time": "2024-08-23T23:08:47.875Z"
   },
   {
    "duration": 160,
    "start_time": "2024-08-23T23:08:48.049Z"
   },
   {
    "duration": 1229,
    "start_time": "2024-08-23T23:08:48.212Z"
   },
   {
    "duration": 210,
    "start_time": "2024-08-23T23:08:49.445Z"
   },
   {
    "duration": 656,
    "start_time": "2024-08-23T23:08:49.659Z"
   },
   {
    "duration": 27,
    "start_time": "2024-08-23T23:08:50.318Z"
   },
   {
    "duration": 661,
    "start_time": "2024-08-23T23:08:50.348Z"
   },
   {
    "duration": 398,
    "start_time": "2024-08-23T23:08:51.012Z"
   },
   {
    "duration": 707,
    "start_time": "2024-08-23T23:08:51.413Z"
   },
   {
    "duration": 110294,
    "start_time": "2024-08-23T23:08:52.123Z"
   },
   {
    "duration": 1266,
    "start_time": "2024-08-23T23:25:37.230Z"
   },
   {
    "duration": 726,
    "start_time": "2024-08-23T23:25:38.499Z"
   },
   {
    "duration": 25,
    "start_time": "2024-08-23T23:25:39.228Z"
   },
   {
    "duration": 162,
    "start_time": "2024-08-23T23:25:39.256Z"
   },
   {
    "duration": 155,
    "start_time": "2024-08-23T23:25:39.424Z"
   },
   {
    "duration": 1207,
    "start_time": "2024-08-23T23:25:39.582Z"
   },
   {
    "duration": 209,
    "start_time": "2024-08-23T23:25:40.793Z"
   },
   {
    "duration": 632,
    "start_time": "2024-08-23T23:25:41.005Z"
   },
   {
    "duration": 29,
    "start_time": "2024-08-23T23:25:41.640Z"
   },
   {
    "duration": 680,
    "start_time": "2024-08-23T23:25:41.672Z"
   },
   {
    "duration": 404,
    "start_time": "2024-08-23T23:25:42.354Z"
   },
   {
    "duration": 555,
    "start_time": "2024-08-23T23:25:42.760Z"
   },
   {
    "duration": 109911,
    "start_time": "2024-08-23T23:25:43.317Z"
   },
   {
    "duration": 1344,
    "start_time": "2024-08-23T23:28:14.309Z"
   },
   {
    "duration": 714,
    "start_time": "2024-08-23T23:28:15.656Z"
   },
   {
    "duration": 37,
    "start_time": "2024-08-23T23:28:16.373Z"
   },
   {
    "duration": 145,
    "start_time": "2024-08-23T23:28:16.413Z"
   },
   {
    "duration": 160,
    "start_time": "2024-08-23T23:28:16.563Z"
   },
   {
    "duration": 1254,
    "start_time": "2024-08-23T23:28:16.727Z"
   },
   {
    "duration": 207,
    "start_time": "2024-08-23T23:28:17.984Z"
   },
   {
    "duration": 645,
    "start_time": "2024-08-23T23:28:18.196Z"
   },
   {
    "duration": 30,
    "start_time": "2024-08-23T23:28:18.844Z"
   },
   {
    "duration": 668,
    "start_time": "2024-08-23T23:28:18.877Z"
   },
   {
    "duration": 405,
    "start_time": "2024-08-23T23:28:19.548Z"
   },
   {
    "duration": 654,
    "start_time": "2024-08-23T23:28:19.955Z"
   },
   {
    "duration": 3038,
    "start_time": "2024-08-23T23:28:20.612Z"
   },
   {
    "duration": 1253,
    "start_time": "2024-08-23T23:33:10.725Z"
   },
   {
    "duration": 727,
    "start_time": "2024-08-23T23:33:11.982Z"
   },
   {
    "duration": 31,
    "start_time": "2024-08-23T23:33:12.712Z"
   },
   {
    "duration": 187,
    "start_time": "2024-08-23T23:33:12.745Z"
   },
   {
    "duration": 159,
    "start_time": "2024-08-23T23:33:12.938Z"
   },
   {
    "duration": 1243,
    "start_time": "2024-08-23T23:33:13.107Z"
   },
   {
    "duration": 208,
    "start_time": "2024-08-23T23:33:14.354Z"
   },
   {
    "duration": 675,
    "start_time": "2024-08-23T23:33:14.565Z"
   },
   {
    "duration": 30,
    "start_time": "2024-08-23T23:33:15.243Z"
   },
   {
    "duration": 670,
    "start_time": "2024-08-23T23:33:15.275Z"
   },
   {
    "duration": 402,
    "start_time": "2024-08-23T23:33:15.947Z"
   },
   {
    "duration": 659,
    "start_time": "2024-08-23T23:33:16.352Z"
   },
   {
    "duration": 3102,
    "start_time": "2024-08-23T23:33:17.014Z"
   },
   {
    "duration": 443,
    "start_time": "2024-08-23T23:33:20.121Z"
   },
   {
    "duration": 0,
    "start_time": "2024-08-23T23:33:20.566Z"
   },
   {
    "duration": 0,
    "start_time": "2024-08-23T23:33:20.569Z"
   },
   {
    "duration": 5,
    "start_time": "2024-08-23T23:33:50.147Z"
   },
   {
    "duration": 1267,
    "start_time": "2024-08-23T23:33:55.618Z"
   },
   {
    "duration": 737,
    "start_time": "2024-08-23T23:33:56.888Z"
   },
   {
    "duration": 27,
    "start_time": "2024-08-23T23:33:57.628Z"
   },
   {
    "duration": 166,
    "start_time": "2024-08-23T23:33:57.658Z"
   },
   {
    "duration": 158,
    "start_time": "2024-08-23T23:33:57.829Z"
   },
   {
    "duration": 1173,
    "start_time": "2024-08-23T23:33:57.990Z"
   },
   {
    "duration": 204,
    "start_time": "2024-08-23T23:33:59.166Z"
   },
   {
    "duration": 644,
    "start_time": "2024-08-23T23:33:59.373Z"
   },
   {
    "duration": 28,
    "start_time": "2024-08-23T23:34:00.020Z"
   },
   {
    "duration": 666,
    "start_time": "2024-08-23T23:34:00.052Z"
   },
   {
    "duration": 395,
    "start_time": "2024-08-23T23:34:00.721Z"
   },
   {
    "duration": 611,
    "start_time": "2024-08-23T23:34:01.119Z"
   },
   {
    "duration": 557,
    "start_time": "2024-08-23T23:34:01.733Z"
   },
   {
    "duration": 0,
    "start_time": "2024-08-23T23:34:02.293Z"
   },
   {
    "duration": 0,
    "start_time": "2024-08-23T23:34:02.296Z"
   },
   {
    "duration": 0,
    "start_time": "2024-08-23T23:34:02.297Z"
   },
   {
    "duration": 4,
    "start_time": "2024-08-23T23:36:27.584Z"
   },
   {
    "duration": 1270,
    "start_time": "2024-08-23T23:36:33.224Z"
   },
   {
    "duration": 740,
    "start_time": "2024-08-23T23:36:34.498Z"
   },
   {
    "duration": 27,
    "start_time": "2024-08-23T23:36:35.240Z"
   },
   {
    "duration": 165,
    "start_time": "2024-08-23T23:36:35.269Z"
   },
   {
    "duration": 160,
    "start_time": "2024-08-23T23:36:35.440Z"
   },
   {
    "duration": 1234,
    "start_time": "2024-08-23T23:36:35.608Z"
   },
   {
    "duration": 205,
    "start_time": "2024-08-23T23:36:36.846Z"
   },
   {
    "duration": 660,
    "start_time": "2024-08-23T23:36:37.054Z"
   },
   {
    "duration": 25,
    "start_time": "2024-08-23T23:36:37.718Z"
   },
   {
    "duration": 669,
    "start_time": "2024-08-23T23:36:37.746Z"
   },
   {
    "duration": 396,
    "start_time": "2024-08-23T23:36:38.418Z"
   },
   {
    "duration": 694,
    "start_time": "2024-08-23T23:36:38.818Z"
   },
   {
    "duration": 3054,
    "start_time": "2024-08-23T23:36:39.515Z"
   },
   {
    "duration": 1379,
    "start_time": "2024-08-23T23:37:30.886Z"
   },
   {
    "duration": 786,
    "start_time": "2024-08-23T23:37:32.270Z"
   },
   {
    "duration": 25,
    "start_time": "2024-08-23T23:37:33.059Z"
   },
   {
    "duration": 165,
    "start_time": "2024-08-23T23:37:33.087Z"
   },
   {
    "duration": 161,
    "start_time": "2024-08-23T23:37:33.259Z"
   },
   {
    "duration": 1242,
    "start_time": "2024-08-23T23:37:33.423Z"
   },
   {
    "duration": 208,
    "start_time": "2024-08-23T23:37:34.667Z"
   },
   {
    "duration": 637,
    "start_time": "2024-08-23T23:37:34.880Z"
   },
   {
    "duration": 29,
    "start_time": "2024-08-23T23:37:35.521Z"
   },
   {
    "duration": 673,
    "start_time": "2024-08-23T23:37:35.553Z"
   },
   {
    "duration": 396,
    "start_time": "2024-08-23T23:37:36.228Z"
   },
   {
    "duration": 687,
    "start_time": "2024-08-23T23:37:36.627Z"
   },
   {
    "duration": 3102,
    "start_time": "2024-08-23T23:37:37.317Z"
   },
   {
    "duration": 1212,
    "start_time": "2024-08-23T23:39:05.370Z"
   },
   {
    "duration": 731,
    "start_time": "2024-08-23T23:39:06.586Z"
   },
   {
    "duration": 26,
    "start_time": "2024-08-23T23:39:07.321Z"
   },
   {
    "duration": 171,
    "start_time": "2024-08-23T23:39:07.350Z"
   },
   {
    "duration": 158,
    "start_time": "2024-08-23T23:39:07.529Z"
   },
   {
    "duration": 1223,
    "start_time": "2024-08-23T23:39:07.690Z"
   },
   {
    "duration": 210,
    "start_time": "2024-08-23T23:39:08.916Z"
   },
   {
    "duration": 648,
    "start_time": "2024-08-23T23:39:09.128Z"
   },
   {
    "duration": 43,
    "start_time": "2024-08-23T23:39:09.779Z"
   },
   {
    "duration": 662,
    "start_time": "2024-08-23T23:39:09.826Z"
   },
   {
    "duration": 396,
    "start_time": "2024-08-23T23:39:10.491Z"
   },
   {
    "duration": 640,
    "start_time": "2024-08-23T23:39:10.890Z"
   },
   {
    "duration": 3085,
    "start_time": "2024-08-23T23:39:11.608Z"
   },
   {
    "duration": 11,
    "start_time": "2024-08-23T23:39:14.699Z"
   },
   {
    "duration": 7424,
    "start_time": "2024-08-23T23:39:14.717Z"
   },
   {
    "duration": 1254,
    "start_time": "2024-08-23T23:50:27.441Z"
   },
   {
    "duration": 719,
    "start_time": "2024-08-23T23:50:28.698Z"
   },
   {
    "duration": 26,
    "start_time": "2024-08-23T23:50:29.419Z"
   },
   {
    "duration": 173,
    "start_time": "2024-08-23T23:50:29.449Z"
   },
   {
    "duration": 156,
    "start_time": "2024-08-23T23:50:29.625Z"
   },
   {
    "duration": 1219,
    "start_time": "2024-08-23T23:50:29.783Z"
   },
   {
    "duration": 197,
    "start_time": "2024-08-23T23:50:31.009Z"
   },
   {
    "duration": 655,
    "start_time": "2024-08-23T23:50:31.210Z"
   },
   {
    "duration": 40,
    "start_time": "2024-08-23T23:50:31.869Z"
   },
   {
    "duration": 676,
    "start_time": "2024-08-23T23:50:31.914Z"
   },
   {
    "duration": 400,
    "start_time": "2024-08-23T23:50:32.593Z"
   },
   {
    "duration": 719,
    "start_time": "2024-08-23T23:50:32.996Z"
   },
   {
    "duration": 3090,
    "start_time": "2024-08-23T23:50:33.718Z"
   },
   {
    "duration": 406703,
    "start_time": "2024-08-23T23:50:36.811Z"
   },
   {
    "duration": 6,
    "start_time": "2024-08-23T23:57:31.210Z"
   },
   {
    "duration": 8007,
    "start_time": "2024-08-23T23:57:31.220Z"
   }
  ],
  "kernelspec": {
   "display_name": "Python 3 (ipykernel)",
   "language": "python",
   "name": "python3"
  },
  "language_info": {
   "codemirror_mode": {
    "name": "ipython",
    "version": 3
   },
   "file_extension": ".py",
   "mimetype": "text/x-python",
   "name": "python",
   "nbconvert_exporter": "python",
   "pygments_lexer": "ipython3",
   "version": "3.12.3"
  },
  "toc": {
   "base_numbering": 1,
   "nav_menu": {},
   "number_sections": true,
   "sideBar": true,
   "skip_h1_title": true,
   "title_cell": "Table of Contents",
   "title_sidebar": "Contents",
   "toc_cell": false,
   "toc_position": {},
   "toc_section_display": true,
   "toc_window_display": false
  }
 },
 "nbformat": 4,
 "nbformat_minor": 2
}
