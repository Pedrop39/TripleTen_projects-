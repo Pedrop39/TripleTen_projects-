{
 "cells": [
  {
   "cell_type": "markdown",
   "metadata": {},
   "source": [
    "# Predictive Model for Gold Recovery"
   ]
  },
  {
   "cell_type": "markdown",
   "metadata": {},
   "source": [
    "# Introduction \n",
    "Zyfra, a company specializing in efficiency solutions for heavy industry, has embarked on a project to develop a machine learning model that predicts the amount of gold recovered from gold ore. This model aims to optimize production processes and eliminate unprofitable parameters, thereby enhancing overall efficiency.\n",
    "\n",
    "To achieve this, the project will involve the following steps:\n",
    "\n",
    "Data Preparation: Collect and preprocess data related to gold extraction and purification.\n",
    "\n",
    "Data Analysis: Perform thorough data analysis to understand key patterns and insights.\n",
    "\n",
    "Model Development and Training: Develop and train a machine learning model to accurately predict gold recovery.\n",
    "\n",
    "This initiative will leverage advanced machine learning techniques to provide actionable insights, ultimately driving better decision-making and operational improvements in gold recovery processes."
   ]
  },
  {
   "cell_type": "markdown",
   "metadata": {},
   "source": [
    "**1-Prepare the data**"
   ]
  },
  {
   "cell_type": "code",
   "execution_count": 3,
   "metadata": {},
   "outputs": [],
   "source": [
    "import pandas as pd\n",
    "from sklearn.metrics import accuracy_score\n",
    "from sklearn.linear_model import LogisticRegression\n",
    "from sklearn.model_selection import train_test_split\n",
    "from sklearn.metrics import mean_squared_error\n",
    "import numpy as np\n",
    "from sklearn.ensemble import RandomForestRegressor\n",
    "from sklearn.model_selection import train_test_split\n",
    "from sklearn.metrics import classification_report, roc_auc_score\n",
    "from sklearn.metrics import roc_auc_score, roc_curve\n",
    "import matplotlib.pyplot as plt\n",
    "from sklearn.model_selection import GridSearchCV, cross_val_score\n",
    "from sklearn.utils import resample\n",
    "import seaborn as sns\n",
    "from sklearn.linear_model import LinearRegression\n",
    "from sklearn.metrics import make_scorer\n",
    "from sklearn.model_selection import cross_val_score\n",
    "from sklearn.metrics import mean_absolute_error\n",
    "from sklearn.preprocessing import StandardScaler\n",
    "from sklearn.linear_model import LogisticRegression\n",
    "from sklearn.tree import DecisionTreeRegressor\n",
    "from sklearn.metrics import mean_absolute_error\n",
    "from math import sqrt\n",
    "from sklearn.model_selection import KFold\n"
   ]
  },
  {
   "cell_type": "code",
   "execution_count": 4,
   "metadata": {},
   "outputs": [],
   "source": [
    "df_train = pd.read_csv('/datasets/gold_recovery_train.csv', index_col='date', parse_dates=True)\n",
    "df_test = pd.read_csv('/datasets/gold_recovery_test.csv', index_col='date', parse_dates=True) \n",
    "gold_df = pd.read_csv('/datasets/gold_recovery_full.csv', parse_dates=True, index_col='date')"
   ]
  },
  {
   "cell_type": "code",
   "execution_count": 5,
   "metadata": {},
   "outputs": [
    {
     "data": {
      "text/plain": [
       "((16860, 86), (5856, 52))"
      ]
     },
     "execution_count": 5,
     "metadata": {},
     "output_type": "execute_result"
    }
   ],
   "source": [
    "df_train.shape, df_test.shape"
   ]
  },
  {
   "cell_type": "code",
   "execution_count": 6,
   "metadata": {},
   "outputs": [
    {
     "name": "stdout",
     "output_type": "stream",
     "text": [
      "<class 'pandas.core.frame.DataFrame'>\n",
      "DatetimeIndex: 16860 entries, 2016-01-15 00:00:00 to 2018-08-18 10:59:59\n",
      "Data columns (total 86 columns):\n",
      " #   Column                                              Non-Null Count  Dtype  \n",
      "---  ------                                              --------------  -----  \n",
      " 0   final.output.concentrate_ag                         16788 non-null  float64\n",
      " 1   final.output.concentrate_pb                         16788 non-null  float64\n",
      " 2   final.output.concentrate_sol                        16490 non-null  float64\n",
      " 3   final.output.concentrate_au                         16789 non-null  float64\n",
      " 4   final.output.recovery                               15339 non-null  float64\n",
      " 5   final.output.tail_ag                                16794 non-null  float64\n",
      " 6   final.output.tail_pb                                16677 non-null  float64\n",
      " 7   final.output.tail_sol                               16715 non-null  float64\n",
      " 8   final.output.tail_au                                16794 non-null  float64\n",
      " 9   primary_cleaner.input.sulfate                       15553 non-null  float64\n",
      " 10  primary_cleaner.input.depressant                    15598 non-null  float64\n",
      " 11  primary_cleaner.input.feed_size                     16860 non-null  float64\n",
      " 12  primary_cleaner.input.xanthate                      15875 non-null  float64\n",
      " 13  primary_cleaner.output.concentrate_ag               16778 non-null  float64\n",
      " 14  primary_cleaner.output.concentrate_pb               16502 non-null  float64\n",
      " 15  primary_cleaner.output.concentrate_sol              16224 non-null  float64\n",
      " 16  primary_cleaner.output.concentrate_au               16778 non-null  float64\n",
      " 17  primary_cleaner.output.tail_ag                      16777 non-null  float64\n",
      " 18  primary_cleaner.output.tail_pb                      16761 non-null  float64\n",
      " 19  primary_cleaner.output.tail_sol                     16579 non-null  float64\n",
      " 20  primary_cleaner.output.tail_au                      16777 non-null  float64\n",
      " 21  primary_cleaner.state.floatbank8_a_air              16820 non-null  float64\n",
      " 22  primary_cleaner.state.floatbank8_a_level            16827 non-null  float64\n",
      " 23  primary_cleaner.state.floatbank8_b_air              16820 non-null  float64\n",
      " 24  primary_cleaner.state.floatbank8_b_level            16833 non-null  float64\n",
      " 25  primary_cleaner.state.floatbank8_c_air              16822 non-null  float64\n",
      " 26  primary_cleaner.state.floatbank8_c_level            16833 non-null  float64\n",
      " 27  primary_cleaner.state.floatbank8_d_air              16821 non-null  float64\n",
      " 28  primary_cleaner.state.floatbank8_d_level            16833 non-null  float64\n",
      " 29  rougher.calculation.sulfate_to_au_concentrate       16833 non-null  float64\n",
      " 30  rougher.calculation.floatbank10_sulfate_to_au_feed  16833 non-null  float64\n",
      " 31  rougher.calculation.floatbank11_sulfate_to_au_feed  16833 non-null  float64\n",
      " 32  rougher.calculation.au_pb_ratio                     15618 non-null  float64\n",
      " 33  rougher.input.feed_ag                               16778 non-null  float64\n",
      " 34  rougher.input.feed_pb                               16632 non-null  float64\n",
      " 35  rougher.input.feed_rate                             16347 non-null  float64\n",
      " 36  rougher.input.feed_size                             16443 non-null  float64\n",
      " 37  rougher.input.feed_sol                              16568 non-null  float64\n",
      " 38  rougher.input.feed_au                               16777 non-null  float64\n",
      " 39  rougher.input.floatbank10_sulfate                   15816 non-null  float64\n",
      " 40  rougher.input.floatbank10_xanthate                  16514 non-null  float64\n",
      " 41  rougher.input.floatbank11_sulfate                   16237 non-null  float64\n",
      " 42  rougher.input.floatbank11_xanthate                  14956 non-null  float64\n",
      " 43  rougher.output.concentrate_ag                       16778 non-null  float64\n",
      " 44  rougher.output.concentrate_pb                       16778 non-null  float64\n",
      " 45  rougher.output.concentrate_sol                      16698 non-null  float64\n",
      " 46  rougher.output.concentrate_au                       16778 non-null  float64\n",
      " 47  rougher.output.recovery                             14287 non-null  float64\n",
      " 48  rougher.output.tail_ag                              14610 non-null  float64\n",
      " 49  rougher.output.tail_pb                              16778 non-null  float64\n",
      " 50  rougher.output.tail_sol                             14611 non-null  float64\n",
      " 51  rougher.output.tail_au                              14611 non-null  float64\n",
      " 52  rougher.state.floatbank10_a_air                     16807 non-null  float64\n",
      " 53  rougher.state.floatbank10_a_level                   16807 non-null  float64\n",
      " 54  rougher.state.floatbank10_b_air                     16807 non-null  float64\n",
      " 55  rougher.state.floatbank10_b_level                   16807 non-null  float64\n",
      " 56  rougher.state.floatbank10_c_air                     16807 non-null  float64\n",
      " 57  rougher.state.floatbank10_c_level                   16814 non-null  float64\n",
      " 58  rougher.state.floatbank10_d_air                     16802 non-null  float64\n",
      " 59  rougher.state.floatbank10_d_level                   16809 non-null  float64\n",
      " 60  rougher.state.floatbank10_e_air                     16257 non-null  float64\n",
      " 61  rougher.state.floatbank10_e_level                   16809 non-null  float64\n",
      " 62  rougher.state.floatbank10_f_air                     16802 non-null  float64\n",
      " 63  rougher.state.floatbank10_f_level                   16802 non-null  float64\n",
      " 64  secondary_cleaner.output.tail_ag                    16776 non-null  float64\n",
      " 65  secondary_cleaner.output.tail_pb                    16764 non-null  float64\n",
      " 66  secondary_cleaner.output.tail_sol                   14874 non-null  float64\n",
      " 67  secondary_cleaner.output.tail_au                    16778 non-null  float64\n",
      " 68  secondary_cleaner.state.floatbank2_a_air            16497 non-null  float64\n",
      " 69  secondary_cleaner.state.floatbank2_a_level          16751 non-null  float64\n",
      " 70  secondary_cleaner.state.floatbank2_b_air            16705 non-null  float64\n",
      " 71  secondary_cleaner.state.floatbank2_b_level          16748 non-null  float64\n",
      " 72  secondary_cleaner.state.floatbank3_a_air            16763 non-null  float64\n",
      " 73  secondary_cleaner.state.floatbank3_a_level          16747 non-null  float64\n",
      " 74  secondary_cleaner.state.floatbank3_b_air            16752 non-null  float64\n",
      " 75  secondary_cleaner.state.floatbank3_b_level          16750 non-null  float64\n",
      " 76  secondary_cleaner.state.floatbank4_a_air            16731 non-null  float64\n",
      " 77  secondary_cleaner.state.floatbank4_a_level          16747 non-null  float64\n",
      " 78  secondary_cleaner.state.floatbank4_b_air            16768 non-null  float64\n",
      " 79  secondary_cleaner.state.floatbank4_b_level          16767 non-null  float64\n",
      " 80  secondary_cleaner.state.floatbank5_a_air            16775 non-null  float64\n",
      " 81  secondary_cleaner.state.floatbank5_a_level          16775 non-null  float64\n",
      " 82  secondary_cleaner.state.floatbank5_b_air            16775 non-null  float64\n",
      " 83  secondary_cleaner.state.floatbank5_b_level          16776 non-null  float64\n",
      " 84  secondary_cleaner.state.floatbank6_a_air            16757 non-null  float64\n",
      " 85  secondary_cleaner.state.floatbank6_a_level          16775 non-null  float64\n",
      "dtypes: float64(86)\n",
      "memory usage: 11.2 MB\n"
     ]
    }
   ],
   "source": [
    "df_train.info()"
   ]
  },
  {
   "cell_type": "code",
   "execution_count": 7,
   "metadata": {},
   "outputs": [
    {
     "name": "stdout",
     "output_type": "stream",
     "text": [
      "<class 'pandas.core.frame.DataFrame'>\n",
      "DatetimeIndex: 5856 entries, 2016-09-01 00:59:59 to 2017-12-31 23:59:59\n",
      "Data columns (total 52 columns):\n",
      " #   Column                                      Non-Null Count  Dtype  \n",
      "---  ------                                      --------------  -----  \n",
      " 0   primary_cleaner.input.sulfate               5554 non-null   float64\n",
      " 1   primary_cleaner.input.depressant            5572 non-null   float64\n",
      " 2   primary_cleaner.input.feed_size             5856 non-null   float64\n",
      " 3   primary_cleaner.input.xanthate              5690 non-null   float64\n",
      " 4   primary_cleaner.state.floatbank8_a_air      5840 non-null   float64\n",
      " 5   primary_cleaner.state.floatbank8_a_level    5840 non-null   float64\n",
      " 6   primary_cleaner.state.floatbank8_b_air      5840 non-null   float64\n",
      " 7   primary_cleaner.state.floatbank8_b_level    5840 non-null   float64\n",
      " 8   primary_cleaner.state.floatbank8_c_air      5840 non-null   float64\n",
      " 9   primary_cleaner.state.floatbank8_c_level    5840 non-null   float64\n",
      " 10  primary_cleaner.state.floatbank8_d_air      5840 non-null   float64\n",
      " 11  primary_cleaner.state.floatbank8_d_level    5840 non-null   float64\n",
      " 12  rougher.input.feed_ag                       5840 non-null   float64\n",
      " 13  rougher.input.feed_pb                       5840 non-null   float64\n",
      " 14  rougher.input.feed_rate                     5816 non-null   float64\n",
      " 15  rougher.input.feed_size                     5834 non-null   float64\n",
      " 16  rougher.input.feed_sol                      5789 non-null   float64\n",
      " 17  rougher.input.feed_au                       5840 non-null   float64\n",
      " 18  rougher.input.floatbank10_sulfate           5599 non-null   float64\n",
      " 19  rougher.input.floatbank10_xanthate          5733 non-null   float64\n",
      " 20  rougher.input.floatbank11_sulfate           5801 non-null   float64\n",
      " 21  rougher.input.floatbank11_xanthate          5503 non-null   float64\n",
      " 22  rougher.state.floatbank10_a_air             5839 non-null   float64\n",
      " 23  rougher.state.floatbank10_a_level           5840 non-null   float64\n",
      " 24  rougher.state.floatbank10_b_air             5839 non-null   float64\n",
      " 25  rougher.state.floatbank10_b_level           5840 non-null   float64\n",
      " 26  rougher.state.floatbank10_c_air             5839 non-null   float64\n",
      " 27  rougher.state.floatbank10_c_level           5840 non-null   float64\n",
      " 28  rougher.state.floatbank10_d_air             5839 non-null   float64\n",
      " 29  rougher.state.floatbank10_d_level           5840 non-null   float64\n",
      " 30  rougher.state.floatbank10_e_air             5839 non-null   float64\n",
      " 31  rougher.state.floatbank10_e_level           5840 non-null   float64\n",
      " 32  rougher.state.floatbank10_f_air             5839 non-null   float64\n",
      " 33  rougher.state.floatbank10_f_level           5840 non-null   float64\n",
      " 34  secondary_cleaner.state.floatbank2_a_air    5836 non-null   float64\n",
      " 35  secondary_cleaner.state.floatbank2_a_level  5840 non-null   float64\n",
      " 36  secondary_cleaner.state.floatbank2_b_air    5833 non-null   float64\n",
      " 37  secondary_cleaner.state.floatbank2_b_level  5840 non-null   float64\n",
      " 38  secondary_cleaner.state.floatbank3_a_air    5822 non-null   float64\n",
      " 39  secondary_cleaner.state.floatbank3_a_level  5840 non-null   float64\n",
      " 40  secondary_cleaner.state.floatbank3_b_air    5840 non-null   float64\n",
      " 41  secondary_cleaner.state.floatbank3_b_level  5840 non-null   float64\n",
      " 42  secondary_cleaner.state.floatbank4_a_air    5840 non-null   float64\n",
      " 43  secondary_cleaner.state.floatbank4_a_level  5840 non-null   float64\n",
      " 44  secondary_cleaner.state.floatbank4_b_air    5840 non-null   float64\n",
      " 45  secondary_cleaner.state.floatbank4_b_level  5840 non-null   float64\n",
      " 46  secondary_cleaner.state.floatbank5_a_air    5840 non-null   float64\n",
      " 47  secondary_cleaner.state.floatbank5_a_level  5840 non-null   float64\n",
      " 48  secondary_cleaner.state.floatbank5_b_air    5840 non-null   float64\n",
      " 49  secondary_cleaner.state.floatbank5_b_level  5840 non-null   float64\n",
      " 50  secondary_cleaner.state.floatbank6_a_air    5840 non-null   float64\n",
      " 51  secondary_cleaner.state.floatbank6_a_level  5840 non-null   float64\n",
      "dtypes: float64(52)\n",
      "memory usage: 2.4 MB\n"
     ]
    }
   ],
   "source": [
    "df_test.info()"
   ]
  },
  {
   "cell_type": "code",
   "execution_count": 8,
   "metadata": {},
   "outputs": [
    {
     "name": "stdout",
     "output_type": "stream",
     "text": [
      "<class 'pandas.core.frame.DataFrame'>\n",
      "DatetimeIndex: 22716 entries, 2016-01-15 00:00:00 to 2018-08-18 10:59:59\n",
      "Data columns (total 86 columns):\n",
      " #   Column                                              Non-Null Count  Dtype  \n",
      "---  ------                                              --------------  -----  \n",
      " 0   final.output.concentrate_ag                         22627 non-null  float64\n",
      " 1   final.output.concentrate_pb                         22629 non-null  float64\n",
      " 2   final.output.concentrate_sol                        22331 non-null  float64\n",
      " 3   final.output.concentrate_au                         22630 non-null  float64\n",
      " 4   final.output.recovery                               20753 non-null  float64\n",
      " 5   final.output.tail_ag                                22633 non-null  float64\n",
      " 6   final.output.tail_pb                                22516 non-null  float64\n",
      " 7   final.output.tail_sol                               22445 non-null  float64\n",
      " 8   final.output.tail_au                                22635 non-null  float64\n",
      " 9   primary_cleaner.input.sulfate                       21107 non-null  float64\n",
      " 10  primary_cleaner.input.depressant                    21170 non-null  float64\n",
      " 11  primary_cleaner.input.feed_size                     22716 non-null  float64\n",
      " 12  primary_cleaner.input.xanthate                      21565 non-null  float64\n",
      " 13  primary_cleaner.output.concentrate_ag               22618 non-null  float64\n",
      " 14  primary_cleaner.output.concentrate_pb               22268 non-null  float64\n",
      " 15  primary_cleaner.output.concentrate_sol              21918 non-null  float64\n",
      " 16  primary_cleaner.output.concentrate_au               22618 non-null  float64\n",
      " 17  primary_cleaner.output.tail_ag                      22614 non-null  float64\n",
      " 18  primary_cleaner.output.tail_pb                      22594 non-null  float64\n",
      " 19  primary_cleaner.output.tail_sol                     22365 non-null  float64\n",
      " 20  primary_cleaner.output.tail_au                      22617 non-null  float64\n",
      " 21  primary_cleaner.state.floatbank8_a_air              22660 non-null  float64\n",
      " 22  primary_cleaner.state.floatbank8_a_level            22667 non-null  float64\n",
      " 23  primary_cleaner.state.floatbank8_b_air              22660 non-null  float64\n",
      " 24  primary_cleaner.state.floatbank8_b_level            22673 non-null  float64\n",
      " 25  primary_cleaner.state.floatbank8_c_air              22662 non-null  float64\n",
      " 26  primary_cleaner.state.floatbank8_c_level            22673 non-null  float64\n",
      " 27  primary_cleaner.state.floatbank8_d_air              22661 non-null  float64\n",
      " 28  primary_cleaner.state.floatbank8_d_level            22673 non-null  float64\n",
      " 29  rougher.calculation.sulfate_to_au_concentrate       22672 non-null  float64\n",
      " 30  rougher.calculation.floatbank10_sulfate_to_au_feed  22672 non-null  float64\n",
      " 31  rougher.calculation.floatbank11_sulfate_to_au_feed  22672 non-null  float64\n",
      " 32  rougher.calculation.au_pb_ratio                     21089 non-null  float64\n",
      " 33  rougher.input.feed_ag                               22618 non-null  float64\n",
      " 34  rougher.input.feed_pb                               22472 non-null  float64\n",
      " 35  rougher.input.feed_rate                             22163 non-null  float64\n",
      " 36  rougher.input.feed_size                             22277 non-null  float64\n",
      " 37  rougher.input.feed_sol                              22357 non-null  float64\n",
      " 38  rougher.input.feed_au                               22617 non-null  float64\n",
      " 39  rougher.input.floatbank10_sulfate                   21415 non-null  float64\n",
      " 40  rougher.input.floatbank10_xanthate                  22247 non-null  float64\n",
      " 41  rougher.input.floatbank11_sulfate                   22038 non-null  float64\n",
      " 42  rougher.input.floatbank11_xanthate                  20459 non-null  float64\n",
      " 43  rougher.output.concentrate_ag                       22618 non-null  float64\n",
      " 44  rougher.output.concentrate_pb                       22618 non-null  float64\n",
      " 45  rougher.output.concentrate_sol                      22526 non-null  float64\n",
      " 46  rougher.output.concentrate_au                       22618 non-null  float64\n",
      " 47  rougher.output.recovery                             19597 non-null  float64\n",
      " 48  rougher.output.tail_ag                              19979 non-null  float64\n",
      " 49  rougher.output.tail_pb                              22618 non-null  float64\n",
      " 50  rougher.output.tail_sol                             19980 non-null  float64\n",
      " 51  rougher.output.tail_au                              19980 non-null  float64\n",
      " 52  rougher.state.floatbank10_a_air                     22646 non-null  float64\n",
      " 53  rougher.state.floatbank10_a_level                   22647 non-null  float64\n",
      " 54  rougher.state.floatbank10_b_air                     22646 non-null  float64\n",
      " 55  rougher.state.floatbank10_b_level                   22647 non-null  float64\n",
      " 56  rougher.state.floatbank10_c_air                     22646 non-null  float64\n",
      " 57  rougher.state.floatbank10_c_level                   22654 non-null  float64\n",
      " 58  rougher.state.floatbank10_d_air                     22641 non-null  float64\n",
      " 59  rougher.state.floatbank10_d_level                   22649 non-null  float64\n",
      " 60  rougher.state.floatbank10_e_air                     22096 non-null  float64\n",
      " 61  rougher.state.floatbank10_e_level                   22649 non-null  float64\n",
      " 62  rougher.state.floatbank10_f_air                     22641 non-null  float64\n",
      " 63  rougher.state.floatbank10_f_level                   22642 non-null  float64\n",
      " 64  secondary_cleaner.output.tail_ag                    22616 non-null  float64\n",
      " 65  secondary_cleaner.output.tail_pb                    22600 non-null  float64\n",
      " 66  secondary_cleaner.output.tail_sol                   20501 non-null  float64\n",
      " 67  secondary_cleaner.output.tail_au                    22618 non-null  float64\n",
      " 68  secondary_cleaner.state.floatbank2_a_air            22333 non-null  float64\n",
      " 69  secondary_cleaner.state.floatbank2_a_level          22591 non-null  float64\n",
      " 70  secondary_cleaner.state.floatbank2_b_air            22538 non-null  float64\n",
      " 71  secondary_cleaner.state.floatbank2_b_level          22588 non-null  float64\n",
      " 72  secondary_cleaner.state.floatbank3_a_air            22585 non-null  float64\n",
      " 73  secondary_cleaner.state.floatbank3_a_level          22587 non-null  float64\n",
      " 74  secondary_cleaner.state.floatbank3_b_air            22592 non-null  float64\n",
      " 75  secondary_cleaner.state.floatbank3_b_level          22590 non-null  float64\n",
      " 76  secondary_cleaner.state.floatbank4_a_air            22571 non-null  float64\n",
      " 77  secondary_cleaner.state.floatbank4_a_level          22587 non-null  float64\n",
      " 78  secondary_cleaner.state.floatbank4_b_air            22608 non-null  float64\n",
      " 79  secondary_cleaner.state.floatbank4_b_level          22607 non-null  float64\n",
      " 80  secondary_cleaner.state.floatbank5_a_air            22615 non-null  float64\n",
      " 81  secondary_cleaner.state.floatbank5_a_level          22615 non-null  float64\n",
      " 82  secondary_cleaner.state.floatbank5_b_air            22615 non-null  float64\n",
      " 83  secondary_cleaner.state.floatbank5_b_level          22616 non-null  float64\n",
      " 84  secondary_cleaner.state.floatbank6_a_air            22597 non-null  float64\n",
      " 85  secondary_cleaner.state.floatbank6_a_level          22615 non-null  float64\n",
      "dtypes: float64(86)\n",
      "memory usage: 15.1 MB\n"
     ]
    }
   ],
   "source": [
    "gold_df.info()"
   ]
  },
  {
   "cell_type": "code",
   "execution_count": 9,
   "metadata": {},
   "outputs": [
    {
     "data": {
      "text/plain": [
       "16"
      ]
     },
     "execution_count": 9,
     "metadata": {},
     "output_type": "execute_result"
    }
   ],
   "source": [
    "df_train.duplicated().sum()"
   ]
  },
  {
   "cell_type": "code",
   "execution_count": 10,
   "metadata": {},
   "outputs": [
    {
     "data": {
      "text/plain": [
       "6"
      ]
     },
     "execution_count": 10,
     "metadata": {},
     "output_type": "execute_result"
    }
   ],
   "source": [
    "df_test.duplicated().sum()"
   ]
  },
  {
   "cell_type": "code",
   "execution_count": 11,
   "metadata": {},
   "outputs": [
    {
     "data": {
      "text/plain": [
       "22"
      ]
     },
     "execution_count": 11,
     "metadata": {},
     "output_type": "execute_result"
    }
   ],
   "source": [
    "gold_df.duplicated().sum()"
   ]
  },
  {
   "cell_type": "code",
   "execution_count": 12,
   "metadata": {},
   "outputs": [
    {
     "name": "stdout",
     "output_type": "stream",
     "text": [
      "Missing values in df1:\n",
      " final.output.concentrate_ag                   0.004966\n",
      "final.output.concentrate_pb                   0.004966\n",
      "final.output.concentrate_sol                  0.025518\n",
      "final.output.concentrate_au                   0.004897\n",
      "final.output.recovery                         0.104899\n",
      "                                                ...   \n",
      "secondary_cleaner.state.floatbank5_a_level    0.005862\n",
      "secondary_cleaner.state.floatbank5_b_air      0.005862\n",
      "secondary_cleaner.state.floatbank5_b_level    0.005793\n",
      "secondary_cleaner.state.floatbank6_a_air      0.007104\n",
      "secondary_cleaner.state.floatbank6_a_level    0.005862\n",
      "Length: 86, dtype: float64\n",
      "Missing values in df2:\n",
      " primary_cleaner.input.sulfate                 0.099175\n",
      "primary_cleaner.input.depressant              0.093264\n",
      "primary_cleaner.input.feed_size               0.000000\n",
      "primary_cleaner.input.xanthate                0.054513\n",
      "primary_cleaner.state.floatbank8_a_air        0.005254\n",
      "primary_cleaner.state.floatbank8_a_level      0.005254\n",
      "primary_cleaner.state.floatbank8_b_air        0.005254\n",
      "primary_cleaner.state.floatbank8_b_level      0.005254\n",
      "primary_cleaner.state.floatbank8_c_air        0.005254\n",
      "primary_cleaner.state.floatbank8_c_level      0.005254\n",
      "primary_cleaner.state.floatbank8_d_air        0.005254\n",
      "primary_cleaner.state.floatbank8_d_level      0.005254\n",
      "rougher.input.feed_ag                         0.005254\n",
      "rougher.input.feed_pb                         0.005254\n",
      "rougher.input.feed_rate                       0.013136\n",
      "rougher.input.feed_size                       0.007225\n",
      "rougher.input.feed_sol                        0.022002\n",
      "rougher.input.feed_au                         0.005254\n",
      "rougher.input.floatbank10_sulfate             0.084397\n",
      "rougher.input.floatbank10_xanthate            0.040392\n",
      "rougher.input.floatbank11_sulfate             0.018062\n",
      "rougher.input.floatbank11_xanthate            0.115923\n",
      "rougher.state.floatbank10_a_air               0.005583\n",
      "rougher.state.floatbank10_a_level             0.005254\n",
      "rougher.state.floatbank10_b_air               0.005583\n",
      "rougher.state.floatbank10_b_level             0.005254\n",
      "rougher.state.floatbank10_c_air               0.005583\n",
      "rougher.state.floatbank10_c_level             0.005254\n",
      "rougher.state.floatbank10_d_air               0.005583\n",
      "rougher.state.floatbank10_d_level             0.005254\n",
      "rougher.state.floatbank10_e_air               0.005583\n",
      "rougher.state.floatbank10_e_level             0.005254\n",
      "rougher.state.floatbank10_f_air               0.005583\n",
      "rougher.state.floatbank10_f_level             0.005254\n",
      "secondary_cleaner.state.floatbank2_a_air      0.006568\n",
      "secondary_cleaner.state.floatbank2_a_level    0.005254\n",
      "secondary_cleaner.state.floatbank2_b_air      0.007553\n",
      "secondary_cleaner.state.floatbank2_b_level    0.005254\n",
      "secondary_cleaner.state.floatbank3_a_air      0.011165\n",
      "secondary_cleaner.state.floatbank3_a_level    0.005254\n",
      "secondary_cleaner.state.floatbank3_b_air      0.005254\n",
      "secondary_cleaner.state.floatbank3_b_level    0.005254\n",
      "secondary_cleaner.state.floatbank4_a_air      0.005254\n",
      "secondary_cleaner.state.floatbank4_a_level    0.005254\n",
      "secondary_cleaner.state.floatbank4_b_air      0.005254\n",
      "secondary_cleaner.state.floatbank4_b_level    0.005254\n",
      "secondary_cleaner.state.floatbank5_a_air      0.005254\n",
      "secondary_cleaner.state.floatbank5_a_level    0.005254\n",
      "secondary_cleaner.state.floatbank5_b_air      0.005254\n",
      "secondary_cleaner.state.floatbank5_b_level    0.005254\n",
      "secondary_cleaner.state.floatbank6_a_air      0.005254\n",
      "secondary_cleaner.state.floatbank6_a_level    0.005254\n",
      "dtype: float64\n",
      "Missing values in df3:\n",
      " final.output.concentrate_ag                   0.004556\n",
      "final.output.concentrate_pb                   0.004453\n",
      "final.output.concentrate_sol                  0.019707\n",
      "final.output.concentrate_au                   0.004402\n",
      "final.output.recovery                         0.100482\n",
      "                                                ...   \n",
      "secondary_cleaner.state.floatbank5_a_level    0.005170\n",
      "secondary_cleaner.state.floatbank5_b_air      0.005170\n",
      "secondary_cleaner.state.floatbank5_b_level    0.005119\n",
      "secondary_cleaner.state.floatbank6_a_air      0.006091\n",
      "secondary_cleaner.state.floatbank6_a_level    0.005170\n",
      "Length: 86, dtype: float64\n"
     ]
    }
   ],
   "source": [
    "def calculate_missing_values(df):\n",
    "    missing_values = df.isnull().sum()\n",
    "    total_values = np.product(df.shape)\n",
    "    missing_percent = (missing_values / total_values) * 100\n",
    "    return missing_percent\n",
    "\n",
    "missing_percent_df_train = calculate_missing_values(df_train)\n",
    "missing_percent_df_test = calculate_missing_values(df_test)\n",
    "missing_percent_gold_df = calculate_missing_values(gold_df)\n",
    "\n",
    "print(\"Missing values in df1:\\n\", missing_percent_df_train)\n",
    "print(\"Missing values in df2:\\n\", missing_percent_df_test)\n",
    "print(\"Missing values in df3:\\n\", missing_percent_gold_df)"
   ]
  },
  {
   "cell_type": "code",
   "execution_count": 13,
   "metadata": {},
   "outputs": [
    {
     "data": {
      "text/plain": [
       "final.output.recovery                 10.489945\n",
       "primary_cleaner.input.sulfate          9.014042\n",
       "primary_cleaner.input.depressant       8.703688\n",
       "primary_cleaner.input.xanthate         6.793291\n",
       "rougher.calculation.au_pb_ratio        8.565754\n",
       "rougher.input.floatbank10_sulfate      7.200199\n",
       "rougher.input.floatbank11_xanthate    13.131397\n",
       "rougher.output.recovery               17.745317\n",
       "rougher.output.tail_ag                15.517669\n",
       "rougher.output.tail_sol               15.510773\n",
       "rougher.output.tail_au                15.510773\n",
       "secondary_cleaner.output.tail_sol     13.696930\n",
       "dtype: float64"
      ]
     },
     "execution_count": 13,
     "metadata": {},
     "output_type": "execute_result"
    }
   ],
   "source": [
    "missing_percent_df_train_5_or_more = missing_percent_df_train[missing_percent_df_train >=0.05]*100\n",
    "missing_percent_df_train_5_or_more"
   ]
  },
  {
   "cell_type": "code",
   "execution_count": 14,
   "metadata": {},
   "outputs": [
    {
     "data": {
      "text/plain": [
       "primary_cleaner.input.sulfate          9.917507\n",
       "primary_cleaner.input.depressant       9.326398\n",
       "primary_cleaner.input.xanthate         5.451345\n",
       "rougher.input.floatbank10_sulfate      8.439733\n",
       "rougher.input.floatbank11_xanthate    11.592318\n",
       "dtype: float64"
      ]
     },
     "execution_count": 14,
     "metadata": {},
     "output_type": "execute_result"
    }
   ],
   "source": [
    "missing_percent_df_test_5_or_more = missing_percent_df_test[missing_percent_df_test >=0.05]*100\n",
    "missing_percent_df_test_5_or_more"
   ]
  },
  {
   "cell_type": "code",
   "execution_count": 15,
   "metadata": {},
   "outputs": [
    {
     "data": {
      "text/plain": [
       "final.output.recovery                 10.048240\n",
       "primary_cleaner.input.sulfate          8.236178\n",
       "primary_cleaner.input.depressant       7.913693\n",
       "primary_cleaner.input.xanthate         5.891760\n",
       "rougher.calculation.au_pb_ratio        8.328317\n",
       "rougher.input.floatbank10_sulfate      6.659582\n",
       "rougher.input.floatbank11_xanthate    11.553172\n",
       "rougher.output.recovery               15.965593\n",
       "rougher.output.tail_ag                14.010205\n",
       "rougher.output.tail_sol               14.005086\n",
       "rougher.output.tail_au                14.005086\n",
       "secondary_cleaner.output.tail_sol     11.338182\n",
       "dtype: float64"
      ]
     },
     "execution_count": 15,
     "metadata": {},
     "output_type": "execute_result"
    }
   ],
   "source": [
    "missing_percent_gold_df_5_or_more = missing_percent_gold_df[missing_percent_gold_df >=0.05]*100\n",
    "missing_percent_gold_df_5_or_more"
   ]
  },
  {
   "cell_type": "code",
   "execution_count": 16,
   "metadata": {},
   "outputs": [
    {
     "name": "stderr",
     "output_type": "stream",
     "text": [
      "/tmp/ipykernel_302/3300051670.py:6: RuntimeWarning: divide by zero encountered in double_scalars\n",
      "  return numerator/denominator*100\n",
      "/tmp/ipykernel_302/3300051670.py:6: RuntimeWarning: invalid value encountered in double_scalars\n",
      "  return numerator/denominator*100\n"
     ]
    },
    {
     "name": "stdout",
     "output_type": "stream",
     "text": [
      "Difference between the expected value and measured value is 9.303415616264301e-15\n"
     ]
    }
   ],
   "source": [
    "# Check the formula: whether the calculation result matches the provided data.\n",
    "\n",
    "def recovery_calc(row):\n",
    "    numerator = row['rougher.output.concentrate_au']*(row['rougher.input.feed_au']-row['rougher.output.tail_au'])\n",
    "    denominator = row['rougher.input.feed_au']*(row['rougher.output.concentrate_au']-row['rougher.output.tail_au'])\n",
    "    return numerator/denominator*100\n",
    "\n",
    "df_formula = df_train.copy()\n",
    "df_formula['formula'] = df_formula.apply(lambda x: recovery_calc(x), axis=1)\n",
    "\n",
    "answer = (df_formula['formula'] - df_formula['rougher.output.recovery']).abs().mean()\n",
    "\n",
    "print('Difference between the expected value and measured value is {}'.format(answer))"
   ]
  },
  {
   "cell_type": "code",
   "execution_count": 17,
   "metadata": {},
   "outputs": [
    {
     "name": "stdout",
     "output_type": "stream",
     "text": [
      "<class 'pandas.core.frame.DataFrame'>\n",
      "DatetimeIndex: 16860 entries, 2016-01-15 00:00:00 to 2018-08-18 10:59:59\n",
      "Data columns (total 86 columns):\n",
      " #   Column                                              Non-Null Count  Dtype  \n",
      "---  ------                                              --------------  -----  \n",
      " 0   final.output.concentrate_ag                         16860 non-null  float64\n",
      " 1   final.output.concentrate_pb                         16860 non-null  float64\n",
      " 2   final.output.concentrate_sol                        16860 non-null  float64\n",
      " 3   final.output.concentrate_au                         16860 non-null  float64\n",
      " 4   final.output.recovery                               16860 non-null  float64\n",
      " 5   final.output.tail_ag                                16860 non-null  float64\n",
      " 6   final.output.tail_pb                                16860 non-null  float64\n",
      " 7   final.output.tail_sol                               16860 non-null  float64\n",
      " 8   final.output.tail_au                                16860 non-null  float64\n",
      " 9   primary_cleaner.input.sulfate                       16860 non-null  float64\n",
      " 10  primary_cleaner.input.depressant                    16860 non-null  float64\n",
      " 11  primary_cleaner.input.feed_size                     16860 non-null  float64\n",
      " 12  primary_cleaner.input.xanthate                      16860 non-null  float64\n",
      " 13  primary_cleaner.output.concentrate_ag               16860 non-null  float64\n",
      " 14  primary_cleaner.output.concentrate_pb               16860 non-null  float64\n",
      " 15  primary_cleaner.output.concentrate_sol              16860 non-null  float64\n",
      " 16  primary_cleaner.output.concentrate_au               16860 non-null  float64\n",
      " 17  primary_cleaner.output.tail_ag                      16860 non-null  float64\n",
      " 18  primary_cleaner.output.tail_pb                      16860 non-null  float64\n",
      " 19  primary_cleaner.output.tail_sol                     16860 non-null  float64\n",
      " 20  primary_cleaner.output.tail_au                      16860 non-null  float64\n",
      " 21  primary_cleaner.state.floatbank8_a_air              16860 non-null  float64\n",
      " 22  primary_cleaner.state.floatbank8_a_level            16860 non-null  float64\n",
      " 23  primary_cleaner.state.floatbank8_b_air              16860 non-null  float64\n",
      " 24  primary_cleaner.state.floatbank8_b_level            16860 non-null  float64\n",
      " 25  primary_cleaner.state.floatbank8_c_air              16860 non-null  float64\n",
      " 26  primary_cleaner.state.floatbank8_c_level            16860 non-null  float64\n",
      " 27  primary_cleaner.state.floatbank8_d_air              16860 non-null  float64\n",
      " 28  primary_cleaner.state.floatbank8_d_level            16860 non-null  float64\n",
      " 29  rougher.calculation.sulfate_to_au_concentrate       16860 non-null  float64\n",
      " 30  rougher.calculation.floatbank10_sulfate_to_au_feed  16860 non-null  float64\n",
      " 31  rougher.calculation.floatbank11_sulfate_to_au_feed  16860 non-null  float64\n",
      " 32  rougher.calculation.au_pb_ratio                     16860 non-null  float64\n",
      " 33  rougher.input.feed_ag                               16860 non-null  float64\n",
      " 34  rougher.input.feed_pb                               16860 non-null  float64\n",
      " 35  rougher.input.feed_rate                             16860 non-null  float64\n",
      " 36  rougher.input.feed_size                             16860 non-null  float64\n",
      " 37  rougher.input.feed_sol                              16860 non-null  float64\n",
      " 38  rougher.input.feed_au                               16860 non-null  float64\n",
      " 39  rougher.input.floatbank10_sulfate                   16860 non-null  float64\n",
      " 40  rougher.input.floatbank10_xanthate                  16860 non-null  float64\n",
      " 41  rougher.input.floatbank11_sulfate                   16860 non-null  float64\n",
      " 42  rougher.input.floatbank11_xanthate                  16860 non-null  float64\n",
      " 43  rougher.output.concentrate_ag                       16860 non-null  float64\n",
      " 44  rougher.output.concentrate_pb                       16860 non-null  float64\n",
      " 45  rougher.output.concentrate_sol                      16860 non-null  float64\n",
      " 46  rougher.output.concentrate_au                       16860 non-null  float64\n",
      " 47  rougher.output.recovery                             16860 non-null  float64\n",
      " 48  rougher.output.tail_ag                              16860 non-null  float64\n",
      " 49  rougher.output.tail_pb                              16860 non-null  float64\n",
      " 50  rougher.output.tail_sol                             16860 non-null  float64\n",
      " 51  rougher.output.tail_au                              16860 non-null  float64\n",
      " 52  rougher.state.floatbank10_a_air                     16860 non-null  float64\n",
      " 53  rougher.state.floatbank10_a_level                   16860 non-null  float64\n",
      " 54  rougher.state.floatbank10_b_air                     16860 non-null  float64\n",
      " 55  rougher.state.floatbank10_b_level                   16860 non-null  float64\n",
      " 56  rougher.state.floatbank10_c_air                     16860 non-null  float64\n",
      " 57  rougher.state.floatbank10_c_level                   16860 non-null  float64\n",
      " 58  rougher.state.floatbank10_d_air                     16860 non-null  float64\n",
      " 59  rougher.state.floatbank10_d_level                   16860 non-null  float64\n",
      " 60  rougher.state.floatbank10_e_air                     16860 non-null  float64\n",
      " 61  rougher.state.floatbank10_e_level                   16860 non-null  float64\n",
      " 62  rougher.state.floatbank10_f_air                     16860 non-null  float64\n",
      " 63  rougher.state.floatbank10_f_level                   16860 non-null  float64\n",
      " 64  secondary_cleaner.output.tail_ag                    16860 non-null  float64\n",
      " 65  secondary_cleaner.output.tail_pb                    16860 non-null  float64\n",
      " 66  secondary_cleaner.output.tail_sol                   16860 non-null  float64\n",
      " 67  secondary_cleaner.output.tail_au                    16860 non-null  float64\n",
      " 68  secondary_cleaner.state.floatbank2_a_air            16860 non-null  float64\n",
      " 69  secondary_cleaner.state.floatbank2_a_level          16860 non-null  float64\n",
      " 70  secondary_cleaner.state.floatbank2_b_air            16860 non-null  float64\n",
      " 71  secondary_cleaner.state.floatbank2_b_level          16860 non-null  float64\n",
      " 72  secondary_cleaner.state.floatbank3_a_air            16860 non-null  float64\n",
      " 73  secondary_cleaner.state.floatbank3_a_level          16860 non-null  float64\n",
      " 74  secondary_cleaner.state.floatbank3_b_air            16860 non-null  float64\n",
      " 75  secondary_cleaner.state.floatbank3_b_level          16860 non-null  float64\n",
      " 76  secondary_cleaner.state.floatbank4_a_air            16860 non-null  float64\n",
      " 77  secondary_cleaner.state.floatbank4_a_level          16860 non-null  float64\n",
      " 78  secondary_cleaner.state.floatbank4_b_air            16860 non-null  float64\n",
      " 79  secondary_cleaner.state.floatbank4_b_level          16860 non-null  float64\n",
      " 80  secondary_cleaner.state.floatbank5_a_air            16860 non-null  float64\n",
      " 81  secondary_cleaner.state.floatbank5_a_level          16860 non-null  float64\n",
      " 82  secondary_cleaner.state.floatbank5_b_air            16860 non-null  float64\n",
      " 83  secondary_cleaner.state.floatbank5_b_level          16860 non-null  float64\n",
      " 84  secondary_cleaner.state.floatbank6_a_air            16860 non-null  float64\n",
      " 85  secondary_cleaner.state.floatbank6_a_level          16860 non-null  float64\n",
      "dtypes: float64(86)\n",
      "memory usage: 11.2 MB\n"
     ]
    }
   ],
   "source": [
    "df_train = df_train.fillna(method='ffill')\n",
    "df_train.info()"
   ]
  },
  {
   "cell_type": "code",
   "execution_count": 18,
   "metadata": {},
   "outputs": [
    {
     "name": "stdout",
     "output_type": "stream",
     "text": [
      "<class 'pandas.core.frame.DataFrame'>\n",
      "DatetimeIndex: 5856 entries, 2016-09-01 00:59:59 to 2017-12-31 23:59:59\n",
      "Data columns (total 52 columns):\n",
      " #   Column                                      Non-Null Count  Dtype  \n",
      "---  ------                                      --------------  -----  \n",
      " 0   primary_cleaner.input.sulfate               5554 non-null   float64\n",
      " 1   primary_cleaner.input.depressant            5572 non-null   float64\n",
      " 2   primary_cleaner.input.feed_size             5856 non-null   float64\n",
      " 3   primary_cleaner.input.xanthate              5690 non-null   float64\n",
      " 4   primary_cleaner.state.floatbank8_a_air      5840 non-null   float64\n",
      " 5   primary_cleaner.state.floatbank8_a_level    5840 non-null   float64\n",
      " 6   primary_cleaner.state.floatbank8_b_air      5840 non-null   float64\n",
      " 7   primary_cleaner.state.floatbank8_b_level    5840 non-null   float64\n",
      " 8   primary_cleaner.state.floatbank8_c_air      5840 non-null   float64\n",
      " 9   primary_cleaner.state.floatbank8_c_level    5840 non-null   float64\n",
      " 10  primary_cleaner.state.floatbank8_d_air      5840 non-null   float64\n",
      " 11  primary_cleaner.state.floatbank8_d_level    5840 non-null   float64\n",
      " 12  rougher.input.feed_ag                       5840 non-null   float64\n",
      " 13  rougher.input.feed_pb                       5840 non-null   float64\n",
      " 14  rougher.input.feed_rate                     5816 non-null   float64\n",
      " 15  rougher.input.feed_size                     5834 non-null   float64\n",
      " 16  rougher.input.feed_sol                      5789 non-null   float64\n",
      " 17  rougher.input.feed_au                       5840 non-null   float64\n",
      " 18  rougher.input.floatbank10_sulfate           5599 non-null   float64\n",
      " 19  rougher.input.floatbank10_xanthate          5733 non-null   float64\n",
      " 20  rougher.input.floatbank11_sulfate           5801 non-null   float64\n",
      " 21  rougher.input.floatbank11_xanthate          5503 non-null   float64\n",
      " 22  rougher.state.floatbank10_a_air             5839 non-null   float64\n",
      " 23  rougher.state.floatbank10_a_level           5840 non-null   float64\n",
      " 24  rougher.state.floatbank10_b_air             5839 non-null   float64\n",
      " 25  rougher.state.floatbank10_b_level           5840 non-null   float64\n",
      " 26  rougher.state.floatbank10_c_air             5839 non-null   float64\n",
      " 27  rougher.state.floatbank10_c_level           5840 non-null   float64\n",
      " 28  rougher.state.floatbank10_d_air             5839 non-null   float64\n",
      " 29  rougher.state.floatbank10_d_level           5840 non-null   float64\n",
      " 30  rougher.state.floatbank10_e_air             5839 non-null   float64\n",
      " 31  rougher.state.floatbank10_e_level           5840 non-null   float64\n",
      " 32  rougher.state.floatbank10_f_air             5839 non-null   float64\n",
      " 33  rougher.state.floatbank10_f_level           5840 non-null   float64\n",
      " 34  secondary_cleaner.state.floatbank2_a_air    5836 non-null   float64\n",
      " 35  secondary_cleaner.state.floatbank2_a_level  5840 non-null   float64\n",
      " 36  secondary_cleaner.state.floatbank2_b_air    5833 non-null   float64\n",
      " 37  secondary_cleaner.state.floatbank2_b_level  5840 non-null   float64\n",
      " 38  secondary_cleaner.state.floatbank3_a_air    5822 non-null   float64\n",
      " 39  secondary_cleaner.state.floatbank3_a_level  5840 non-null   float64\n",
      " 40  secondary_cleaner.state.floatbank3_b_air    5840 non-null   float64\n",
      " 41  secondary_cleaner.state.floatbank3_b_level  5840 non-null   float64\n",
      " 42  secondary_cleaner.state.floatbank4_a_air    5840 non-null   float64\n",
      " 43  secondary_cleaner.state.floatbank4_a_level  5840 non-null   float64\n",
      " 44  secondary_cleaner.state.floatbank4_b_air    5840 non-null   float64\n",
      " 45  secondary_cleaner.state.floatbank4_b_level  5840 non-null   float64\n",
      " 46  secondary_cleaner.state.floatbank5_a_air    5840 non-null   float64\n",
      " 47  secondary_cleaner.state.floatbank5_a_level  5840 non-null   float64\n",
      " 48  secondary_cleaner.state.floatbank5_b_air    5840 non-null   float64\n",
      " 49  secondary_cleaner.state.floatbank5_b_level  5840 non-null   float64\n",
      " 50  secondary_cleaner.state.floatbank6_a_air    5840 non-null   float64\n",
      " 51  secondary_cleaner.state.floatbank6_a_level  5840 non-null   float64\n",
      "dtypes: float64(52)\n",
      "memory usage: 2.4 MB\n"
     ]
    }
   ],
   "source": [
    "df_test.fillna(method='ffill')\n",
    "df_test.info()"
   ]
  },
  {
   "cell_type": "code",
   "execution_count": 19,
   "metadata": {},
   "outputs": [
    {
     "data": {
      "text/plain": [
       "rougher.output.recovery               0.137304\n",
       "rougher.output.tail_ag                0.120488\n",
       "rougher.output.tail_sol               0.120444\n",
       "rougher.output.tail_au                0.120444\n",
       "rougher.input.floatbank11_xanthate    0.099357\n",
       "secondary_cleaner.output.tail_sol     0.097508\n",
       "final.output.recovery                 0.086415\n",
       "rougher.calculation.au_pb_ratio       0.071624\n",
       "primary_cleaner.input.sulfate         0.070831\n",
       "primary_cleaner.input.depressant      0.068058\n",
       "dtype: float64"
      ]
     },
     "execution_count": 19,
     "metadata": {},
     "output_type": "execute_result"
    }
   ],
   "source": [
    "gold_df.isnull().mean().sort_values(ascending=False).head(10)"
   ]
  },
  {
   "cell_type": "code",
   "execution_count": 20,
   "metadata": {},
   "outputs": [
    {
     "data": {
      "text/plain": [
       "{'final.output.concentrate_ag',\n",
       " 'final.output.concentrate_au',\n",
       " 'final.output.concentrate_pb',\n",
       " 'final.output.concentrate_sol',\n",
       " 'final.output.recovery',\n",
       " 'final.output.tail_ag',\n",
       " 'final.output.tail_au',\n",
       " 'final.output.tail_pb',\n",
       " 'final.output.tail_sol',\n",
       " 'primary_cleaner.output.concentrate_ag',\n",
       " 'primary_cleaner.output.concentrate_au',\n",
       " 'primary_cleaner.output.concentrate_pb',\n",
       " 'primary_cleaner.output.concentrate_sol',\n",
       " 'primary_cleaner.output.tail_ag',\n",
       " 'primary_cleaner.output.tail_au',\n",
       " 'primary_cleaner.output.tail_pb',\n",
       " 'primary_cleaner.output.tail_sol',\n",
       " 'rougher.calculation.au_pb_ratio',\n",
       " 'rougher.calculation.floatbank10_sulfate_to_au_feed',\n",
       " 'rougher.calculation.floatbank11_sulfate_to_au_feed',\n",
       " 'rougher.calculation.sulfate_to_au_concentrate',\n",
       " 'rougher.output.concentrate_ag',\n",
       " 'rougher.output.concentrate_au',\n",
       " 'rougher.output.concentrate_pb',\n",
       " 'rougher.output.concentrate_sol',\n",
       " 'rougher.output.recovery',\n",
       " 'rougher.output.tail_ag',\n",
       " 'rougher.output.tail_au',\n",
       " 'rougher.output.tail_pb',\n",
       " 'rougher.output.tail_sol',\n",
       " 'secondary_cleaner.output.tail_ag',\n",
       " 'secondary_cleaner.output.tail_au',\n",
       " 'secondary_cleaner.output.tail_pb',\n",
       " 'secondary_cleaner.output.tail_sol'}"
      ]
     },
     "execution_count": 20,
     "metadata": {},
     "output_type": "execute_result"
    }
   ],
   "source": [
    "missed_test_columns = set(list(df_train.columns.values))-set(list(df_test.columns.values))\n",
    "missed_test_columns"
   ]
  },
  {
   "cell_type": "markdown",
   "metadata": {},
   "source": [
    "# 2- Analyze the data"
   ]
  },
  {
   "cell_type": "code",
   "execution_count": 21,
   "metadata": {},
   "outputs": [
    {
     "data": {
      "text/plain": [
       "Text(0.5, 1.0, 'Gold concentration change')"
      ]
     },
     "execution_count": 21,
     "metadata": {},
     "output_type": "execute_result"
    },
    {
     "data": {
      "image/png": "[encoded data removed]",
      "text/plain": [
       "<Figure size 640x480 with 1 Axes>"
      ]
     },
     "metadata": {},
     "output_type": "display_data"
    }
   ],
   "source": [
    "steps_template = [\n",
    "    'rougher.input.feed_{}',\n",
    "    'rougher.output.concentrate_{}',\n",
    "    'primary_cleaner.output.concentrate_{}',\n",
    "    'final.output.concentrate_{}',\n",
    "]\n",
    "\n",
    "def plot_concentrate_progress(component):\n",
    "    steps = [s.format(component) for s in steps_template]\n",
    "    for step in steps:\n",
    "        gold_df[step].hist(alpha=0.5, bins=20)\n",
    "    plt.legend(steps)\n",
    "\n",
    "plot_concentrate_progress('au')\n",
    "plt.title('Gold concentration change')"
   ]
  },
  {
   "cell_type": "code",
   "execution_count": 22,
   "metadata": {},
   "outputs": [
    {
     "data": {
      "text/plain": [
       "Text(0.5, 1.0, 'Silver concentration change')"
      ]
     },
     "execution_count": 22,
     "metadata": {},
     "output_type": "execute_result"
    },
    {
     "data": {
      "image/png": "[encoded data removed]",
      "text/plain": [
       "<Figure size 640x480 with 1 Axes>"
      ]
     },
     "metadata": {},
     "output_type": "display_data"
    }
   ],
   "source": [
    "plot_concentrate_progress('ag')\n",
    "plt.title('Silver concentration change')"
   ]
  },
  {
   "cell_type": "code",
   "execution_count": 23,
   "metadata": {},
   "outputs": [
    {
     "data": {
      "text/plain": [
       "Text(0.5, 1.0, 'Lead concentration change')"
      ]
     },
     "execution_count": 23,
     "metadata": {},
     "output_type": "execute_result"
    },
    {
     "data": {
      "image/png": "[encoded data removed]",
      "text/plain": [
       "<Figure size 640x480 with 1 Axes>"
      ]
     },
     "metadata": {},
     "output_type": "display_data"
    }
   ],
   "source": [
    "plot_concentrate_progress('pb')\n",
    "plt.title('Lead concentration change')"
   ]
  },
  {
   "cell_type": "markdown",
   "metadata": {},
   "source": [
    "**Gold (Au) Concentration**\n",
    "\n",
    "Rougher Input Feed: The initial concentration of gold is relatively high, with a broad distribution.\n",
    "\n",
    "Rougher: After the rougher stage, the concentration of gold decreases slightly, indicating some purification.\n",
    "\n",
    "Primary Cleaner: The concentration continues to decrease, showing further purification.\n",
    "\n",
    "Final: The final stage shows the lowest concentration of gold, indicating the highest level of purification.\n",
    "\n",
    "**Silver (Ag) Concentration**\n",
    "\n",
    "Rougher Input Feed: The initial concentration of silver is high, with a wide distribution.\n",
    "\n",
    "Rougher: The concentration decreases significantly after the rougher stage.\n",
    "\n",
    "Primary Cleaner: The concentration continues to drop, showing effective purification.\n",
    "\n",
    "Final: The final stage has the lowest concentration of silver, indicating successful purification.\n",
    "\n",
    "**Lead (Pb) Concentration**\n",
    "\n",
    "Rougher Input Feed: The initial concentration of lead is high, with a broad distribution.\n",
    "\n",
    "Rougher: The concentration decreases after the rougher stage.\n",
    "\n",
    "Primary Cleaner: The concentration continues to decrease, showing further purification.\n",
    "\n",
    "Final: The final stage shows the lowest concentration of lead, indicating effective purification.\n",
    "\n",
    "**Overall Observations**\n",
    "\n",
    "Effectiveness of Purification: Each stage of purification effectively reduces the concentration of metals (Au, Ag, Pb). The final stage consistently shows the lowest concentrations, indicating the highest level of purification.\n",
    "\n",
    "Distribution Patterns: The histograms show that the distribution of metal concentrations becomes narrower and shifts towards lower values as the material progresses through the purification stages. This indicates that the purification process is not only reducing the average concentration but also making the distribution more uniform."
   ]
  },
  {
   "cell_type": "code",
   "execution_count": 24,
   "metadata": {},
   "outputs": [],
   "source": [
    "def filter_outliers(series):\n",
    "    return series[series.between(series.quantile(0.01), series.quantile(0.99))]\n",
    "\n",
    "def compare_train_test_feature(feature):\n",
    "    filter_outliers(df_train[feature]).plot.kde()\n",
    "    filter_outliers(df_test[feature]).plot.kde()\n",
    "    plt.legend(['train', 'test'])"
   ]
  },
  {
   "cell_type": "code",
   "execution_count": 25,
   "metadata": {},
   "outputs": [
    {
     "data": {
      "image/png": "[encoded data removed]",
      "text/plain": [
       "<Figure size 640x480 with 1 Axes>"
      ]
     },
     "metadata": {},
     "output_type": "display_data"
    }
   ],
   "source": [
    "compare_train_test_feature('rougher.input.feed_size')"
   ]
  },
  {
   "cell_type": "markdown",
   "metadata": {},
   "source": [
    "Both lines peak sharply near zero on the x-axis, indicating that most values in both datasets are concentrated around zero. The ‘train’ line peaks slightly higher than the ‘test’ line, suggesting that the training data has a slightly higher density of values near zero compared to the test data. This similarity in distribution patterns between the training and test sets is important for ensuring that the model trained on the training data will perform well on the test data."
   ]
  },
  {
   "cell_type": "code",
   "execution_count": 26,
   "metadata": {},
   "outputs": [
    {
     "data": {
      "image/png": "[encoded data removed]",
      "text/plain": [
       "<Figure size 1800x600 with 3 Axes>"
      ]
     },
     "metadata": {},
     "output_type": "display_data"
    }
   ],
   "source": [
    "# Calculate total concentrations at each stage for train set\n",
    "df_train['total_concentration_raw_feed'] = df_train[['rougher.input.feed_au', 'rougher.input.feed_ag', 'rougher.input.feed_pb']].sum(axis=1)\n",
    "df_train['total_concentration_rougher'] = df_train[['rougher.output.concentrate_au', 'rougher.output.concentrate_ag', 'rougher.output.concentrate_pb']].sum(axis=1)\n",
    "df_train['total_concentration_final'] = df_train[['final.output.concentrate_au', 'final.output.concentrate_ag', 'final.output.concentrate_pb']].sum(axis=1)\n",
    "\n",
    "# Plot the total concentrations\n",
    "plt.figure(figsize=(18, 6))\n",
    "\n",
    "# Training set\n",
    "plt.subplot(2, 2, 1)\n",
    "plt.hist(df_train['total_concentration_raw_feed'], bins=50, alpha=0.7, label='Train - Raw Feed')\n",
    "plt.title('Total Concentration - Raw Feed (Train)')\n",
    "plt.xlabel('Total Concentration')\n",
    "plt.ylabel('Frequency')\n",
    "plt.legend()\n",
    "\n",
    "plt.subplot(2, 2, 2)\n",
    "plt.hist(df_train['total_concentration_rougher'], bins=50, alpha=0.7, label='Train - Rougher Concentrate', color='orange')\n",
    "plt.title('Total Concentration - Rougher Concentrate (Train)')\n",
    "plt.xlabel('Total Concentration')\n",
    "plt.ylabel('Frequency')\n",
    "plt.legend()\n",
    "\n",
    "plt.subplot(2, 2, 3)\n",
    "plt.hist(df_train['total_concentration_final'], bins=50, alpha=0.7, label='Train - Final Concentrate', color='green')\n",
    "plt.title('Total Concentration - Final Concentrate (Train)')\n",
    "plt.xlabel('Total Concentration')\n",
    "plt.ylabel('Frequency')\n",
    "plt.legend()\n",
    "\n",
    "plt.tight_layout()\n",
    "plt.show()"
   ]
  },
  {
   "cell_type": "code",
   "execution_count": 27,
   "metadata": {},
   "outputs": [
    {
     "data": {
      "image/png": "[encoded data removed]",
      "text/plain": [
       "<Figure size 1800x600 with 3 Axes>"
      ]
     },
     "metadata": {},
     "output_type": "display_data"
    }
   ],
   "source": [
    "# Calculate total concentrations at each stage for test set\n",
    "df_test['total_concentration_raw_feed'] = df_test[['rougher.input.feed_au', 'rougher.input.feed_ag', 'rougher.input.feed_pb']].sum(axis=1)\n",
    "df_test['total_concentration_rougher'] = df_test[['rougher.input.feed_au', 'rougher.input.feed_ag', 'rougher.input.feed_pb']].sum(axis=1)\n",
    "df_test['total_concentration_final'] = df_test[['rougher.input.feed_au', 'rougher.input.feed_ag', 'rougher.input.feed_pb']].sum(axis=1)\n",
    "\n",
    "# Plot the total concentrations\n",
    "plt.figure(figsize=(18, 6))\n",
    "\n",
    "# Test set\n",
    "plt.subplot(2, 2, 1)\n",
    "plt.hist(df_test['total_concentration_raw_feed'], bins=50, alpha=0.7, label='Test - Raw Feed')\n",
    "plt.title('Total Concentration - Raw Feed (Test)')\n",
    "plt.xlabel('Total Concentration')\n",
    "plt.ylabel('Frequency')\n",
    "plt.legend()\n",
    "\n",
    "plt.subplot(2, 2, 2)\n",
    "plt.hist(df_test['total_concentration_rougher'], bins=50, alpha=0.7, label='Test - Rougher Concentrate', color='orange')\n",
    "plt.title('Total Concentration - Rougher Concentrate (Test)')\n",
    "plt.xlabel('Total Concentration')\n",
    "plt.ylabel('Frequency')\n",
    "plt.legend()\n",
    "\n",
    "plt.subplot(2, 2, 3)\n",
    "plt.hist(df_test['total_concentration_final'], bins=50, alpha=0.7, label='Test - Final Concentrate', color='green')\n",
    "plt.title('Total Concentration - Final Concentrate (Test)')\n",
    "plt.xlabel('Total Concentration')\n",
    "plt.ylabel('Frequency')\n",
    "plt.legend()\n",
    "\n",
    "plt.tight_layout()\n",
    "plt.show()"
   ]
  },
  {
   "cell_type": "code",
   "execution_count": 28,
   "metadata": {},
   "outputs": [
    {
     "name": "stdout",
     "output_type": "stream",
     "text": [
      "Zero concentration values removed and cleaned datasets saved.\n"
     ]
    }
   ],
   "source": [
    "df_train['total_concentration_raw_feed'] = df_train[['rougher.input.feed_au', 'rougher.input.feed_ag', 'rougher.input.feed_pb']].sum(axis=1)\n",
    "df_train['total_concentration_rougher'] = df_train[['rougher.output.concentrate_au', 'rougher.output.concentrate_ag', 'rougher.output.concentrate_pb']].sum(axis=1)\n",
    "df_train['total_concentration_final'] = df_train[['final.output.concentrate_au', 'final.output.concentrate_ag', 'final.output.concentrate_pb']].sum(axis=1)\n",
    "\n",
    "# Calculate total concentrations at each stage for test set\n",
    "df_test['total_concentration_raw_feed'] = df_test[['rougher.input.feed_au', 'rougher.input.feed_ag', 'rougher.input.feed_pb']].sum(axis=1)\n",
    "df_test['total_concentration_rougher'] = df_test[['rougher.input.feed_au', 'rougher.input.feed_ag', 'rougher.input.feed_pb']].sum(axis=1)\n",
    "df_test['total_concentration_final'] = df_test[['rougher.input.feed_au', 'rougher.input.feed_ag', 'rougher.input.feed_pb']].sum(axis=1)\n",
    "\n",
    "# Remove rows with zero concentration values\n",
    "df_train = df_train[(df_train['total_concentration_raw_feed'] > 0) & \n",
    "                    (df_train['total_concentration_rougher'] > 0) & \n",
    "                    (df_train['total_concentration_final'] > 0)]\n",
    "\n",
    "df_test = df_test[(df_test['total_concentration_raw_feed'] > 0) & \n",
    "                  (df_test['total_concentration_rougher'] > 0) & \n",
    "                  (df_test['total_concentration_final'] > 0)]\n",
    "\n",
    "# Save the cleaned datasets\n",
    "df_train.to_csv('gold_recovery_train_cleaned.csv', index=False)\n",
    "df_test.to_csv('gold_recovery_test_cleaned.csv', index=False)\n",
    "\n",
    "print(\"Zero concentration values removed and cleaned datasets saved.\")"
   ]
  },
  {
   "cell_type": "code",
   "execution_count": 29,
   "metadata": {},
   "outputs": [
    {
     "data": {
      "image/png": "[encoded data removed]",
      "text/plain": [
       "<Figure size 1800x1200 with 3 Axes>"
      ]
     },
     "metadata": {},
     "output_type": "display_data"
    }
   ],
   "source": [
    "plt.figure(figsize=(18, 12))\n",
    "\n",
    "# Training set\n",
    "plt.subplot(2, 2, 1)\n",
    "plt.hist(df_train['total_concentration_raw_feed'], bins=50, alpha=0.7, label='Train - Raw Feed')\n",
    "plt.title('Total Concentration - Raw Feed (Train)')\n",
    "plt.xlabel('Total Concentration')\n",
    "plt.ylabel('Frequency')\n",
    "plt.legend()\n",
    "\n",
    "plt.subplot(2, 2, 2)\n",
    "plt.hist(df_train['total_concentration_rougher'], bins=50, alpha=0.7, label='Train - Rougher Concentrate', color='orange')\n",
    "plt.title('Total Concentration - Rougher Concentrate (Train)')\n",
    "plt.xlabel('Total Concentration')\n",
    "plt.ylabel('Frequency')\n",
    "plt.legend()\n",
    "\n",
    "plt.subplot(2, 2, 3)\n",
    "plt.hist(df_train['total_concentration_final'], bins=50, alpha=0.7, label='Train - Final Concentrate', color='green')\n",
    "plt.title('Total Concentration - Final Concentrate (Train)')\n",
    "plt.xlabel('Total Concentration')\n",
    "plt.ylabel('Frequency')\n",
    "plt.legend()\n",
    "\n",
    "plt.tight_layout()\n",
    "plt.show()"
   ]
  },
  {
   "cell_type": "code",
   "execution_count": 30,
   "metadata": {},
   "outputs": [
    {
     "data": {
      "image/png": "[encoded data removed]",
      "text/plain": [
       "<Figure size 1800x1200 with 3 Axes>"
      ]
     },
     "metadata": {},
     "output_type": "display_data"
    }
   ],
   "source": [
    "plt.figure(figsize=(18, 12))\n",
    "\n",
    "# Test set\n",
    "plt.subplot(2, 2, 1)\n",
    "plt.hist(df_test['total_concentration_raw_feed'], bins=50, alpha=0.7, label='Test - Raw Feed')\n",
    "plt.title('Total Concentration - Raw Feed (Test)')\n",
    "plt.xlabel('Total Concentration')\n",
    "plt.ylabel('Frequency')\n",
    "plt.legend()\n",
    "\n",
    "plt.subplot(2, 2, 2)\n",
    "plt.hist(df_test['total_concentration_rougher'], bins=50, alpha=0.7, label='Test - Rougher Concentrate', color='orange')\n",
    "plt.title('Total Concentration - Rougher Concentrate (Test)')\n",
    "plt.xlabel('Total Concentration')\n",
    "plt.ylabel('Frequency')\n",
    "plt.legend()\n",
    "\n",
    "plt.subplot(2, 2, 3)\n",
    "plt.hist(df_test['total_concentration_final'], bins=50, alpha=0.7, label='Test - Final Concentrate', color='green')\n",
    "plt.title('Total Concentration - Final Concentrate (Test)')\n",
    "plt.xlabel('Total Concentration')\n",
    "plt.ylabel('Frequency')\n",
    "plt.legend()\n",
    "\n",
    "plt.tight_layout()\n",
    "plt.show()"
   ]
  },
  {
   "cell_type": "markdown",
   "metadata": {},
   "source": [
    "<div class=\"alert alert-success\">\n",
    "<b>Reviewer's comment</b>\n",
    "\n",
    "Well done!\n",
    "\n",
    "</div>"
   ]
  },
  {
   "cell_type": "code",
   "execution_count": 31,
   "metadata": {},
   "outputs": [],
   "source": [
    "features_input_concentrate = [\n",
    "    'rougher.input.feed_au',\n",
    "    'rougher.input.feed_ag',\n",
    "    'rougher.input.feed_pb',\n",
    "    'rougher.input.feed_sol',\n",
    "]\n",
    "features_rough_concentrate = [\n",
    "    'rougher.output.concentrate_au',\n",
    "    'rougher.output.concentrate_ag',\n",
    "    'rougher.output.concentrate_pb',\n",
    "    'rougher.output.concentrate_sol',\n",
    "]\n",
    "features_final_concentrate = [\n",
    "    'final.output.concentrate_au',\n",
    "    'final.output.concentrate_ag',\n",
    "    'final.output.concentrate_pb',\n",
    "    'final.output.concentrate_sol',\n",
    "]\n"
   ]
  },
  {
   "cell_type": "code",
   "execution_count": 32,
   "metadata": {
    "scrolled": true
   },
   "outputs": [
    {
     "name": "stdout",
     "output_type": "stream",
     "text": [
      "(15128, 89)\n",
      "(5278, 55)\n"
     ]
    },
    {
     "name": "stderr",
     "output_type": "stream",
     "text": [
      "/tmp/ipykernel_302/1468957439.py:12: UserWarning: Boolean Series key will be reindexed to match DataFrame index.\n",
      "  df_test = df_test[df_full_test[features_final_concentrate].sum(1) > THRESHOLD]\n"
     ]
    }
   ],
   "source": [
    "THRESHOLD = 0.01\n",
    "\n",
    "df_train = df_train[df_train[features_input_concentrate].sum(1) > THRESHOLD]\n",
    "df_train = df_train[df_train[features_rough_concentrate].sum(1) > THRESHOLD]\n",
    "df_train = df_train[df_train[features_final_concentrate].sum(1) > THRESHOLD]\n",
    "\n",
    "print(df_train.shape)\n",
    "\n",
    "df_full_test = gold_df.loc[df_test.index]\n",
    "df_test = df_test[df_full_test[features_input_concentrate].sum(1) > THRESHOLD]\n",
    "df_test = df_test[df_full_test[features_rough_concentrate].sum(1) > THRESHOLD]\n",
    "df_test = df_test[df_full_test[features_final_concentrate].sum(1) > THRESHOLD]\n",
    "\n",
    "print(df_test.shape)"
   ]
  },
  {
   "cell_type": "markdown",
   "metadata": {},
   "source": [
    "# 3- Build the model"
   ]
  },
  {
   "cell_type": "code",
   "execution_count": 33,
   "metadata": {},
   "outputs": [],
   "source": [
    "features = df_test.columns.values\n",
    "targets = ['rougher.output.recovery', 'final.output.recovery']\n",
    "features_train = df_train[features].reset_index(drop=True)\n",
    "target_train = df_train[targets].reset_index(drop=True)\n",
    "target_train.columns = [0, 1]\n",
    "features_test = df_test[features].reset_index(drop=True)\n",
    "target_test = gold_df[targets].loc[df_test.index].reset_index(drop=True)\n",
    "target_test.columns = [0, 1]"
   ]
  },
  {
   "cell_type": "code",
   "execution_count": 34,
   "metadata": {},
   "outputs": [],
   "source": [
    "def smape(y_true, y_pred):\n",
    "    error = (y_true - y_pred).abs()\n",
    "    scale = (y_true.abs() + y_pred.abs()) / 2\n",
    "    \n",
    "    return (error / scale).mean()\n",
    "\n",
    "\n",
    "def smape_weighted(y_true, y_pred):\n",
    "    rougher = smape(y_true[0], y_pred[0])\n",
    "    final = smape(y_true[1], y_pred[1])\n",
    "    return 0.25 * rougher + 0.75 * final"
   ]
  },
  {
   "cell_type": "code",
   "execution_count": 35,
   "metadata": {},
   "outputs": [
    {
     "name": "stdout",
     "output_type": "stream",
     "text": [
      "0.10817641108010018\n",
      "0.07417351094625176\n"
     ]
    }
   ],
   "source": [
    "pred_median = target_train.copy()\n",
    "pred_median[0] = target_train[0].median()\n",
    "pred_median[1] = target_train[1].median()\n",
    "print(smape_weighted(target_train, pred_median))\n",
    "\n",
    "pred_median = target_test.copy()\n",
    "pred_median[0] = target_train[0].median()\n",
    "pred_median[1] = target_train[1].median()\n",
    "print(smape_weighted(target_test, pred_median))"
   ]
  },
  {
   "cell_type": "code",
   "execution_count": 36,
   "metadata": {},
   "outputs": [],
   "source": [
    "def score_model(model, cv=4):\n",
    "    scores = []\n",
    "    for subtrain_index, valid_index in KFold(n_splits=cv).split(features_train):\n",
    "        features_subtrain = features_train.loc[subtrain_index].reset_index(drop=True)\n",
    "        target_subtrain = target_train.loc[subtrain_index].reset_index(drop=True)\n",
    "        features_valid = features_train.loc[valid_index].reset_index(drop=True)\n",
    "        target_valid = target_train.loc[valid_index].reset_index(drop=True)\n",
    "        \n",
    "        model.fit(features_subtrain, target_subtrain)\n",
    "        pred_valid = pd.DataFrame(model.predict(features_valid))\n",
    "        \n",
    "        scores.append(smape_weighted(target_valid, pred_valid))\n",
    "        \n",
    "    return pd.Series(scores).mean()"
   ]
  },
  {
   "cell_type": "code",
   "execution_count": 37,
   "metadata": {},
   "outputs": [
    {
     "name": "stdout",
     "output_type": "stream",
     "text": [
      "Linear Regression: 0.12073018556452603\n"
     ]
    }
   ],
   "source": [
    "# Linear Regression Model\n",
    "model = LinearRegression()\n",
    "lr_score = score_model(model)\n",
    "print(\"Linear Regression:\", lr_score)"
   ]
  },
  {
   "cell_type": "markdown",
   "metadata": {},
   "source": [
    "SMAPE value of 0.12073018556452603 suggests that, on average, the model’s predictions deviate from the actual values by approximately 12.07%."
   ]
  },
  {
   "cell_type": "code",
   "execution_count": 38,
   "metadata": {},
   "outputs": [
    {
     "name": "stdout",
     "output_type": "stream",
     "text": [
      "Decision Tree, depth = 1 score = 0.11371936376189459\n",
      "Decision Tree, depth = 2 score = 0.11729231744388062\n",
      "Decision Tree, depth = 3 score = 0.12058415722334467\n",
      "Decision Tree, depth = 4 score = 0.10774906480028026\n"
     ]
    }
   ],
   "source": [
    "# Decision Tree Model\n",
    "for depth in range(1, 5):\n",
    "    model = DecisionTreeRegressor(max_depth=depth, random_state=12345)\n",
    "    score = score_model(model)\n",
    "    print(\"Decision Tree, depth =\", depth, \"score =\", score)\n"
   ]
  },
  {
   "cell_type": "markdown",
   "metadata": {},
   "source": [
    " a SMAPE value of 0.10774906480028026 for a Decision Tree with a depth of 4 suggests that, on average, the model’s predictions deviate from the actual values by approximately 10.77%."
   ]
  },
  {
   "cell_type": "code",
   "execution_count": 39,
   "metadata": {},
   "outputs": [
    {
     "name": "stdout",
     "output_type": "stream",
     "text": [
      "Random Forest, depth = 1 score = 0.1136930214947666\n",
      "Random Forest, depth = 2 score = 0.11433454614147175\n",
      "Random Forest, depth = 3 score = 0.11182566732812804\n",
      "Random Forest, depth = 4 score = 0.1053290074444777\n"
     ]
    }
   ],
   "source": [
    "# Random Forest Model\n",
    "for depth in range(1, 5):\n",
    "    model = RandomForestRegressor(max_depth=depth, n_estimators=50, random_state=12345)\n",
    "    score = score_model(model)\n",
    "    print(\"Random Forest, depth =\", depth, \"score =\", score)"
   ]
  },
  {
   "cell_type": "markdown",
   "metadata": {},
   "source": [
    "SMAPE value of 0.1053290074444777 for a Random Forest with a depth of 4 suggests that, on average, the model’s predictions deviate from the actual values by approximately 10.53%."
   ]
  },
  {
   "cell_type": "code",
   "execution_count": 40,
   "metadata": {},
   "outputs": [
    {
     "name": "stdout",
     "output_type": "stream",
     "text": [
      "Test SMAPE: 0    0.057698\n",
      "1    0.078191\n",
      "dtype: float64\n",
      "Final SMAPE: 0.07306763664185688\n"
     ]
    }
   ],
   "source": [
    "features_train = features_train.replace([np.inf, -np.inf], np.nan).fillna(features_train.mean())\n",
    "features_test = features_test.replace([np.inf, -np.inf], np.nan).fillna(features_test.mean())\n",
    "target_train = target_train.replace([np.inf, -np.inf], np.nan).fillna(target_train.mean())\n",
    "target_test = target_test.replace([np.inf, -np.inf], np.nan).fillna(target_test.mean())\n",
    "\n",
    "# Initialize the Random Forest Regressor\n",
    "model = RandomForestRegressor(max_depth=4, n_estimators=50, random_state=12345)\n",
    "\n",
    "# Fit the model on the training data\n",
    "model.fit(features_train, target_train)\n",
    "\n",
    "# Predict on the test set\n",
    "pred_test = model.predict(features_test)\n",
    "\n",
    "# Calculate the SMAPE for the test set\n",
    "test_smape = smape(target_test, pd.DataFrame(pred_test))\n",
    "print(f'Test SMAPE: {test_smape}')\n",
    "\n",
    "# Predict on the final sample\n",
    "pred_final = model.predict(features_test)\n",
    "\n",
    "# Calculate the SMAPE for the final sample\n",
    "final_smape = smape_weighted(target_test, pd.DataFrame(pred_final))\n",
    "print(f'Final SMAPE: {final_smape}')"
   ]
  },
  {
   "cell_type": "markdown",
   "metadata": {},
   "source": [
    "**Test SMAPE:**\n",
    "\n",
    "0.057698: This value represents the SMAPE for the first target variable (likely rougher.output.recovery).\n",
    "\n",
    "0.078191: This value represents the SMAPE for the second target variable (likely final.output.recovery).\n",
    "\n",
    "These values indicate that, on average, the model’s predictions deviate from the actual values by approximately 5.77% and 7.82% for the first and second target variables, respectively.\n",
    "\n",
    "**Final SMAPE:**\n",
    "\n",
    "0.07306763664185688: This value represents the weighted average SMAPE for the final sample, combining both target variables. It \n",
    "suggests that, on average, the model’s predictions deviate from the actual values by approximately 7.31%.\n",
    "\n",
    "Overall, these SMAPE values indicate that the Random Forest model is performing quite well, with relatively low prediction errors for both the test set and the final sample."
   ]
  },
  {
   "cell_type": "markdown",
   "metadata": {},
   "source": [
    "# Conclusion\n",
    "\n",
    "In this project, we developed a machine learning model to predict gold recovery from gold ore, aiming to optimize production processes and eliminate unprofitable parameters. The steps involved included data preparation, data analysis, and model development and training.\n",
    "\n",
    "**Key Findings:**\n",
    "\n",
    "**Gold (Au) Concentration:**\n",
    "\n",
    "Initial concentration is high with a broad distribution.\n",
    "\n",
    "Concentration decreases through the rougher and primary cleaner stages, indicating purification.\n",
    "\n",
    "Final stage shows the highest level of purification with the lowest concentration.\n",
    "\n",
    "**Silver (Ag) Concentration:**\n",
    "\n",
    "Initial concentration is high with a wide distribution.\n",
    "\n",
    "Significant decrease after the rougher stage.\n",
    "\n",
    "Continues to drop through the primary cleaner stage, with the final stage showing successful purification.\n",
    "\n",
    "**Lead (Pb) Concentration:**\n",
    "\n",
    "Initial concentration is high with a broad distribution.\n",
    "\n",
    "Decreases consistently through each purification stage, with the final stage showing effective purification.\n",
    "Overall Observations:\n",
    "\n",
    "Each purification stage effectively reduces the concentration of metals (Au, Ag, Pb), with the final stage consistently showing the lowest concentrations.\n",
    "The distribution of metal concentrations becomes narrower and shifts towards lower values as the material progresses through the purification stages, indicating a more uniform purification process.\n",
    "\n",
    "**Model Performance:**\n",
    "\n",
    "The Random Forest model outperformed other models, showing relatively low prediction errors.\n",
    "\n",
    "**Test SMAPE:**\n",
    "\n",
    "0.057698 for the first target variable (likely rougher.output.recovery).\n",
    "\n",
    "0.078191 for the second target variable (likely final.output.recovery).\n",
    "\n",
    "**Final SMAPE:**\n",
    "\n",
    "0.07306763664185688, representing the weighted average SMAPE for the final sample.\n",
    "\n",
    "These results indicate that the Random Forest model is performing well, with average deviations of approximately 5.77% and 7.82% for the test set, and 7.31% for the final sample. This demonstrates the model’s effectiveness in predicting gold recovery, providing valuable insights for optimizing production processes and improving operational efficiency."
   ]
  }
 ],
 "metadata": {
  "ExecuteTimeLog": [
   {
    "duration": 5209,
    "start_time": "2024-07-21T20:21:25.227Z"
   },
   {
    "duration": 967,
    "start_time": "2024-07-21T20:23:27.169Z"
   },
   {
    "duration": 835,
    "start_time": "2024-07-21T20:23:34.645Z"
   },
   {
    "duration": 24,
    "start_time": "2024-07-21T20:24:05.838Z"
   },
   {
    "duration": 23,
    "start_time": "2024-07-21T20:24:26.923Z"
   },
   {
    "duration": 32,
    "start_time": "2024-07-21T20:25:04.667Z"
   },
   {
    "duration": 28,
    "start_time": "2024-07-21T20:25:18.777Z"
   },
   {
    "duration": 34,
    "start_time": "2024-07-21T20:25:32.227Z"
   },
   {
    "duration": 18,
    "start_time": "2024-07-21T20:30:23.335Z"
   },
   {
    "duration": 18,
    "start_time": "2024-07-21T20:30:29.003Z"
   },
   {
    "duration": 20,
    "start_time": "2024-07-21T20:30:35.013Z"
   },
   {
    "duration": 109,
    "start_time": "2024-07-21T20:39:25.832Z"
   },
   {
    "duration": 31,
    "start_time": "2024-07-21T20:39:51.213Z"
   },
   {
    "duration": 138,
    "start_time": "2024-07-21T20:40:06.613Z"
   },
   {
    "duration": 343,
    "start_time": "2024-07-22T22:13:33.186Z"
   },
   {
    "duration": 5626,
    "start_time": "2024-07-22T22:13:39.860Z"
   },
   {
    "duration": 1062,
    "start_time": "2024-07-22T22:13:45.490Z"
   },
   {
    "duration": 26,
    "start_time": "2024-07-22T22:13:46.556Z"
   },
   {
    "duration": 44,
    "start_time": "2024-07-22T22:13:46.586Z"
   },
   {
    "duration": 37,
    "start_time": "2024-07-22T22:13:46.638Z"
   },
   {
    "duration": 146,
    "start_time": "2024-07-22T22:13:46.679Z"
   },
   {
    "duration": 39,
    "start_time": "2024-07-22T22:13:46.831Z"
   },
   {
    "duration": 188,
    "start_time": "2024-07-22T22:13:46.873Z"
   },
   {
    "duration": 38,
    "start_time": "2024-07-22T22:13:50.927Z"
   },
   {
    "duration": 175,
    "start_time": "2024-07-22T22:13:55.386Z"
   },
   {
    "duration": 23,
    "start_time": "2024-07-22T22:16:17.183Z"
   },
   {
    "duration": 13,
    "start_time": "2024-07-22T22:17:11.746Z"
   },
   {
    "duration": 24,
    "start_time": "2024-07-22T22:19:35.442Z"
   },
   {
    "duration": 36,
    "start_time": "2024-07-22T22:21:45.452Z"
   },
   {
    "duration": 50,
    "start_time": "2024-07-22T22:24:08.476Z"
   },
   {
    "duration": 19,
    "start_time": "2024-07-22T22:24:24.312Z"
   },
   {
    "duration": 22,
    "start_time": "2024-07-22T22:25:52.942Z"
   },
   {
    "duration": 408,
    "start_time": "2024-07-22T22:27:24.311Z"
   },
   {
    "duration": 9,
    "start_time": "2024-07-22T22:28:20.021Z"
   },
   {
    "duration": 10,
    "start_time": "2024-07-22T22:29:20.331Z"
   },
   {
    "duration": 7,
    "start_time": "2024-07-22T22:29:56.657Z"
   },
   {
    "duration": 32,
    "start_time": "2024-07-22T22:31:20.953Z"
   },
   {
    "duration": 22,
    "start_time": "2024-07-22T22:31:48.881Z"
   },
   {
    "duration": 37,
    "start_time": "2024-07-22T22:32:15.932Z"
   },
   {
    "duration": 6,
    "start_time": "2024-07-22T22:41:55.431Z"
   },
   {
    "duration": 38,
    "start_time": "2024-07-22T22:42:11.285Z"
   },
   {
    "duration": 19,
    "start_time": "2024-07-22T22:42:21.882Z"
   },
   {
    "duration": 6,
    "start_time": "2024-07-22T22:42:46.103Z"
   },
   {
    "duration": 5,
    "start_time": "2024-07-22T22:43:28.387Z"
   },
   {
    "duration": 4,
    "start_time": "2024-07-22T22:44:16.906Z"
   },
   {
    "duration": 22,
    "start_time": "2024-07-22T22:46:28.942Z"
   },
   {
    "duration": 6,
    "start_time": "2024-07-22T22:46:53.827Z"
   },
   {
    "duration": 19,
    "start_time": "2024-07-22T22:46:55.796Z"
   },
   {
    "duration": 6,
    "start_time": "2024-07-22T22:46:58.947Z"
   },
   {
    "duration": 26,
    "start_time": "2024-07-22T22:50:13.717Z"
   },
   {
    "duration": 6,
    "start_time": "2024-07-22T22:50:29.031Z"
   },
   {
    "duration": 6,
    "start_time": "2024-07-22T22:50:33.362Z"
   },
   {
    "duration": 27,
    "start_time": "2024-07-22T23:01:59.841Z"
   },
   {
    "duration": 7,
    "start_time": "2024-07-22T23:02:06.816Z"
   },
   {
    "duration": 26,
    "start_time": "2024-07-22T23:02:07.921Z"
   },
   {
    "duration": 7,
    "start_time": "2024-07-22T23:02:25.548Z"
   },
   {
    "duration": 1541,
    "start_time": "2024-07-22T23:02:43.386Z"
   },
   {
    "duration": 784,
    "start_time": "2024-07-22T23:02:44.931Z"
   },
   {
    "duration": 25,
    "start_time": "2024-07-22T23:02:45.722Z"
   },
   {
    "duration": 18,
    "start_time": "2024-07-22T23:02:45.751Z"
   },
   {
    "duration": 52,
    "start_time": "2024-07-22T23:02:45.772Z"
   },
   {
    "duration": 121,
    "start_time": "2024-07-22T23:02:45.827Z"
   },
   {
    "duration": 34,
    "start_time": "2024-07-22T23:02:45.950Z"
   },
   {
    "duration": 172,
    "start_time": "2024-07-22T23:02:45.987Z"
   },
   {
    "duration": 25,
    "start_time": "2024-07-22T23:02:46.161Z"
   },
   {
    "duration": 6,
    "start_time": "2024-07-22T23:02:46.191Z"
   },
   {
    "duration": 7,
    "start_time": "2024-07-22T23:02:46.225Z"
   },
   {
    "duration": 8,
    "start_time": "2024-07-22T23:02:46.236Z"
   },
   {
    "duration": 33,
    "start_time": "2024-07-22T23:02:46.246Z"
   },
   {
    "duration": 58,
    "start_time": "2024-07-22T23:02:46.283Z"
   },
   {
    "duration": 36,
    "start_time": "2024-07-22T23:02:46.344Z"
   },
   {
    "duration": 7,
    "start_time": "2024-07-22T23:02:46.384Z"
   },
   {
    "duration": 425,
    "start_time": "2024-07-22T23:02:46.423Z"
   },
   {
    "duration": 0,
    "start_time": "2024-07-22T23:02:46.851Z"
   },
   {
    "duration": 0,
    "start_time": "2024-07-22T23:02:46.853Z"
   },
   {
    "duration": 18,
    "start_time": "2024-07-22T23:02:58.701Z"
   },
   {
    "duration": 6,
    "start_time": "2024-07-22T23:03:01.676Z"
   },
   {
    "duration": 6,
    "start_time": "2024-07-22T23:03:04.234Z"
   },
   {
    "duration": 416,
    "start_time": "2024-07-22T23:06:47.456Z"
   },
   {
    "duration": 1449,
    "start_time": "2024-07-22T23:16:05.800Z"
   },
   {
    "duration": 79,
    "start_time": "2024-07-22T23:16:36.423Z"
   },
   {
    "duration": 79,
    "start_time": "2024-07-22T23:46:58.682Z"
   },
   {
    "duration": 179,
    "start_time": "2024-07-22T23:48:00.138Z"
   },
   {
    "duration": 46,
    "start_time": "2024-07-22T23:48:18.303Z"
   },
   {
    "duration": 6,
    "start_time": "2024-07-22T23:48:35.228Z"
   },
   {
    "duration": 107,
    "start_time": "2024-07-22T23:48:41.166Z"
   },
   {
    "duration": 29,
    "start_time": "2024-07-22T23:51:39.951Z"
   },
   {
    "duration": 101,
    "start_time": "2024-07-22T23:52:02.591Z"
   },
   {
    "duration": 73,
    "start_time": "2024-07-22T23:52:34.211Z"
   },
   {
    "duration": 86,
    "start_time": "2024-07-22T23:53:31.746Z"
   },
   {
    "duration": 82,
    "start_time": "2024-07-22T23:54:00.544Z"
   },
   {
    "duration": 87,
    "start_time": "2024-07-22T23:54:29.896Z"
   },
   {
    "duration": 82,
    "start_time": "2024-07-22T23:54:38.502Z"
   },
   {
    "duration": 73,
    "start_time": "2024-07-22T23:55:00.824Z"
   },
   {
    "duration": 72,
    "start_time": "2024-07-22T23:55:11.927Z"
   },
   {
    "duration": 114,
    "start_time": "2024-07-22T23:55:30.692Z"
   },
   {
    "duration": 32,
    "start_time": "2024-07-23T00:02:50.978Z"
   },
   {
    "duration": 22,
    "start_time": "2024-07-23T00:03:08.216Z"
   },
   {
    "duration": 74,
    "start_time": "2024-07-23T00:03:22.801Z"
   },
   {
    "duration": 1570,
    "start_time": "2024-07-23T00:03:36.387Z"
   },
   {
    "duration": 805,
    "start_time": "2024-07-23T00:03:37.960Z"
   },
   {
    "duration": 25,
    "start_time": "2024-07-23T00:03:38.768Z"
   },
   {
    "duration": 39,
    "start_time": "2024-07-23T00:03:38.799Z"
   },
   {
    "duration": 33,
    "start_time": "2024-07-23T00:03:38.841Z"
   },
   {
    "duration": 138,
    "start_time": "2024-07-23T00:03:38.877Z"
   },
   {
    "duration": 32,
    "start_time": "2024-07-23T00:03:39.024Z"
   },
   {
    "duration": 164,
    "start_time": "2024-07-23T00:03:39.059Z"
   },
   {
    "duration": 24,
    "start_time": "2024-07-23T00:03:39.226Z"
   },
   {
    "duration": 7,
    "start_time": "2024-07-23T00:03:39.255Z"
   },
   {
    "duration": 9,
    "start_time": "2024-07-23T00:03:39.266Z"
   },
   {
    "duration": 44,
    "start_time": "2024-07-23T00:03:39.278Z"
   },
   {
    "duration": 33,
    "start_time": "2024-07-23T00:03:39.326Z"
   },
   {
    "duration": 24,
    "start_time": "2024-07-23T00:03:39.362Z"
   },
   {
    "duration": 67,
    "start_time": "2024-07-23T00:03:39.389Z"
   },
   {
    "duration": 8,
    "start_time": "2024-07-23T00:03:39.459Z"
   },
   {
    "duration": 16,
    "start_time": "2024-07-23T00:03:39.470Z"
   },
   {
    "duration": 37,
    "start_time": "2024-07-23T00:03:39.489Z"
   },
   {
    "duration": 7,
    "start_time": "2024-07-23T00:03:39.529Z"
   },
   {
    "duration": 495,
    "start_time": "2024-07-23T00:03:39.539Z"
   },
   {
    "duration": 1305,
    "start_time": "2024-07-23T00:03:40.038Z"
   },
   {
    "duration": 38,
    "start_time": "2024-07-23T00:04:01.187Z"
   },
   {
    "duration": 338,
    "start_time": "2024-07-25T11:59:30.765Z"
   },
   {
    "duration": 5341,
    "start_time": "2024-07-25T11:59:39.725Z"
   },
   {
    "duration": 956,
    "start_time": "2024-07-25T11:59:45.070Z"
   },
   {
    "duration": 26,
    "start_time": "2024-07-25T11:59:46.030Z"
   },
   {
    "duration": 41,
    "start_time": "2024-07-25T11:59:46.062Z"
   },
   {
    "duration": 24,
    "start_time": "2024-07-25T11:59:46.106Z"
   },
   {
    "duration": 129,
    "start_time": "2024-07-25T11:59:46.133Z"
   },
   {
    "duration": 46,
    "start_time": "2024-07-25T11:59:46.265Z"
   },
   {
    "duration": 155,
    "start_time": "2024-07-25T11:59:46.314Z"
   },
   {
    "duration": 32,
    "start_time": "2024-07-25T11:59:46.472Z"
   },
   {
    "duration": 7,
    "start_time": "2024-07-25T11:59:46.508Z"
   },
   {
    "duration": 7,
    "start_time": "2024-07-25T11:59:46.519Z"
   },
   {
    "duration": 8,
    "start_time": "2024-07-25T11:59:46.529Z"
   },
   {
    "duration": 76,
    "start_time": "2024-07-25T11:59:46.540Z"
   },
   {
    "duration": 23,
    "start_time": "2024-07-25T11:59:46.620Z"
   },
   {
    "duration": 68,
    "start_time": "2024-07-25T11:59:46.645Z"
   },
   {
    "duration": 8,
    "start_time": "2024-07-25T11:59:46.716Z"
   },
   {
    "duration": 17,
    "start_time": "2024-07-25T11:59:46.728Z"
   },
   {
    "duration": 42,
    "start_time": "2024-07-25T11:59:46.749Z"
   },
   {
    "duration": 7,
    "start_time": "2024-07-25T11:59:46.793Z"
   },
   {
    "duration": 455,
    "start_time": "2024-07-25T11:59:46.803Z"
   },
   {
    "duration": 1146,
    "start_time": "2024-07-25T11:59:47.260Z"
   },
   {
    "duration": 678,
    "start_time": "2024-07-25T12:00:09.782Z"
   },
   {
    "duration": 1622,
    "start_time": "2024-07-25T12:00:33.715Z"
   },
   {
    "duration": 794,
    "start_time": "2024-07-25T12:00:35.342Z"
   },
   {
    "duration": 23,
    "start_time": "2024-07-25T12:00:36.139Z"
   },
   {
    "duration": 38,
    "start_time": "2024-07-25T12:00:36.166Z"
   },
   {
    "duration": 24,
    "start_time": "2024-07-25T12:00:36.208Z"
   },
   {
    "duration": 131,
    "start_time": "2024-07-25T12:00:36.234Z"
   },
   {
    "duration": 46,
    "start_time": "2024-07-25T12:00:36.368Z"
   },
   {
    "duration": 160,
    "start_time": "2024-07-25T12:00:36.418Z"
   },
   {
    "duration": 28,
    "start_time": "2024-07-25T12:00:36.581Z"
   },
   {
    "duration": 8,
    "start_time": "2024-07-25T12:00:36.612Z"
   },
   {
    "duration": 8,
    "start_time": "2024-07-25T12:00:36.624Z"
   },
   {
    "duration": 7,
    "start_time": "2024-07-25T12:00:36.635Z"
   },
   {
    "duration": 80,
    "start_time": "2024-07-25T12:00:36.645Z"
   },
   {
    "duration": 22,
    "start_time": "2024-07-25T12:00:36.731Z"
   },
   {
    "duration": 70,
    "start_time": "2024-07-25T12:00:36.756Z"
   },
   {
    "duration": 7,
    "start_time": "2024-07-25T12:00:36.829Z"
   },
   {
    "duration": 16,
    "start_time": "2024-07-25T12:00:36.839Z"
   },
   {
    "duration": 34,
    "start_time": "2024-07-25T12:00:36.858Z"
   },
   {
    "duration": 7,
    "start_time": "2024-07-25T12:00:36.895Z"
   },
   {
    "duration": 444,
    "start_time": "2024-07-25T12:00:36.905Z"
   },
   {
    "duration": 1052,
    "start_time": "2024-07-25T12:00:37.352Z"
   },
   {
    "duration": 475,
    "start_time": "2024-07-25T12:03:14.235Z"
   },
   {
    "duration": 276,
    "start_time": "2024-07-25T12:05:12.055Z"
   },
   {
    "duration": 756,
    "start_time": "2024-07-25T12:08:16.268Z"
   },
   {
    "duration": 857,
    "start_time": "2024-07-25T12:09:14.815Z"
   },
   {
    "duration": 1078,
    "start_time": "2024-07-25T12:17:20.773Z"
   },
   {
    "duration": 111,
    "start_time": "2024-07-25T12:22:48.423Z"
   },
   {
    "duration": 24,
    "start_time": "2024-07-25T12:23:57.636Z"
   },
   {
    "duration": 95,
    "start_time": "2024-07-25T12:25:15.247Z"
   },
   {
    "duration": 7,
    "start_time": "2024-07-25T12:26:41.408Z"
   },
   {
    "duration": 6,
    "start_time": "2024-07-25T12:27:24.415Z"
   },
   {
    "duration": 1525,
    "start_time": "2024-07-25T12:30:41.780Z"
   },
   {
    "duration": 271,
    "start_time": "2024-07-25T12:30:50.172Z"
   },
   {
    "duration": 1416,
    "start_time": "2024-07-25T12:31:16.297Z"
   },
   {
    "duration": 1411,
    "start_time": "2024-07-25T12:33:18.354Z"
   },
   {
    "duration": 90,
    "start_time": "2024-07-25T12:35:35.326Z"
   },
   {
    "duration": 1645,
    "start_time": "2024-07-25T12:38:33.845Z"
   },
   {
    "duration": 1237,
    "start_time": "2024-07-25T12:38:57.112Z"
   },
   {
    "duration": 983,
    "start_time": "2024-07-25T12:40:31.039Z"
   },
   {
    "duration": 1181,
    "start_time": "2024-07-25T12:40:34.397Z"
   },
   {
    "duration": 785,
    "start_time": "2024-07-25T12:41:46.039Z"
   },
   {
    "duration": 1174,
    "start_time": "2024-07-25T12:42:32.163Z"
   },
   {
    "duration": 2306,
    "start_time": "2024-07-25T12:48:13.648Z"
   },
   {
    "duration": 188,
    "start_time": "2024-07-25T12:53:10.555Z"
   },
   {
    "duration": 1374,
    "start_time": "2024-07-25T12:53:43.238Z"
   },
   {
    "duration": 9,
    "start_time": "2024-07-25T12:54:08.304Z"
   },
   {
    "duration": 187,
    "start_time": "2024-07-25T12:54:29.806Z"
   },
   {
    "duration": 1307,
    "start_time": "2024-07-25T12:54:43.074Z"
   },
   {
    "duration": 1256,
    "start_time": "2024-07-25T12:55:11.122Z"
   },
   {
    "duration": 1432,
    "start_time": "2024-07-25T12:55:28.829Z"
   },
   {
    "duration": 712,
    "start_time": "2024-07-25T12:57:51.353Z"
   },
   {
    "duration": 86,
    "start_time": "2024-07-25T12:58:13.790Z"
   },
   {
    "duration": 8,
    "start_time": "2024-07-25T13:23:19.008Z"
   },
   {
    "duration": 88,
    "start_time": "2024-07-25T13:24:14.410Z"
   },
   {
    "duration": 135,
    "start_time": "2024-07-25T13:25:44.394Z"
   },
   {
    "duration": 94,
    "start_time": "2024-07-25T13:25:53.038Z"
   },
   {
    "duration": 87,
    "start_time": "2024-07-25T13:26:49.692Z"
   },
   {
    "duration": 7,
    "start_time": "2024-07-25T13:27:02.683Z"
   },
   {
    "duration": 5,
    "start_time": "2024-07-25T13:29:13.558Z"
   },
   {
    "duration": 86,
    "start_time": "2024-07-25T13:29:15.487Z"
   },
   {
    "duration": 5,
    "start_time": "2024-07-25T13:33:45.244Z"
   },
   {
    "duration": 133,
    "start_time": "2024-07-25T13:33:57.784Z"
   },
   {
    "duration": 8,
    "start_time": "2024-07-25T13:35:29.619Z"
   },
   {
    "duration": 321,
    "start_time": "2024-07-25T14:43:43.485Z"
   },
   {
    "duration": 5286,
    "start_time": "2024-07-25T14:43:50.869Z"
   },
   {
    "duration": 1016,
    "start_time": "2024-07-25T14:43:56.158Z"
   },
   {
    "duration": 38,
    "start_time": "2024-07-25T14:43:57.177Z"
   },
   {
    "duration": 19,
    "start_time": "2024-07-25T14:43:57.220Z"
   },
   {
    "duration": 25,
    "start_time": "2024-07-25T14:43:57.242Z"
   },
   {
    "duration": 123,
    "start_time": "2024-07-25T14:43:57.301Z"
   },
   {
    "duration": 33,
    "start_time": "2024-07-25T14:43:57.428Z"
   },
   {
    "duration": 175,
    "start_time": "2024-07-25T14:43:57.464Z"
   },
   {
    "duration": 27,
    "start_time": "2024-07-25T14:43:57.643Z"
   },
   {
    "duration": 29,
    "start_time": "2024-07-25T14:43:57.676Z"
   },
   {
    "duration": 7,
    "start_time": "2024-07-25T14:43:57.709Z"
   },
   {
    "duration": 8,
    "start_time": "2024-07-25T14:43:57.719Z"
   },
   {
    "duration": 76,
    "start_time": "2024-07-25T14:43:57.730Z"
   },
   {
    "duration": 24,
    "start_time": "2024-07-25T14:43:57.809Z"
   },
   {
    "duration": 69,
    "start_time": "2024-07-25T14:43:57.835Z"
   },
   {
    "duration": 10,
    "start_time": "2024-07-25T14:43:57.908Z"
   },
   {
    "duration": 17,
    "start_time": "2024-07-25T14:43:57.921Z"
   },
   {
    "duration": 7,
    "start_time": "2024-07-25T14:43:57.941Z"
   },
   {
    "duration": 6,
    "start_time": "2024-07-25T14:43:57.952Z"
   },
   {
    "duration": 484,
    "start_time": "2024-07-25T14:43:58.003Z"
   },
   {
    "duration": 316,
    "start_time": "2024-07-25T14:43:58.491Z"
   },
   {
    "duration": 867,
    "start_time": "2024-07-25T14:43:58.810Z"
   },
   {
    "duration": 1190,
    "start_time": "2024-07-25T14:43:59.680Z"
   },
   {
    "duration": 1151,
    "start_time": "2024-07-25T14:44:00.873Z"
   },
   {
    "duration": 2507,
    "start_time": "2024-07-25T14:44:02.029Z"
   },
   {
    "duration": 1310,
    "start_time": "2024-07-25T14:44:04.539Z"
   },
   {
    "duration": 1457,
    "start_time": "2024-07-25T14:44:05.852Z"
   },
   {
    "duration": 7,
    "start_time": "2024-07-25T14:44:07.316Z"
   },
   {
    "duration": 1356,
    "start_time": "2024-07-25T14:44:07.327Z"
   },
   {
    "duration": 856,
    "start_time": "2024-07-25T14:44:26.921Z"
   },
   {
    "duration": 16,
    "start_time": "2024-07-25T14:44:39.673Z"
   },
   {
    "duration": 18,
    "start_time": "2024-07-25T14:46:34.956Z"
   },
   {
    "duration": 7,
    "start_time": "2024-07-25T14:59:09.187Z"
   },
   {
    "duration": 45,
    "start_time": "2024-07-25T14:59:26.311Z"
   },
   {
    "duration": 6,
    "start_time": "2024-07-25T14:59:33.715Z"
   },
   {
    "duration": 5,
    "start_time": "2024-07-25T14:59:38.622Z"
   },
   {
    "duration": 32,
    "start_time": "2024-07-25T15:00:02.395Z"
   },
   {
    "duration": 1525,
    "start_time": "2024-07-25T15:00:12.808Z"
   },
   {
    "duration": 1714,
    "start_time": "2024-07-25T15:00:26.596Z"
   },
   {
    "duration": 1582,
    "start_time": "2024-07-25T15:00:50.430Z"
   },
   {
    "duration": 25,
    "start_time": "2024-07-25T15:02:24.008Z"
   },
   {
    "duration": 3072,
    "start_time": "2024-07-25T15:02:41.707Z"
   },
   {
    "duration": 3071,
    "start_time": "2024-07-25T15:04:02.257Z"
   },
   {
    "duration": 16,
    "start_time": "2024-07-25T15:05:28.557Z"
   },
   {
    "duration": 0,
    "start_time": "2024-07-25T15:07:34.702Z"
   },
   {
    "duration": 1700,
    "start_time": "2024-07-25T15:07:42.923Z"
   },
   {
    "duration": 822,
    "start_time": "2024-07-25T15:07:44.627Z"
   },
   {
    "duration": 24,
    "start_time": "2024-07-25T15:07:45.453Z"
   },
   {
    "duration": 36,
    "start_time": "2024-07-25T15:07:45.480Z"
   },
   {
    "duration": 24,
    "start_time": "2024-07-25T15:07:45.523Z"
   },
   {
    "duration": 141,
    "start_time": "2024-07-25T15:07:45.550Z"
   },
   {
    "duration": 37,
    "start_time": "2024-07-25T15:07:45.694Z"
   },
   {
    "duration": 170,
    "start_time": "2024-07-25T15:07:45.734Z"
   },
   {
    "duration": 28,
    "start_time": "2024-07-25T15:07:45.910Z"
   },
   {
    "duration": 10,
    "start_time": "2024-07-25T15:07:45.942Z"
   },
   {
    "duration": 45,
    "start_time": "2024-07-25T15:07:45.957Z"
   },
   {
    "duration": 8,
    "start_time": "2024-07-25T15:07:46.008Z"
   },
   {
    "duration": 36,
    "start_time": "2024-07-25T15:07:46.020Z"
   },
   {
    "duration": 54,
    "start_time": "2024-07-25T15:07:46.064Z"
   },
   {
    "duration": 42,
    "start_time": "2024-07-25T15:07:46.121Z"
   },
   {
    "duration": 41,
    "start_time": "2024-07-25T15:07:46.166Z"
   },
   {
    "duration": 21,
    "start_time": "2024-07-25T15:07:46.213Z"
   },
   {
    "duration": 8,
    "start_time": "2024-07-25T15:07:46.238Z"
   },
   {
    "duration": 6,
    "start_time": "2024-07-25T15:07:46.250Z"
   },
   {
    "duration": 517,
    "start_time": "2024-07-25T15:07:46.261Z"
   },
   {
    "duration": 305,
    "start_time": "2024-07-25T15:07:46.781Z"
   },
   {
    "duration": 777,
    "start_time": "2024-07-25T15:07:47.090Z"
   },
   {
    "duration": 1212,
    "start_time": "2024-07-25T15:07:47.870Z"
   },
   {
    "duration": 1142,
    "start_time": "2024-07-25T15:07:49.086Z"
   },
   {
    "duration": 2504,
    "start_time": "2024-07-25T15:07:50.231Z"
   },
   {
    "duration": 1293,
    "start_time": "2024-07-25T15:07:52.738Z"
   },
   {
    "duration": 1304,
    "start_time": "2024-07-25T15:07:54.034Z"
   },
   {
    "duration": 7,
    "start_time": "2024-07-25T15:07:55.341Z"
   },
   {
    "duration": 18,
    "start_time": "2024-07-25T15:07:55.352Z"
   },
   {
    "duration": 48,
    "start_time": "2024-07-25T15:07:55.372Z"
   },
   {
    "duration": 3136,
    "start_time": "2024-07-25T15:07:55.423Z"
   },
   {
    "duration": 9189,
    "start_time": "2024-07-25T15:07:58.562Z"
   },
   {
    "duration": 18083,
    "start_time": "2024-07-25T15:08:21.008Z"
   },
   {
    "duration": 514,
    "start_time": "2024-07-25T15:09:32.896Z"
   },
   {
    "duration": 312,
    "start_time": "2024-07-25T15:09:42.008Z"
   },
   {
    "duration": 256,
    "start_time": "2024-07-25T15:10:01.998Z"
   },
   {
    "duration": 8,
    "start_time": "2024-07-25T15:11:36.851Z"
   },
   {
    "duration": 258,
    "start_time": "2024-07-25T15:12:32.114Z"
   },
   {
    "duration": 7,
    "start_time": "2024-07-25T15:18:31.939Z"
   },
   {
    "duration": 4180,
    "start_time": "2024-07-25T15:18:52.227Z"
   },
   {
    "duration": 4447,
    "start_time": "2024-07-25T15:20:45.262Z"
   },
   {
    "duration": 329,
    "start_time": "2024-07-25T15:21:26.775Z"
   },
   {
    "duration": 8363,
    "start_time": "2024-07-25T15:21:44.847Z"
   },
   {
    "duration": 4735,
    "start_time": "2024-07-25T15:22:05.776Z"
   },
   {
    "duration": 3786,
    "start_time": "2024-07-25T15:22:36.835Z"
   },
   {
    "duration": 1701,
    "start_time": "2024-07-25T15:27:20.707Z"
   },
   {
    "duration": 846,
    "start_time": "2024-07-25T15:27:22.412Z"
   },
   {
    "duration": 25,
    "start_time": "2024-07-25T15:27:23.262Z"
   },
   {
    "duration": 19,
    "start_time": "2024-07-25T15:27:23.303Z"
   },
   {
    "duration": 25,
    "start_time": "2024-07-25T15:27:23.328Z"
   },
   {
    "duration": 146,
    "start_time": "2024-07-25T15:27:23.357Z"
   },
   {
    "duration": 32,
    "start_time": "2024-07-25T15:27:23.506Z"
   },
   {
    "duration": 184,
    "start_time": "2024-07-25T15:27:23.541Z"
   },
   {
    "duration": 27,
    "start_time": "2024-07-25T15:27:23.728Z"
   },
   {
    "duration": 8,
    "start_time": "2024-07-25T15:27:23.759Z"
   },
   {
    "duration": 36,
    "start_time": "2024-07-25T15:27:23.771Z"
   },
   {
    "duration": 7,
    "start_time": "2024-07-25T15:27:23.811Z"
   },
   {
    "duration": 36,
    "start_time": "2024-07-25T15:27:23.821Z"
   },
   {
    "duration": 23,
    "start_time": "2024-07-25T15:27:23.901Z"
   },
   {
    "duration": 40,
    "start_time": "2024-07-25T15:27:23.927Z"
   },
   {
    "duration": 37,
    "start_time": "2024-07-25T15:27:23.970Z"
   },
   {
    "duration": 16,
    "start_time": "2024-07-25T15:27:24.011Z"
   },
   {
    "duration": 6,
    "start_time": "2024-07-25T15:27:24.031Z"
   },
   {
    "duration": 6,
    "start_time": "2024-07-25T15:27:24.040Z"
   },
   {
    "duration": 502,
    "start_time": "2024-07-25T15:27:24.050Z"
   },
   {
    "duration": 294,
    "start_time": "2024-07-25T15:27:24.555Z"
   },
   {
    "duration": 808,
    "start_time": "2024-07-25T15:27:24.852Z"
   },
   {
    "duration": 1250,
    "start_time": "2024-07-25T15:27:25.664Z"
   },
   {
    "duration": 1109,
    "start_time": "2024-07-25T15:27:26.918Z"
   },
   {
    "duration": 2748,
    "start_time": "2024-07-25T15:27:28.031Z"
   },
   {
    "duration": 1348,
    "start_time": "2024-07-25T15:27:30.782Z"
   },
   {
    "duration": 1270,
    "start_time": "2024-07-25T15:27:32.134Z"
   },
   {
    "duration": 8,
    "start_time": "2024-07-25T15:27:33.408Z"
   },
   {
    "duration": 18,
    "start_time": "2024-07-25T15:27:33.419Z"
   },
   {
    "duration": 61,
    "start_time": "2024-07-25T15:27:33.441Z"
   },
   {
    "duration": 3115,
    "start_time": "2024-07-25T15:27:33.506Z"
   },
   {
    "duration": 18084,
    "start_time": "2024-07-25T15:27:36.623Z"
   },
   {
    "duration": 4410,
    "start_time": "2024-07-25T15:27:54.709Z"
   },
   {
    "duration": 18180,
    "start_time": "2024-07-25T15:27:59.123Z"
   },
   {
    "duration": 3120,
    "start_time": "2024-07-25T15:28:53.602Z"
   },
   {
    "duration": 18078,
    "start_time": "2024-07-25T15:29:24.174Z"
   },
   {
    "duration": 3082,
    "start_time": "2024-07-25T15:30:00.295Z"
   },
   {
    "duration": 1650,
    "start_time": "2024-07-25T15:34:16.251Z"
   },
   {
    "duration": 845,
    "start_time": "2024-07-25T15:34:17.905Z"
   },
   {
    "duration": 25,
    "start_time": "2024-07-25T15:34:18.753Z"
   },
   {
    "duration": 36,
    "start_time": "2024-07-25T15:34:18.781Z"
   },
   {
    "duration": 25,
    "start_time": "2024-07-25T15:34:18.822Z"
   },
   {
    "duration": 143,
    "start_time": "2024-07-25T15:34:18.850Z"
   },
   {
    "duration": 35,
    "start_time": "2024-07-25T15:34:18.997Z"
   },
   {
    "duration": 169,
    "start_time": "2024-07-25T15:34:19.035Z"
   },
   {
    "duration": 31,
    "start_time": "2024-07-25T15:34:19.207Z"
   },
   {
    "duration": 9,
    "start_time": "2024-07-25T15:34:19.241Z"
   },
   {
    "duration": 8,
    "start_time": "2024-07-25T15:34:19.253Z"
   },
   {
    "duration": 45,
    "start_time": "2024-07-25T15:34:19.263Z"
   },
   {
    "duration": 40,
    "start_time": "2024-07-25T15:34:19.312Z"
   },
   {
    "duration": 51,
    "start_time": "2024-07-25T15:34:19.359Z"
   },
   {
    "duration": 40,
    "start_time": "2024-07-25T15:34:19.412Z"
   },
   {
    "duration": 7,
    "start_time": "2024-07-25T15:34:19.455Z"
   },
   {
    "duration": 16,
    "start_time": "2024-07-25T15:34:19.502Z"
   },
   {
    "duration": 6,
    "start_time": "2024-07-25T15:34:19.521Z"
   },
   {
    "duration": 7,
    "start_time": "2024-07-25T15:34:19.531Z"
   },
   {
    "duration": 485,
    "start_time": "2024-07-25T15:34:19.541Z"
   },
   {
    "duration": 304,
    "start_time": "2024-07-25T15:34:20.029Z"
   },
   {
    "duration": 820,
    "start_time": "2024-07-25T15:34:20.335Z"
   },
   {
    "duration": 1236,
    "start_time": "2024-07-25T15:34:21.158Z"
   },
   {
    "duration": 1146,
    "start_time": "2024-07-25T15:34:22.398Z"
   },
   {
    "duration": 2548,
    "start_time": "2024-07-25T15:34:23.548Z"
   },
   {
    "duration": 1368,
    "start_time": "2024-07-25T15:34:26.099Z"
   },
   {
    "duration": 1337,
    "start_time": "2024-07-25T15:34:27.470Z"
   },
   {
    "duration": 7,
    "start_time": "2024-07-25T15:34:28.813Z"
   },
   {
    "duration": 19,
    "start_time": "2024-07-25T15:34:28.824Z"
   },
   {
    "duration": 61,
    "start_time": "2024-07-25T15:34:28.846Z"
   },
   {
    "duration": 3088,
    "start_time": "2024-07-25T15:34:28.909Z"
   },
   {
    "duration": 18054,
    "start_time": "2024-07-25T15:34:32.003Z"
   },
   {
    "duration": 4343,
    "start_time": "2024-07-25T15:34:50.060Z"
   },
   {
    "duration": 18163,
    "start_time": "2024-07-25T15:34:54.406Z"
   },
   {
    "duration": 1695,
    "start_time": "2024-07-25T15:36:31.426Z"
   },
   {
    "duration": 835,
    "start_time": "2024-07-25T15:36:33.125Z"
   },
   {
    "duration": 24,
    "start_time": "2024-07-25T15:36:33.963Z"
   },
   {
    "duration": 20,
    "start_time": "2024-07-25T15:36:34.005Z"
   },
   {
    "duration": 25,
    "start_time": "2024-07-25T15:36:34.028Z"
   },
   {
    "duration": 152,
    "start_time": "2024-07-25T15:36:34.056Z"
   },
   {
    "duration": 32,
    "start_time": "2024-07-25T15:36:34.212Z"
   },
   {
    "duration": 175,
    "start_time": "2024-07-25T15:36:34.248Z"
   },
   {
    "duration": 28,
    "start_time": "2024-07-25T15:36:34.426Z"
   },
   {
    "duration": 10,
    "start_time": "2024-07-25T15:36:34.461Z"
   },
   {
    "duration": 7,
    "start_time": "2024-07-25T15:36:34.503Z"
   },
   {
    "duration": 7,
    "start_time": "2024-07-25T15:36:34.515Z"
   },
   {
    "duration": 35,
    "start_time": "2024-07-25T15:36:34.526Z"
   },
   {
    "duration": 24,
    "start_time": "2024-07-25T15:36:34.602Z"
   },
   {
    "duration": 40,
    "start_time": "2024-07-25T15:36:34.630Z"
   },
   {
    "duration": 7,
    "start_time": "2024-07-25T15:36:34.701Z"
   },
   {
    "duration": 17,
    "start_time": "2024-07-25T15:36:34.711Z"
   },
   {
    "duration": 6,
    "start_time": "2024-07-25T15:36:34.731Z"
   },
   {
    "duration": 6,
    "start_time": "2024-07-25T15:36:34.741Z"
   },
   {
    "duration": 513,
    "start_time": "2024-07-25T15:36:34.753Z"
   },
   {
    "duration": 299,
    "start_time": "2024-07-25T15:36:35.270Z"
   },
   {
    "duration": 807,
    "start_time": "2024-07-25T15:36:35.572Z"
   },
   {
    "duration": 1223,
    "start_time": "2024-07-25T15:36:36.383Z"
   },
   {
    "duration": 1153,
    "start_time": "2024-07-25T15:36:37.611Z"
   },
   {
    "duration": 2413,
    "start_time": "2024-07-25T15:36:38.768Z"
   },
   {
    "duration": 1360,
    "start_time": "2024-07-25T15:36:41.185Z"
   },
   {
    "duration": 1325,
    "start_time": "2024-07-25T15:36:42.548Z"
   },
   {
    "duration": 21,
    "start_time": "2024-07-25T15:36:43.881Z"
   },
   {
    "duration": 22,
    "start_time": "2024-07-25T15:36:43.907Z"
   },
   {
    "duration": 25,
    "start_time": "2024-07-25T15:36:43.932Z"
   },
   {
    "duration": 3154,
    "start_time": "2024-07-25T15:36:43.960Z"
   },
   {
    "duration": 1671,
    "start_time": "2024-07-25T15:40:51.035Z"
   },
   {
    "duration": 842,
    "start_time": "2024-07-25T15:40:52.710Z"
   },
   {
    "duration": 33,
    "start_time": "2024-07-25T15:40:53.555Z"
   },
   {
    "duration": 21,
    "start_time": "2024-07-25T15:40:53.608Z"
   },
   {
    "duration": 26,
    "start_time": "2024-07-25T15:40:53.635Z"
   },
   {
    "duration": 142,
    "start_time": "2024-07-25T15:40:53.664Z"
   },
   {
    "duration": 36,
    "start_time": "2024-07-25T15:40:53.809Z"
   },
   {
    "duration": 169,
    "start_time": "2024-07-25T15:40:53.847Z"
   },
   {
    "duration": 27,
    "start_time": "2024-07-25T15:40:54.019Z"
   },
   {
    "duration": 7,
    "start_time": "2024-07-25T15:40:54.050Z"
   },
   {
    "duration": 42,
    "start_time": "2024-07-25T15:40:54.061Z"
   },
   {
    "duration": 8,
    "start_time": "2024-07-25T15:40:54.106Z"
   },
   {
    "duration": 35,
    "start_time": "2024-07-25T15:40:54.117Z"
   },
   {
    "duration": 54,
    "start_time": "2024-07-25T15:40:54.159Z"
   },
   {
    "duration": 40,
    "start_time": "2024-07-25T15:40:54.216Z"
   },
   {
    "duration": 9,
    "start_time": "2024-07-25T15:40:54.260Z"
   },
   {
    "duration": 17,
    "start_time": "2024-07-25T15:40:54.303Z"
   },
   {
    "duration": 8,
    "start_time": "2024-07-25T15:40:54.323Z"
   },
   {
    "duration": 7,
    "start_time": "2024-07-25T15:40:54.334Z"
   },
   {
    "duration": 498,
    "start_time": "2024-07-25T15:40:54.344Z"
   },
   {
    "duration": 299,
    "start_time": "2024-07-25T15:40:54.845Z"
   },
   {
    "duration": 830,
    "start_time": "2024-07-25T15:40:55.148Z"
   },
   {
    "duration": 1225,
    "start_time": "2024-07-25T15:40:55.981Z"
   },
   {
    "duration": 1167,
    "start_time": "2024-07-25T15:40:57.209Z"
   },
   {
    "duration": 2388,
    "start_time": "2024-07-25T15:40:58.380Z"
   },
   {
    "duration": 1365,
    "start_time": "2024-07-25T15:41:00.771Z"
   },
   {
    "duration": 1283,
    "start_time": "2024-07-25T15:41:02.140Z"
   },
   {
    "duration": 8,
    "start_time": "2024-07-25T15:41:03.425Z"
   },
   {
    "duration": 19,
    "start_time": "2024-07-25T15:41:03.436Z"
   },
   {
    "duration": 57,
    "start_time": "2024-07-25T15:41:03.458Z"
   },
   {
    "duration": 3134,
    "start_time": "2024-07-25T15:41:03.518Z"
   },
   {
    "duration": 18124,
    "start_time": "2024-07-25T15:47:13.283Z"
   },
   {
    "duration": 394,
    "start_time": "2024-07-25T15:47:31.410Z"
   },
   {
    "duration": 18292,
    "start_time": "2024-07-25T15:47:31.807Z"
   },
   {
    "duration": 368,
    "start_time": "2024-07-25T15:49:45.441Z"
   },
   {
    "duration": 251,
    "start_time": "2024-07-25T15:50:09.262Z"
   },
   {
    "duration": 318,
    "start_time": "2024-07-25T15:50:16.199Z"
   },
   {
    "duration": 14,
    "start_time": "2024-07-26T09:27:26.497Z"
   },
   {
    "duration": 331,
    "start_time": "2024-07-26T13:47:53.372Z"
   },
   {
    "duration": 5589,
    "start_time": "2024-07-26T13:48:05.540Z"
   },
   {
    "duration": 1100,
    "start_time": "2024-07-26T13:48:11.133Z"
   },
   {
    "duration": 37,
    "start_time": "2024-07-26T13:48:12.236Z"
   },
   {
    "duration": 20,
    "start_time": "2024-07-26T13:48:12.277Z"
   },
   {
    "duration": 26,
    "start_time": "2024-07-26T13:48:12.304Z"
   },
   {
    "duration": 119,
    "start_time": "2024-07-26T13:48:12.369Z"
   },
   {
    "duration": 35,
    "start_time": "2024-07-26T13:48:12.492Z"
   },
   {
    "duration": 196,
    "start_time": "2024-07-26T13:48:12.530Z"
   },
   {
    "duration": 41,
    "start_time": "2024-07-26T13:48:12.730Z"
   },
   {
    "duration": 10,
    "start_time": "2024-07-26T13:48:12.774Z"
   },
   {
    "duration": 7,
    "start_time": "2024-07-26T13:48:12.789Z"
   },
   {
    "duration": 8,
    "start_time": "2024-07-26T13:48:12.799Z"
   },
   {
    "duration": 86,
    "start_time": "2024-07-26T13:48:12.812Z"
   },
   {
    "duration": 25,
    "start_time": "2024-07-26T13:48:12.905Z"
   },
   {
    "duration": 66,
    "start_time": "2024-07-26T13:48:12.934Z"
   },
   {
    "duration": 8,
    "start_time": "2024-07-26T13:48:13.004Z"
   },
   {
    "duration": 19,
    "start_time": "2024-07-26T13:48:13.015Z"
   },
   {
    "duration": 7,
    "start_time": "2024-07-26T13:48:13.069Z"
   },
   {
    "duration": 8,
    "start_time": "2024-07-26T13:48:13.080Z"
   },
   {
    "duration": 503,
    "start_time": "2024-07-26T13:48:13.091Z"
   },
   {
    "duration": 310,
    "start_time": "2024-07-26T13:48:13.597Z"
   },
   {
    "duration": 923,
    "start_time": "2024-07-26T13:48:13.911Z"
   },
   {
    "duration": 1292,
    "start_time": "2024-07-26T13:48:14.837Z"
   },
   {
    "duration": 1214,
    "start_time": "2024-07-26T13:48:16.132Z"
   },
   {
    "duration": 2450,
    "start_time": "2024-07-26T13:48:17.351Z"
   },
   {
    "duration": 1390,
    "start_time": "2024-07-26T13:48:19.805Z"
   },
   {
    "duration": 1504,
    "start_time": "2024-07-26T13:48:21.198Z"
   },
   {
    "duration": 8,
    "start_time": "2024-07-26T13:48:22.705Z"
   },
   {
    "duration": 21,
    "start_time": "2024-07-26T13:48:22.716Z"
   },
   {
    "duration": 52,
    "start_time": "2024-07-26T13:48:22.742Z"
   },
   {
    "duration": 3246,
    "start_time": "2024-07-26T13:48:22.797Z"
   },
   {
    "duration": 18416,
    "start_time": "2024-07-26T13:48:26.047Z"
   },
   {
    "duration": 418,
    "start_time": "2024-07-26T13:48:44.468Z"
   },
   {
    "duration": 398,
    "start_time": "2024-07-26T13:48:44.897Z"
   },
   {
    "duration": 9,
    "start_time": "2024-07-26T13:52:27.776Z"
   },
   {
    "duration": 12,
    "start_time": "2024-07-26T13:52:38.865Z"
   },
   {
    "duration": 11,
    "start_time": "2024-07-26T13:52:41.379Z"
   },
   {
    "duration": 10,
    "start_time": "2024-07-26T13:52:50.879Z"
   },
   {
    "duration": 443,
    "start_time": "2024-07-26T14:08:38.530Z"
   },
   {
    "duration": 1553,
    "start_time": "2024-07-26T14:09:57.118Z"
   },
   {
    "duration": 1678,
    "start_time": "2024-07-26T14:11:15.438Z"
   },
   {
    "duration": 934,
    "start_time": "2024-07-26T14:11:17.120Z"
   },
   {
    "duration": 53,
    "start_time": "2024-07-26T14:11:18.057Z"
   },
   {
    "duration": 18,
    "start_time": "2024-07-26T14:11:18.114Z"
   },
   {
    "duration": 41,
    "start_time": "2024-07-26T14:11:18.135Z"
   },
   {
    "duration": 121,
    "start_time": "2024-07-26T14:11:18.182Z"
   },
   {
    "duration": 33,
    "start_time": "2024-07-26T14:11:18.309Z"
   },
   {
    "duration": 176,
    "start_time": "2024-07-26T14:11:18.346Z"
   },
   {
    "duration": 24,
    "start_time": "2024-07-26T14:11:18.526Z"
   },
   {
    "duration": 11,
    "start_time": "2024-07-26T14:11:18.573Z"
   },
   {
    "duration": 25,
    "start_time": "2024-07-26T14:11:18.587Z"
   },
   {
    "duration": 9,
    "start_time": "2024-07-26T14:11:18.615Z"
   },
   {
    "duration": 1662,
    "start_time": "2024-07-26T14:11:41.621Z"
   },
   {
    "duration": 1030,
    "start_time": "2024-07-26T14:11:43.298Z"
   },
   {
    "duration": 38,
    "start_time": "2024-07-26T14:11:44.331Z"
   },
   {
    "duration": 19,
    "start_time": "2024-07-26T14:11:44.373Z"
   },
   {
    "duration": 26,
    "start_time": "2024-07-26T14:11:44.399Z"
   },
   {
    "duration": 130,
    "start_time": "2024-07-26T14:11:44.429Z"
   },
   {
    "duration": 51,
    "start_time": "2024-07-26T14:11:44.568Z"
   },
   {
    "duration": 149,
    "start_time": "2024-07-26T14:11:44.621Z"
   },
   {
    "duration": 35,
    "start_time": "2024-07-26T14:11:44.772Z"
   },
   {
    "duration": 8,
    "start_time": "2024-07-26T14:11:44.811Z"
   },
   {
    "duration": 8,
    "start_time": "2024-07-26T14:11:44.822Z"
   },
   {
    "duration": 42,
    "start_time": "2024-07-26T14:11:44.833Z"
   },
   {
    "duration": 338,
    "start_time": "2024-07-26T14:12:20.767Z"
   },
   {
    "duration": 1665,
    "start_time": "2024-07-26T14:12:50.438Z"
   },
   {
    "duration": 1049,
    "start_time": "2024-07-26T14:12:52.107Z"
   },
   {
    "duration": 25,
    "start_time": "2024-07-26T14:12:53.158Z"
   },
   {
    "duration": 22,
    "start_time": "2024-07-26T14:12:53.192Z"
   },
   {
    "duration": 25,
    "start_time": "2024-07-26T14:12:53.219Z"
   },
   {
    "duration": 120,
    "start_time": "2024-07-26T14:12:53.267Z"
   },
   {
    "duration": 34,
    "start_time": "2024-07-26T14:12:53.390Z"
   },
   {
    "duration": 190,
    "start_time": "2024-07-26T14:12:53.427Z"
   },
   {
    "duration": 27,
    "start_time": "2024-07-26T14:12:53.619Z"
   },
   {
    "duration": 27,
    "start_time": "2024-07-26T14:12:53.667Z"
   },
   {
    "duration": 9,
    "start_time": "2024-07-26T14:12:53.701Z"
   },
   {
    "duration": 9,
    "start_time": "2024-07-26T14:12:53.713Z"
   },
   {
    "duration": 340,
    "start_time": "2024-07-26T14:13:04.251Z"
   },
   {
    "duration": 22,
    "start_time": "2024-07-26T14:13:06.089Z"
   },
   {
    "duration": 27,
    "start_time": "2024-07-26T14:13:06.569Z"
   },
   {
    "duration": 1677,
    "start_time": "2024-07-26T14:13:13.606Z"
   },
   {
    "duration": 1067,
    "start_time": "2024-07-26T14:13:15.286Z"
   },
   {
    "duration": 24,
    "start_time": "2024-07-26T14:13:16.395Z"
   },
   {
    "duration": 19,
    "start_time": "2024-07-26T14:13:16.817Z"
   },
   {
    "duration": 26,
    "start_time": "2024-07-26T14:13:17.135Z"
   },
   {
    "duration": 124,
    "start_time": "2024-07-26T14:13:17.803Z"
   },
   {
    "duration": 40,
    "start_time": "2024-07-26T14:13:18.073Z"
   },
   {
    "duration": 164,
    "start_time": "2024-07-26T14:13:18.487Z"
   },
   {
    "duration": 35,
    "start_time": "2024-07-26T14:13:18.884Z"
   },
   {
    "duration": 7,
    "start_time": "2024-07-26T14:13:19.715Z"
   },
   {
    "duration": 8,
    "start_time": "2024-07-26T14:13:20.259Z"
   },
   {
    "duration": 10,
    "start_time": "2024-07-26T14:13:20.805Z"
   },
   {
    "duration": 333,
    "start_time": "2024-07-26T14:13:26.401Z"
   },
   {
    "duration": 26,
    "start_time": "2024-07-26T14:13:26.769Z"
   },
   {
    "duration": 1756,
    "start_time": "2024-07-26T14:13:47.756Z"
   },
   {
    "duration": 1011,
    "start_time": "2024-07-26T14:13:49.516Z"
   },
   {
    "duration": 24,
    "start_time": "2024-07-26T14:13:50.529Z"
   },
   {
    "duration": 34,
    "start_time": "2024-07-26T14:13:50.556Z"
   },
   {
    "duration": 26,
    "start_time": "2024-07-26T14:13:50.594Z"
   },
   {
    "duration": 138,
    "start_time": "2024-07-26T14:13:50.623Z"
   },
   {
    "duration": 36,
    "start_time": "2024-07-26T14:13:50.770Z"
   },
   {
    "duration": 174,
    "start_time": "2024-07-26T14:13:50.808Z"
   },
   {
    "duration": 25,
    "start_time": "2024-07-26T14:13:50.997Z"
   },
   {
    "duration": 8,
    "start_time": "2024-07-26T14:13:51.027Z"
   },
   {
    "duration": 8,
    "start_time": "2024-07-26T14:13:51.037Z"
   },
   {
    "duration": 32,
    "start_time": "2024-07-26T14:13:51.048Z"
   },
   {
    "duration": 349,
    "start_time": "2024-07-26T14:14:15.438Z"
   },
   {
    "duration": 1802,
    "start_time": "2024-07-26T14:14:22.818Z"
   },
   {
    "duration": 1096,
    "start_time": "2024-07-26T14:14:24.624Z"
   },
   {
    "duration": 23,
    "start_time": "2024-07-26T14:14:25.723Z"
   },
   {
    "duration": 48,
    "start_time": "2024-07-26T14:14:25.750Z"
   },
   {
    "duration": 25,
    "start_time": "2024-07-26T14:14:25.801Z"
   },
   {
    "duration": 134,
    "start_time": "2024-07-26T14:14:25.828Z"
   },
   {
    "duration": 35,
    "start_time": "2024-07-26T14:14:25.978Z"
   },
   {
    "duration": 173,
    "start_time": "2024-07-26T14:14:26.016Z"
   },
   {
    "duration": 25,
    "start_time": "2024-07-26T14:14:26.203Z"
   },
   {
    "duration": 9,
    "start_time": "2024-07-26T14:14:26.443Z"
   },
   {
    "duration": 8,
    "start_time": "2024-07-26T14:14:27.233Z"
   },
   {
    "duration": 13,
    "start_time": "2024-07-26T14:14:27.769Z"
   },
   {
    "duration": 335,
    "start_time": "2024-07-26T14:15:29.458Z"
   },
   {
    "duration": 1657,
    "start_time": "2024-07-26T14:15:38.022Z"
   },
   {
    "duration": 1077,
    "start_time": "2024-07-26T14:15:39.693Z"
   },
   {
    "duration": 24,
    "start_time": "2024-07-26T14:15:40.788Z"
   },
   {
    "duration": 17,
    "start_time": "2024-07-26T14:15:40.816Z"
   },
   {
    "duration": 38,
    "start_time": "2024-07-26T14:15:40.836Z"
   },
   {
    "duration": 124,
    "start_time": "2024-07-26T14:15:40.877Z"
   },
   {
    "duration": 31,
    "start_time": "2024-07-26T14:15:41.005Z"
   },
   {
    "duration": 176,
    "start_time": "2024-07-26T14:15:41.040Z"
   },
   {
    "duration": 24,
    "start_time": "2024-07-26T14:15:41.219Z"
   },
   {
    "duration": 8,
    "start_time": "2024-07-26T14:15:41.269Z"
   },
   {
    "duration": 11,
    "start_time": "2024-07-26T14:15:41.280Z"
   },
   {
    "duration": 8,
    "start_time": "2024-07-26T14:15:41.293Z"
   },
   {
    "duration": 1673,
    "start_time": "2024-07-26T14:15:55.468Z"
   },
   {
    "duration": 1087,
    "start_time": "2024-07-26T14:15:57.145Z"
   },
   {
    "duration": 47,
    "start_time": "2024-07-26T14:15:58.235Z"
   },
   {
    "duration": 23,
    "start_time": "2024-07-26T14:15:58.289Z"
   },
   {
    "duration": 23,
    "start_time": "2024-07-26T14:15:58.316Z"
   },
   {
    "duration": 149,
    "start_time": "2024-07-26T14:15:58.343Z"
   },
   {
    "duration": 35,
    "start_time": "2024-07-26T14:15:58.501Z"
   },
   {
    "duration": 151,
    "start_time": "2024-07-26T14:15:58.539Z"
   },
   {
    "duration": 27,
    "start_time": "2024-07-26T14:15:58.695Z"
   },
   {
    "duration": 8,
    "start_time": "2024-07-26T14:15:58.725Z"
   },
   {
    "duration": 39,
    "start_time": "2024-07-26T14:15:58.736Z"
   },
   {
    "duration": 13,
    "start_time": "2024-07-26T14:15:58.778Z"
   },
   {
    "duration": 329,
    "start_time": "2024-07-26T14:19:02.467Z"
   },
   {
    "duration": 21,
    "start_time": "2024-07-26T14:19:02.918Z"
   },
   {
    "duration": 22,
    "start_time": "2024-07-26T14:19:12.706Z"
   },
   {
    "duration": 5118,
    "start_time": "2024-07-27T13:41:47.766Z"
   },
   {
    "duration": 946,
    "start_time": "2024-07-27T13:41:52.888Z"
   },
   {
    "duration": 24,
    "start_time": "2024-07-27T13:41:53.836Z"
   },
   {
    "duration": 18,
    "start_time": "2024-07-27T13:41:53.864Z"
   },
   {
    "duration": 23,
    "start_time": "2024-07-27T13:41:53.908Z"
   },
   {
    "duration": 134,
    "start_time": "2024-07-27T13:41:53.934Z"
   },
   {
    "duration": 46,
    "start_time": "2024-07-27T13:41:54.071Z"
   },
   {
    "duration": 156,
    "start_time": "2024-07-27T13:41:54.120Z"
   },
   {
    "duration": 38,
    "start_time": "2024-07-27T13:41:54.279Z"
   },
   {
    "duration": 9,
    "start_time": "2024-07-27T13:41:54.322Z"
   },
   {
    "duration": 8,
    "start_time": "2024-07-27T13:41:54.334Z"
   },
   {
    "duration": 12,
    "start_time": "2024-07-27T13:41:54.345Z"
   },
   {
    "duration": 308,
    "start_time": "2024-07-27T13:42:18.204Z"
   },
   {
    "duration": 22,
    "start_time": "2024-07-27T13:42:19.490Z"
   },
   {
    "duration": 1632,
    "start_time": "2024-07-27T13:42:25.832Z"
   },
   {
    "duration": 952,
    "start_time": "2024-07-27T13:42:27.469Z"
   },
   {
    "duration": 23,
    "start_time": "2024-07-27T13:42:28.424Z"
   },
   {
    "duration": 19,
    "start_time": "2024-07-27T13:42:28.450Z"
   },
   {
    "duration": 54,
    "start_time": "2024-07-27T13:42:28.474Z"
   },
   {
    "duration": 121,
    "start_time": "2024-07-27T13:42:28.533Z"
   },
   {
    "duration": 33,
    "start_time": "2024-07-27T13:42:28.657Z"
   },
   {
    "duration": 170,
    "start_time": "2024-07-27T13:42:28.692Z"
   },
   {
    "duration": 25,
    "start_time": "2024-07-27T13:42:28.864Z"
   },
   {
    "duration": 8,
    "start_time": "2024-07-27T13:42:28.908Z"
   },
   {
    "duration": 7,
    "start_time": "2024-07-27T13:42:28.920Z"
   },
   {
    "duration": 7,
    "start_time": "2024-07-27T13:42:28.933Z"
   },
   {
    "duration": 24,
    "start_time": "2024-07-27T13:42:28.944Z"
   },
   {
    "duration": 38,
    "start_time": "2024-07-27T13:42:29.014Z"
   },
   {
    "duration": 7,
    "start_time": "2024-07-27T13:42:29.055Z"
   },
   {
    "duration": 52,
    "start_time": "2024-07-27T13:42:29.065Z"
   },
   {
    "duration": 7,
    "start_time": "2024-07-27T13:42:29.120Z"
   },
   {
    "duration": 5,
    "start_time": "2024-07-27T13:42:29.130Z"
   },
   {
    "duration": 453,
    "start_time": "2024-07-27T13:42:29.139Z"
   },
   {
    "duration": 287,
    "start_time": "2024-07-27T13:42:29.595Z"
   },
   {
    "duration": 767,
    "start_time": "2024-07-27T13:42:29.886Z"
   },
   {
    "duration": 1206,
    "start_time": "2024-07-27T13:42:30.656Z"
   },
   {
    "duration": 1097,
    "start_time": "2024-07-27T13:42:31.865Z"
   },
   {
    "duration": 3276,
    "start_time": "2024-07-27T13:42:32.965Z"
   },
   {
    "duration": 1260,
    "start_time": "2024-07-27T13:42:36.245Z"
   },
   {
    "duration": 1253,
    "start_time": "2024-07-27T13:42:37.510Z"
   },
   {
    "duration": 8,
    "start_time": "2024-07-27T13:42:38.766Z"
   },
   {
    "duration": 35,
    "start_time": "2024-07-27T13:42:38.777Z"
   },
   {
    "duration": 27,
    "start_time": "2024-07-27T13:42:38.814Z"
   },
   {
    "duration": 346,
    "start_time": "2024-07-27T13:42:38.843Z"
   },
   {
    "duration": 0,
    "start_time": "2024-07-27T13:42:39.193Z"
   },
   {
    "duration": 0,
    "start_time": "2024-07-27T13:42:39.195Z"
   },
   {
    "duration": 0,
    "start_time": "2024-07-27T13:42:39.209Z"
   },
   {
    "duration": 8,
    "start_time": "2024-07-27T13:48:17.853Z"
   },
   {
    "duration": 246,
    "start_time": "2024-07-27T13:48:34.604Z"
   },
   {
    "duration": 26,
    "start_time": "2024-07-27T13:52:22.473Z"
   },
   {
    "duration": 1567,
    "start_time": "2024-07-27T13:52:42.786Z"
   },
   {
    "duration": 809,
    "start_time": "2024-07-27T13:52:44.356Z"
   },
   {
    "duration": 23,
    "start_time": "2024-07-27T13:52:45.168Z"
   },
   {
    "duration": 21,
    "start_time": "2024-07-27T13:52:45.212Z"
   },
   {
    "duration": 24,
    "start_time": "2024-07-27T13:52:45.236Z"
   },
   {
    "duration": 139,
    "start_time": "2024-07-27T13:52:45.262Z"
   },
   {
    "duration": 33,
    "start_time": "2024-07-27T13:52:45.412Z"
   },
   {
    "duration": 160,
    "start_time": "2024-07-27T13:52:45.448Z"
   },
   {
    "duration": 26,
    "start_time": "2024-07-27T13:52:45.611Z"
   },
   {
    "duration": 8,
    "start_time": "2024-07-27T13:52:45.643Z"
   },
   {
    "duration": 7,
    "start_time": "2024-07-27T13:52:45.654Z"
   },
   {
    "duration": 46,
    "start_time": "2024-07-27T13:52:45.665Z"
   },
   {
    "duration": 212,
    "start_time": "2024-07-27T13:52:45.714Z"
   },
   {
    "duration": 21,
    "start_time": "2024-07-27T13:52:45.929Z"
   },
   {
    "duration": 64,
    "start_time": "2024-07-27T13:52:45.953Z"
   },
   {
    "duration": 7,
    "start_time": "2024-07-27T13:52:46.020Z"
   },
   {
    "duration": 44,
    "start_time": "2024-07-27T13:52:46.031Z"
   },
   {
    "duration": 34,
    "start_time": "2024-07-27T13:52:46.078Z"
   },
   {
    "duration": 619,
    "start_time": "2024-07-27T13:52:46.115Z"
   },
   {
    "duration": 1,
    "start_time": "2024-07-27T13:52:46.737Z"
   },
   {
    "duration": 0,
    "start_time": "2024-07-27T13:52:46.740Z"
   },
   {
    "duration": 0,
    "start_time": "2024-07-27T13:52:46.742Z"
   },
   {
    "duration": 0,
    "start_time": "2024-07-27T13:52:46.744Z"
   },
   {
    "duration": 0,
    "start_time": "2024-07-27T13:52:46.746Z"
   },
   {
    "duration": 0,
    "start_time": "2024-07-27T13:52:46.749Z"
   },
   {
    "duration": 0,
    "start_time": "2024-07-27T13:52:46.751Z"
   },
   {
    "duration": 0,
    "start_time": "2024-07-27T13:52:46.753Z"
   },
   {
    "duration": 0,
    "start_time": "2024-07-27T13:52:46.757Z"
   },
   {
    "duration": 0,
    "start_time": "2024-07-27T13:52:46.759Z"
   },
   {
    "duration": 0,
    "start_time": "2024-07-27T13:52:46.763Z"
   },
   {
    "duration": 0,
    "start_time": "2024-07-27T13:52:46.808Z"
   },
   {
    "duration": 0,
    "start_time": "2024-07-27T13:52:46.810Z"
   },
   {
    "duration": 0,
    "start_time": "2024-07-27T13:52:46.813Z"
   },
   {
    "duration": 0,
    "start_time": "2024-07-27T13:52:46.815Z"
   },
   {
    "duration": 362,
    "start_time": "2024-07-27T13:54:22.803Z"
   },
   {
    "duration": 348,
    "start_time": "2024-07-27T13:56:30.343Z"
   },
   {
    "duration": 24333,
    "start_time": "2024-07-27T13:58:06.703Z"
   },
   {
    "duration": 346,
    "start_time": "2024-07-27T13:59:14.934Z"
   },
   {
    "duration": 334,
    "start_time": "2024-07-27T13:59:21.684Z"
   },
   {
    "duration": 184,
    "start_time": "2024-07-27T13:59:51.794Z"
   },
   {
    "duration": 319,
    "start_time": "2024-07-27T14:00:23.624Z"
   },
   {
    "duration": 293,
    "start_time": "2024-07-27T14:00:35.270Z"
   },
   {
    "duration": 24,
    "start_time": "2024-07-27T14:01:17.483Z"
   },
   {
    "duration": 1550,
    "start_time": "2024-07-27T14:01:26.847Z"
   },
   {
    "duration": 770,
    "start_time": "2024-07-27T14:01:28.400Z"
   },
   {
    "duration": 23,
    "start_time": "2024-07-27T14:01:29.174Z"
   },
   {
    "duration": 19,
    "start_time": "2024-07-27T14:01:29.211Z"
   },
   {
    "duration": 22,
    "start_time": "2024-07-27T14:01:29.233Z"
   },
   {
    "duration": 143,
    "start_time": "2024-07-27T14:01:29.258Z"
   },
   {
    "duration": 33,
    "start_time": "2024-07-27T14:01:29.404Z"
   },
   {
    "duration": 168,
    "start_time": "2024-07-27T14:01:29.440Z"
   },
   {
    "duration": 26,
    "start_time": "2024-07-27T14:01:29.611Z"
   },
   {
    "duration": 9,
    "start_time": "2024-07-27T14:01:29.642Z"
   },
   {
    "duration": 8,
    "start_time": "2024-07-27T14:01:29.654Z"
   },
   {
    "duration": 46,
    "start_time": "2024-07-27T14:01:29.665Z"
   },
   {
    "duration": 30,
    "start_time": "2024-07-27T14:01:29.714Z"
   },
   {
    "duration": 21,
    "start_time": "2024-07-27T14:01:29.747Z"
   },
   {
    "duration": 71,
    "start_time": "2024-07-27T14:01:29.770Z"
   },
   {
    "duration": 10,
    "start_time": "2024-07-27T14:01:29.843Z"
   },
   {
    "duration": 20,
    "start_time": "2024-07-27T14:01:29.855Z"
   },
   {
    "duration": 6,
    "start_time": "2024-07-27T14:01:29.909Z"
   },
   {
    "duration": 6,
    "start_time": "2024-07-27T14:01:29.919Z"
   },
   {
    "duration": 447,
    "start_time": "2024-07-27T14:01:29.927Z"
   },
   {
    "duration": 287,
    "start_time": "2024-07-27T14:01:30.378Z"
   },
   {
    "duration": 788,
    "start_time": "2024-07-27T14:01:30.669Z"
   },
   {
    "duration": 1205,
    "start_time": "2024-07-27T14:01:31.460Z"
   },
   {
    "duration": 1111,
    "start_time": "2024-07-27T14:01:32.668Z"
   },
   {
    "duration": 3003,
    "start_time": "2024-07-27T14:01:33.782Z"
   },
   {
    "duration": 1280,
    "start_time": "2024-07-27T14:01:36.788Z"
   },
   {
    "duration": 1256,
    "start_time": "2024-07-27T14:01:38.071Z"
   },
   {
    "duration": 7,
    "start_time": "2024-07-27T14:01:39.335Z"
   },
   {
    "duration": 18,
    "start_time": "2024-07-27T14:01:39.345Z"
   },
   {
    "duration": 58,
    "start_time": "2024-07-27T14:01:39.366Z"
   },
   {
    "duration": 336,
    "start_time": "2024-07-27T14:01:39.427Z"
   },
   {
    "duration": 0,
    "start_time": "2024-07-27T14:01:39.766Z"
   },
   {
    "duration": 0,
    "start_time": "2024-07-27T14:01:39.768Z"
   },
   {
    "duration": 0,
    "start_time": "2024-07-27T14:01:39.771Z"
   },
   {
    "duration": 8,
    "start_time": "2024-07-27T14:06:58.994Z"
   },
   {
    "duration": 26,
    "start_time": "2024-07-27T14:07:13.366Z"
   },
   {
    "duration": 20,
    "start_time": "2024-07-27T14:07:52.702Z"
   },
   {
    "duration": 24,
    "start_time": "2024-07-27T14:08:35.384Z"
   },
   {
    "duration": 22,
    "start_time": "2024-07-27T14:08:44.663Z"
   },
   {
    "duration": 6,
    "start_time": "2024-07-27T14:09:08.435Z"
   },
   {
    "duration": 16,
    "start_time": "2024-07-27T14:09:10.585Z"
   },
   {
    "duration": 5,
    "start_time": "2024-07-27T14:09:17.585Z"
   },
   {
    "duration": 7,
    "start_time": "2024-07-27T14:09:18.318Z"
   },
   {
    "duration": 420,
    "start_time": "2024-07-27T14:09:32.984Z"
   },
   {
    "duration": 1572,
    "start_time": "2024-07-27T14:10:22.802Z"
   },
   {
    "duration": 808,
    "start_time": "2024-07-27T14:10:24.377Z"
   },
   {
    "duration": 32,
    "start_time": "2024-07-27T14:10:25.189Z"
   },
   {
    "duration": 18,
    "start_time": "2024-07-27T14:10:25.225Z"
   },
   {
    "duration": 23,
    "start_time": "2024-07-27T14:10:25.249Z"
   },
   {
    "duration": 141,
    "start_time": "2024-07-27T14:10:25.275Z"
   },
   {
    "duration": 33,
    "start_time": "2024-07-27T14:10:25.419Z"
   },
   {
    "duration": 171,
    "start_time": "2024-07-27T14:10:25.455Z"
   },
   {
    "duration": 25,
    "start_time": "2024-07-27T14:10:25.629Z"
   },
   {
    "duration": 8,
    "start_time": "2024-07-27T14:10:25.660Z"
   },
   {
    "duration": 37,
    "start_time": "2024-07-27T14:10:25.672Z"
   },
   {
    "duration": 9,
    "start_time": "2024-07-27T14:10:25.713Z"
   },
   {
    "duration": 27,
    "start_time": "2024-07-27T14:10:25.726Z"
   },
   {
    "duration": 57,
    "start_time": "2024-07-27T14:10:25.760Z"
   },
   {
    "duration": 29,
    "start_time": "2024-07-27T14:10:25.820Z"
   },
   {
    "duration": 7,
    "start_time": "2024-07-27T14:10:25.852Z"
   },
   {
    "duration": 48,
    "start_time": "2024-07-27T14:10:25.862Z"
   },
   {
    "duration": 7,
    "start_time": "2024-07-27T14:10:25.914Z"
   },
   {
    "duration": 657,
    "start_time": "2024-07-27T14:10:25.927Z"
   },
   {
    "duration": 0,
    "start_time": "2024-07-27T14:10:26.587Z"
   },
   {
    "duration": 0,
    "start_time": "2024-07-27T14:10:26.588Z"
   },
   {
    "duration": 0,
    "start_time": "2024-07-27T14:10:26.590Z"
   },
   {
    "duration": 0,
    "start_time": "2024-07-27T14:10:26.592Z"
   },
   {
    "duration": 0,
    "start_time": "2024-07-27T14:10:26.594Z"
   },
   {
    "duration": 0,
    "start_time": "2024-07-27T14:10:26.609Z"
   },
   {
    "duration": 0,
    "start_time": "2024-07-27T14:10:26.610Z"
   },
   {
    "duration": 0,
    "start_time": "2024-07-27T14:10:26.612Z"
   },
   {
    "duration": 0,
    "start_time": "2024-07-27T14:10:26.615Z"
   },
   {
    "duration": 0,
    "start_time": "2024-07-27T14:10:26.617Z"
   },
   {
    "duration": 0,
    "start_time": "2024-07-27T14:10:26.618Z"
   },
   {
    "duration": 0,
    "start_time": "2024-07-27T14:10:26.620Z"
   },
   {
    "duration": 0,
    "start_time": "2024-07-27T14:10:26.622Z"
   },
   {
    "duration": 0,
    "start_time": "2024-07-27T14:10:26.623Z"
   },
   {
    "duration": 0,
    "start_time": "2024-07-27T14:10:26.626Z"
   },
   {
    "duration": 7,
    "start_time": "2024-07-27T14:11:19.366Z"
   },
   {
    "duration": 19,
    "start_time": "2024-07-27T14:11:20.852Z"
   },
   {
    "duration": 6,
    "start_time": "2024-07-27T14:11:21.875Z"
   },
   {
    "duration": 107,
    "start_time": "2024-07-27T14:11:26.293Z"
   },
   {
    "duration": 27,
    "start_time": "2024-07-27T14:13:03.075Z"
   },
   {
    "duration": 35,
    "start_time": "2024-07-27T14:13:09.368Z"
   },
   {
    "duration": 27,
    "start_time": "2024-07-27T14:13:46.826Z"
   },
   {
    "duration": 29,
    "start_time": "2024-07-27T14:13:56.405Z"
   },
   {
    "duration": 31,
    "start_time": "2024-07-27T14:18:39.089Z"
   },
   {
    "duration": 9,
    "start_time": "2024-07-27T14:19:01.322Z"
   },
   {
    "duration": 6,
    "start_time": "2024-07-27T14:19:16.945Z"
   },
   {
    "duration": 20,
    "start_time": "2024-07-27T14:19:29.410Z"
   },
   {
    "duration": 29,
    "start_time": "2024-07-27T14:19:50.391Z"
   },
   {
    "duration": 7,
    "start_time": "2024-07-27T14:19:58.834Z"
   },
   {
    "duration": 18,
    "start_time": "2024-07-27T14:20:00.141Z"
   },
   {
    "duration": 7,
    "start_time": "2024-07-27T14:20:02.893Z"
   },
   {
    "duration": 106,
    "start_time": "2024-07-27T14:20:03.554Z"
   },
   {
    "duration": 1622,
    "start_time": "2024-07-27T14:20:42.605Z"
   },
   {
    "duration": 804,
    "start_time": "2024-07-27T14:20:44.231Z"
   },
   {
    "duration": 24,
    "start_time": "2024-07-27T14:20:45.038Z"
   },
   {
    "duration": 19,
    "start_time": "2024-07-27T14:20:45.065Z"
   },
   {
    "duration": 25,
    "start_time": "2024-07-27T14:20:45.112Z"
   },
   {
    "duration": 127,
    "start_time": "2024-07-27T14:20:45.140Z"
   },
   {
    "duration": 42,
    "start_time": "2024-07-27T14:20:45.270Z"
   },
   {
    "duration": 159,
    "start_time": "2024-07-27T14:20:45.316Z"
   },
   {
    "duration": 34,
    "start_time": "2024-07-27T14:20:45.481Z"
   },
   {
    "duration": 9,
    "start_time": "2024-07-27T14:20:45.518Z"
   },
   {
    "duration": 8,
    "start_time": "2024-07-27T14:20:45.531Z"
   },
   {
    "duration": 8,
    "start_time": "2024-07-27T14:20:45.544Z"
   },
   {
    "duration": 76,
    "start_time": "2024-07-27T14:20:45.555Z"
   },
   {
    "duration": 19,
    "start_time": "2024-07-27T14:20:45.641Z"
   },
   {
    "duration": 54,
    "start_time": "2024-07-27T14:20:45.664Z"
   },
   {
    "duration": 8,
    "start_time": "2024-07-27T14:20:45.720Z"
   },
   {
    "duration": 20,
    "start_time": "2024-07-27T14:20:45.731Z"
   },
   {
    "duration": 6,
    "start_time": "2024-07-27T14:20:45.754Z"
   },
   {
    "duration": 688,
    "start_time": "2024-07-27T14:20:45.763Z"
   },
   {
    "duration": 0,
    "start_time": "2024-07-27T14:20:46.454Z"
   },
   {
    "duration": 0,
    "start_time": "2024-07-27T14:20:46.456Z"
   },
   {
    "duration": 0,
    "start_time": "2024-07-27T14:20:46.458Z"
   },
   {
    "duration": 0,
    "start_time": "2024-07-27T14:20:46.460Z"
   },
   {
    "duration": 0,
    "start_time": "2024-07-27T14:20:46.461Z"
   },
   {
    "duration": 0,
    "start_time": "2024-07-27T14:20:46.464Z"
   },
   {
    "duration": 0,
    "start_time": "2024-07-27T14:20:46.466Z"
   },
   {
    "duration": 0,
    "start_time": "2024-07-27T14:20:46.468Z"
   },
   {
    "duration": 0,
    "start_time": "2024-07-27T14:20:46.471Z"
   },
   {
    "duration": 0,
    "start_time": "2024-07-27T14:20:46.474Z"
   },
   {
    "duration": 0,
    "start_time": "2024-07-27T14:20:46.509Z"
   },
   {
    "duration": 0,
    "start_time": "2024-07-27T14:20:46.512Z"
   },
   {
    "duration": 0,
    "start_time": "2024-07-27T14:20:46.514Z"
   },
   {
    "duration": 0,
    "start_time": "2024-07-27T14:20:46.517Z"
   },
   {
    "duration": 0,
    "start_time": "2024-07-27T14:20:46.520Z"
   },
   {
    "duration": 21,
    "start_time": "2024-07-27T14:23:15.101Z"
   },
   {
    "duration": 1587,
    "start_time": "2024-07-27T14:23:26.646Z"
   },
   {
    "duration": 772,
    "start_time": "2024-07-27T14:23:28.237Z"
   },
   {
    "duration": 25,
    "start_time": "2024-07-27T14:23:29.012Z"
   },
   {
    "duration": 18,
    "start_time": "2024-07-27T14:23:29.040Z"
   },
   {
    "duration": 56,
    "start_time": "2024-07-27T14:23:29.063Z"
   },
   {
    "duration": 123,
    "start_time": "2024-07-27T14:23:29.123Z"
   },
   {
    "duration": 31,
    "start_time": "2024-07-27T14:23:29.251Z"
   },
   {
    "duration": 169,
    "start_time": "2024-07-27T14:23:29.285Z"
   },
   {
    "duration": 25,
    "start_time": "2024-07-27T14:23:29.457Z"
   },
   {
    "duration": 25,
    "start_time": "2024-07-27T14:23:29.485Z"
   },
   {
    "duration": 9,
    "start_time": "2024-07-27T14:23:29.513Z"
   },
   {
    "duration": 8,
    "start_time": "2024-07-27T14:23:29.525Z"
   },
   {
    "duration": 31,
    "start_time": "2024-07-27T14:23:29.536Z"
   },
   {
    "duration": 21,
    "start_time": "2024-07-27T14:23:29.615Z"
   },
   {
    "duration": 33,
    "start_time": "2024-07-27T14:23:29.638Z"
   },
   {
    "duration": 35,
    "start_time": "2024-07-27T14:23:29.674Z"
   },
   {
    "duration": 445,
    "start_time": "2024-07-27T14:23:29.713Z"
   },
   {
    "duration": 0,
    "start_time": "2024-07-27T14:23:30.161Z"
   },
   {
    "duration": 0,
    "start_time": "2024-07-27T14:23:30.163Z"
   },
   {
    "duration": 0,
    "start_time": "2024-07-27T14:23:30.165Z"
   },
   {
    "duration": 0,
    "start_time": "2024-07-27T14:23:30.166Z"
   },
   {
    "duration": 0,
    "start_time": "2024-07-27T14:23:30.169Z"
   },
   {
    "duration": 0,
    "start_time": "2024-07-27T14:23:30.170Z"
   },
   {
    "duration": 0,
    "start_time": "2024-07-27T14:23:30.173Z"
   },
   {
    "duration": 0,
    "start_time": "2024-07-27T14:23:30.175Z"
   },
   {
    "duration": 0,
    "start_time": "2024-07-27T14:23:30.209Z"
   },
   {
    "duration": 0,
    "start_time": "2024-07-27T14:23:30.212Z"
   },
   {
    "duration": 0,
    "start_time": "2024-07-27T14:23:30.214Z"
   },
   {
    "duration": 0,
    "start_time": "2024-07-27T14:23:30.217Z"
   },
   {
    "duration": 0,
    "start_time": "2024-07-27T14:23:30.218Z"
   },
   {
    "duration": 0,
    "start_time": "2024-07-27T14:23:30.221Z"
   },
   {
    "duration": 0,
    "start_time": "2024-07-27T14:23:30.224Z"
   },
   {
    "duration": 0,
    "start_time": "2024-07-27T14:23:30.227Z"
   },
   {
    "duration": 0,
    "start_time": "2024-07-27T14:23:30.229Z"
   },
   {
    "duration": 22,
    "start_time": "2024-07-27T14:23:45.774Z"
   },
   {
    "duration": 6,
    "start_time": "2024-07-27T14:23:51.604Z"
   },
   {
    "duration": 248,
    "start_time": "2024-07-27T14:23:56.653Z"
   },
   {
    "duration": 16,
    "start_time": "2024-07-27T14:24:10.493Z"
   },
   {
    "duration": 6,
    "start_time": "2024-07-27T14:24:11.151Z"
   },
   {
    "duration": 111,
    "start_time": "2024-07-27T14:24:11.635Z"
   },
   {
    "duration": 6,
    "start_time": "2024-07-27T14:28:32.527Z"
   },
   {
    "duration": 16,
    "start_time": "2024-07-27T14:28:54.134Z"
   },
   {
    "duration": 6,
    "start_time": "2024-07-27T14:29:14.354Z"
   },
   {
    "duration": 116,
    "start_time": "2024-07-27T14:29:26.895Z"
   },
   {
    "duration": 7,
    "start_time": "2024-07-27T14:31:04.849Z"
   },
   {
    "duration": 19,
    "start_time": "2024-07-27T14:31:19.224Z"
   },
   {
    "duration": 6,
    "start_time": "2024-07-27T14:31:31.425Z"
   },
   {
    "duration": 7,
    "start_time": "2024-07-27T14:31:46.543Z"
   },
   {
    "duration": 436,
    "start_time": "2024-07-27T14:31:57.219Z"
   },
   {
    "duration": 282,
    "start_time": "2024-07-27T14:32:18.415Z"
   },
   {
    "duration": 1030,
    "start_time": "2024-07-27T14:34:35.455Z"
   },
   {
    "duration": 1036,
    "start_time": "2024-07-27T14:34:51.335Z"
   },
   {
    "duration": 1027,
    "start_time": "2024-07-27T14:38:34.436Z"
   },
   {
    "duration": 1857,
    "start_time": "2024-07-27T14:39:28.336Z"
   },
   {
    "duration": 1978,
    "start_time": "2024-07-27T14:44:46.644Z"
   },
   {
    "duration": 1879,
    "start_time": "2024-07-27T14:45:27.316Z"
   },
   {
    "duration": 942,
    "start_time": "2024-07-27T14:58:54.126Z"
   },
   {
    "duration": 650,
    "start_time": "2024-07-27T15:00:43.325Z"
   },
   {
    "duration": 1225,
    "start_time": "2024-07-27T15:01:18.555Z"
   },
   {
    "duration": 1134,
    "start_time": "2024-07-27T15:01:19.784Z"
   },
   {
    "duration": 3027,
    "start_time": "2024-07-27T15:01:30.230Z"
   },
   {
    "duration": 1420,
    "start_time": "2024-07-27T15:01:33.261Z"
   },
   {
    "duration": 1235,
    "start_time": "2024-07-27T15:01:37.582Z"
   },
   {
    "duration": 3081,
    "start_time": "2024-07-27T15:02:04.000Z"
   },
   {
    "duration": 1254,
    "start_time": "2024-07-27T15:02:07.084Z"
   },
   {
    "duration": 1249,
    "start_time": "2024-07-27T15:02:08.341Z"
   },
   {
    "duration": 1576,
    "start_time": "2024-07-27T15:02:53.537Z"
   },
   {
    "duration": 814,
    "start_time": "2024-07-27T15:02:55.117Z"
   },
   {
    "duration": 24,
    "start_time": "2024-07-27T15:02:55.934Z"
   },
   {
    "duration": 18,
    "start_time": "2024-07-27T15:02:55.962Z"
   },
   {
    "duration": 23,
    "start_time": "2024-07-27T15:02:56.010Z"
   },
   {
    "duration": 126,
    "start_time": "2024-07-27T15:02:56.036Z"
   },
   {
    "duration": 45,
    "start_time": "2024-07-27T15:02:56.165Z"
   },
   {
    "duration": 157,
    "start_time": "2024-07-27T15:02:56.213Z"
   },
   {
    "duration": 37,
    "start_time": "2024-07-27T15:02:56.372Z"
   },
   {
    "duration": 8,
    "start_time": "2024-07-27T15:02:56.412Z"
   },
   {
    "duration": 8,
    "start_time": "2024-07-27T15:02:56.423Z"
   },
   {
    "duration": 8,
    "start_time": "2024-07-27T15:02:56.434Z"
   },
   {
    "duration": 70,
    "start_time": "2024-07-27T15:02:56.445Z"
   },
   {
    "duration": 24,
    "start_time": "2024-07-27T15:02:56.521Z"
   },
   {
    "duration": 62,
    "start_time": "2024-07-27T15:02:56.547Z"
   },
   {
    "duration": 8,
    "start_time": "2024-07-27T15:02:56.612Z"
   },
   {
    "duration": 18,
    "start_time": "2024-07-27T15:02:56.623Z"
   },
   {
    "duration": 6,
    "start_time": "2024-07-27T15:02:56.644Z"
   },
   {
    "duration": 11,
    "start_time": "2024-07-27T15:02:56.653Z"
   },
   {
    "duration": 475,
    "start_time": "2024-07-27T15:02:56.670Z"
   },
   {
    "duration": 1901,
    "start_time": "2024-07-27T15:02:57.148Z"
   },
   {
    "duration": 687,
    "start_time": "2024-07-27T15:02:59.052Z"
   },
   {
    "duration": 1238,
    "start_time": "2024-07-27T15:02:59.742Z"
   },
   {
    "duration": 1127,
    "start_time": "2024-07-27T15:03:00.984Z"
   },
   {
    "duration": 3065,
    "start_time": "2024-07-27T15:03:02.114Z"
   },
   {
    "duration": 1300,
    "start_time": "2024-07-27T15:03:05.182Z"
   },
   {
    "duration": 1285,
    "start_time": "2024-07-27T15:03:06.485Z"
   },
   {
    "duration": 8,
    "start_time": "2024-07-27T15:03:07.773Z"
   },
   {
    "duration": 162,
    "start_time": "2024-07-27T15:03:07.785Z"
   },
   {
    "duration": 25,
    "start_time": "2024-07-27T15:03:07.950Z"
   },
   {
    "duration": 5861,
    "start_time": "2024-07-27T15:03:07.978Z"
   },
   {
    "duration": 1589,
    "start_time": "2024-07-27T15:03:45.534Z"
   },
   {
    "duration": 819,
    "start_time": "2024-07-27T15:03:47.126Z"
   },
   {
    "duration": 25,
    "start_time": "2024-07-27T15:03:47.947Z"
   },
   {
    "duration": 38,
    "start_time": "2024-07-27T15:03:47.976Z"
   },
   {
    "duration": 24,
    "start_time": "2024-07-27T15:03:48.017Z"
   },
   {
    "duration": 130,
    "start_time": "2024-07-27T15:03:48.044Z"
   },
   {
    "duration": 44,
    "start_time": "2024-07-27T15:03:48.178Z"
   },
   {
    "duration": 163,
    "start_time": "2024-07-27T15:03:48.226Z"
   },
   {
    "duration": 32,
    "start_time": "2024-07-27T15:03:48.392Z"
   },
   {
    "duration": 8,
    "start_time": "2024-07-27T15:03:48.430Z"
   },
   {
    "duration": 8,
    "start_time": "2024-07-27T15:03:48.441Z"
   },
   {
    "duration": 8,
    "start_time": "2024-07-27T15:03:48.452Z"
   },
   {
    "duration": 74,
    "start_time": "2024-07-27T15:03:48.463Z"
   },
   {
    "duration": 21,
    "start_time": "2024-07-27T15:03:48.540Z"
   },
   {
    "duration": 63,
    "start_time": "2024-07-27T15:03:48.564Z"
   },
   {
    "duration": 7,
    "start_time": "2024-07-27T15:03:48.630Z"
   },
   {
    "duration": 18,
    "start_time": "2024-07-27T15:03:48.640Z"
   },
   {
    "duration": 6,
    "start_time": "2024-07-27T15:03:48.662Z"
   },
   {
    "duration": 40,
    "start_time": "2024-07-27T15:03:48.671Z"
   },
   {
    "duration": 453,
    "start_time": "2024-07-27T15:03:48.714Z"
   },
   {
    "duration": 1903,
    "start_time": "2024-07-27T15:03:49.170Z"
   },
   {
    "duration": 654,
    "start_time": "2024-07-27T15:03:51.076Z"
   },
   {
    "duration": 1270,
    "start_time": "2024-07-27T15:03:51.733Z"
   },
   {
    "duration": 1115,
    "start_time": "2024-07-27T15:03:53.009Z"
   },
   {
    "duration": 3042,
    "start_time": "2024-07-27T15:03:54.127Z"
   },
   {
    "duration": 1284,
    "start_time": "2024-07-27T15:03:57.171Z"
   },
   {
    "duration": 1279,
    "start_time": "2024-07-27T15:03:58.458Z"
   },
   {
    "duration": 7,
    "start_time": "2024-07-27T15:03:59.745Z"
   },
   {
    "duration": 154,
    "start_time": "2024-07-27T15:03:59.756Z"
   },
   {
    "duration": 26,
    "start_time": "2024-07-27T15:03:59.913Z"
   },
   {
    "duration": 5037,
    "start_time": "2024-07-27T15:03:59.943Z"
   },
   {
    "duration": 29706,
    "start_time": "2024-07-27T15:04:04.983Z"
   },
   {
    "duration": 517,
    "start_time": "2024-07-27T15:04:34.693Z"
   },
   {
    "duration": 595,
    "start_time": "2024-07-27T15:04:35.214Z"
   },
   {
    "duration": 5129,
    "start_time": "2024-07-27T15:06:26.563Z"
   },
   {
    "duration": 29679,
    "start_time": "2024-07-27T15:06:31.696Z"
   },
   {
    "duration": 5,
    "start_time": "2024-07-27T15:10:20.356Z"
   },
   {
    "duration": 1068,
    "start_time": "2024-07-27T15:10:47.877Z"
   },
   {
    "duration": 7,
    "start_time": "2024-07-27T15:11:37.968Z"
   },
   {
    "duration": 5,
    "start_time": "2024-07-27T15:11:38.555Z"
   },
   {
    "duration": 66,
    "start_time": "2024-07-27T15:11:39.766Z"
   },
   {
    "duration": 11,
    "start_time": "2024-07-27T15:16:13.746Z"
   },
   {
    "duration": 12,
    "start_time": "2024-07-27T15:16:19.064Z"
   },
   {
    "duration": 5,
    "start_time": "2024-07-27T15:20:42.342Z"
   },
   {
    "duration": 11,
    "start_time": "2024-07-27T15:20:55.982Z"
   },
   {
    "duration": 41,
    "start_time": "2024-07-27T15:23:28.464Z"
   },
   {
    "duration": 5,
    "start_time": "2024-07-27T15:28:32.460Z"
   },
   {
    "duration": 11,
    "start_time": "2024-07-27T15:28:49.069Z"
   },
   {
    "duration": 12,
    "start_time": "2024-07-27T15:29:09.125Z"
   },
   {
    "duration": 8,
    "start_time": "2024-07-27T15:29:21.785Z"
   },
   {
    "duration": 1624,
    "start_time": "2024-07-27T15:30:41.535Z"
   },
   {
    "duration": 772,
    "start_time": "2024-07-27T15:30:43.162Z"
   },
   {
    "duration": 24,
    "start_time": "2024-07-27T15:30:43.937Z"
   },
   {
    "duration": 19,
    "start_time": "2024-07-27T15:30:43.965Z"
   },
   {
    "duration": 24,
    "start_time": "2024-07-27T15:30:44.010Z"
   },
   {
    "duration": 127,
    "start_time": "2024-07-27T15:30:44.037Z"
   },
   {
    "duration": 44,
    "start_time": "2024-07-27T15:30:44.167Z"
   },
   {
    "duration": 159,
    "start_time": "2024-07-27T15:30:44.214Z"
   },
   {
    "duration": 34,
    "start_time": "2024-07-27T15:30:44.376Z"
   },
   {
    "duration": 8,
    "start_time": "2024-07-27T15:30:44.416Z"
   },
   {
    "duration": 10,
    "start_time": "2024-07-27T15:30:44.426Z"
   },
   {
    "duration": 8,
    "start_time": "2024-07-27T15:30:44.439Z"
   },
   {
    "duration": 71,
    "start_time": "2024-07-27T15:30:44.450Z"
   },
   {
    "duration": 25,
    "start_time": "2024-07-27T15:30:44.525Z"
   },
   {
    "duration": 74,
    "start_time": "2024-07-27T15:30:44.553Z"
   },
   {
    "duration": 7,
    "start_time": "2024-07-27T15:30:44.630Z"
   },
   {
    "duration": 18,
    "start_time": "2024-07-27T15:30:44.640Z"
   },
   {
    "duration": 6,
    "start_time": "2024-07-27T15:30:44.661Z"
   },
   {
    "duration": 44,
    "start_time": "2024-07-27T15:30:44.671Z"
   },
   {
    "duration": 441,
    "start_time": "2024-07-27T15:30:44.717Z"
   },
   {
    "duration": 1892,
    "start_time": "2024-07-27T15:30:45.161Z"
   },
   {
    "duration": 681,
    "start_time": "2024-07-27T15:30:47.056Z"
   },
   {
    "duration": 1231,
    "start_time": "2024-07-27T15:30:47.740Z"
   },
   {
    "duration": 1131,
    "start_time": "2024-07-27T15:30:48.974Z"
   },
   {
    "duration": 2834,
    "start_time": "2024-07-27T15:30:50.110Z"
   },
   {
    "duration": 1236,
    "start_time": "2024-07-27T15:30:52.948Z"
   },
   {
    "duration": 1289,
    "start_time": "2024-07-27T15:30:54.187Z"
   },
   {
    "duration": 5,
    "start_time": "2024-07-27T15:30:55.483Z"
   },
   {
    "duration": 14,
    "start_time": "2024-07-27T15:30:55.508Z"
   },
   {
    "duration": 6,
    "start_time": "2024-07-27T15:30:55.525Z"
   },
   {
    "duration": 4150,
    "start_time": "2024-07-27T15:30:55.534Z"
   },
   {
    "duration": 23620,
    "start_time": "2024-07-27T15:30:59.688Z"
   },
   {
    "duration": 219,
    "start_time": "2024-07-27T15:31:23.312Z"
   },
   {
    "duration": 418,
    "start_time": "2024-07-27T15:31:23.609Z"
   },
   {
    "duration": 309,
    "start_time": "2024-07-28T15:35:37.038Z"
   },
   {
    "duration": 5151,
    "start_time": "2024-07-28T15:35:45.896Z"
   },
   {
    "duration": 935,
    "start_time": "2024-07-28T15:35:51.050Z"
   },
   {
    "duration": 24,
    "start_time": "2024-07-28T15:35:51.988Z"
   },
   {
    "duration": 42,
    "start_time": "2024-07-28T15:35:52.015Z"
   },
   {
    "duration": 29,
    "start_time": "2024-07-28T15:35:52.062Z"
   },
   {
    "duration": 148,
    "start_time": "2024-07-28T15:35:52.094Z"
   },
   {
    "duration": 33,
    "start_time": "2024-07-28T15:35:52.244Z"
   },
   {
    "duration": 162,
    "start_time": "2024-07-28T15:35:52.280Z"
   },
   {
    "duration": 25,
    "start_time": "2024-07-28T15:35:52.444Z"
   },
   {
    "duration": 8,
    "start_time": "2024-07-28T15:35:52.472Z"
   },
   {
    "duration": 8,
    "start_time": "2024-07-28T15:35:52.483Z"
   },
   {
    "duration": 9,
    "start_time": "2024-07-28T15:35:52.533Z"
   },
   {
    "duration": 507,
    "start_time": "2024-07-28T15:35:52.544Z"
   },
   {
    "duration": 0,
    "start_time": "2024-07-28T15:35:53.056Z"
   },
   {
    "duration": 0,
    "start_time": "2024-07-28T15:35:53.058Z"
   },
   {
    "duration": 0,
    "start_time": "2024-07-28T15:35:53.061Z"
   },
   {
    "duration": 0,
    "start_time": "2024-07-28T15:35:53.064Z"
   },
   {
    "duration": 0,
    "start_time": "2024-07-28T15:35:53.066Z"
   },
   {
    "duration": 0,
    "start_time": "2024-07-28T15:35:53.068Z"
   },
   {
    "duration": 0,
    "start_time": "2024-07-28T15:35:53.071Z"
   },
   {
    "duration": 0,
    "start_time": "2024-07-28T15:35:53.075Z"
   },
   {
    "duration": 0,
    "start_time": "2024-07-28T15:35:53.077Z"
   },
   {
    "duration": 0,
    "start_time": "2024-07-28T15:35:53.080Z"
   },
   {
    "duration": 0,
    "start_time": "2024-07-28T15:35:53.082Z"
   },
   {
    "duration": 0,
    "start_time": "2024-07-28T15:35:53.085Z"
   },
   {
    "duration": 0,
    "start_time": "2024-07-28T15:35:53.087Z"
   },
   {
    "duration": 0,
    "start_time": "2024-07-28T15:35:53.135Z"
   },
   {
    "duration": 0,
    "start_time": "2024-07-28T15:35:53.138Z"
   },
   {
    "duration": 0,
    "start_time": "2024-07-28T15:35:53.140Z"
   },
   {
    "duration": 0,
    "start_time": "2024-07-28T15:35:53.142Z"
   },
   {
    "duration": 0,
    "start_time": "2024-07-28T15:35:53.145Z"
   },
   {
    "duration": 0,
    "start_time": "2024-07-28T15:35:53.148Z"
   },
   {
    "duration": 0,
    "start_time": "2024-07-28T15:35:53.150Z"
   },
   {
    "duration": 0,
    "start_time": "2024-07-28T15:35:53.153Z"
   },
   {
    "duration": 25,
    "start_time": "2024-07-28T15:36:24.248Z"
   },
   {
    "duration": 1570,
    "start_time": "2024-07-28T15:36:30.756Z"
   },
   {
    "duration": 772,
    "start_time": "2024-07-28T15:36:32.334Z"
   },
   {
    "duration": 32,
    "start_time": "2024-07-28T15:36:33.109Z"
   },
   {
    "duration": 19,
    "start_time": "2024-07-28T15:36:33.144Z"
   },
   {
    "duration": 23,
    "start_time": "2024-07-28T15:36:33.168Z"
   },
   {
    "duration": 141,
    "start_time": "2024-07-28T15:36:33.194Z"
   },
   {
    "duration": 34,
    "start_time": "2024-07-28T15:36:33.338Z"
   },
   {
    "duration": 168,
    "start_time": "2024-07-28T15:36:33.375Z"
   },
   {
    "duration": 24,
    "start_time": "2024-07-28T15:36:33.546Z"
   },
   {
    "duration": 7,
    "start_time": "2024-07-28T15:36:33.574Z"
   },
   {
    "duration": 9,
    "start_time": "2024-07-28T15:36:33.585Z"
   },
   {
    "duration": 8,
    "start_time": "2024-07-28T15:36:33.636Z"
   },
   {
    "duration": 440,
    "start_time": "2024-07-28T15:36:33.647Z"
   },
   {
    "duration": 0,
    "start_time": "2024-07-28T15:36:34.091Z"
   },
   {
    "duration": 0,
    "start_time": "2024-07-28T15:36:34.094Z"
   },
   {
    "duration": 0,
    "start_time": "2024-07-28T15:36:34.096Z"
   },
   {
    "duration": 0,
    "start_time": "2024-07-28T15:36:34.099Z"
   },
   {
    "duration": 0,
    "start_time": "2024-07-28T15:36:34.101Z"
   },
   {
    "duration": 0,
    "start_time": "2024-07-28T15:36:34.104Z"
   },
   {
    "duration": 0,
    "start_time": "2024-07-28T15:36:34.106Z"
   },
   {
    "duration": 0,
    "start_time": "2024-07-28T15:36:34.108Z"
   },
   {
    "duration": 0,
    "start_time": "2024-07-28T15:36:34.135Z"
   },
   {
    "duration": 0,
    "start_time": "2024-07-28T15:36:34.138Z"
   },
   {
    "duration": 0,
    "start_time": "2024-07-28T15:36:34.140Z"
   },
   {
    "duration": 0,
    "start_time": "2024-07-28T15:36:34.143Z"
   },
   {
    "duration": 0,
    "start_time": "2024-07-28T15:36:34.144Z"
   },
   {
    "duration": 0,
    "start_time": "2024-07-28T15:36:34.147Z"
   },
   {
    "duration": 0,
    "start_time": "2024-07-28T15:36:34.150Z"
   },
   {
    "duration": 0,
    "start_time": "2024-07-28T15:36:34.153Z"
   },
   {
    "duration": 1,
    "start_time": "2024-07-28T15:36:34.155Z"
   },
   {
    "duration": 0,
    "start_time": "2024-07-28T15:36:34.158Z"
   },
   {
    "duration": 0,
    "start_time": "2024-07-28T15:36:34.160Z"
   },
   {
    "duration": 0,
    "start_time": "2024-07-28T15:36:34.162Z"
   },
   {
    "duration": 0,
    "start_time": "2024-07-28T15:36:34.164Z"
   },
   {
    "duration": 24,
    "start_time": "2024-07-28T15:36:48.113Z"
   },
   {
    "duration": 25,
    "start_time": "2024-07-28T15:36:52.337Z"
   },
   {
    "duration": 23,
    "start_time": "2024-07-28T15:37:01.143Z"
   },
   {
    "duration": 1674,
    "start_time": "2024-07-28T15:37:05.519Z"
   },
   {
    "duration": 768,
    "start_time": "2024-07-28T15:37:07.197Z"
   },
   {
    "duration": 24,
    "start_time": "2024-07-28T15:37:07.968Z"
   },
   {
    "duration": 38,
    "start_time": "2024-07-28T15:37:07.996Z"
   },
   {
    "duration": 25,
    "start_time": "2024-07-28T15:37:08.039Z"
   },
   {
    "duration": 134,
    "start_time": "2024-07-28T15:37:08.067Z"
   },
   {
    "duration": 44,
    "start_time": "2024-07-28T15:37:08.204Z"
   },
   {
    "duration": 156,
    "start_time": "2024-07-28T15:37:08.252Z"
   },
   {
    "duration": 38,
    "start_time": "2024-07-28T15:37:08.411Z"
   },
   {
    "duration": 11,
    "start_time": "2024-07-28T15:37:08.452Z"
   },
   {
    "duration": 8,
    "start_time": "2024-07-28T15:37:08.465Z"
   },
   {
    "duration": 8,
    "start_time": "2024-07-28T15:37:08.476Z"
   },
   {
    "duration": 64,
    "start_time": "2024-07-28T15:37:08.487Z"
   },
   {
    "duration": 21,
    "start_time": "2024-07-28T15:37:08.557Z"
   },
   {
    "duration": 61,
    "start_time": "2024-07-28T15:37:08.580Z"
   },
   {
    "duration": 8,
    "start_time": "2024-07-28T15:37:08.644Z"
   },
   {
    "duration": 22,
    "start_time": "2024-07-28T15:37:08.656Z"
   },
   {
    "duration": 5,
    "start_time": "2024-07-28T15:37:08.681Z"
   },
   {
    "duration": 46,
    "start_time": "2024-07-28T15:37:08.689Z"
   },
   {
    "duration": 429,
    "start_time": "2024-07-28T15:37:08.738Z"
   },
   {
    "duration": 1881,
    "start_time": "2024-07-28T15:37:09.170Z"
   },
   {
    "duration": 645,
    "start_time": "2024-07-28T15:37:11.054Z"
   },
   {
    "duration": 1270,
    "start_time": "2024-07-28T15:37:11.702Z"
   },
   {
    "duration": 1096,
    "start_time": "2024-07-28T15:37:12.975Z"
   },
   {
    "duration": 3139,
    "start_time": "2024-07-28T15:37:14.075Z"
   },
   {
    "duration": 1267,
    "start_time": "2024-07-28T15:37:17.218Z"
   },
   {
    "duration": 1268,
    "start_time": "2024-07-28T15:37:18.488Z"
   },
   {
    "duration": 5,
    "start_time": "2024-07-28T15:37:19.759Z"
   },
   {
    "duration": 13,
    "start_time": "2024-07-28T15:37:19.768Z"
   },
   {
    "duration": 9,
    "start_time": "2024-07-28T15:37:19.786Z"
   },
   {
    "duration": 4046,
    "start_time": "2024-07-28T15:37:19.799Z"
   },
   {
    "duration": 23738,
    "start_time": "2024-07-28T15:37:23.848Z"
   },
   {
    "duration": 344,
    "start_time": "2024-07-28T15:37:47.590Z"
   },
   {
    "duration": 305,
    "start_time": "2024-07-28T15:37:47.938Z"
   },
   {
    "duration": 582,
    "start_time": "2024-07-28T15:37:48.252Z"
   },
   {
    "duration": 1625,
    "start_time": "2024-07-28T15:37:59.343Z"
   },
   {
    "duration": 758,
    "start_time": "2024-07-28T15:38:00.972Z"
   },
   {
    "duration": 23,
    "start_time": "2024-07-28T15:38:01.737Z"
   },
   {
    "duration": 18,
    "start_time": "2024-07-28T15:38:01.763Z"
   },
   {
    "duration": 55,
    "start_time": "2024-07-28T15:38:01.785Z"
   },
   {
    "duration": 125,
    "start_time": "2024-07-28T15:38:01.843Z"
   },
   {
    "duration": 37,
    "start_time": "2024-07-28T15:38:01.972Z"
   },
   {
    "duration": 177,
    "start_time": "2024-07-28T15:38:02.012Z"
   },
   {
    "duration": 24,
    "start_time": "2024-07-28T15:38:02.192Z"
   },
   {
    "duration": 9,
    "start_time": "2024-07-28T15:38:02.235Z"
   },
   {
    "duration": 9,
    "start_time": "2024-07-28T15:38:02.247Z"
   },
   {
    "duration": 9,
    "start_time": "2024-07-28T15:38:02.259Z"
   },
   {
    "duration": 7,
    "start_time": "2024-07-28T15:38:02.271Z"
   },
   {
    "duration": 0,
    "start_time": "2024-07-28T15:38:02.283Z"
   },
   {
    "duration": 0,
    "start_time": "2024-07-28T15:38:02.284Z"
   },
   {
    "duration": 0,
    "start_time": "2024-07-28T15:38:02.334Z"
   },
   {
    "duration": 0,
    "start_time": "2024-07-28T15:38:02.337Z"
   },
   {
    "duration": 0,
    "start_time": "2024-07-28T15:38:02.339Z"
   },
   {
    "duration": 0,
    "start_time": "2024-07-28T15:38:02.342Z"
   },
   {
    "duration": 0,
    "start_time": "2024-07-28T15:38:02.344Z"
   },
   {
    "duration": 0,
    "start_time": "2024-07-28T15:38:02.346Z"
   },
   {
    "duration": 0,
    "start_time": "2024-07-28T15:38:02.348Z"
   },
   {
    "duration": 0,
    "start_time": "2024-07-28T15:38:02.350Z"
   },
   {
    "duration": 0,
    "start_time": "2024-07-28T15:38:02.353Z"
   },
   {
    "duration": 0,
    "start_time": "2024-07-28T15:38:02.355Z"
   },
   {
    "duration": 0,
    "start_time": "2024-07-28T15:38:02.357Z"
   },
   {
    "duration": 0,
    "start_time": "2024-07-28T15:38:02.360Z"
   },
   {
    "duration": 0,
    "start_time": "2024-07-28T15:38:02.363Z"
   },
   {
    "duration": 0,
    "start_time": "2024-07-28T15:38:02.365Z"
   },
   {
    "duration": 0,
    "start_time": "2024-07-28T15:38:02.368Z"
   },
   {
    "duration": 0,
    "start_time": "2024-07-28T15:38:02.369Z"
   },
   {
    "duration": 0,
    "start_time": "2024-07-28T15:38:02.371Z"
   },
   {
    "duration": 0,
    "start_time": "2024-07-28T15:38:02.374Z"
   },
   {
    "duration": 0,
    "start_time": "2024-07-28T15:38:02.376Z"
   },
   {
    "duration": 414,
    "start_time": "2024-07-28T15:38:11.578Z"
   },
   {
    "duration": 27,
    "start_time": "2024-07-28T15:38:26.457Z"
   },
   {
    "duration": 26,
    "start_time": "2024-07-28T15:39:37.292Z"
   },
   {
    "duration": 24,
    "start_time": "2024-07-28T15:40:16.548Z"
   },
   {
    "duration": 1570,
    "start_time": "2024-07-28T15:40:23.683Z"
   },
   {
    "duration": 787,
    "start_time": "2024-07-28T15:40:25.257Z"
   },
   {
    "duration": 24,
    "start_time": "2024-07-28T15:40:26.048Z"
   },
   {
    "duration": 19,
    "start_time": "2024-07-28T15:40:26.076Z"
   },
   {
    "duration": 53,
    "start_time": "2024-07-28T15:40:26.099Z"
   },
   {
    "duration": 126,
    "start_time": "2024-07-28T15:40:26.155Z"
   },
   {
    "duration": 32,
    "start_time": "2024-07-28T15:40:26.285Z"
   },
   {
    "duration": 161,
    "start_time": "2024-07-28T15:40:26.335Z"
   },
   {
    "duration": 40,
    "start_time": "2024-07-28T15:40:26.499Z"
   },
   {
    "duration": 8,
    "start_time": "2024-07-28T15:40:26.542Z"
   },
   {
    "duration": 8,
    "start_time": "2024-07-28T15:40:26.554Z"
   },
   {
    "duration": 7,
    "start_time": "2024-07-28T15:40:26.565Z"
   },
   {
    "duration": 72,
    "start_time": "2024-07-28T15:40:26.575Z"
   },
   {
    "duration": 20,
    "start_time": "2024-07-28T15:40:26.653Z"
   },
   {
    "duration": 67,
    "start_time": "2024-07-28T15:40:26.675Z"
   },
   {
    "duration": 6,
    "start_time": "2024-07-28T15:40:26.745Z"
   },
   {
    "duration": 28,
    "start_time": "2024-07-28T15:40:26.754Z"
   },
   {
    "duration": 6,
    "start_time": "2024-07-28T15:40:26.786Z"
   },
   {
    "duration": 8,
    "start_time": "2024-07-28T15:40:26.795Z"
   },
   {
    "duration": 432,
    "start_time": "2024-07-28T15:40:26.835Z"
   },
   {
    "duration": 1873,
    "start_time": "2024-07-28T15:40:27.270Z"
   },
   {
    "duration": 642,
    "start_time": "2024-07-28T15:40:29.146Z"
   },
   {
    "duration": 1248,
    "start_time": "2024-07-28T15:40:29.792Z"
   },
   {
    "duration": 1107,
    "start_time": "2024-07-28T15:40:31.043Z"
   },
   {
    "duration": 3033,
    "start_time": "2024-07-28T15:40:32.152Z"
   },
   {
    "duration": 1229,
    "start_time": "2024-07-28T15:40:35.188Z"
   },
   {
    "duration": 1265,
    "start_time": "2024-07-28T15:40:36.421Z"
   },
   {
    "duration": 6,
    "start_time": "2024-07-28T15:40:37.689Z"
   },
   {
    "duration": 35,
    "start_time": "2024-07-28T15:40:37.699Z"
   },
   {
    "duration": 7,
    "start_time": "2024-07-28T15:40:37.737Z"
   },
   {
    "duration": 4153,
    "start_time": "2024-07-28T15:40:37.747Z"
   },
   {
    "duration": 23732,
    "start_time": "2024-07-28T15:40:41.903Z"
   },
   {
    "duration": 303,
    "start_time": "2024-07-28T15:41:05.638Z"
   },
   {
    "duration": 390,
    "start_time": "2024-07-28T15:41:05.947Z"
   },
   {
    "duration": 99,
    "start_time": "2024-07-28T15:41:06.347Z"
   },
   {
    "duration": 5,
    "start_time": "2024-07-28T15:43:45.883Z"
   },
   {
    "duration": 12,
    "start_time": "2024-07-28T15:43:58.862Z"
   },
   {
    "duration": 8,
    "start_time": "2024-07-28T15:44:09.747Z"
   },
   {
    "duration": 24,
    "start_time": "2024-07-28T15:46:22.958Z"
   },
   {
    "duration": 27,
    "start_time": "2024-07-28T15:46:26.498Z"
   },
   {
    "duration": 18,
    "start_time": "2024-07-28T15:46:33.337Z"
   },
   {
    "duration": 1672,
    "start_time": "2024-07-28T15:46:40.916Z"
   },
   {
    "duration": 23,
    "start_time": "2024-07-28T15:46:52.502Z"
   },
   {
    "duration": 1588,
    "start_time": "2024-07-28T15:47:02.508Z"
   },
   {
    "duration": 790,
    "start_time": "2024-07-28T15:47:04.099Z"
   },
   {
    "duration": 23,
    "start_time": "2024-07-28T15:47:04.892Z"
   },
   {
    "duration": 32,
    "start_time": "2024-07-28T15:47:04.918Z"
   },
   {
    "duration": 23,
    "start_time": "2024-07-28T15:47:04.953Z"
   },
   {
    "duration": 140,
    "start_time": "2024-07-28T15:47:04.980Z"
   },
   {
    "duration": 38,
    "start_time": "2024-07-28T15:47:05.123Z"
   },
   {
    "duration": 162,
    "start_time": "2024-07-28T15:47:05.164Z"
   },
   {
    "duration": 30,
    "start_time": "2024-07-28T15:47:05.329Z"
   },
   {
    "duration": 8,
    "start_time": "2024-07-28T15:47:05.365Z"
   },
   {
    "duration": 8,
    "start_time": "2024-07-28T15:47:05.376Z"
   },
   {
    "duration": 47,
    "start_time": "2024-07-28T15:47:05.387Z"
   },
   {
    "duration": 31,
    "start_time": "2024-07-28T15:47:05.438Z"
   },
   {
    "duration": 19,
    "start_time": "2024-07-28T15:47:05.472Z"
   },
   {
    "duration": 60,
    "start_time": "2024-07-28T15:47:05.494Z"
   },
   {
    "duration": 7,
    "start_time": "2024-07-28T15:47:05.557Z"
   },
   {
    "duration": 20,
    "start_time": "2024-07-28T15:47:05.567Z"
   },
   {
    "duration": 8,
    "start_time": "2024-07-28T15:47:05.590Z"
   },
   {
    "duration": 40,
    "start_time": "2024-07-28T15:47:05.601Z"
   },
   {
    "duration": 470,
    "start_time": "2024-07-28T15:47:05.644Z"
   },
   {
    "duration": 1946,
    "start_time": "2024-07-28T15:47:06.117Z"
   },
   {
    "duration": 673,
    "start_time": "2024-07-28T15:47:08.066Z"
   },
   {
    "duration": 1241,
    "start_time": "2024-07-28T15:47:08.743Z"
   },
   {
    "duration": 1146,
    "start_time": "2024-07-28T15:47:09.988Z"
   },
   {
    "duration": 2883,
    "start_time": "2024-07-28T15:47:11.138Z"
   },
   {
    "duration": 1274,
    "start_time": "2024-07-28T15:47:14.024Z"
   },
   {
    "duration": 1292,
    "start_time": "2024-07-28T15:47:15.301Z"
   },
   {
    "duration": 6,
    "start_time": "2024-07-28T15:47:16.599Z"
   },
   {
    "duration": 32,
    "start_time": "2024-07-28T15:47:16.609Z"
   },
   {
    "duration": 8,
    "start_time": "2024-07-28T15:47:16.645Z"
   },
   {
    "duration": 441,
    "start_time": "2024-07-28T15:47:16.657Z"
   },
   {
    "duration": 0,
    "start_time": "2024-07-28T15:47:17.101Z"
   },
   {
    "duration": 0,
    "start_time": "2024-07-28T15:47:17.104Z"
   },
   {
    "duration": 0,
    "start_time": "2024-07-28T15:47:17.106Z"
   },
   {
    "duration": 7,
    "start_time": "2024-07-28T15:47:21.332Z"
   },
   {
    "duration": 17,
    "start_time": "2024-07-28T15:47:21.763Z"
   },
   {
    "duration": 5,
    "start_time": "2024-07-28T15:47:22.474Z"
   },
   {
    "duration": 8,
    "start_time": "2024-07-28T15:47:25.757Z"
   },
   {
    "duration": 438,
    "start_time": "2024-07-28T15:47:30.029Z"
   },
   {
    "duration": 1854,
    "start_time": "2024-07-28T15:47:32.380Z"
   },
   {
    "duration": 672,
    "start_time": "2024-07-28T15:47:38.283Z"
   },
   {
    "duration": 1135,
    "start_time": "2024-07-28T15:47:40.413Z"
   },
   {
    "duration": 1225,
    "start_time": "2024-07-28T15:47:41.552Z"
   },
   {
    "duration": 2856,
    "start_time": "2024-07-28T15:47:42.780Z"
   },
   {
    "duration": 1280,
    "start_time": "2024-07-28T15:47:45.640Z"
   },
   {
    "duration": 1276,
    "start_time": "2024-07-28T15:47:46.923Z"
   },
   {
    "duration": 6,
    "start_time": "2024-07-28T15:47:48.202Z"
   },
   {
    "duration": 29,
    "start_time": "2024-07-28T15:47:48.212Z"
   },
   {
    "duration": 8,
    "start_time": "2024-07-28T15:47:48.245Z"
   },
   {
    "duration": 5,
    "start_time": "2024-07-28T16:05:58.233Z"
   },
   {
    "duration": 6,
    "start_time": "2024-07-28T16:06:22.617Z"
   },
   {
    "duration": 10,
    "start_time": "2024-07-28T16:06:25.433Z"
   },
   {
    "duration": 5,
    "start_time": "2024-07-28T16:07:23.207Z"
   },
   {
    "duration": 9,
    "start_time": "2024-07-28T16:07:44.522Z"
   },
   {
    "duration": 365,
    "start_time": "2024-07-28T16:08:48.423Z"
   },
   {
    "duration": 8,
    "start_time": "2024-07-28T16:08:53.388Z"
   },
   {
    "duration": 5,
    "start_time": "2024-07-28T16:14:30.698Z"
   },
   {
    "duration": 29,
    "start_time": "2024-07-28T16:14:38.656Z"
   },
   {
    "duration": 5,
    "start_time": "2024-07-28T16:14:44.542Z"
   },
   {
    "duration": 7,
    "start_time": "2024-07-28T16:14:45.647Z"
   },
   {
    "duration": 99,
    "start_time": "2024-07-28T16:17:16.537Z"
   },
   {
    "duration": 92,
    "start_time": "2024-07-28T16:17:17.353Z"
   },
   {
    "duration": 92,
    "start_time": "2024-07-28T16:17:18.203Z"
   },
   {
    "duration": 89,
    "start_time": "2024-07-28T16:17:22.218Z"
   },
   {
    "duration": 8,
    "start_time": "2024-07-28T16:17:54.678Z"
   },
   {
    "duration": 7,
    "start_time": "2024-07-28T16:18:10.507Z"
   },
   {
    "duration": 32,
    "start_time": "2024-07-28T16:19:29.037Z"
   },
   {
    "duration": 120,
    "start_time": "2024-07-28T16:19:58.585Z"
   },
   {
    "duration": 96,
    "start_time": "2024-07-28T16:22:32.977Z"
   },
   {
    "duration": 31,
    "start_time": "2024-07-28T16:24:37.833Z"
   },
   {
    "duration": 9,
    "start_time": "2024-07-28T16:24:38.656Z"
   },
   {
    "duration": 336,
    "start_time": "2024-07-28T16:24:40.124Z"
   },
   {
    "duration": 30,
    "start_time": "2024-07-28T16:24:54.496Z"
   },
   {
    "duration": 16185,
    "start_time": "2024-07-28T16:32:59.909Z"
   },
   {
    "duration": 16020,
    "start_time": "2024-07-28T16:35:17.698Z"
   },
   {
    "duration": 16037,
    "start_time": "2024-07-28T16:36:19.047Z"
   },
   {
    "duration": 16062,
    "start_time": "2024-07-28T16:37:33.382Z"
   },
   {
    "duration": 1614,
    "start_time": "2024-07-28T16:38:35.893Z"
   },
   {
    "duration": 825,
    "start_time": "2024-07-28T16:38:37.511Z"
   },
   {
    "duration": 25,
    "start_time": "2024-07-28T16:38:38.339Z"
   },
   {
    "duration": 18,
    "start_time": "2024-07-28T16:38:38.367Z"
   },
   {
    "duration": 56,
    "start_time": "2024-07-28T16:38:38.390Z"
   },
   {
    "duration": 118,
    "start_time": "2024-07-28T16:38:38.449Z"
   },
   {
    "duration": 32,
    "start_time": "2024-07-28T16:38:38.571Z"
   },
   {
    "duration": 164,
    "start_time": "2024-07-28T16:38:38.607Z"
   },
   {
    "duration": 24,
    "start_time": "2024-07-28T16:38:38.774Z"
   },
   {
    "duration": 7,
    "start_time": "2024-07-28T16:38:38.801Z"
   },
   {
    "duration": 29,
    "start_time": "2024-07-28T16:38:38.811Z"
   },
   {
    "duration": 12,
    "start_time": "2024-07-28T16:38:38.845Z"
   },
   {
    "duration": 28,
    "start_time": "2024-07-28T16:38:38.860Z"
   },
   {
    "duration": 19,
    "start_time": "2024-07-28T16:38:38.936Z"
   },
   {
    "duration": 29,
    "start_time": "2024-07-28T16:38:38.957Z"
   },
   {
    "duration": 7,
    "start_time": "2024-07-28T16:38:38.989Z"
   },
   {
    "duration": 51,
    "start_time": "2024-07-28T16:38:38.999Z"
   },
   {
    "duration": 6,
    "start_time": "2024-07-28T16:38:39.054Z"
   },
   {
    "duration": 8,
    "start_time": "2024-07-28T16:38:39.063Z"
   },
   {
    "duration": 455,
    "start_time": "2024-07-28T16:38:39.073Z"
   },
   {
    "duration": 1918,
    "start_time": "2024-07-28T16:38:39.533Z"
   },
   {
    "duration": 646,
    "start_time": "2024-07-28T16:38:41.456Z"
   },
   {
    "duration": 1265,
    "start_time": "2024-07-28T16:38:42.105Z"
   },
   {
    "duration": 1137,
    "start_time": "2024-07-28T16:38:43.373Z"
   },
   {
    "duration": 3100,
    "start_time": "2024-07-28T16:38:44.513Z"
   },
   {
    "duration": 1305,
    "start_time": "2024-07-28T16:38:47.615Z"
   },
   {
    "duration": 1298,
    "start_time": "2024-07-28T16:38:48.922Z"
   },
   {
    "duration": 36,
    "start_time": "2024-07-28T16:38:50.223Z"
   },
   {
    "duration": 7,
    "start_time": "2024-07-28T16:38:50.262Z"
   },
   {
    "duration": 584,
    "start_time": "2024-07-28T16:38:50.272Z"
   },
   {
    "duration": 0,
    "start_time": "2024-07-28T16:38:50.859Z"
   },
   {
    "duration": 0,
    "start_time": "2024-07-28T16:38:50.860Z"
   },
   {
    "duration": 0,
    "start_time": "2024-07-28T16:38:50.862Z"
   },
   {
    "duration": 0,
    "start_time": "2024-07-28T16:38:50.865Z"
   },
   {
    "duration": 31,
    "start_time": "2024-07-28T16:39:08.331Z"
   },
   {
    "duration": 39,
    "start_time": "2024-07-28T16:39:25.037Z"
   },
   {
    "duration": 39,
    "start_time": "2024-07-28T16:39:47.498Z"
   },
   {
    "duration": 38,
    "start_time": "2024-07-28T16:39:53.108Z"
   },
   {
    "duration": 862,
    "start_time": "2024-07-28T16:41:03.829Z"
   },
   {
    "duration": 1582,
    "start_time": "2024-07-28T16:41:53.102Z"
   },
   {
    "duration": 773,
    "start_time": "2024-07-28T16:41:54.688Z"
   },
   {
    "duration": 25,
    "start_time": "2024-07-28T16:41:55.464Z"
   },
   {
    "duration": 18,
    "start_time": "2024-07-28T16:41:55.493Z"
   },
   {
    "duration": 23,
    "start_time": "2024-07-28T16:41:55.533Z"
   },
   {
    "duration": 129,
    "start_time": "2024-07-28T16:41:55.559Z"
   },
   {
    "duration": 44,
    "start_time": "2024-07-28T16:41:55.691Z"
   },
   {
    "duration": 155,
    "start_time": "2024-07-28T16:41:55.738Z"
   },
   {
    "duration": 26,
    "start_time": "2024-07-28T16:41:55.895Z"
   },
   {
    "duration": 15,
    "start_time": "2024-07-28T16:41:55.938Z"
   },
   {
    "duration": 12,
    "start_time": "2024-07-28T16:41:55.956Z"
   },
   {
    "duration": 12,
    "start_time": "2024-07-28T16:41:55.973Z"
   },
   {
    "duration": 62,
    "start_time": "2024-07-28T16:41:55.988Z"
   },
   {
    "duration": 33,
    "start_time": "2024-07-28T16:41:56.053Z"
   },
   {
    "duration": 48,
    "start_time": "2024-07-28T16:41:56.090Z"
   },
   {
    "duration": 8,
    "start_time": "2024-07-28T16:41:56.141Z"
   },
   {
    "duration": 18,
    "start_time": "2024-07-28T16:41:56.154Z"
   },
   {
    "duration": 6,
    "start_time": "2024-07-28T16:41:56.175Z"
   },
   {
    "duration": 50,
    "start_time": "2024-07-28T16:41:56.184Z"
   },
   {
    "duration": 442,
    "start_time": "2024-07-28T16:41:56.237Z"
   },
   {
    "duration": 1866,
    "start_time": "2024-07-28T16:41:56.681Z"
   },
   {
    "duration": 621,
    "start_time": "2024-07-28T16:41:58.550Z"
   },
   {
    "duration": 1276,
    "start_time": "2024-07-28T16:41:59.174Z"
   },
   {
    "duration": 1083,
    "start_time": "2024-07-28T16:42:00.454Z"
   },
   {
    "duration": 2957,
    "start_time": "2024-07-28T16:42:01.540Z"
   },
   {
    "duration": 1256,
    "start_time": "2024-07-28T16:42:04.500Z"
   },
   {
    "duration": 1265,
    "start_time": "2024-07-28T16:42:05.759Z"
   },
   {
    "duration": 49,
    "start_time": "2024-07-28T16:42:07.036Z"
   },
   {
    "duration": 8,
    "start_time": "2024-07-28T16:42:07.088Z"
   },
   {
    "duration": 586,
    "start_time": "2024-07-28T16:42:07.099Z"
   },
   {
    "duration": 0,
    "start_time": "2024-07-28T16:42:07.688Z"
   },
   {
    "duration": 0,
    "start_time": "2024-07-28T16:42:07.691Z"
   },
   {
    "duration": 0,
    "start_time": "2024-07-28T16:42:07.693Z"
   },
   {
    "duration": 0,
    "start_time": "2024-07-28T16:42:07.696Z"
   },
   {
    "duration": 887,
    "start_time": "2024-07-28T16:46:10.619Z"
   },
   {
    "duration": 8,
    "start_time": "2024-07-28T16:46:25.207Z"
   },
   {
    "duration": 111,
    "start_time": "2024-07-28T16:46:25.583Z"
   },
   {
    "duration": 90,
    "start_time": "2024-07-28T16:50:44.793Z"
   },
   {
    "duration": 345,
    "start_time": "2024-07-28T18:04:57.998Z"
   },
   {
    "duration": 5271,
    "start_time": "2024-07-28T18:05:14.878Z"
   },
   {
    "duration": 965,
    "start_time": "2024-07-28T18:05:20.152Z"
   },
   {
    "duration": 24,
    "start_time": "2024-07-28T18:05:21.120Z"
   },
   {
    "duration": 19,
    "start_time": "2024-07-28T18:05:21.149Z"
   },
   {
    "duration": 57,
    "start_time": "2024-07-28T18:05:21.171Z"
   },
   {
    "duration": 127,
    "start_time": "2024-07-28T18:05:21.231Z"
   },
   {
    "duration": 51,
    "start_time": "2024-07-28T18:05:21.362Z"
   },
   {
    "duration": 162,
    "start_time": "2024-07-28T18:05:21.416Z"
   },
   {
    "duration": 39,
    "start_time": "2024-07-28T18:05:21.582Z"
   },
   {
    "duration": 9,
    "start_time": "2024-07-28T18:05:21.629Z"
   },
   {
    "duration": 9,
    "start_time": "2024-07-28T18:05:21.642Z"
   },
   {
    "duration": 52,
    "start_time": "2024-07-28T18:05:21.655Z"
   },
   {
    "duration": 29,
    "start_time": "2024-07-28T18:05:21.711Z"
   },
   {
    "duration": 21,
    "start_time": "2024-07-28T18:05:21.744Z"
   },
   {
    "duration": 65,
    "start_time": "2024-07-28T18:05:21.769Z"
   },
   {
    "duration": 8,
    "start_time": "2024-07-28T18:05:21.837Z"
   },
   {
    "duration": 19,
    "start_time": "2024-07-28T18:05:21.849Z"
   },
   {
    "duration": 41,
    "start_time": "2024-07-28T18:05:21.871Z"
   },
   {
    "duration": 9,
    "start_time": "2024-07-28T18:05:21.914Z"
   },
   {
    "duration": 473,
    "start_time": "2024-07-28T18:05:21.926Z"
   },
   {
    "duration": 2056,
    "start_time": "2024-07-28T18:05:22.402Z"
   },
   {
    "duration": 710,
    "start_time": "2024-07-28T18:05:24.462Z"
   },
   {
    "duration": 1193,
    "start_time": "2024-07-28T18:05:25.177Z"
   },
   {
    "duration": 1288,
    "start_time": "2024-07-28T18:05:26.374Z"
   },
   {
    "duration": 3041,
    "start_time": "2024-07-28T18:05:27.666Z"
   },
   {
    "duration": 1275,
    "start_time": "2024-07-28T18:05:30.711Z"
   },
   {
    "duration": 1306,
    "start_time": "2024-07-28T18:05:31.989Z"
   },
   {
    "duration": 53,
    "start_time": "2024-07-28T18:05:33.311Z"
   },
   {
    "duration": 1510,
    "start_time": "2024-07-28T18:05:33.367Z"
   },
   {
    "duration": 0,
    "start_time": "2024-07-28T18:05:34.881Z"
   },
   {
    "duration": 0,
    "start_time": "2024-07-28T18:05:34.883Z"
   },
   {
    "duration": 0,
    "start_time": "2024-07-28T18:05:34.885Z"
   },
   {
    "duration": 0,
    "start_time": "2024-07-28T18:05:34.888Z"
   },
   {
    "duration": 0,
    "start_time": "2024-07-28T18:05:34.908Z"
   },
   {
    "duration": 8,
    "start_time": "2024-07-28T18:07:03.798Z"
   },
   {
    "duration": 97,
    "start_time": "2024-07-28T18:07:06.419Z"
   },
   {
    "duration": 48,
    "start_time": "2024-07-28T18:21:43.578Z"
   },
   {
    "duration": 91,
    "start_time": "2024-07-28T19:49:48.414Z"
   },
   {
    "duration": 90,
    "start_time": "2024-07-28T19:49:59.720Z"
   },
   {
    "duration": 1721,
    "start_time": "2024-07-28T19:50:06.199Z"
   },
   {
    "duration": 834,
    "start_time": "2024-07-28T19:50:07.924Z"
   },
   {
    "duration": 26,
    "start_time": "2024-07-28T19:50:08.761Z"
   },
   {
    "duration": 35,
    "start_time": "2024-07-28T19:50:08.790Z"
   },
   {
    "duration": 25,
    "start_time": "2024-07-28T19:50:08.830Z"
   },
   {
    "duration": 161,
    "start_time": "2024-07-28T19:50:08.859Z"
   },
   {
    "duration": 33,
    "start_time": "2024-07-28T19:50:09.022Z"
   },
   {
    "duration": 173,
    "start_time": "2024-07-28T19:50:09.058Z"
   },
   {
    "duration": 26,
    "start_time": "2024-07-28T19:50:09.234Z"
   },
   {
    "duration": 8,
    "start_time": "2024-07-28T19:50:09.263Z"
   },
   {
    "duration": 37,
    "start_time": "2024-07-28T19:50:09.275Z"
   },
   {
    "duration": 9,
    "start_time": "2024-07-28T19:50:09.316Z"
   },
   {
    "duration": 29,
    "start_time": "2024-07-28T19:50:09.328Z"
   },
   {
    "duration": 61,
    "start_time": "2024-07-28T19:50:09.363Z"
   },
   {
    "duration": 31,
    "start_time": "2024-07-28T19:50:09.427Z"
   },
   {
    "duration": 8,
    "start_time": "2024-07-28T19:50:09.462Z"
   },
   {
    "duration": 53,
    "start_time": "2024-07-28T19:50:09.474Z"
   },
   {
    "duration": 5,
    "start_time": "2024-07-28T19:50:09.530Z"
   },
   {
    "duration": 9,
    "start_time": "2024-07-28T19:50:09.538Z"
   },
   {
    "duration": 482,
    "start_time": "2024-07-28T19:50:09.550Z"
   },
   {
    "duration": 1966,
    "start_time": "2024-07-28T19:50:10.035Z"
   },
   {
    "duration": 704,
    "start_time": "2024-07-28T19:50:12.005Z"
   },
   {
    "duration": 1330,
    "start_time": "2024-07-28T19:50:12.712Z"
   },
   {
    "duration": 1234,
    "start_time": "2024-07-28T19:50:14.045Z"
   },
   {
    "duration": 2921,
    "start_time": "2024-07-28T19:50:15.282Z"
   },
   {
    "duration": 1320,
    "start_time": "2024-07-28T19:50:18.206Z"
   },
   {
    "duration": 1271,
    "start_time": "2024-07-28T19:50:19.530Z"
   },
   {
    "duration": 58,
    "start_time": "2024-07-28T19:50:20.803Z"
   },
   {
    "duration": 622,
    "start_time": "2024-07-28T19:50:20.865Z"
   },
   {
    "duration": 0,
    "start_time": "2024-07-28T19:50:21.491Z"
   },
   {
    "duration": 0,
    "start_time": "2024-07-28T19:50:21.509Z"
   },
   {
    "duration": 0,
    "start_time": "2024-07-28T19:50:21.510Z"
   },
   {
    "duration": 0,
    "start_time": "2024-07-28T19:50:21.513Z"
   },
   {
    "duration": 901,
    "start_time": "2024-07-28T19:50:32.029Z"
   },
   {
    "duration": 1666,
    "start_time": "2024-07-28T19:50:38.341Z"
   },
   {
    "duration": 852,
    "start_time": "2024-07-28T19:50:40.011Z"
   },
   {
    "duration": 25,
    "start_time": "2024-07-28T19:50:40.866Z"
   },
   {
    "duration": 33,
    "start_time": "2024-07-28T19:50:40.893Z"
   },
   {
    "duration": 26,
    "start_time": "2024-07-28T19:50:40.931Z"
   },
   {
    "duration": 152,
    "start_time": "2024-07-28T19:50:40.960Z"
   },
   {
    "duration": 33,
    "start_time": "2024-07-28T19:50:41.115Z"
   },
   {
    "duration": 177,
    "start_time": "2024-07-28T19:50:41.151Z"
   },
   {
    "duration": 25,
    "start_time": "2024-07-28T19:50:41.332Z"
   },
   {
    "duration": 9,
    "start_time": "2024-07-28T19:50:41.361Z"
   },
   {
    "duration": 41,
    "start_time": "2024-07-28T19:50:41.373Z"
   },
   {
    "duration": 9,
    "start_time": "2024-07-28T19:50:41.418Z"
   },
   {
    "duration": 28,
    "start_time": "2024-07-28T19:50:41.430Z"
   },
   {
    "duration": 63,
    "start_time": "2024-07-28T19:50:41.464Z"
   },
   {
    "duration": 30,
    "start_time": "2024-07-28T19:50:41.531Z"
   },
   {
    "duration": 7,
    "start_time": "2024-07-28T19:50:41.565Z"
   },
   {
    "duration": 23,
    "start_time": "2024-07-28T19:50:41.609Z"
   },
   {
    "duration": 8,
    "start_time": "2024-07-28T19:50:41.636Z"
   },
   {
    "duration": 9,
    "start_time": "2024-07-28T19:50:41.647Z"
   },
   {
    "duration": 529,
    "start_time": "2024-07-28T19:50:41.660Z"
   },
   {
    "duration": 2025,
    "start_time": "2024-07-28T19:50:42.192Z"
   },
   {
    "duration": 808,
    "start_time": "2024-07-28T19:50:44.221Z"
   },
   {
    "duration": 1364,
    "start_time": "2024-07-28T19:50:45.034Z"
   },
   {
    "duration": 1179,
    "start_time": "2024-07-28T19:50:46.408Z"
   },
   {
    "duration": 3012,
    "start_time": "2024-07-28T19:50:47.590Z"
   },
   {
    "duration": 1297,
    "start_time": "2024-07-28T19:50:50.605Z"
   },
   {
    "duration": 1308,
    "start_time": "2024-07-28T19:50:51.909Z"
   },
   {
    "duration": 650,
    "start_time": "2024-07-28T19:50:53.221Z"
   },
   {
    "duration": 0,
    "start_time": "2024-07-28T19:50:53.874Z"
   },
   {
    "duration": 0,
    "start_time": "2024-07-28T19:50:53.877Z"
   },
   {
    "duration": 0,
    "start_time": "2024-07-28T19:50:53.879Z"
   },
   {
    "duration": 0,
    "start_time": "2024-07-28T19:50:53.881Z"
   },
   {
    "duration": 0,
    "start_time": "2024-07-28T19:50:53.884Z"
   },
   {
    "duration": 909,
    "start_time": "2024-07-28T19:54:32.254Z"
   },
   {
    "duration": 1643,
    "start_time": "2024-07-28T19:54:40.558Z"
   },
   {
    "duration": 888,
    "start_time": "2024-07-28T19:54:42.205Z"
   },
   {
    "duration": 29,
    "start_time": "2024-07-28T19:54:43.096Z"
   },
   {
    "duration": 19,
    "start_time": "2024-07-28T19:54:43.131Z"
   },
   {
    "duration": 62,
    "start_time": "2024-07-28T19:54:43.154Z"
   },
   {
    "duration": 125,
    "start_time": "2024-07-28T19:54:43.220Z"
   },
   {
    "duration": 33,
    "start_time": "2024-07-28T19:54:43.349Z"
   },
   {
    "duration": 191,
    "start_time": "2024-07-28T19:54:43.385Z"
   },
   {
    "duration": 39,
    "start_time": "2024-07-28T19:54:43.580Z"
   },
   {
    "duration": 9,
    "start_time": "2024-07-28T19:54:43.625Z"
   },
   {
    "duration": 8,
    "start_time": "2024-07-28T19:54:43.638Z"
   },
   {
    "duration": 9,
    "start_time": "2024-07-28T19:54:43.650Z"
   },
   {
    "duration": 71,
    "start_time": "2024-07-28T19:54:43.662Z"
   },
   {
    "duration": 23,
    "start_time": "2024-07-28T19:54:43.737Z"
   },
   {
    "duration": 62,
    "start_time": "2024-07-28T19:54:43.763Z"
   },
   {
    "duration": 7,
    "start_time": "2024-07-28T19:54:43.828Z"
   },
   {
    "duration": 20,
    "start_time": "2024-07-28T19:54:43.838Z"
   },
   {
    "duration": 7,
    "start_time": "2024-07-28T19:54:43.861Z"
   },
   {
    "duration": 15,
    "start_time": "2024-07-28T19:54:43.913Z"
   },
   {
    "duration": 496,
    "start_time": "2024-07-28T19:54:43.933Z"
   },
   {
    "duration": 2137,
    "start_time": "2024-07-28T19:54:44.432Z"
   },
   {
    "duration": 680,
    "start_time": "2024-07-28T19:54:46.573Z"
   },
   {
    "duration": 1332,
    "start_time": "2024-07-28T19:54:47.256Z"
   },
   {
    "duration": 1170,
    "start_time": "2024-07-28T19:54:48.591Z"
   },
   {
    "duration": 2935,
    "start_time": "2024-07-28T19:54:49.763Z"
   },
   {
    "duration": 1324,
    "start_time": "2024-07-28T19:54:52.704Z"
   },
   {
    "duration": 1334,
    "start_time": "2024-07-28T19:54:54.032Z"
   },
   {
    "duration": 66,
    "start_time": "2024-07-28T19:54:55.375Z"
   },
   {
    "duration": 618,
    "start_time": "2024-07-28T19:54:55.444Z"
   },
   {
    "duration": 0,
    "start_time": "2024-07-28T19:54:56.065Z"
   },
   {
    "duration": 0,
    "start_time": "2024-07-28T19:54:56.070Z"
   },
   {
    "duration": 0,
    "start_time": "2024-07-28T19:54:56.072Z"
   },
   {
    "duration": 0,
    "start_time": "2024-07-28T19:54:56.074Z"
   },
   {
    "duration": 0,
    "start_time": "2024-07-28T19:54:56.076Z"
   },
   {
    "duration": 37,
    "start_time": "2024-07-28T19:57:06.502Z"
   },
   {
    "duration": 34,
    "start_time": "2024-07-28T19:57:37.773Z"
   },
   {
    "duration": 925,
    "start_time": "2024-07-28T19:57:40.553Z"
   },
   {
    "duration": 55,
    "start_time": "2024-07-28T19:59:22.323Z"
   },
   {
    "duration": 43,
    "start_time": "2024-07-28T20:01:49.278Z"
   },
   {
    "duration": 108,
    "start_time": "2024-07-28T20:26:32.844Z"
   },
   {
    "duration": 644,
    "start_time": "2024-07-28T20:30:29.518Z"
   },
   {
    "duration": 6,
    "start_time": "2024-07-28T20:53:34.448Z"
   },
   {
    "duration": 2216,
    "start_time": "2024-07-28T20:56:58.524Z"
   },
   {
    "duration": 2222,
    "start_time": "2024-07-28T20:57:55.743Z"
   },
   {
    "duration": 6,
    "start_time": "2024-07-28T20:58:08.474Z"
   },
   {
    "duration": 2205,
    "start_time": "2024-07-28T20:58:09.514Z"
   },
   {
    "duration": 2205,
    "start_time": "2024-07-28T20:59:34.223Z"
   },
   {
    "duration": 2210,
    "start_time": "2024-07-28T21:03:28.778Z"
   },
   {
    "duration": 8,
    "start_time": "2024-07-28T21:03:59.323Z"
   },
   {
    "duration": 2163,
    "start_time": "2024-07-28T21:04:06.845Z"
   },
   {
    "duration": 1639,
    "start_time": "2024-07-28T21:06:30.263Z"
   },
   {
    "duration": 868,
    "start_time": "2024-07-28T21:06:31.908Z"
   },
   {
    "duration": 38,
    "start_time": "2024-07-28T21:06:32.778Z"
   },
   {
    "duration": 19,
    "start_time": "2024-07-28T21:06:32.820Z"
   },
   {
    "duration": 24,
    "start_time": "2024-07-28T21:06:32.845Z"
   },
   {
    "duration": 156,
    "start_time": "2024-07-28T21:06:32.872Z"
   },
   {
    "duration": 34,
    "start_time": "2024-07-28T21:06:33.032Z"
   },
   {
    "duration": 181,
    "start_time": "2024-07-28T21:06:33.068Z"
   },
   {
    "duration": 26,
    "start_time": "2024-07-28T21:06:33.252Z"
   },
   {
    "duration": 30,
    "start_time": "2024-07-28T21:06:33.281Z"
   },
   {
    "duration": 9,
    "start_time": "2024-07-28T21:06:33.314Z"
   },
   {
    "duration": 8,
    "start_time": "2024-07-28T21:06:33.327Z"
   },
   {
    "duration": 27,
    "start_time": "2024-07-28T21:06:33.340Z"
   },
   {
    "duration": 22,
    "start_time": "2024-07-28T21:06:33.414Z"
   },
   {
    "duration": 31,
    "start_time": "2024-07-28T21:06:33.439Z"
   },
   {
    "duration": 41,
    "start_time": "2024-07-28T21:06:33.473Z"
   },
   {
    "duration": 26,
    "start_time": "2024-07-28T21:06:33.518Z"
   },
   {
    "duration": 6,
    "start_time": "2024-07-28T21:06:33.548Z"
   },
   {
    "duration": 51,
    "start_time": "2024-07-28T21:06:33.558Z"
   },
   {
    "duration": 480,
    "start_time": "2024-07-28T21:06:33.612Z"
   },
   {
    "duration": 1974,
    "start_time": "2024-07-28T21:06:34.095Z"
   },
   {
    "duration": 680,
    "start_time": "2024-07-28T21:06:36.072Z"
   },
   {
    "duration": 1336,
    "start_time": "2024-07-28T21:06:36.756Z"
   },
   {
    "duration": 1154,
    "start_time": "2024-07-28T21:06:38.095Z"
   },
   {
    "duration": 3119,
    "start_time": "2024-07-28T21:06:39.252Z"
   },
   {
    "duration": 1318,
    "start_time": "2024-07-28T21:06:42.375Z"
   },
   {
    "duration": 1461,
    "start_time": "2024-07-28T21:06:43.697Z"
   },
   {
    "duration": 69,
    "start_time": "2024-07-28T21:06:45.162Z"
   },
   {
    "duration": 58,
    "start_time": "2024-07-28T21:06:45.234Z"
   },
   {
    "duration": 8,
    "start_time": "2024-07-28T21:06:45.309Z"
   },
   {
    "duration": 2351,
    "start_time": "2024-07-28T21:06:45.321Z"
   },
   {
    "duration": 331,
    "start_time": "2024-07-28T21:08:58.978Z"
   },
   {
    "duration": 915,
    "start_time": "2024-07-28T21:08:59.313Z"
   },
   {
    "duration": 0,
    "start_time": "2024-07-28T21:09:00.231Z"
   },
   {
    "duration": 131366,
    "start_time": "2024-07-28T21:09:15.152Z"
   },
   {
    "duration": 2158,
    "start_time": "2024-07-28T21:11:58.573Z"
   },
   {
    "duration": 231,
    "start_time": "2024-07-28T21:13:28.735Z"
   },
   {
    "duration": 13,
    "start_time": "2024-07-28T21:15:49.906Z"
   },
   {
    "duration": 889,
    "start_time": "2024-07-28T21:16:11.333Z"
   },
   {
    "duration": 1683,
    "start_time": "2024-07-28T21:16:21.919Z"
   },
   {
    "duration": 843,
    "start_time": "2024-07-28T21:16:23.608Z"
   },
   {
    "duration": 26,
    "start_time": "2024-07-28T21:16:24.455Z"
   },
   {
    "duration": 37,
    "start_time": "2024-07-28T21:16:24.484Z"
   },
   {
    "duration": 28,
    "start_time": "2024-07-28T21:16:24.526Z"
   },
   {
    "duration": 156,
    "start_time": "2024-07-28T21:16:24.556Z"
   },
   {
    "duration": 39,
    "start_time": "2024-07-28T21:16:24.717Z"
   },
   {
    "duration": 190,
    "start_time": "2024-07-28T21:16:24.759Z"
   },
   {
    "duration": 26,
    "start_time": "2024-07-28T21:16:24.951Z"
   },
   {
    "duration": 31,
    "start_time": "2024-07-28T21:16:24.980Z"
   },
   {
    "duration": 10,
    "start_time": "2024-07-28T21:16:25.016Z"
   },
   {
    "duration": 8,
    "start_time": "2024-07-28T21:16:25.030Z"
   },
   {
    "duration": 67,
    "start_time": "2024-07-28T21:16:25.042Z"
   },
   {
    "duration": 25,
    "start_time": "2024-07-28T21:16:25.117Z"
   },
   {
    "duration": 30,
    "start_time": "2024-07-28T21:16:25.144Z"
   },
   {
    "duration": 9,
    "start_time": "2024-07-28T21:16:25.209Z"
   },
   {
    "duration": 20,
    "start_time": "2024-07-28T21:16:25.221Z"
   },
   {
    "duration": 6,
    "start_time": "2024-07-28T21:16:25.244Z"
   },
   {
    "duration": 10,
    "start_time": "2024-07-28T21:16:25.253Z"
   },
   {
    "duration": 473,
    "start_time": "2024-07-28T21:16:25.308Z"
   },
   {
    "duration": 1968,
    "start_time": "2024-07-28T21:16:25.785Z"
   },
   {
    "duration": 682,
    "start_time": "2024-07-28T21:16:27.756Z"
   },
   {
    "duration": 1268,
    "start_time": "2024-07-28T21:16:28.441Z"
   },
   {
    "duration": 1151,
    "start_time": "2024-07-28T21:16:29.712Z"
   },
   {
    "duration": 2953,
    "start_time": "2024-07-28T21:16:30.866Z"
   },
   {
    "duration": 1352,
    "start_time": "2024-07-28T21:16:33.823Z"
   },
   {
    "duration": 1305,
    "start_time": "2024-07-28T21:16:35.178Z"
   },
   {
    "duration": 58,
    "start_time": "2024-07-28T21:16:36.487Z"
   },
   {
    "duration": 75,
    "start_time": "2024-07-28T21:16:36.548Z"
   },
   {
    "duration": 7,
    "start_time": "2024-07-28T21:16:36.626Z"
   },
   {
    "duration": 2305,
    "start_time": "2024-07-28T21:16:36.637Z"
   },
   {
    "duration": 131692,
    "start_time": "2024-07-28T21:16:38.945Z"
   },
   {
    "duration": 273,
    "start_time": "2024-07-28T21:18:50.640Z"
   },
   {
    "duration": 20,
    "start_time": "2024-07-28T21:18:50.916Z"
   },
   {
    "duration": 793,
    "start_time": "2024-07-28T21:18:50.939Z"
   },
   {
    "duration": 121,
    "start_time": "2024-07-28T21:20:08.897Z"
   },
   {
    "duration": 234,
    "start_time": "2024-07-28T21:22:54.509Z"
   },
   {
    "duration": 291,
    "start_time": "2024-07-28T21:24:10.753Z"
   },
   {
    "duration": 72,
    "start_time": "2024-07-28T21:24:20.824Z"
   },
   {
    "duration": 1660,
    "start_time": "2024-07-28T21:24:30.135Z"
   },
   {
    "duration": 858,
    "start_time": "2024-07-28T21:24:31.799Z"
   },
   {
    "duration": 25,
    "start_time": "2024-07-28T21:24:32.660Z"
   },
   {
    "duration": 41,
    "start_time": "2024-07-28T21:24:32.688Z"
   },
   {
    "duration": 33,
    "start_time": "2024-07-28T21:24:32.734Z"
   },
   {
    "duration": 158,
    "start_time": "2024-07-28T21:24:32.770Z"
   },
   {
    "duration": 37,
    "start_time": "2024-07-28T21:24:32.931Z"
   },
   {
    "duration": 218,
    "start_time": "2024-07-28T21:24:32.973Z"
   },
   {
    "duration": 32,
    "start_time": "2024-07-28T21:24:33.194Z"
   },
   {
    "duration": 10,
    "start_time": "2024-07-28T21:24:33.233Z"
   },
   {
    "duration": 10,
    "start_time": "2024-07-28T21:24:33.246Z"
   },
   {
    "duration": 51,
    "start_time": "2024-07-28T21:24:33.260Z"
   },
   {
    "duration": 30,
    "start_time": "2024-07-28T21:24:33.315Z"
   },
   {
    "duration": 57,
    "start_time": "2024-07-28T21:24:33.353Z"
   },
   {
    "duration": 42,
    "start_time": "2024-07-28T21:24:33.414Z"
   },
   {
    "duration": 12,
    "start_time": "2024-07-28T21:24:33.460Z"
   },
   {
    "duration": 49,
    "start_time": "2024-07-28T21:24:33.476Z"
   },
   {
    "duration": 6,
    "start_time": "2024-07-28T21:24:33.528Z"
   },
   {
    "duration": 9,
    "start_time": "2024-07-28T21:24:33.537Z"
   },
   {
    "duration": 651,
    "start_time": "2024-07-28T21:24:33.550Z"
   },
   {
    "duration": 2005,
    "start_time": "2024-07-28T21:24:34.204Z"
   },
   {
    "duration": 676,
    "start_time": "2024-07-28T21:24:36.213Z"
   },
   {
    "duration": 1265,
    "start_time": "2024-07-28T21:24:36.892Z"
   },
   {
    "duration": 1152,
    "start_time": "2024-07-28T21:24:38.160Z"
   },
   {
    "duration": 3020,
    "start_time": "2024-07-28T21:24:39.315Z"
   },
   {
    "duration": 1299,
    "start_time": "2024-07-28T21:24:42.339Z"
   },
   {
    "duration": 1428,
    "start_time": "2024-07-28T21:24:43.641Z"
   },
   {
    "duration": 65,
    "start_time": "2024-07-28T21:24:45.073Z"
   },
   {
    "duration": 81,
    "start_time": "2024-07-28T21:24:45.141Z"
   },
   {
    "duration": 7,
    "start_time": "2024-07-28T21:24:45.225Z"
   },
   {
    "duration": 2301,
    "start_time": "2024-07-28T21:24:45.236Z"
   },
   {
    "duration": 131285,
    "start_time": "2024-07-28T21:24:47.540Z"
   },
   {
    "duration": 382,
    "start_time": "2024-07-28T21:26:58.828Z"
   },
   {
    "duration": 668,
    "start_time": "2024-07-28T21:26:59.212Z"
   },
   {
    "duration": 161,
    "start_time": "2024-07-28T21:28:10.972Z"
   },
   {
    "duration": 69,
    "start_time": "2024-07-28T21:29:57.689Z"
   },
   {
    "duration": 5245,
    "start_time": "2024-07-29T23:31:47.335Z"
   },
   {
    "duration": 951,
    "start_time": "2024-07-29T23:31:52.584Z"
   },
   {
    "duration": 24,
    "start_time": "2024-07-29T23:31:53.537Z"
   },
   {
    "duration": 18,
    "start_time": "2024-07-29T23:31:53.564Z"
   },
   {
    "duration": 55,
    "start_time": "2024-07-29T23:31:53.587Z"
   },
   {
    "duration": 118,
    "start_time": "2024-07-29T23:31:53.645Z"
   },
   {
    "duration": 33,
    "start_time": "2024-07-29T23:31:53.766Z"
   },
   {
    "duration": 168,
    "start_time": "2024-07-29T23:31:53.802Z"
   },
   {
    "duration": 25,
    "start_time": "2024-07-29T23:31:53.974Z"
   },
   {
    "duration": 28,
    "start_time": "2024-07-29T23:31:54.002Z"
   },
   {
    "duration": 8,
    "start_time": "2024-07-29T23:31:54.033Z"
   },
   {
    "duration": 11,
    "start_time": "2024-07-29T23:31:54.044Z"
   },
   {
    "duration": 7,
    "start_time": "2024-07-29T23:31:54.058Z"
   },
   {
    "duration": 61,
    "start_time": "2024-07-29T23:31:54.073Z"
   },
   {
    "duration": 7,
    "start_time": "2024-07-29T23:31:54.137Z"
   },
   {
    "duration": 9,
    "start_time": "2024-07-29T23:31:54.151Z"
   },
   {
    "duration": 70,
    "start_time": "2024-07-29T23:31:54.164Z"
   },
   {
    "duration": 19,
    "start_time": "2024-07-29T23:31:54.237Z"
   },
   {
    "duration": 31,
    "start_time": "2024-07-29T23:31:54.259Z"
   },
   {
    "duration": 447,
    "start_time": "2024-07-29T23:31:54.292Z"
   },
   {
    "duration": 2005,
    "start_time": "2024-07-29T23:31:54.742Z"
   },
   {
    "duration": 639,
    "start_time": "2024-07-29T23:31:56.750Z"
   },
   {
    "duration": 1182,
    "start_time": "2024-07-29T23:31:57.392Z"
   },
   {
    "duration": 1274,
    "start_time": "2024-07-29T23:31:58.577Z"
   },
   {
    "duration": 2962,
    "start_time": "2024-07-29T23:31:59.854Z"
   },
   {
    "duration": 1283,
    "start_time": "2024-07-29T23:32:02.819Z"
   },
   {
    "duration": 1279,
    "start_time": "2024-07-29T23:32:04.104Z"
   },
   {
    "duration": 67,
    "start_time": "2024-07-29T23:32:05.387Z"
   },
   {
    "duration": 53,
    "start_time": "2024-07-29T23:32:05.458Z"
   },
   {
    "duration": 7,
    "start_time": "2024-07-29T23:32:05.525Z"
   },
   {
    "duration": 2174,
    "start_time": "2024-07-29T23:32:05.536Z"
   },
   {
    "duration": 130296,
    "start_time": "2024-07-29T23:32:07.713Z"
   },
   {
    "duration": 234,
    "start_time": "2024-07-29T23:34:18.012Z"
   },
   {
    "duration": 843,
    "start_time": "2024-07-29T23:34:18.249Z"
   },
   {
    "duration": 924,
    "start_time": "2024-07-30T00:02:27.818Z"
   },
   {
    "duration": 1591,
    "start_time": "2024-07-30T00:02:42.277Z"
   },
   {
    "duration": 804,
    "start_time": "2024-07-30T00:02:43.872Z"
   },
   {
    "duration": 23,
    "start_time": "2024-07-30T00:02:44.679Z"
   },
   {
    "duration": 35,
    "start_time": "2024-07-30T00:02:44.705Z"
   },
   {
    "duration": 24,
    "start_time": "2024-07-30T00:02:44.745Z"
   },
   {
    "duration": 134,
    "start_time": "2024-07-30T00:02:44.772Z"
   },
   {
    "duration": 45,
    "start_time": "2024-07-30T00:02:44.909Z"
   },
   {
    "duration": 155,
    "start_time": "2024-07-30T00:02:44.958Z"
   },
   {
    "duration": 33,
    "start_time": "2024-07-30T00:02:45.116Z"
   },
   {
    "duration": 8,
    "start_time": "2024-07-30T00:02:45.152Z"
   },
   {
    "duration": 7,
    "start_time": "2024-07-30T00:02:45.164Z"
   },
   {
    "duration": 9,
    "start_time": "2024-07-30T00:02:45.174Z"
   },
   {
    "duration": 44,
    "start_time": "2024-07-30T00:02:45.186Z"
   },
   {
    "duration": 19,
    "start_time": "2024-07-30T00:02:45.237Z"
   },
   {
    "duration": 6,
    "start_time": "2024-07-30T00:02:45.259Z"
   },
   {
    "duration": 8,
    "start_time": "2024-07-30T00:02:45.268Z"
   },
   {
    "duration": 72,
    "start_time": "2024-07-30T00:02:45.278Z"
   },
   {
    "duration": 20,
    "start_time": "2024-07-30T00:02:45.352Z"
   },
   {
    "duration": 60,
    "start_time": "2024-07-30T00:02:45.375Z"
   },
   {
    "duration": 441,
    "start_time": "2024-07-30T00:02:45.438Z"
   },
   {
    "duration": 1905,
    "start_time": "2024-07-30T00:02:45.882Z"
   },
   {
    "duration": 672,
    "start_time": "2024-07-30T00:02:47.790Z"
   },
   {
    "duration": 1264,
    "start_time": "2024-07-30T00:02:48.465Z"
   },
   {
    "duration": 1124,
    "start_time": "2024-07-30T00:02:49.733Z"
   },
   {
    "duration": 2974,
    "start_time": "2024-07-30T00:02:50.860Z"
   },
   {
    "duration": 1258,
    "start_time": "2024-07-30T00:02:53.837Z"
   },
   {
    "duration": 1289,
    "start_time": "2024-07-30T00:02:55.098Z"
   },
   {
    "duration": 66,
    "start_time": "2024-07-30T00:02:56.390Z"
   },
   {
    "duration": 1881,
    "start_time": "2024-07-30T00:02:56.459Z"
   },
   {
    "duration": 0,
    "start_time": "2024-07-30T00:02:58.344Z"
   },
   {
    "duration": 0,
    "start_time": "2024-07-30T00:02:58.346Z"
   },
   {
    "duration": 0,
    "start_time": "2024-07-30T00:02:58.348Z"
   },
   {
    "duration": 0,
    "start_time": "2024-07-30T00:02:58.351Z"
   },
   {
    "duration": 0,
    "start_time": "2024-07-30T00:02:58.353Z"
   },
   {
    "duration": 102,
    "start_time": "2024-07-30T00:03:16.233Z"
   },
   {
    "duration": 6,
    "start_time": "2024-07-30T00:04:21.057Z"
   },
   {
    "duration": 43,
    "start_time": "2024-07-30T00:11:30.578Z"
   },
   {
    "duration": 7,
    "start_time": "2024-07-30T00:11:33.968Z"
   },
   {
    "duration": 2641,
    "start_time": "2024-07-30T00:11:36.083Z"
   },
   {
    "duration": 0,
    "start_time": "2024-07-30T00:11:38.727Z"
   },
   {
    "duration": 1,
    "start_time": "2024-07-30T00:11:38.729Z"
   },
   {
    "duration": 29,
    "start_time": "2024-07-30T00:11:38.888Z"
   },
   {
    "duration": 4303,
    "start_time": "2024-07-30T00:16:29.298Z"
   },
   {
    "duration": 4384,
    "start_time": "2024-07-30T00:20:00.394Z"
   },
   {
    "duration": 4291,
    "start_time": "2024-07-30T00:20:09.648Z"
   },
   {
    "duration": 2403,
    "start_time": "2024-07-30T00:28:18.972Z"
   },
   {
    "duration": 2400,
    "start_time": "2024-07-30T00:49:58.052Z"
   },
   {
    "duration": 7,
    "start_time": "2024-07-30T00:50:14.123Z"
   },
   {
    "duration": 1610,
    "start_time": "2024-07-30T00:50:20.916Z"
   },
   {
    "duration": 763,
    "start_time": "2024-07-30T00:50:22.530Z"
   },
   {
    "duration": 36,
    "start_time": "2024-07-30T00:50:23.295Z"
   },
   {
    "duration": 18,
    "start_time": "2024-07-30T00:50:23.334Z"
   },
   {
    "duration": 24,
    "start_time": "2024-07-30T00:50:23.357Z"
   },
   {
    "duration": 149,
    "start_time": "2024-07-30T00:50:23.384Z"
   },
   {
    "duration": 32,
    "start_time": "2024-07-30T00:50:23.535Z"
   },
   {
    "duration": 164,
    "start_time": "2024-07-30T00:50:23.570Z"
   },
   {
    "duration": 26,
    "start_time": "2024-07-30T00:50:23.737Z"
   },
   {
    "duration": 8,
    "start_time": "2024-07-30T00:50:23.766Z"
   },
   {
    "duration": 8,
    "start_time": "2024-07-30T00:50:23.778Z"
   },
   {
    "duration": 8,
    "start_time": "2024-07-30T00:50:23.825Z"
   },
   {
    "duration": 7,
    "start_time": "2024-07-30T00:50:23.837Z"
   },
   {
    "duration": 19,
    "start_time": "2024-07-30T00:50:23.851Z"
   },
   {
    "duration": 7,
    "start_time": "2024-07-30T00:50:23.873Z"
   },
   {
    "duration": 8,
    "start_time": "2024-07-30T00:50:23.927Z"
   },
   {
    "duration": 28,
    "start_time": "2024-07-30T00:50:23.938Z"
   },
   {
    "duration": 21,
    "start_time": "2024-07-30T00:50:23.968Z"
   },
   {
    "duration": 62,
    "start_time": "2024-07-30T00:50:23.991Z"
   },
   {
    "duration": 432,
    "start_time": "2024-07-30T00:50:24.059Z"
   },
   {
    "duration": 1956,
    "start_time": "2024-07-30T00:50:24.495Z"
   },
   {
    "duration": 689,
    "start_time": "2024-07-30T00:50:26.453Z"
   },
   {
    "duration": 1327,
    "start_time": "2024-07-30T00:50:27.145Z"
   },
   {
    "duration": 1146,
    "start_time": "2024-07-30T00:50:28.475Z"
   },
   {
    "duration": 2968,
    "start_time": "2024-07-30T00:50:29.627Z"
   },
   {
    "duration": 1290,
    "start_time": "2024-07-30T00:50:32.598Z"
   },
   {
    "duration": 1282,
    "start_time": "2024-07-30T00:50:33.892Z"
   },
   {
    "duration": 70,
    "start_time": "2024-07-30T00:50:35.178Z"
   },
   {
    "duration": 47,
    "start_time": "2024-07-30T00:50:35.251Z"
   },
   {
    "duration": 7,
    "start_time": "2024-07-30T00:50:35.301Z"
   },
   {
    "duration": 3770,
    "start_time": "2024-07-30T00:50:35.310Z"
   },
   {
    "duration": 0,
    "start_time": "2024-07-30T00:50:39.083Z"
   },
   {
    "duration": 0,
    "start_time": "2024-07-30T00:50:39.085Z"
   },
   {
    "duration": 0,
    "start_time": "2024-07-30T00:50:39.087Z"
   },
   {
    "duration": 6,
    "start_time": "2024-07-30T00:52:39.423Z"
   },
   {
    "duration": 4642,
    "start_time": "2024-07-30T00:54:03.619Z"
   },
   {
    "duration": 5,
    "start_time": "2024-07-30T00:55:02.316Z"
   },
   {
    "duration": 4314,
    "start_time": "2024-07-30T00:55:03.585Z"
   },
   {
    "duration": 6,
    "start_time": "2024-07-30T00:56:43.339Z"
   },
   {
    "duration": 4315,
    "start_time": "2024-07-30T00:56:44.427Z"
   },
   {
    "duration": 11,
    "start_time": "2024-07-30T22:48:15.483Z"
   },
   {
    "duration": 417,
    "start_time": "2024-07-30T22:48:16.730Z"
   },
   {
    "duration": 5625,
    "start_time": "2024-07-30T22:48:25.569Z"
   },
   {
    "duration": 1201,
    "start_time": "2024-07-30T22:48:31.198Z"
   },
   {
    "duration": 41,
    "start_time": "2024-07-30T22:48:32.402Z"
   },
   {
    "duration": 21,
    "start_time": "2024-07-30T22:48:32.446Z"
   },
   {
    "duration": 24,
    "start_time": "2024-07-30T22:48:32.473Z"
   },
   {
    "duration": 120,
    "start_time": "2024-07-30T22:48:32.533Z"
   },
   {
    "duration": 41,
    "start_time": "2024-07-30T22:48:32.657Z"
   },
   {
    "duration": 183,
    "start_time": "2024-07-30T22:48:32.701Z"
   },
   {
    "duration": 31,
    "start_time": "2024-07-30T22:48:32.887Z"
   },
   {
    "duration": 9,
    "start_time": "2024-07-30T22:48:32.931Z"
   },
   {
    "duration": 14,
    "start_time": "2024-07-30T22:48:32.943Z"
   },
   {
    "duration": 9,
    "start_time": "2024-07-30T22:48:32.963Z"
   },
   {
    "duration": 10,
    "start_time": "2024-07-30T22:48:32.975Z"
   },
   {
    "duration": 23,
    "start_time": "2024-07-30T22:48:33.035Z"
   },
   {
    "duration": 5,
    "start_time": "2024-07-30T22:48:33.063Z"
   },
   {
    "duration": 9,
    "start_time": "2024-07-30T22:48:33.071Z"
   },
   {
    "duration": 71,
    "start_time": "2024-07-30T22:48:33.083Z"
   },
   {
    "duration": 26,
    "start_time": "2024-07-30T22:48:33.157Z"
   },
   {
    "duration": 66,
    "start_time": "2024-07-30T22:48:33.187Z"
   },
   {
    "duration": 473,
    "start_time": "2024-07-30T22:48:33.257Z"
   },
   {
    "duration": 2037,
    "start_time": "2024-07-30T22:48:33.734Z"
   },
   {
    "duration": 700,
    "start_time": "2024-07-30T22:48:35.774Z"
   },
   {
    "duration": 1373,
    "start_time": "2024-07-30T22:48:36.485Z"
   },
   {
    "duration": 1347,
    "start_time": "2024-07-30T22:48:37.861Z"
   },
   {
    "duration": 3025,
    "start_time": "2024-07-30T22:48:39.212Z"
   },
   {
    "duration": 1306,
    "start_time": "2024-07-30T22:48:42.240Z"
   },
   {
    "duration": 1256,
    "start_time": "2024-07-30T22:48:43.549Z"
   },
   {
    "duration": 56,
    "start_time": "2024-07-30T22:48:44.808Z"
   },
   {
    "duration": 68,
    "start_time": "2024-07-30T22:48:44.867Z"
   },
   {
    "duration": 7,
    "start_time": "2024-07-30T22:48:44.937Z"
   },
   {
    "duration": 5280,
    "start_time": "2024-07-30T22:48:44.946Z"
   },
   {
    "duration": 0,
    "start_time": "2024-07-30T22:48:50.232Z"
   },
   {
    "duration": 0,
    "start_time": "2024-07-30T22:48:50.234Z"
   },
   {
    "duration": 0,
    "start_time": "2024-07-30T22:48:50.236Z"
   },
   {
    "duration": 1585,
    "start_time": "2024-07-30T22:53:50.388Z"
   },
   {
    "duration": 822,
    "start_time": "2024-07-30T22:53:51.976Z"
   },
   {
    "duration": 33,
    "start_time": "2024-07-30T22:53:52.800Z"
   },
   {
    "duration": 22,
    "start_time": "2024-07-30T22:53:52.836Z"
   },
   {
    "duration": 22,
    "start_time": "2024-07-30T22:53:52.863Z"
   },
   {
    "duration": 148,
    "start_time": "2024-07-30T22:53:52.888Z"
   },
   {
    "duration": 36,
    "start_time": "2024-07-30T22:53:53.041Z"
   },
   {
    "duration": 170,
    "start_time": "2024-07-30T22:53:53.080Z"
   },
   {
    "duration": 26,
    "start_time": "2024-07-30T22:53:53.253Z"
   },
   {
    "duration": 9,
    "start_time": "2024-07-30T22:53:53.282Z"
   },
   {
    "duration": 38,
    "start_time": "2024-07-30T22:53:53.295Z"
   },
   {
    "duration": 11,
    "start_time": "2024-07-30T22:53:53.335Z"
   },
   {
    "duration": 9,
    "start_time": "2024-07-30T22:53:53.349Z"
   },
   {
    "duration": 19,
    "start_time": "2024-07-30T22:53:53.365Z"
   },
   {
    "duration": 46,
    "start_time": "2024-07-30T22:53:53.386Z"
   },
   {
    "duration": 9,
    "start_time": "2024-07-30T22:53:53.435Z"
   },
   {
    "duration": 26,
    "start_time": "2024-07-30T22:53:53.447Z"
   },
   {
    "duration": 57,
    "start_time": "2024-07-30T22:53:53.476Z"
   },
   {
    "duration": 33,
    "start_time": "2024-07-30T22:53:53.537Z"
   },
   {
    "duration": 445,
    "start_time": "2024-07-30T22:53:53.574Z"
   },
   {
    "duration": 1937,
    "start_time": "2024-07-30T22:53:54.022Z"
   },
   {
    "duration": 781,
    "start_time": "2024-07-30T22:53:55.962Z"
   },
   {
    "duration": 1348,
    "start_time": "2024-07-30T22:53:56.746Z"
   },
   {
    "duration": 1155,
    "start_time": "2024-07-30T22:53:58.097Z"
   },
   {
    "duration": 2926,
    "start_time": "2024-07-30T22:53:59.255Z"
   },
   {
    "duration": 1331,
    "start_time": "2024-07-30T22:54:02.184Z"
   },
   {
    "duration": 1270,
    "start_time": "2024-07-30T22:54:03.530Z"
   },
   {
    "duration": 58,
    "start_time": "2024-07-30T22:54:04.802Z"
   },
   {
    "duration": 47,
    "start_time": "2024-07-30T22:54:04.862Z"
   },
   {
    "duration": 6,
    "start_time": "2024-07-30T22:54:04.932Z"
   },
   {
    "duration": 2962,
    "start_time": "2024-07-30T22:54:04.942Z"
   },
   {
    "duration": 0,
    "start_time": "2024-07-30T22:54:07.906Z"
   },
   {
    "duration": 0,
    "start_time": "2024-07-30T22:54:07.908Z"
   },
   {
    "duration": 0,
    "start_time": "2024-07-30T22:54:07.909Z"
   },
   {
    "duration": 6,
    "start_time": "2024-07-30T22:54:20.263Z"
   },
   {
    "duration": 4756,
    "start_time": "2024-07-30T22:54:33.123Z"
   },
   {
    "duration": 8,
    "start_time": "2024-07-30T22:58:31.318Z"
   },
   {
    "duration": 8,
    "start_time": "2024-07-30T22:58:40.968Z"
   },
   {
    "duration": 1692,
    "start_time": "2024-07-30T22:58:55.594Z"
   },
   {
    "duration": 816,
    "start_time": "2024-07-30T22:58:57.289Z"
   },
   {
    "duration": 35,
    "start_time": "2024-07-30T22:58:58.108Z"
   },
   {
    "duration": 20,
    "start_time": "2024-07-30T22:58:58.146Z"
   },
   {
    "duration": 23,
    "start_time": "2024-07-30T22:58:58.171Z"
   },
   {
    "duration": 140,
    "start_time": "2024-07-30T22:58:58.197Z"
   },
   {
    "duration": 32,
    "start_time": "2024-07-30T22:58:58.340Z"
   },
   {
    "duration": 172,
    "start_time": "2024-07-30T22:58:58.375Z"
   },
   {
    "duration": 25,
    "start_time": "2024-07-30T22:58:58.550Z"
   },
   {
    "duration": 7,
    "start_time": "2024-07-30T22:58:58.578Z"
   },
   {
    "duration": 41,
    "start_time": "2024-07-30T22:58:58.589Z"
   },
   {
    "duration": 8,
    "start_time": "2024-07-30T22:58:58.633Z"
   },
   {
    "duration": 8,
    "start_time": "2024-07-30T22:58:58.646Z"
   },
   {
    "duration": 19,
    "start_time": "2024-07-30T22:58:58.662Z"
   },
   {
    "duration": 47,
    "start_time": "2024-07-30T22:58:58.684Z"
   },
   {
    "duration": 8,
    "start_time": "2024-07-30T22:58:58.734Z"
   },
   {
    "duration": 28,
    "start_time": "2024-07-30T22:58:58.745Z"
   },
   {
    "duration": 60,
    "start_time": "2024-07-30T22:58:58.776Z"
   },
   {
    "duration": 35,
    "start_time": "2024-07-30T22:58:58.839Z"
   },
   {
    "duration": 440,
    "start_time": "2024-07-30T22:58:58.877Z"
   },
   {
    "duration": 1976,
    "start_time": "2024-07-30T22:58:59.319Z"
   },
   {
    "duration": 674,
    "start_time": "2024-07-30T22:59:01.298Z"
   },
   {
    "duration": 1309,
    "start_time": "2024-07-30T22:59:01.976Z"
   },
   {
    "duration": 1137,
    "start_time": "2024-07-30T22:59:03.288Z"
   },
   {
    "duration": 3210,
    "start_time": "2024-07-30T22:59:04.432Z"
   },
   {
    "duration": 1277,
    "start_time": "2024-07-30T22:59:07.645Z"
   },
   {
    "duration": 1290,
    "start_time": "2024-07-30T22:59:08.930Z"
   },
   {
    "duration": 58,
    "start_time": "2024-07-30T22:59:10.223Z"
   },
   {
    "duration": 61,
    "start_time": "2024-07-30T22:59:10.284Z"
   },
   {
    "duration": 9,
    "start_time": "2024-07-30T22:59:10.348Z"
   },
   {
    "duration": 2872,
    "start_time": "2024-07-30T22:59:10.361Z"
   },
   {
    "duration": 0,
    "start_time": "2024-07-30T22:59:13.236Z"
   },
   {
    "duration": 0,
    "start_time": "2024-07-30T22:59:13.238Z"
   },
   {
    "duration": 0,
    "start_time": "2024-07-30T22:59:13.240Z"
   },
   {
    "duration": 2305,
    "start_time": "2024-07-30T23:04:08.338Z"
   },
   {
    "duration": 9,
    "start_time": "2024-07-30T23:06:42.924Z"
   },
   {
    "duration": 2326,
    "start_time": "2024-07-30T23:07:36.370Z"
   },
   {
    "duration": 2306,
    "start_time": "2024-07-30T23:07:44.024Z"
   },
   {
    "duration": 1563,
    "start_time": "2024-07-30T23:09:23.096Z"
   },
   {
    "duration": 772,
    "start_time": "2024-07-30T23:09:24.663Z"
   },
   {
    "duration": 23,
    "start_time": "2024-07-30T23:09:25.438Z"
   },
   {
    "duration": 19,
    "start_time": "2024-07-30T23:09:25.464Z"
   },
   {
    "duration": 54,
    "start_time": "2024-07-30T23:09:25.488Z"
   },
   {
    "duration": 119,
    "start_time": "2024-07-30T23:09:25.545Z"
   },
   {
    "duration": 32,
    "start_time": "2024-07-30T23:09:25.667Z"
   },
   {
    "duration": 183,
    "start_time": "2024-07-30T23:09:25.702Z"
   },
   {
    "duration": 30,
    "start_time": "2024-07-30T23:09:25.888Z"
   },
   {
    "duration": 12,
    "start_time": "2024-07-30T23:09:25.931Z"
   },
   {
    "duration": 8,
    "start_time": "2024-07-30T23:09:25.946Z"
   },
   {
    "duration": 8,
    "start_time": "2024-07-30T23:09:25.957Z"
   },
   {
    "duration": 8,
    "start_time": "2024-07-30T23:09:25.969Z"
   },
   {
    "duration": 61,
    "start_time": "2024-07-30T23:09:25.985Z"
   },
   {
    "duration": 7,
    "start_time": "2024-07-30T23:09:26.049Z"
   },
   {
    "duration": 17,
    "start_time": "2024-07-30T23:09:26.058Z"
   },
   {
    "duration": 60,
    "start_time": "2024-07-30T23:09:26.079Z"
   },
   {
    "duration": 24,
    "start_time": "2024-07-30T23:09:26.144Z"
   },
   {
    "duration": 30,
    "start_time": "2024-07-30T23:09:26.172Z"
   },
   {
    "duration": 542,
    "start_time": "2024-07-30T23:09:26.233Z"
   },
   {
    "duration": 1993,
    "start_time": "2024-07-30T23:09:26.778Z"
   },
   {
    "duration": 673,
    "start_time": "2024-07-30T23:09:28.774Z"
   },
   {
    "duration": 1255,
    "start_time": "2024-07-30T23:09:29.450Z"
   },
   {
    "duration": 1145,
    "start_time": "2024-07-30T23:09:30.708Z"
   },
   {
    "duration": 3009,
    "start_time": "2024-07-30T23:09:31.856Z"
   },
   {
    "duration": 1275,
    "start_time": "2024-07-30T23:09:34.870Z"
   },
   {
    "duration": 1322,
    "start_time": "2024-07-30T23:09:36.148Z"
   },
   {
    "duration": 74,
    "start_time": "2024-07-30T23:09:37.473Z"
   },
   {
    "duration": 48,
    "start_time": "2024-07-30T23:09:37.549Z"
   },
   {
    "duration": 9,
    "start_time": "2024-07-30T23:09:37.600Z"
   },
   {
    "duration": 2438,
    "start_time": "2024-07-30T23:09:37.633Z"
   },
   {
    "duration": 137044,
    "start_time": "2024-07-30T23:09:40.075Z"
   },
   {
    "duration": 124,
    "start_time": "2024-07-30T23:11:57.121Z"
   },
   {
    "duration": 805,
    "start_time": "2024-07-30T23:11:57.249Z"
   },
   {
    "duration": 99,
    "start_time": "2024-07-30T23:14:39.454Z"
   },
   {
    "duration": 18,
    "start_time": "2024-07-30T23:15:10.584Z"
   },
   {
    "duration": 14,
    "start_time": "2024-07-30T23:16:26.622Z"
   },
   {
    "duration": 1478,
    "start_time": "2024-07-30T23:17:01.232Z"
   },
   {
    "duration": 1602,
    "start_time": "2024-07-30T23:17:10.048Z"
   },
   {
    "duration": 810,
    "start_time": "2024-07-30T23:17:11.656Z"
   },
   {
    "duration": 23,
    "start_time": "2024-07-30T23:17:12.469Z"
   },
   {
    "duration": 39,
    "start_time": "2024-07-30T23:17:12.495Z"
   },
   {
    "duration": 31,
    "start_time": "2024-07-30T23:17:12.539Z"
   },
   {
    "duration": 142,
    "start_time": "2024-07-30T23:17:12.575Z"
   },
   {
    "duration": 42,
    "start_time": "2024-07-30T23:17:12.720Z"
   },
   {
    "duration": 166,
    "start_time": "2024-07-30T23:17:12.765Z"
   },
   {
    "duration": 27,
    "start_time": "2024-07-30T23:17:12.934Z"
   },
   {
    "duration": 8,
    "start_time": "2024-07-30T23:17:12.964Z"
   },
   {
    "duration": 7,
    "start_time": "2024-07-30T23:17:12.976Z"
   },
   {
    "duration": 46,
    "start_time": "2024-07-30T23:17:12.985Z"
   },
   {
    "duration": 10,
    "start_time": "2024-07-30T23:17:13.034Z"
   },
   {
    "duration": 21,
    "start_time": "2024-07-30T23:17:13.052Z"
   },
   {
    "duration": 5,
    "start_time": "2024-07-30T23:17:13.078Z"
   },
   {
    "duration": 49,
    "start_time": "2024-07-30T23:17:13.086Z"
   },
   {
    "duration": 28,
    "start_time": "2024-07-30T23:17:13.139Z"
   },
   {
    "duration": 18,
    "start_time": "2024-07-30T23:17:13.170Z"
   },
   {
    "duration": 66,
    "start_time": "2024-07-30T23:17:13.191Z"
   },
   {
    "duration": 422,
    "start_time": "2024-07-30T23:17:13.260Z"
   },
   {
    "duration": 1914,
    "start_time": "2024-07-30T23:17:13.685Z"
   },
   {
    "duration": 689,
    "start_time": "2024-07-30T23:17:15.602Z"
   },
   {
    "duration": 1322,
    "start_time": "2024-07-30T23:17:16.294Z"
   },
   {
    "duration": 1135,
    "start_time": "2024-07-30T23:17:17.619Z"
   },
   {
    "duration": 2965,
    "start_time": "2024-07-30T23:17:18.759Z"
   },
   {
    "duration": 1314,
    "start_time": "2024-07-30T23:17:21.727Z"
   },
   {
    "duration": 1251,
    "start_time": "2024-07-30T23:17:23.044Z"
   },
   {
    "duration": 17,
    "start_time": "2024-07-30T23:17:24.298Z"
   },
   {
    "duration": 44,
    "start_time": "2024-07-30T23:17:24.330Z"
   },
   {
    "duration": 13,
    "start_time": "2024-07-30T23:17:24.377Z"
   },
   {
    "duration": 178,
    "start_time": "2024-07-30T23:17:24.394Z"
   },
   {
    "duration": 2357,
    "start_time": "2024-07-30T23:17:24.575Z"
   },
   {
    "duration": 1582,
    "start_time": "2024-07-30T23:18:27.077Z"
   },
   {
    "duration": 857,
    "start_time": "2024-07-30T23:18:28.662Z"
   },
   {
    "duration": 32,
    "start_time": "2024-07-30T23:18:29.522Z"
   },
   {
    "duration": 18,
    "start_time": "2024-07-30T23:18:29.558Z"
   },
   {
    "duration": 52,
    "start_time": "2024-07-30T23:18:29.579Z"
   },
   {
    "duration": 120,
    "start_time": "2024-07-30T23:18:29.634Z"
   },
   {
    "duration": 33,
    "start_time": "2024-07-30T23:18:29.757Z"
   },
   {
    "duration": 166,
    "start_time": "2024-07-30T23:18:29.792Z"
   },
   {
    "duration": 25,
    "start_time": "2024-07-30T23:18:29.962Z"
   },
   {
    "duration": 8,
    "start_time": "2024-07-30T23:18:29.993Z"
   },
   {
    "duration": 8,
    "start_time": "2024-07-30T23:18:30.031Z"
   },
   {
    "duration": 9,
    "start_time": "2024-07-30T23:18:30.041Z"
   },
   {
    "duration": 7,
    "start_time": "2024-07-30T23:18:30.053Z"
   },
   {
    "duration": 20,
    "start_time": "2024-07-30T23:18:30.063Z"
   },
   {
    "duration": 47,
    "start_time": "2024-07-30T23:18:30.086Z"
   },
   {
    "duration": 7,
    "start_time": "2024-07-30T23:18:30.137Z"
   },
   {
    "duration": 26,
    "start_time": "2024-07-30T23:18:30.147Z"
   },
   {
    "duration": 61,
    "start_time": "2024-07-30T23:18:30.177Z"
   },
   {
    "duration": 29,
    "start_time": "2024-07-30T23:18:30.241Z"
   },
   {
    "duration": 478,
    "start_time": "2024-07-30T23:18:30.273Z"
   },
   {
    "duration": 1936,
    "start_time": "2024-07-30T23:18:30.754Z"
   },
   {
    "duration": 672,
    "start_time": "2024-07-30T23:18:32.692Z"
   },
   {
    "duration": 1239,
    "start_time": "2024-07-30T23:18:33.367Z"
   },
   {
    "duration": 1145,
    "start_time": "2024-07-30T23:18:34.609Z"
   },
   {
    "duration": 3306,
    "start_time": "2024-07-30T23:18:35.757Z"
   },
   {
    "duration": 1249,
    "start_time": "2024-07-30T23:18:39.067Z"
   },
   {
    "duration": 1273,
    "start_time": "2024-07-30T23:18:40.319Z"
   },
   {
    "duration": 60,
    "start_time": "2024-07-30T23:18:41.599Z"
   },
   {
    "duration": 47,
    "start_time": "2024-07-30T23:18:41.662Z"
   },
   {
    "duration": 30,
    "start_time": "2024-07-30T23:18:41.712Z"
   },
   {
    "duration": 147,
    "start_time": "2024-07-30T23:18:41.746Z"
   },
   {
    "duration": 2327,
    "start_time": "2024-07-30T23:18:41.896Z"
   },
   {
    "duration": 1543,
    "start_time": "2024-07-30T23:39:18.125Z"
   },
   {
    "duration": 787,
    "start_time": "2024-07-30T23:39:19.673Z"
   },
   {
    "duration": 27,
    "start_time": "2024-07-30T23:39:20.463Z"
   },
   {
    "duration": 44,
    "start_time": "2024-07-30T23:39:20.493Z"
   },
   {
    "duration": 23,
    "start_time": "2024-07-30T23:39:20.543Z"
   },
   {
    "duration": 126,
    "start_time": "2024-07-30T23:39:20.570Z"
   },
   {
    "duration": 40,
    "start_time": "2024-07-30T23:39:20.699Z"
   },
   {
    "duration": 159,
    "start_time": "2024-07-30T23:39:20.742Z"
   },
   {
    "duration": 34,
    "start_time": "2024-07-30T23:39:20.904Z"
   },
   {
    "duration": 8,
    "start_time": "2024-07-30T23:39:20.941Z"
   },
   {
    "duration": 8,
    "start_time": "2024-07-30T23:39:20.953Z"
   },
   {
    "duration": 10,
    "start_time": "2024-07-30T23:39:20.964Z"
   },
   {
    "duration": 7,
    "start_time": "2024-07-30T23:39:20.977Z"
   },
   {
    "duration": 19,
    "start_time": "2024-07-30T23:39:21.035Z"
   },
   {
    "duration": 5,
    "start_time": "2024-07-30T23:39:21.057Z"
   },
   {
    "duration": 9,
    "start_time": "2024-07-30T23:39:21.065Z"
   },
   {
    "duration": 67,
    "start_time": "2024-07-30T23:39:21.077Z"
   },
   {
    "duration": 21,
    "start_time": "2024-07-30T23:39:21.147Z"
   },
   {
    "duration": 28,
    "start_time": "2024-07-30T23:39:21.171Z"
   },
   {
    "duration": 430,
    "start_time": "2024-07-30T23:39:21.232Z"
   },
   {
    "duration": 1946,
    "start_time": "2024-07-30T23:39:21.665Z"
   },
   {
    "duration": 648,
    "start_time": "2024-07-30T23:39:23.615Z"
   },
   {
    "duration": 1234,
    "start_time": "2024-07-30T23:39:24.266Z"
   },
   {
    "duration": 1198,
    "start_time": "2024-07-30T23:39:25.503Z"
   },
   {
    "duration": 2954,
    "start_time": "2024-07-30T23:39:26.704Z"
   },
   {
    "duration": 1274,
    "start_time": "2024-07-30T23:39:29.661Z"
   },
   {
    "duration": 1278,
    "start_time": "2024-07-30T23:39:30.938Z"
   },
   {
    "duration": 67,
    "start_time": "2024-07-30T23:39:32.219Z"
   },
   {
    "duration": 65,
    "start_time": "2024-07-30T23:39:32.289Z"
   },
   {
    "duration": 9,
    "start_time": "2024-07-30T23:39:32.357Z"
   },
   {
    "duration": 146,
    "start_time": "2024-07-30T23:39:32.369Z"
   },
   {
    "duration": 2325,
    "start_time": "2024-07-30T23:39:32.518Z"
   },
   {
    "duration": 136155,
    "start_time": "2024-07-30T23:39:34.846Z"
   },
   {
    "duration": 49,
    "start_time": "2024-07-30T23:41:51.006Z"
   },
   {
    "duration": 813,
    "start_time": "2024-07-30T23:41:51.057Z"
   },
   {
    "duration": 154,
    "start_time": "2024-07-30T23:42:16.303Z"
   },
   {
    "duration": 8,
    "start_time": "2024-07-30T23:47:22.323Z"
   },
   {
    "duration": 2317,
    "start_time": "2024-07-30T23:47:23.993Z"
   },
   {
    "duration": 136781,
    "start_time": "2024-07-30T23:47:30.525Z"
   },
   {
    "duration": 119,
    "start_time": "2024-07-30T23:49:47.310Z"
   },
   {
    "duration": 156,
    "start_time": "2024-07-30T23:49:47.432Z"
   },
   {
    "duration": 861,
    "start_time": "2024-07-30T23:51:17.783Z"
   },
   {
    "duration": 1634,
    "start_time": "2024-07-30T23:51:27.728Z"
   },
   {
    "duration": 782,
    "start_time": "2024-07-30T23:51:29.366Z"
   },
   {
    "duration": 23,
    "start_time": "2024-07-30T23:51:30.151Z"
   },
   {
    "duration": 20,
    "start_time": "2024-07-30T23:51:30.178Z"
   },
   {
    "duration": 56,
    "start_time": "2024-07-30T23:51:30.201Z"
   },
   {
    "duration": 130,
    "start_time": "2024-07-30T23:51:30.260Z"
   },
   {
    "duration": 44,
    "start_time": "2024-07-30T23:51:30.393Z"
   },
   {
    "duration": 158,
    "start_time": "2024-07-30T23:51:30.440Z"
   },
   {
    "duration": 36,
    "start_time": "2024-07-30T23:51:30.601Z"
   },
   {
    "duration": 8,
    "start_time": "2024-07-30T23:51:30.644Z"
   },
   {
    "duration": 8,
    "start_time": "2024-07-30T23:51:30.654Z"
   },
   {
    "duration": 8,
    "start_time": "2024-07-30T23:51:30.665Z"
   },
   {
    "duration": 7,
    "start_time": "2024-07-30T23:51:30.676Z"
   },
   {
    "duration": 61,
    "start_time": "2024-07-30T23:51:30.687Z"
   },
   {
    "duration": 7,
    "start_time": "2024-07-30T23:51:30.752Z"
   },
   {
    "duration": 8,
    "start_time": "2024-07-30T23:51:30.765Z"
   },
   {
    "duration": 63,
    "start_time": "2024-07-30T23:51:30.775Z"
   },
   {
    "duration": 21,
    "start_time": "2024-07-30T23:51:30.841Z"
   },
   {
    "duration": 29,
    "start_time": "2024-07-30T23:51:30.865Z"
   },
   {
    "duration": 426,
    "start_time": "2024-07-30T23:51:30.930Z"
   },
   {
    "duration": 1931,
    "start_time": "2024-07-30T23:51:31.360Z"
   },
   {
    "duration": 668,
    "start_time": "2024-07-30T23:51:33.294Z"
   },
   {
    "duration": 1269,
    "start_time": "2024-07-30T23:51:33.965Z"
   },
   {
    "duration": 1178,
    "start_time": "2024-07-30T23:51:35.237Z"
   },
   {
    "duration": 2986,
    "start_time": "2024-07-30T23:51:36.418Z"
   },
   {
    "duration": 1409,
    "start_time": "2024-07-30T23:51:39.407Z"
   },
   {
    "duration": 1291,
    "start_time": "2024-07-30T23:51:40.819Z"
   },
   {
    "duration": 64,
    "start_time": "2024-07-30T23:51:42.117Z"
   },
   {
    "duration": 72,
    "start_time": "2024-07-30T23:51:42.184Z"
   },
   {
    "duration": 9,
    "start_time": "2024-07-30T23:51:42.258Z"
   },
   {
    "duration": 2339,
    "start_time": "2024-07-30T23:51:42.270Z"
   },
   {
    "duration": 135653,
    "start_time": "2024-07-30T23:51:44.612Z"
   },
   {
    "duration": 80,
    "start_time": "2024-07-30T23:54:00.270Z"
   },
   {
    "duration": 794,
    "start_time": "2024-07-30T23:54:00.352Z"
   },
   {
    "duration": 69,
    "start_time": "2024-07-31T00:00:48.163Z"
   },
   {
    "duration": 5,
    "start_time": "2024-07-31T00:14:59.854Z"
   },
   {
    "duration": 5,
    "start_time": "2024-07-31T00:15:19.324Z"
   },
   {
    "duration": 5,
    "start_time": "2024-07-31T00:17:12.599Z"
   },
   {
    "duration": 872,
    "start_time": "2024-07-31T00:22:02.759Z"
   },
   {
    "duration": 92,
    "start_time": "2024-07-31T00:22:08.647Z"
   },
   {
    "duration": 1686,
    "start_time": "2024-07-31T00:22:15.425Z"
   },
   {
    "duration": 809,
    "start_time": "2024-07-31T00:22:17.115Z"
   },
   {
    "duration": 24,
    "start_time": "2024-07-31T00:22:17.927Z"
   },
   {
    "duration": 18,
    "start_time": "2024-07-31T00:22:17.954Z"
   },
   {
    "duration": 55,
    "start_time": "2024-07-31T00:22:17.978Z"
   },
   {
    "duration": 119,
    "start_time": "2024-07-31T00:22:18.036Z"
   },
   {
    "duration": 32,
    "start_time": "2024-07-31T00:22:18.157Z"
   },
   {
    "duration": 172,
    "start_time": "2024-07-31T00:22:18.192Z"
   },
   {
    "duration": 25,
    "start_time": "2024-07-31T00:22:18.367Z"
   },
   {
    "duration": 8,
    "start_time": "2024-07-31T00:22:18.395Z"
   },
   {
    "duration": 8,
    "start_time": "2024-07-31T00:22:18.432Z"
   },
   {
    "duration": 8,
    "start_time": "2024-07-31T00:22:18.444Z"
   },
   {
    "duration": 7,
    "start_time": "2024-07-31T00:22:18.455Z"
   },
   {
    "duration": 19,
    "start_time": "2024-07-31T00:22:18.469Z"
   },
   {
    "duration": 7,
    "start_time": "2024-07-31T00:22:18.532Z"
   },
   {
    "duration": 8,
    "start_time": "2024-07-31T00:22:18.543Z"
   },
   {
    "duration": 27,
    "start_time": "2024-07-31T00:22:18.554Z"
   },
   {
    "duration": 61,
    "start_time": "2024-07-31T00:22:18.585Z"
   },
   {
    "duration": 29,
    "start_time": "2024-07-31T00:22:18.649Z"
   },
   {
    "duration": 436,
    "start_time": "2024-07-31T00:22:18.681Z"
   },
   {
    "duration": 1916,
    "start_time": "2024-07-31T00:22:19.119Z"
   },
   {
    "duration": 649,
    "start_time": "2024-07-31T00:22:21.038Z"
   },
   {
    "duration": 1302,
    "start_time": "2024-07-31T00:22:21.691Z"
   },
   {
    "duration": 1156,
    "start_time": "2024-07-31T00:22:22.995Z"
   },
   {
    "duration": 3491,
    "start_time": "2024-07-31T00:22:24.155Z"
   },
   {
    "duration": 1398,
    "start_time": "2024-07-31T00:22:27.655Z"
   },
   {
    "duration": 1444,
    "start_time": "2024-07-31T00:22:29.056Z"
   },
   {
    "duration": 611,
    "start_time": "2024-07-31T00:22:30.503Z"
   },
   {
    "duration": 0,
    "start_time": "2024-07-31T00:22:31.116Z"
   },
   {
    "duration": 0,
    "start_time": "2024-07-31T00:22:31.118Z"
   },
   {
    "duration": 0,
    "start_time": "2024-07-31T00:22:31.120Z"
   },
   {
    "duration": 0,
    "start_time": "2024-07-31T00:22:31.130Z"
   },
   {
    "duration": 0,
    "start_time": "2024-07-31T00:22:31.131Z"
   },
   {
    "duration": 0,
    "start_time": "2024-07-31T00:22:31.133Z"
   },
   {
    "duration": 0,
    "start_time": "2024-07-31T00:22:31.135Z"
   },
   {
    "duration": 0,
    "start_time": "2024-07-31T00:22:31.137Z"
   },
   {
    "duration": 0,
    "start_time": "2024-07-31T00:22:31.139Z"
   },
   {
    "duration": 901,
    "start_time": "2024-07-31T00:23:21.222Z"
   },
   {
    "duration": 1588,
    "start_time": "2024-07-31T00:23:32.583Z"
   },
   {
    "duration": 778,
    "start_time": "2024-07-31T00:23:34.175Z"
   },
   {
    "duration": 23,
    "start_time": "2024-07-31T00:23:34.956Z"
   },
   {
    "duration": 17,
    "start_time": "2024-07-31T00:23:34.983Z"
   },
   {
    "duration": 48,
    "start_time": "2024-07-31T00:23:35.003Z"
   },
   {
    "duration": 133,
    "start_time": "2024-07-31T00:23:35.054Z"
   },
   {
    "duration": 46,
    "start_time": "2024-07-31T00:23:35.190Z"
   },
   {
    "duration": 156,
    "start_time": "2024-07-31T00:23:35.239Z"
   },
   {
    "duration": 32,
    "start_time": "2024-07-31T00:23:35.398Z"
   },
   {
    "duration": 9,
    "start_time": "2024-07-31T00:23:35.436Z"
   },
   {
    "duration": 8,
    "start_time": "2024-07-31T00:23:35.448Z"
   },
   {
    "duration": 7,
    "start_time": "2024-07-31T00:23:35.459Z"
   },
   {
    "duration": 8,
    "start_time": "2024-07-31T00:23:35.469Z"
   },
   {
    "duration": 65,
    "start_time": "2024-07-31T00:23:35.480Z"
   },
   {
    "duration": 6,
    "start_time": "2024-07-31T00:23:35.548Z"
   },
   {
    "duration": 8,
    "start_time": "2024-07-31T00:23:35.557Z"
   },
   {
    "duration": 67,
    "start_time": "2024-07-31T00:23:35.568Z"
   },
   {
    "duration": 24,
    "start_time": "2024-07-31T00:23:35.638Z"
   },
   {
    "duration": 39,
    "start_time": "2024-07-31T00:23:35.668Z"
   },
   {
    "duration": 468,
    "start_time": "2024-07-31T00:23:35.710Z"
   },
   {
    "duration": 2058,
    "start_time": "2024-07-31T00:23:36.181Z"
   },
   {
    "duration": 654,
    "start_time": "2024-07-31T00:23:38.242Z"
   },
   {
    "duration": 1449,
    "start_time": "2024-07-31T00:23:38.899Z"
   },
   {
    "duration": 1101,
    "start_time": "2024-07-31T00:23:40.350Z"
   },
   {
    "duration": 2918,
    "start_time": "2024-07-31T00:23:41.454Z"
   },
   {
    "duration": 1253,
    "start_time": "2024-07-31T00:23:44.377Z"
   },
   {
    "duration": 1339,
    "start_time": "2024-07-31T00:23:45.634Z"
   },
   {
    "duration": 638,
    "start_time": "2024-07-31T00:23:46.981Z"
   },
   {
    "duration": 0,
    "start_time": "2024-07-31T00:23:47.622Z"
   },
   {
    "duration": 0,
    "start_time": "2024-07-31T00:23:47.631Z"
   },
   {
    "duration": 0,
    "start_time": "2024-07-31T00:23:47.633Z"
   },
   {
    "duration": 0,
    "start_time": "2024-07-31T00:23:47.635Z"
   },
   {
    "duration": 1,
    "start_time": "2024-07-31T00:23:47.637Z"
   },
   {
    "duration": 0,
    "start_time": "2024-07-31T00:23:47.640Z"
   },
   {
    "duration": 0,
    "start_time": "2024-07-31T00:23:47.642Z"
   },
   {
    "duration": 0,
    "start_time": "2024-07-31T00:23:47.644Z"
   },
   {
    "duration": 0,
    "start_time": "2024-07-31T00:23:47.647Z"
   },
   {
    "duration": 883,
    "start_time": "2024-07-31T00:24:10.084Z"
   },
   {
    "duration": 46,
    "start_time": "2024-07-31T00:24:17.932Z"
   },
   {
    "duration": 1560,
    "start_time": "2024-07-31T00:24:28.095Z"
   },
   {
    "duration": 772,
    "start_time": "2024-07-31T00:24:29.658Z"
   },
   {
    "duration": 26,
    "start_time": "2024-07-31T00:24:30.432Z"
   },
   {
    "duration": 19,
    "start_time": "2024-07-31T00:24:30.461Z"
   },
   {
    "duration": 55,
    "start_time": "2024-07-31T00:24:30.485Z"
   },
   {
    "duration": 125,
    "start_time": "2024-07-31T00:24:30.543Z"
   },
   {
    "duration": 32,
    "start_time": "2024-07-31T00:24:30.671Z"
   },
   {
    "duration": 170,
    "start_time": "2024-07-31T00:24:30.707Z"
   },
   {
    "duration": 25,
    "start_time": "2024-07-31T00:24:30.879Z"
   },
   {
    "duration": 29,
    "start_time": "2024-07-31T00:24:30.906Z"
   },
   {
    "duration": 9,
    "start_time": "2024-07-31T00:24:30.938Z"
   },
   {
    "duration": 7,
    "start_time": "2024-07-31T00:24:30.951Z"
   },
   {
    "duration": 7,
    "start_time": "2024-07-31T00:24:30.961Z"
   },
   {
    "duration": 63,
    "start_time": "2024-07-31T00:24:30.976Z"
   },
   {
    "duration": 5,
    "start_time": "2024-07-31T00:24:31.042Z"
   },
   {
    "duration": 9,
    "start_time": "2024-07-31T00:24:31.050Z"
   },
   {
    "duration": 27,
    "start_time": "2024-07-31T00:24:31.061Z"
   },
   {
    "duration": 57,
    "start_time": "2024-07-31T00:24:31.091Z"
   },
   {
    "duration": 28,
    "start_time": "2024-07-31T00:24:31.151Z"
   },
   {
    "duration": 447,
    "start_time": "2024-07-31T00:24:31.182Z"
   },
   {
    "duration": 1930,
    "start_time": "2024-07-31T00:24:31.633Z"
   },
   {
    "duration": 674,
    "start_time": "2024-07-31T00:24:33.566Z"
   },
   {
    "duration": 1261,
    "start_time": "2024-07-31T00:24:34.243Z"
   },
   {
    "duration": 1227,
    "start_time": "2024-07-31T00:24:35.507Z"
   },
   {
    "duration": 3035,
    "start_time": "2024-07-31T00:24:36.740Z"
   },
   {
    "duration": 1239,
    "start_time": "2024-07-31T00:24:39.778Z"
   },
   {
    "duration": 1311,
    "start_time": "2024-07-31T00:24:41.020Z"
   },
   {
    "duration": 56,
    "start_time": "2024-07-31T00:24:42.334Z"
   },
   {
    "duration": 70,
    "start_time": "2024-07-31T00:24:42.394Z"
   },
   {
    "duration": 572,
    "start_time": "2024-07-31T00:24:42.466Z"
   },
   {
    "duration": 0,
    "start_time": "2024-07-31T00:24:43.041Z"
   },
   {
    "duration": 0,
    "start_time": "2024-07-31T00:24:43.043Z"
   },
   {
    "duration": 0,
    "start_time": "2024-07-31T00:24:43.045Z"
   },
   {
    "duration": 0,
    "start_time": "2024-07-31T00:24:43.048Z"
   },
   {
    "duration": 0,
    "start_time": "2024-07-31T00:24:43.050Z"
   },
   {
    "duration": 0,
    "start_time": "2024-07-31T00:24:43.053Z"
   },
   {
    "duration": 0,
    "start_time": "2024-07-31T00:24:43.056Z"
   },
   {
    "duration": 0,
    "start_time": "2024-07-31T00:24:43.058Z"
   },
   {
    "duration": 25,
    "start_time": "2024-07-31T00:28:28.919Z"
   },
   {
    "duration": 1775,
    "start_time": "2024-07-31T00:28:35.624Z"
   },
   {
    "duration": 798,
    "start_time": "2024-07-31T00:28:37.402Z"
   },
   {
    "duration": 32,
    "start_time": "2024-07-31T00:28:38.202Z"
   },
   {
    "duration": 19,
    "start_time": "2024-07-31T00:28:38.237Z"
   },
   {
    "duration": 24,
    "start_time": "2024-07-31T00:28:38.260Z"
   },
   {
    "duration": 144,
    "start_time": "2024-07-31T00:28:38.287Z"
   },
   {
    "duration": 36,
    "start_time": "2024-07-31T00:28:38.434Z"
   },
   {
    "duration": 165,
    "start_time": "2024-07-31T00:28:38.474Z"
   },
   {
    "duration": 25,
    "start_time": "2024-07-31T00:28:38.643Z"
   },
   {
    "duration": 8,
    "start_time": "2024-07-31T00:28:38.672Z"
   },
   {
    "duration": 47,
    "start_time": "2024-07-31T00:28:38.683Z"
   },
   {
    "duration": 8,
    "start_time": "2024-07-31T00:28:38.733Z"
   },
   {
    "duration": 7,
    "start_time": "2024-07-31T00:28:38.744Z"
   },
   {
    "duration": 19,
    "start_time": "2024-07-31T00:28:38.758Z"
   },
   {
    "duration": 5,
    "start_time": "2024-07-31T00:28:38.780Z"
   },
   {
    "duration": 9,
    "start_time": "2024-07-31T00:28:38.831Z"
   },
   {
    "duration": 29,
    "start_time": "2024-07-31T00:28:38.842Z"
   },
   {
    "duration": 445,
    "start_time": "2024-07-31T00:28:38.876Z"
   },
   {
    "duration": 0,
    "start_time": "2024-07-31T00:28:39.331Z"
   },
   {
    "duration": 0,
    "start_time": "2024-07-31T00:28:39.332Z"
   },
   {
    "duration": 0,
    "start_time": "2024-07-31T00:28:39.335Z"
   },
   {
    "duration": 0,
    "start_time": "2024-07-31T00:28:39.337Z"
   },
   {
    "duration": 1,
    "start_time": "2024-07-31T00:28:39.340Z"
   },
   {
    "duration": 0,
    "start_time": "2024-07-31T00:28:39.343Z"
   },
   {
    "duration": 0,
    "start_time": "2024-07-31T00:28:39.346Z"
   },
   {
    "duration": 0,
    "start_time": "2024-07-31T00:28:39.348Z"
   },
   {
    "duration": 0,
    "start_time": "2024-07-31T00:28:39.350Z"
   },
   {
    "duration": 0,
    "start_time": "2024-07-31T00:28:39.353Z"
   },
   {
    "duration": 0,
    "start_time": "2024-07-31T00:28:39.355Z"
   },
   {
    "duration": 0,
    "start_time": "2024-07-31T00:28:39.358Z"
   },
   {
    "duration": 0,
    "start_time": "2024-07-31T00:28:39.360Z"
   },
   {
    "duration": 0,
    "start_time": "2024-07-31T00:28:39.362Z"
   },
   {
    "duration": 0,
    "start_time": "2024-07-31T00:28:39.364Z"
   },
   {
    "duration": 0,
    "start_time": "2024-07-31T00:28:39.366Z"
   },
   {
    "duration": 0,
    "start_time": "2024-07-31T00:28:39.368Z"
   },
   {
    "duration": 0,
    "start_time": "2024-07-31T00:28:39.370Z"
   },
   {
    "duration": 0,
    "start_time": "2024-07-31T00:28:39.372Z"
   },
   {
    "duration": 0,
    "start_time": "2024-07-31T00:28:39.431Z"
   },
   {
    "duration": 23,
    "start_time": "2024-07-31T00:28:55.425Z"
   },
   {
    "duration": 1584,
    "start_time": "2024-07-31T00:29:02.848Z"
   },
   {
    "duration": 782,
    "start_time": "2024-07-31T00:29:04.436Z"
   },
   {
    "duration": 32,
    "start_time": "2024-07-31T00:29:05.221Z"
   },
   {
    "duration": 18,
    "start_time": "2024-07-31T00:29:05.256Z"
   },
   {
    "duration": 53,
    "start_time": "2024-07-31T00:29:05.278Z"
   },
   {
    "duration": 117,
    "start_time": "2024-07-31T00:29:05.334Z"
   },
   {
    "duration": 32,
    "start_time": "2024-07-31T00:29:05.454Z"
   },
   {
    "duration": 176,
    "start_time": "2024-07-31T00:29:05.489Z"
   },
   {
    "duration": 32,
    "start_time": "2024-07-31T00:29:05.672Z"
   },
   {
    "duration": 22,
    "start_time": "2024-07-31T00:29:05.708Z"
   },
   {
    "duration": 10,
    "start_time": "2024-07-31T00:29:05.733Z"
   },
   {
    "duration": 8,
    "start_time": "2024-07-31T00:29:05.746Z"
   },
   {
    "duration": 6,
    "start_time": "2024-07-31T00:29:05.758Z"
   },
   {
    "duration": 62,
    "start_time": "2024-07-31T00:29:05.773Z"
   },
   {
    "duration": 5,
    "start_time": "2024-07-31T00:29:05.839Z"
   },
   {
    "duration": 8,
    "start_time": "2024-07-31T00:29:05.847Z"
   },
   {
    "duration": 26,
    "start_time": "2024-07-31T00:29:05.858Z"
   },
   {
    "duration": 63,
    "start_time": "2024-07-31T00:29:05.887Z"
   },
   {
    "duration": 38,
    "start_time": "2024-07-31T00:29:05.955Z"
   },
   {
    "duration": 491,
    "start_time": "2024-07-31T00:29:05.998Z"
   },
   {
    "duration": 1991,
    "start_time": "2024-07-31T00:29:06.492Z"
   },
   {
    "duration": 665,
    "start_time": "2024-07-31T00:29:08.486Z"
   },
   {
    "duration": 1281,
    "start_time": "2024-07-31T00:29:09.154Z"
   },
   {
    "duration": 1120,
    "start_time": "2024-07-31T00:29:10.439Z"
   },
   {
    "duration": 2924,
    "start_time": "2024-07-31T00:29:11.565Z"
   },
   {
    "duration": 1248,
    "start_time": "2024-07-31T00:29:14.492Z"
   },
   {
    "duration": 1366,
    "start_time": "2024-07-31T00:29:15.743Z"
   },
   {
    "duration": 63,
    "start_time": "2024-07-31T00:29:17.113Z"
   },
   {
    "duration": 71,
    "start_time": "2024-07-31T00:29:17.179Z"
   },
   {
    "duration": 578,
    "start_time": "2024-07-31T00:29:17.253Z"
   },
   {
    "duration": 0,
    "start_time": "2024-07-31T00:29:17.834Z"
   },
   {
    "duration": 1,
    "start_time": "2024-07-31T00:29:17.835Z"
   },
   {
    "duration": 0,
    "start_time": "2024-07-31T00:29:17.838Z"
   },
   {
    "duration": 0,
    "start_time": "2024-07-31T00:29:17.840Z"
   },
   {
    "duration": 0,
    "start_time": "2024-07-31T00:29:17.842Z"
   },
   {
    "duration": 0,
    "start_time": "2024-07-31T00:29:17.845Z"
   },
   {
    "duration": 1,
    "start_time": "2024-07-31T00:29:17.846Z"
   },
   {
    "duration": 0,
    "start_time": "2024-07-31T00:29:17.848Z"
   },
   {
    "duration": 1377,
    "start_time": "2024-07-31T00:31:28.396Z"
   },
   {
    "duration": 190,
    "start_time": "2024-07-31T00:31:48.878Z"
   },
   {
    "duration": 1699,
    "start_time": "2024-07-31T00:31:55.163Z"
   },
   {
    "duration": 843,
    "start_time": "2024-07-31T00:31:56.866Z"
   },
   {
    "duration": 35,
    "start_time": "2024-07-31T00:31:57.712Z"
   },
   {
    "duration": 18,
    "start_time": "2024-07-31T00:31:57.751Z"
   },
   {
    "duration": 25,
    "start_time": "2024-07-31T00:31:57.773Z"
   },
   {
    "duration": 137,
    "start_time": "2024-07-31T00:31:57.800Z"
   },
   {
    "duration": 32,
    "start_time": "2024-07-31T00:31:57.940Z"
   },
   {
    "duration": 170,
    "start_time": "2024-07-31T00:31:57.975Z"
   },
   {
    "duration": 24,
    "start_time": "2024-07-31T00:31:58.150Z"
   },
   {
    "duration": 8,
    "start_time": "2024-07-31T00:31:58.181Z"
   },
   {
    "duration": 39,
    "start_time": "2024-07-31T00:31:58.192Z"
   },
   {
    "duration": 8,
    "start_time": "2024-07-31T00:31:58.234Z"
   },
   {
    "duration": 7,
    "start_time": "2024-07-31T00:31:58.246Z"
   },
   {
    "duration": 20,
    "start_time": "2024-07-31T00:31:58.255Z"
   },
   {
    "duration": 6,
    "start_time": "2024-07-31T00:31:58.278Z"
   },
   {
    "duration": 8,
    "start_time": "2024-07-31T00:31:58.332Z"
   },
   {
    "duration": 26,
    "start_time": "2024-07-31T00:31:58.343Z"
   },
   {
    "duration": 20,
    "start_time": "2024-07-31T00:31:58.373Z"
   },
   {
    "duration": 29,
    "start_time": "2024-07-31T00:31:58.431Z"
   },
   {
    "duration": 448,
    "start_time": "2024-07-31T00:31:58.463Z"
   },
   {
    "duration": 1921,
    "start_time": "2024-07-31T00:31:58.914Z"
   },
   {
    "duration": 634,
    "start_time": "2024-07-31T00:32:00.838Z"
   },
   {
    "duration": 1313,
    "start_time": "2024-07-31T00:32:01.475Z"
   },
   {
    "duration": 1152,
    "start_time": "2024-07-31T00:32:02.794Z"
   },
   {
    "duration": 3232,
    "start_time": "2024-07-31T00:32:03.949Z"
   },
   {
    "duration": 1329,
    "start_time": "2024-07-31T00:32:07.183Z"
   },
   {
    "duration": 1286,
    "start_time": "2024-07-31T00:32:08.516Z"
   },
   {
    "duration": 71,
    "start_time": "2024-07-31T00:32:09.809Z"
   },
   {
    "duration": 66,
    "start_time": "2024-07-31T00:32:09.884Z"
   },
   {
    "duration": 1977,
    "start_time": "2024-07-31T00:32:09.953Z"
   },
   {
    "duration": 0,
    "start_time": "2024-07-31T00:32:11.933Z"
   },
   {
    "duration": 0,
    "start_time": "2024-07-31T00:32:11.934Z"
   },
   {
    "duration": 0,
    "start_time": "2024-07-31T00:32:11.937Z"
   },
   {
    "duration": 0,
    "start_time": "2024-07-31T00:32:11.938Z"
   },
   {
    "duration": 0,
    "start_time": "2024-07-31T00:32:11.940Z"
   },
   {
    "duration": 0,
    "start_time": "2024-07-31T00:32:11.943Z"
   },
   {
    "duration": 0,
    "start_time": "2024-07-31T00:32:11.944Z"
   },
   {
    "duration": 0,
    "start_time": "2024-07-31T00:32:11.948Z"
   },
   {
    "duration": 22,
    "start_time": "2024-07-31T00:33:15.216Z"
   },
   {
    "duration": 8,
    "start_time": "2024-07-31T00:34:26.397Z"
   },
   {
    "duration": 416,
    "start_time": "2024-07-31T00:34:28.148Z"
   },
   {
    "duration": 187,
    "start_time": "2024-07-31T00:36:43.097Z"
   },
   {
    "duration": 1617,
    "start_time": "2024-07-31T00:37:20.698Z"
   },
   {
    "duration": 798,
    "start_time": "2024-07-31T00:37:22.318Z"
   },
   {
    "duration": 29,
    "start_time": "2024-07-31T00:37:23.120Z"
   },
   {
    "duration": 18,
    "start_time": "2024-07-31T00:37:23.154Z"
   },
   {
    "duration": 23,
    "start_time": "2024-07-31T00:37:23.175Z"
   },
   {
    "duration": 120,
    "start_time": "2024-07-31T00:37:23.231Z"
   },
   {
    "duration": 32,
    "start_time": "2024-07-31T00:37:23.354Z"
   },
   {
    "duration": 166,
    "start_time": "2024-07-31T00:37:23.389Z"
   },
   {
    "duration": 26,
    "start_time": "2024-07-31T00:37:23.558Z"
   },
   {
    "duration": 8,
    "start_time": "2024-07-31T00:37:23.589Z"
   },
   {
    "duration": 9,
    "start_time": "2024-07-31T00:37:23.630Z"
   },
   {
    "duration": 9,
    "start_time": "2024-07-31T00:37:23.642Z"
   },
   {
    "duration": 6,
    "start_time": "2024-07-31T00:37:23.654Z"
   },
   {
    "duration": 20,
    "start_time": "2024-07-31T00:37:23.663Z"
   },
   {
    "duration": 46,
    "start_time": "2024-07-31T00:37:23.687Z"
   },
   {
    "duration": 9,
    "start_time": "2024-07-31T00:37:23.736Z"
   },
   {
    "duration": 27,
    "start_time": "2024-07-31T00:37:23.749Z"
   },
   {
    "duration": 55,
    "start_time": "2024-07-31T00:37:23.779Z"
   },
   {
    "duration": 28,
    "start_time": "2024-07-31T00:37:23.838Z"
   },
   {
    "duration": 458,
    "start_time": "2024-07-31T00:37:23.869Z"
   },
   {
    "duration": 1964,
    "start_time": "2024-07-31T00:37:24.331Z"
   },
   {
    "duration": 722,
    "start_time": "2024-07-31T00:37:26.300Z"
   },
   {
    "duration": 1337,
    "start_time": "2024-07-31T00:37:27.032Z"
   },
   {
    "duration": 1169,
    "start_time": "2024-07-31T00:37:28.371Z"
   },
   {
    "duration": 3103,
    "start_time": "2024-07-31T00:37:29.544Z"
   },
   {
    "duration": 1272,
    "start_time": "2024-07-31T00:37:32.650Z"
   },
   {
    "duration": 1262,
    "start_time": "2024-07-31T00:37:33.930Z"
   },
   {
    "duration": 68,
    "start_time": "2024-07-31T00:37:35.200Z"
   },
   {
    "duration": 43,
    "start_time": "2024-07-31T00:37:35.271Z"
   },
   {
    "duration": 266,
    "start_time": "2024-07-31T00:37:35.317Z"
   },
   {
    "duration": 9,
    "start_time": "2024-07-31T00:37:35.586Z"
   },
   {
    "duration": 825,
    "start_time": "2024-07-31T00:37:35.599Z"
   },
   {
    "duration": 0,
    "start_time": "2024-07-31T00:37:36.427Z"
   },
   {
    "duration": 0,
    "start_time": "2024-07-31T00:37:36.431Z"
   },
   {
    "duration": 0,
    "start_time": "2024-07-31T00:37:36.432Z"
   },
   {
    "duration": 9,
    "start_time": "2024-07-31T00:39:01.988Z"
   },
   {
    "duration": 5,
    "start_time": "2024-07-31T00:39:26.183Z"
   },
   {
    "duration": 1190,
    "start_time": "2024-07-31T00:41:37.760Z"
   },
   {
    "duration": 62231,
    "start_time": "2024-07-31T00:43:12.488Z"
   },
   {
    "duration": 2500,
    "start_time": "2024-07-31T00:44:17.938Z"
   },
   {
    "duration": 228,
    "start_time": "2024-07-31T00:45:55.084Z"
   },
   {
    "duration": 25,
    "start_time": "2024-07-31T00:46:27.700Z"
   },
   {
    "duration": 5,
    "start_time": "2024-07-31T00:47:27.594Z"
   },
   {
    "duration": 7,
    "start_time": "2024-07-31T00:48:11.218Z"
   },
   {
    "duration": 8,
    "start_time": "2024-07-31T00:50:21.558Z"
   },
   {
    "duration": 1654,
    "start_time": "2024-07-31T00:50:28.016Z"
   },
   {
    "duration": 795,
    "start_time": "2024-07-31T00:50:29.673Z"
   },
   {
    "duration": 30,
    "start_time": "2024-07-31T00:50:30.471Z"
   },
   {
    "duration": 43,
    "start_time": "2024-07-31T00:50:30.504Z"
   },
   {
    "duration": 24,
    "start_time": "2024-07-31T00:50:30.552Z"
   },
   {
    "duration": 135,
    "start_time": "2024-07-31T00:50:30.580Z"
   },
   {
    "duration": 41,
    "start_time": "2024-07-31T00:50:30.718Z"
   },
   {
    "duration": 156,
    "start_time": "2024-07-31T00:50:30.762Z"
   },
   {
    "duration": 29,
    "start_time": "2024-07-31T00:50:30.921Z"
   },
   {
    "duration": 8,
    "start_time": "2024-07-31T00:50:30.953Z"
   },
   {
    "duration": 8,
    "start_time": "2024-07-31T00:50:30.964Z"
   },
   {
    "duration": 8,
    "start_time": "2024-07-31T00:50:30.975Z"
   },
   {
    "duration": 47,
    "start_time": "2024-07-31T00:50:30.986Z"
   },
   {
    "duration": 19,
    "start_time": "2024-07-31T00:50:31.040Z"
   },
   {
    "duration": 7,
    "start_time": "2024-07-31T00:50:31.062Z"
   },
   {
    "duration": 8,
    "start_time": "2024-07-31T00:50:31.072Z"
   },
   {
    "duration": 71,
    "start_time": "2024-07-31T00:50:31.085Z"
   },
   {
    "duration": 19,
    "start_time": "2024-07-31T00:50:31.159Z"
   },
   {
    "duration": 57,
    "start_time": "2024-07-31T00:50:31.181Z"
   },
   {
    "duration": 434,
    "start_time": "2024-07-31T00:50:31.241Z"
   },
   {
    "duration": 1945,
    "start_time": "2024-07-31T00:50:31.678Z"
   },
   {
    "duration": 666,
    "start_time": "2024-07-31T00:50:33.626Z"
   },
   {
    "duration": 1247,
    "start_time": "2024-07-31T00:50:34.295Z"
   },
   {
    "duration": 1285,
    "start_time": "2024-07-31T00:50:35.545Z"
   },
   {
    "duration": 3100,
    "start_time": "2024-07-31T00:50:36.833Z"
   },
   {
    "duration": 1289,
    "start_time": "2024-07-31T00:50:39.935Z"
   },
   {
    "duration": 1279,
    "start_time": "2024-07-31T00:50:41.233Z"
   },
   {
    "duration": 63,
    "start_time": "2024-07-31T00:50:42.518Z"
   },
   {
    "duration": 57,
    "start_time": "2024-07-31T00:50:42.583Z"
   },
   {
    "duration": 264,
    "start_time": "2024-07-31T00:50:42.643Z"
   },
   {
    "duration": 10,
    "start_time": "2024-07-31T00:50:42.930Z"
   },
   {
    "duration": 4,
    "start_time": "2024-07-31T00:50:42.943Z"
   },
   {
    "duration": 9,
    "start_time": "2024-07-31T00:50:42.950Z"
   },
   {
    "duration": 7,
    "start_time": "2024-07-31T00:50:42.962Z"
   },
   {
    "duration": 1209,
    "start_time": "2024-07-31T00:50:42.971Z"
   },
   {
    "duration": 62594,
    "start_time": "2024-07-31T00:50:44.183Z"
   },
   {
    "duration": 2669,
    "start_time": "2024-07-31T00:51:46.780Z"
   },
   {
    "duration": 879,
    "start_time": "2024-07-31T00:51:49.456Z"
   },
   {
    "duration": 1004,
    "start_time": "2024-07-31T00:59:45.469Z"
   },
   {
    "duration": 1673,
    "start_time": "2024-07-31T00:59:52.011Z"
   },
   {
    "duration": 788,
    "start_time": "2024-07-31T00:59:53.687Z"
   },
   {
    "duration": 25,
    "start_time": "2024-07-31T00:59:54.479Z"
   },
   {
    "duration": 39,
    "start_time": "2024-07-31T00:59:54.507Z"
   },
   {
    "duration": 24,
    "start_time": "2024-07-31T00:59:54.552Z"
   },
   {
    "duration": 140,
    "start_time": "2024-07-31T00:59:54.579Z"
   },
   {
    "duration": 38,
    "start_time": "2024-07-31T00:59:54.722Z"
   },
   {
    "duration": 161,
    "start_time": "2024-07-31T00:59:54.763Z"
   },
   {
    "duration": 25,
    "start_time": "2024-07-31T00:59:54.931Z"
   },
   {
    "duration": 8,
    "start_time": "2024-07-31T00:59:54.959Z"
   },
   {
    "duration": 8,
    "start_time": "2024-07-31T00:59:54.971Z"
   },
   {
    "duration": 8,
    "start_time": "2024-07-31T00:59:54.982Z"
   },
   {
    "duration": 7,
    "start_time": "2024-07-31T00:59:55.032Z"
   },
   {
    "duration": 19,
    "start_time": "2024-07-31T00:59:55.048Z"
   },
   {
    "duration": 6,
    "start_time": "2024-07-31T00:59:55.069Z"
   },
   {
    "duration": 9,
    "start_time": "2024-07-31T00:59:55.078Z"
   },
   {
    "duration": 27,
    "start_time": "2024-07-31T00:59:55.131Z"
   },
   {
    "duration": 20,
    "start_time": "2024-07-31T00:59:55.161Z"
   },
   {
    "duration": 65,
    "start_time": "2024-07-31T00:59:55.184Z"
   },
   {
    "duration": 441,
    "start_time": "2024-07-31T00:59:55.252Z"
   },
   {
    "duration": 2171,
    "start_time": "2024-07-31T00:59:55.696Z"
   },
   {
    "duration": 665,
    "start_time": "2024-07-31T00:59:57.870Z"
   },
   {
    "duration": 1245,
    "start_time": "2024-07-31T00:59:58.538Z"
   },
   {
    "duration": 1154,
    "start_time": "2024-07-31T00:59:59.786Z"
   },
   {
    "duration": 2983,
    "start_time": "2024-07-31T01:00:00.943Z"
   },
   {
    "duration": 1269,
    "start_time": "2024-07-31T01:00:03.929Z"
   },
   {
    "duration": 1329,
    "start_time": "2024-07-31T01:00:05.201Z"
   },
   {
    "duration": 303,
    "start_time": "2024-07-31T01:00:06.534Z"
   },
   {
    "duration": 51,
    "start_time": "2024-07-31T01:00:06.840Z"
   },
   {
    "duration": 173,
    "start_time": "2024-07-31T01:00:06.896Z"
   },
   {
    "duration": 10,
    "start_time": "2024-07-31T01:00:07.072Z"
   },
   {
    "duration": 5,
    "start_time": "2024-07-31T01:00:07.086Z"
   },
   {
    "duration": 38,
    "start_time": "2024-07-31T01:00:07.095Z"
   },
   {
    "duration": 21,
    "start_time": "2024-07-31T01:00:07.136Z"
   },
   {
    "duration": 1220,
    "start_time": "2024-07-31T01:00:07.160Z"
   },
   {
    "duration": 62025,
    "start_time": "2024-07-31T01:00:08.383Z"
   },
   {
    "duration": 2533,
    "start_time": "2024-07-31T01:01:10.411Z"
   },
   {
    "duration": 796,
    "start_time": "2024-07-31T01:01:12.950Z"
   },
   {
    "duration": 1611,
    "start_time": "2024-07-31T01:02:08.145Z"
   },
   {
    "duration": 777,
    "start_time": "2024-07-31T01:02:09.760Z"
   },
   {
    "duration": 24,
    "start_time": "2024-07-31T01:02:10.544Z"
   },
   {
    "duration": 19,
    "start_time": "2024-07-31T01:02:10.573Z"
   },
   {
    "duration": 62,
    "start_time": "2024-07-31T01:02:10.595Z"
   },
   {
    "duration": 128,
    "start_time": "2024-07-31T01:02:10.660Z"
   },
   {
    "duration": 44,
    "start_time": "2024-07-31T01:02:10.791Z"
   },
   {
    "duration": 159,
    "start_time": "2024-07-31T01:02:10.838Z"
   },
   {
    "duration": 36,
    "start_time": "2024-07-31T01:02:11.000Z"
   },
   {
    "duration": 9,
    "start_time": "2024-07-31T01:02:11.039Z"
   },
   {
    "duration": 8,
    "start_time": "2024-07-31T01:02:11.052Z"
   },
   {
    "duration": 9,
    "start_time": "2024-07-31T01:02:11.063Z"
   },
   {
    "duration": 8,
    "start_time": "2024-07-31T01:02:11.078Z"
   },
   {
    "duration": 21,
    "start_time": "2024-07-31T01:02:11.131Z"
   },
   {
    "duration": 6,
    "start_time": "2024-07-31T01:02:11.155Z"
   },
   {
    "duration": 7,
    "start_time": "2024-07-31T01:02:11.165Z"
   },
   {
    "duration": 73,
    "start_time": "2024-07-31T01:02:11.175Z"
   },
   {
    "duration": 20,
    "start_time": "2024-07-31T01:02:11.251Z"
   },
   {
    "duration": 29,
    "start_time": "2024-07-31T01:02:11.274Z"
   },
   {
    "duration": 435,
    "start_time": "2024-07-31T01:02:11.331Z"
   },
   {
    "duration": 1953,
    "start_time": "2024-07-31T01:02:11.770Z"
   },
   {
    "duration": 672,
    "start_time": "2024-07-31T01:02:13.726Z"
   },
   {
    "duration": 1280,
    "start_time": "2024-07-31T01:02:14.401Z"
   },
   {
    "duration": 1220,
    "start_time": "2024-07-31T01:02:15.684Z"
   },
   {
    "duration": 3029,
    "start_time": "2024-07-31T01:02:16.910Z"
   },
   {
    "duration": 1276,
    "start_time": "2024-07-31T01:02:19.942Z"
   },
   {
    "duration": 1314,
    "start_time": "2024-07-31T01:02:21.222Z"
   },
   {
    "duration": 288,
    "start_time": "2024-07-31T01:02:22.547Z"
   },
   {
    "duration": 145,
    "start_time": "2024-07-31T01:02:22.839Z"
   },
   {
    "duration": 142,
    "start_time": "2024-07-31T01:02:22.988Z"
   },
   {
    "duration": 9,
    "start_time": "2024-07-31T01:02:23.133Z"
   },
   {
    "duration": 5,
    "start_time": "2024-07-31T01:02:23.145Z"
   },
   {
    "duration": 1228,
    "start_time": "2024-07-31T01:02:23.153Z"
   },
   {
    "duration": 62065,
    "start_time": "2024-07-31T01:02:24.384Z"
   },
   {
    "duration": 2701,
    "start_time": "2024-07-31T01:03:26.451Z"
   },
   {
    "duration": 175,
    "start_time": "2024-07-31T01:03:29.155Z"
   },
   {
    "duration": 271,
    "start_time": "2024-07-31T01:14:31.188Z"
   },
   {
    "duration": 65815,
    "start_time": "2024-07-31T01:22:30.601Z"
   },
   {
    "duration": 340,
    "start_time": "2024-07-31T01:23:42.245Z"
   },
   {
    "duration": 1327,
    "start_time": "2024-07-31T01:24:33.013Z"
   },
   {
    "duration": 2305863,
    "start_time": "2024-07-31T01:34:58.121Z"
   },
   {
    "duration": 44340,
    "start_time": "2024-07-31T02:16:30.896Z"
   },
   {
    "duration": 149,
    "start_time": "2024-07-31T02:17:57.457Z"
   },
   {
    "duration": 341,
    "start_time": "2024-08-01T12:55:11.962Z"
   },
   {
    "duration": 5305,
    "start_time": "2024-08-01T12:55:24.830Z"
   },
   {
    "duration": 141,
    "start_time": "2024-08-01T12:55:33.347Z"
   },
   {
    "duration": 1568,
    "start_time": "2024-08-01T12:55:42.095Z"
   },
   {
    "duration": 964,
    "start_time": "2024-08-01T12:55:43.667Z"
   },
   {
    "duration": 33,
    "start_time": "2024-08-01T12:55:44.634Z"
   },
   {
    "duration": 18,
    "start_time": "2024-08-01T12:55:44.672Z"
   },
   {
    "duration": 23,
    "start_time": "2024-08-01T12:55:44.693Z"
   },
   {
    "duration": 142,
    "start_time": "2024-08-01T12:55:44.719Z"
   },
   {
    "duration": 32,
    "start_time": "2024-08-01T12:55:44.868Z"
   },
   {
    "duration": 187,
    "start_time": "2024-08-01T12:55:44.902Z"
   },
   {
    "duration": 25,
    "start_time": "2024-08-01T12:55:45.091Z"
   },
   {
    "duration": 7,
    "start_time": "2024-08-01T12:55:45.122Z"
   },
   {
    "duration": 38,
    "start_time": "2024-08-01T12:55:45.132Z"
   },
   {
    "duration": 9,
    "start_time": "2024-08-01T12:55:45.174Z"
   },
   {
    "duration": 7,
    "start_time": "2024-08-01T12:55:45.186Z"
   },
   {
    "duration": 19,
    "start_time": "2024-08-01T12:55:45.197Z"
   },
   {
    "duration": 52,
    "start_time": "2024-08-01T12:55:45.218Z"
   },
   {
    "duration": 8,
    "start_time": "2024-08-01T12:55:45.274Z"
   },
   {
    "duration": 29,
    "start_time": "2024-08-01T12:55:45.286Z"
   },
   {
    "duration": 57,
    "start_time": "2024-08-01T12:55:45.318Z"
   },
   {
    "duration": 30,
    "start_time": "2024-08-01T12:55:45.378Z"
   },
   {
    "duration": 469,
    "start_time": "2024-08-01T12:55:45.411Z"
   },
   {
    "duration": 1916,
    "start_time": "2024-08-01T12:55:45.884Z"
   },
   {
    "duration": 706,
    "start_time": "2024-08-01T12:55:47.803Z"
   },
   {
    "duration": 1286,
    "start_time": "2024-08-01T12:55:48.512Z"
   },
   {
    "duration": 1083,
    "start_time": "2024-08-01T12:55:49.801Z"
   },
   {
    "duration": 3004,
    "start_time": "2024-08-01T12:55:50.887Z"
   },
   {
    "duration": 1258,
    "start_time": "2024-08-01T12:55:53.894Z"
   },
   {
    "duration": 1275,
    "start_time": "2024-08-01T12:55:55.155Z"
   },
   {
    "duration": 302,
    "start_time": "2024-08-01T12:55:56.437Z"
   },
   {
    "duration": 152,
    "start_time": "2024-08-01T12:55:56.742Z"
   },
   {
    "duration": 135,
    "start_time": "2024-08-01T12:55:56.897Z"
   },
   {
    "duration": 7,
    "start_time": "2024-08-01T12:55:57.036Z"
   },
   {
    "duration": 24,
    "start_time": "2024-08-01T12:55:57.047Z"
   },
   {
    "duration": 1231,
    "start_time": "2024-08-01T12:55:57.074Z"
   },
   {
    "duration": 2402,
    "start_time": "2024-08-01T12:55:58.308Z"
   },
   {
    "duration": 2274,
    "start_time": "2024-08-01T12:56:00.713Z"
   },
   {
    "duration": 207,
    "start_time": "2024-08-01T12:56:02.990Z"
   },
   {
    "duration": 13,
    "start_time": "2024-08-02T00:00:00.792Z"
   },
   {
    "duration": 349,
    "start_time": "2024-08-02T00:00:04.020Z"
   },
   {
    "duration": 5849,
    "start_time": "2024-08-02T00:00:10.530Z"
   },
   {
    "duration": 1362,
    "start_time": "2024-08-02T00:00:16.383Z"
   },
   {
    "duration": 35,
    "start_time": "2024-08-02T00:00:17.748Z"
   },
   {
    "duration": 20,
    "start_time": "2024-08-02T00:00:17.787Z"
   },
   {
    "duration": 36,
    "start_time": "2024-08-02T00:00:17.828Z"
   },
   {
    "duration": 165,
    "start_time": "2024-08-02T00:00:17.870Z"
   },
   {
    "duration": 48,
    "start_time": "2024-08-02T00:00:18.039Z"
   },
   {
    "duration": 180,
    "start_time": "2024-08-02T00:00:18.090Z"
   },
   {
    "duration": 53,
    "start_time": "2024-08-02T00:00:18.274Z"
   },
   {
    "duration": 8,
    "start_time": "2024-08-02T00:00:18.337Z"
   },
   {
    "duration": 9,
    "start_time": "2024-08-02T00:00:18.349Z"
   },
   {
    "duration": 9,
    "start_time": "2024-08-02T00:00:18.362Z"
   },
   {
    "duration": 7,
    "start_time": "2024-08-02T00:00:18.374Z"
   },
   {
    "duration": 26,
    "start_time": "2024-08-02T00:00:18.418Z"
   },
   {
    "duration": 7,
    "start_time": "2024-08-02T00:00:18.447Z"
   },
   {
    "duration": 9,
    "start_time": "2024-08-02T00:00:18.456Z"
   },
   {
    "duration": 79,
    "start_time": "2024-08-02T00:00:18.469Z"
   },
   {
    "duration": 19,
    "start_time": "2024-08-02T00:00:18.552Z"
   },
   {
    "duration": 40,
    "start_time": "2024-08-02T00:00:18.574Z"
   },
   {
    "duration": 475,
    "start_time": "2024-08-02T00:00:18.620Z"
   },
   {
    "duration": 2247,
    "start_time": "2024-08-02T00:00:19.098Z"
   },
   {
    "duration": 736,
    "start_time": "2024-08-02T00:00:21.348Z"
   },
   {
    "duration": 1281,
    "start_time": "2024-08-02T00:00:22.087Z"
   },
   {
    "duration": 1398,
    "start_time": "2024-08-02T00:00:23.372Z"
   },
   {
    "duration": 3685,
    "start_time": "2024-08-02T00:00:24.774Z"
   },
   {
    "duration": 1512,
    "start_time": "2024-08-02T00:00:28.463Z"
   },
   {
    "duration": 1397,
    "start_time": "2024-08-02T00:00:29.979Z"
   },
   {
    "duration": 183,
    "start_time": "2024-08-02T00:00:31.379Z"
   },
   {
    "duration": 164,
    "start_time": "2024-08-02T00:00:31.565Z"
   },
   {
    "duration": 155,
    "start_time": "2024-08-02T00:00:31.732Z"
   },
   {
    "duration": 8,
    "start_time": "2024-08-02T00:00:31.890Z"
   },
   {
    "duration": 17,
    "start_time": "2024-08-02T00:00:31.902Z"
   },
   {
    "duration": 1325,
    "start_time": "2024-08-02T00:00:31.922Z"
   },
   {
    "duration": 45691,
    "start_time": "2024-08-02T00:00:33.252Z"
   },
   {
    "duration": 2778,
    "start_time": "2024-08-02T00:01:18.947Z"
   },
   {
    "duration": 178,
    "start_time": "2024-08-02T00:01:21.733Z"
   },
   {
    "duration": 18,
    "start_time": "2024-08-02T00:02:24.510Z"
   },
   {
    "duration": 15,
    "start_time": "2024-08-02T00:02:27.320Z"
   },
   {
    "duration": 5,
    "start_time": "2024-08-02T00:02:29.147Z"
   },
   {
    "duration": 1287,
    "start_time": "2024-08-02T00:02:30.344Z"
   },
   {
    "duration": 45217,
    "start_time": "2024-08-02T00:02:34.352Z"
   },
   {
    "duration": 2756,
    "start_time": "2024-08-02T00:03:33.172Z"
   },
   {
    "duration": 207,
    "start_time": "2024-08-02T00:03:35.944Z"
   },
   {
    "duration": 1426,
    "start_time": "2024-08-02T18:29:05.537Z"
   },
   {
    "duration": 0,
    "start_time": "2024-08-02T18:29:06.967Z"
   },
   {
    "duration": 12,
    "start_time": "2024-08-02T18:29:07.981Z"
   },
   {
    "duration": 8,
    "start_time": "2024-08-02T18:29:09.752Z"
   },
   {
    "duration": 5,
    "start_time": "2024-08-02T18:29:10.327Z"
   },
   {
    "duration": 140,
    "start_time": "2024-08-02T18:29:11.174Z"
   },
   {
    "duration": 8,
    "start_time": "2024-08-02T18:34:41.342Z"
   },
   {
    "duration": 5,
    "start_time": "2024-08-02T18:34:56.951Z"
   },
   {
    "duration": 185,
    "start_time": "2024-08-02T18:40:23.746Z"
   },
   {
    "duration": 256,
    "start_time": "2024-08-02T18:41:55.536Z"
   },
   {
    "duration": 130,
    "start_time": "2024-08-02T18:42:00.372Z"
   },
   {
    "duration": 129,
    "start_time": "2024-08-02T18:42:01.529Z"
   },
   {
    "duration": 9,
    "start_time": "2024-08-02T18:42:02.853Z"
   },
   {
    "duration": 4,
    "start_time": "2024-08-02T18:42:03.862Z"
   },
   {
    "duration": 1188,
    "start_time": "2024-08-02T18:42:05.329Z"
   },
   {
    "duration": 42091,
    "start_time": "2024-08-02T18:42:08.139Z"
   },
   {
    "duration": 2398,
    "start_time": "2024-08-02T18:42:50.234Z"
   },
   {
    "duration": 199,
    "start_time": "2024-08-02T18:42:52.635Z"
   },
   {
    "duration": 118,
    "start_time": "2024-08-02T18:57:42.436Z"
   },
   {
    "duration": 320,
    "start_time": "2024-08-02T22:12:02.232Z"
   },
   {
    "duration": 5229,
    "start_time": "2024-08-02T22:12:12.453Z"
   },
   {
    "duration": 937,
    "start_time": "2024-08-02T22:12:17.685Z"
   },
   {
    "duration": 26,
    "start_time": "2024-08-02T22:12:18.625Z"
   },
   {
    "duration": 19,
    "start_time": "2024-08-02T22:12:18.656Z"
   },
   {
    "duration": 60,
    "start_time": "2024-08-02T22:12:18.679Z"
   },
   {
    "duration": 124,
    "start_time": "2024-08-02T22:12:18.742Z"
   },
   {
    "duration": 33,
    "start_time": "2024-08-02T22:12:18.869Z"
   },
   {
    "duration": 167,
    "start_time": "2024-08-02T22:12:18.904Z"
   },
   {
    "duration": 24,
    "start_time": "2024-08-02T22:12:19.074Z"
   },
   {
    "duration": 7,
    "start_time": "2024-08-02T22:12:19.104Z"
   },
   {
    "duration": 8,
    "start_time": "2024-08-02T22:12:19.134Z"
   },
   {
    "duration": 8,
    "start_time": "2024-08-02T22:12:19.147Z"
   },
   {
    "duration": 7,
    "start_time": "2024-08-02T22:12:19.158Z"
   },
   {
    "duration": 64,
    "start_time": "2024-08-02T22:12:19.168Z"
   },
   {
    "duration": 7,
    "start_time": "2024-08-02T22:12:19.235Z"
   },
   {
    "duration": 8,
    "start_time": "2024-08-02T22:12:19.245Z"
   },
   {
    "duration": 26,
    "start_time": "2024-08-02T22:12:19.256Z"
   },
   {
    "duration": 63,
    "start_time": "2024-08-02T22:12:19.285Z"
   },
   {
    "duration": 30,
    "start_time": "2024-08-02T22:12:19.351Z"
   },
   {
    "duration": 449,
    "start_time": "2024-08-02T22:12:19.384Z"
   },
   {
    "duration": 2026,
    "start_time": "2024-08-02T22:12:19.836Z"
   },
   {
    "duration": 689,
    "start_time": "2024-08-02T22:12:21.864Z"
   },
   {
    "duration": 1172,
    "start_time": "2024-08-02T22:12:22.556Z"
   },
   {
    "duration": 1111,
    "start_time": "2024-08-02T22:12:23.734Z"
   },
   {
    "duration": 3010,
    "start_time": "2024-08-02T22:12:24.848Z"
   },
   {
    "duration": 1418,
    "start_time": "2024-08-02T22:12:27.860Z"
   },
   {
    "duration": 1259,
    "start_time": "2024-08-02T22:12:29.281Z"
   },
   {
    "duration": 429,
    "start_time": "2024-08-02T22:12:30.548Z"
   },
   {
    "duration": 0,
    "start_time": "2024-08-02T22:12:30.980Z"
   },
   {
    "duration": 0,
    "start_time": "2024-08-02T22:12:30.981Z"
   },
   {
    "duration": 0,
    "start_time": "2024-08-02T22:12:30.985Z"
   },
   {
    "duration": 0,
    "start_time": "2024-08-02T22:12:30.987Z"
   },
   {
    "duration": 0,
    "start_time": "2024-08-02T22:12:30.989Z"
   },
   {
    "duration": 0,
    "start_time": "2024-08-02T22:12:30.992Z"
   },
   {
    "duration": 0,
    "start_time": "2024-08-02T22:12:30.995Z"
   },
   {
    "duration": 0,
    "start_time": "2024-08-02T22:12:30.997Z"
   },
   {
    "duration": 0,
    "start_time": "2024-08-02T22:12:31.033Z"
   },
   {
    "duration": 147,
    "start_time": "2024-08-02T22:17:37.622Z"
   },
   {
    "duration": 785,
    "start_time": "2024-08-02T22:17:42.414Z"
   },
   {
    "duration": 1557,
    "start_time": "2024-08-02T22:18:05.214Z"
   },
   {
    "duration": 797,
    "start_time": "2024-08-02T22:18:06.775Z"
   },
   {
    "duration": 26,
    "start_time": "2024-08-02T22:18:07.574Z"
   },
   {
    "duration": 37,
    "start_time": "2024-08-02T22:18:07.603Z"
   },
   {
    "duration": 23,
    "start_time": "2024-08-02T22:18:07.645Z"
   },
   {
    "duration": 126,
    "start_time": "2024-08-02T22:18:07.670Z"
   },
   {
    "duration": 44,
    "start_time": "2024-08-02T22:18:07.800Z"
   },
   {
    "duration": 156,
    "start_time": "2024-08-02T22:18:07.847Z"
   },
   {
    "duration": 36,
    "start_time": "2024-08-02T22:18:08.007Z"
   },
   {
    "duration": 8,
    "start_time": "2024-08-02T22:18:08.046Z"
   },
   {
    "duration": 8,
    "start_time": "2024-08-02T22:18:08.057Z"
   },
   {
    "duration": 7,
    "start_time": "2024-08-02T22:18:08.069Z"
   },
   {
    "duration": 7,
    "start_time": "2024-08-02T22:18:08.079Z"
   },
   {
    "duration": 21,
    "start_time": "2024-08-02T22:18:08.133Z"
   },
   {
    "duration": 6,
    "start_time": "2024-08-02T22:18:08.157Z"
   },
   {
    "duration": 8,
    "start_time": "2024-08-02T22:18:08.166Z"
   },
   {
    "duration": 71,
    "start_time": "2024-08-02T22:18:08.177Z"
   },
   {
    "duration": 19,
    "start_time": "2024-08-02T22:18:08.251Z"
   },
   {
    "duration": 30,
    "start_time": "2024-08-02T22:18:08.273Z"
   },
   {
    "duration": 418,
    "start_time": "2024-08-02T22:18:08.334Z"
   },
   {
    "duration": 1886,
    "start_time": "2024-08-02T22:18:08.755Z"
   },
   {
    "duration": 629,
    "start_time": "2024-08-02T22:18:10.644Z"
   },
   {
    "duration": 1291,
    "start_time": "2024-08-02T22:18:11.276Z"
   },
   {
    "duration": 1093,
    "start_time": "2024-08-02T22:18:12.571Z"
   },
   {
    "duration": 3116,
    "start_time": "2024-08-02T22:18:13.669Z"
   },
   {
    "duration": 1232,
    "start_time": "2024-08-02T22:18:16.788Z"
   },
   {
    "duration": 1276,
    "start_time": "2024-08-02T22:18:18.023Z"
   },
   {
    "duration": 281,
    "start_time": "2024-08-02T22:18:19.305Z"
   },
   {
    "duration": 1173,
    "start_time": "2024-08-02T22:18:19.589Z"
   },
   {
    "duration": 0,
    "start_time": "2024-08-02T22:18:20.764Z"
   },
   {
    "duration": 0,
    "start_time": "2024-08-02T22:18:20.767Z"
   },
   {
    "duration": 0,
    "start_time": "2024-08-02T22:18:20.769Z"
   },
   {
    "duration": 0,
    "start_time": "2024-08-02T22:18:20.771Z"
   },
   {
    "duration": 0,
    "start_time": "2024-08-02T22:18:20.773Z"
   },
   {
    "duration": 0,
    "start_time": "2024-08-02T22:18:20.776Z"
   },
   {
    "duration": 0,
    "start_time": "2024-08-02T22:18:20.777Z"
   },
   {
    "duration": 121,
    "start_time": "2024-08-02T22:20:42.553Z"
   },
   {
    "duration": 189,
    "start_time": "2024-08-02T22:20:43.164Z"
   },
   {
    "duration": 4,
    "start_time": "2024-08-02T22:22:43.733Z"
   },
   {
    "duration": 6,
    "start_time": "2024-08-02T22:30:47.333Z"
   },
   {
    "duration": 2933,
    "start_time": "2024-08-02T22:30:57.938Z"
   },
   {
    "duration": 1691,
    "start_time": "2024-08-02T22:31:00.874Z"
   },
   {
    "duration": 63,
    "start_time": "2024-08-02T22:31:02.569Z"
   },
   {
    "duration": 25,
    "start_time": "2024-08-02T22:31:02.635Z"
   },
   {
    "duration": 80,
    "start_time": "2024-08-02T22:31:02.666Z"
   },
   {
    "duration": 25,
    "start_time": "2024-08-02T22:31:02.749Z"
   },
   {
    "duration": 215,
    "start_time": "2024-08-02T22:31:02.834Z"
   },
   {
    "duration": 88,
    "start_time": "2024-08-02T22:31:03.053Z"
   },
   {
    "duration": 310,
    "start_time": "2024-08-02T22:31:03.144Z"
   },
   {
    "duration": 83,
    "start_time": "2024-08-02T22:31:03.457Z"
   },
   {
    "duration": 17,
    "start_time": "2024-08-02T22:31:03.544Z"
   },
   {
    "duration": 69,
    "start_time": "2024-08-02T22:31:03.564Z"
   },
   {
    "duration": 8,
    "start_time": "2024-08-02T22:31:03.636Z"
   },
   {
    "duration": 6,
    "start_time": "2024-08-02T22:31:03.652Z"
   },
   {
    "duration": 85,
    "start_time": "2024-08-02T22:31:03.662Z"
   },
   {
    "duration": 9,
    "start_time": "2024-08-02T22:31:03.749Z"
   },
   {
    "duration": 72,
    "start_time": "2024-08-02T22:31:03.761Z"
   },
   {
    "duration": 31,
    "start_time": "2024-08-02T22:31:03.837Z"
   },
   {
    "duration": 20,
    "start_time": "2024-08-02T22:31:03.932Z"
   },
   {
    "duration": 97,
    "start_time": "2024-08-02T22:31:03.955Z"
   },
   {
    "duration": 878,
    "start_time": "2024-08-02T22:31:04.055Z"
   },
   {
    "duration": 3836,
    "start_time": "2024-08-02T22:31:04.937Z"
   },
   {
    "duration": 1218,
    "start_time": "2024-08-02T22:31:08.833Z"
   },
   {
    "duration": 2488,
    "start_time": "2024-08-02T22:31:10.056Z"
   },
   {
    "duration": 2211,
    "start_time": "2024-08-02T22:31:12.547Z"
   },
   {
    "duration": 5877,
    "start_time": "2024-08-02T22:31:14.762Z"
   },
   {
    "duration": 2592,
    "start_time": "2024-08-02T22:31:20.643Z"
   },
   {
    "duration": 2525,
    "start_time": "2024-08-02T22:31:23.238Z"
   },
   {
    "duration": 601,
    "start_time": "2024-08-02T22:31:25.767Z"
   },
   {
    "duration": 903,
    "start_time": "2024-08-02T22:31:26.371Z"
   },
   {
    "duration": 0,
    "start_time": "2024-08-02T22:31:27.277Z"
   },
   {
    "duration": 0,
    "start_time": "2024-08-02T22:31:27.278Z"
   },
   {
    "duration": 0,
    "start_time": "2024-08-02T22:31:27.279Z"
   },
   {
    "duration": 0,
    "start_time": "2024-08-02T22:31:27.336Z"
   },
   {
    "duration": 0,
    "start_time": "2024-08-02T22:31:27.339Z"
   },
   {
    "duration": 0,
    "start_time": "2024-08-02T22:31:27.341Z"
   },
   {
    "duration": 0,
    "start_time": "2024-08-02T22:31:27.344Z"
   },
   {
    "duration": 0,
    "start_time": "2024-08-02T22:31:27.347Z"
   },
   {
    "duration": 776,
    "start_time": "2024-08-02T22:38:39.193Z"
   },
   {
    "duration": 6,
    "start_time": "2024-08-02T22:38:40.694Z"
   },
   {
    "duration": 663,
    "start_time": "2024-08-02T22:41:52.574Z"
   },
   {
    "duration": 6,
    "start_time": "2024-08-02T22:43:05.693Z"
   },
   {
    "duration": 27,
    "start_time": "2024-08-02T22:43:47.493Z"
   },
   {
    "duration": 7,
    "start_time": "2024-08-02T22:48:00.215Z"
   },
   {
    "duration": 6,
    "start_time": "2024-08-02T22:48:15.528Z"
   },
   {
    "duration": 41,
    "start_time": "2024-08-02T22:48:37.859Z"
   },
   {
    "duration": 452,
    "start_time": "2024-08-02T22:48:50.673Z"
   },
   {
    "duration": 45,
    "start_time": "2024-08-02T22:50:15.712Z"
   },
   {
    "duration": 456,
    "start_time": "2024-08-02T22:50:21.553Z"
   },
   {
    "duration": 539,
    "start_time": "2024-08-02T22:50:35.913Z"
   },
   {
    "duration": 462,
    "start_time": "2024-08-02T22:50:49.535Z"
   },
   {
    "duration": 7,
    "start_time": "2024-08-02T22:51:35.875Z"
   },
   {
    "duration": 1034,
    "start_time": "2024-08-02T22:51:36.672Z"
   },
   {
    "duration": 37,
    "start_time": "2024-08-02T22:52:43.859Z"
   },
   {
    "duration": 36,
    "start_time": "2024-08-02T22:53:17.055Z"
   },
   {
    "duration": 4,
    "start_time": "2024-08-02T22:53:32.994Z"
   },
   {
    "duration": 4,
    "start_time": "2024-08-02T22:53:56.254Z"
   },
   {
    "duration": 38,
    "start_time": "2024-08-02T22:53:57.360Z"
   },
   {
    "duration": 10,
    "start_time": "2024-08-02T22:54:32.179Z"
   },
   {
    "duration": 15,
    "start_time": "2024-08-02T22:54:52.101Z"
   },
   {
    "duration": 5,
    "start_time": "2024-08-02T22:55:57.333Z"
   },
   {
    "duration": 17,
    "start_time": "2024-08-02T22:56:09.492Z"
   },
   {
    "duration": 6,
    "start_time": "2024-08-02T22:56:21.894Z"
   },
   {
    "duration": 2031,
    "start_time": "2024-08-02T23:11:37.877Z"
   },
   {
    "duration": 42,
    "start_time": "2024-08-02T23:16:09.633Z"
   },
   {
    "duration": 1595,
    "start_time": "2024-08-02T23:16:21.090Z"
   },
   {
    "duration": 805,
    "start_time": "2024-08-02T23:16:22.689Z"
   },
   {
    "duration": 7,
    "start_time": "2024-08-02T23:16:23.496Z"
   },
   {
    "duration": 34,
    "start_time": "2024-08-02T23:16:23.506Z"
   },
   {
    "duration": 17,
    "start_time": "2024-08-02T23:16:23.545Z"
   },
   {
    "duration": 21,
    "start_time": "2024-08-02T23:16:23.565Z"
   },
   {
    "duration": 145,
    "start_time": "2024-08-02T23:16:23.590Z"
   },
   {
    "duration": 31,
    "start_time": "2024-08-02T23:16:23.738Z"
   },
   {
    "duration": 162,
    "start_time": "2024-08-02T23:16:23.771Z"
   },
   {
    "duration": 22,
    "start_time": "2024-08-02T23:16:23.936Z"
   },
   {
    "duration": 7,
    "start_time": "2024-08-02T23:16:23.961Z"
   },
   {
    "duration": 8,
    "start_time": "2024-08-02T23:16:23.971Z"
   },
   {
    "duration": 9,
    "start_time": "2024-08-02T23:16:23.982Z"
   },
   {
    "duration": 678,
    "start_time": "2024-08-02T23:16:24.039Z"
   },
   {
    "duration": 435,
    "start_time": "2024-08-02T23:16:24.720Z"
   },
   {
    "duration": 0,
    "start_time": "2024-08-02T23:16:25.158Z"
   },
   {
    "duration": 0,
    "start_time": "2024-08-02T23:16:25.161Z"
   },
   {
    "duration": 0,
    "start_time": "2024-08-02T23:16:25.162Z"
   },
   {
    "duration": 0,
    "start_time": "2024-08-02T23:16:25.165Z"
   },
   {
    "duration": 0,
    "start_time": "2024-08-02T23:16:25.167Z"
   },
   {
    "duration": 0,
    "start_time": "2024-08-02T23:16:25.170Z"
   },
   {
    "duration": 0,
    "start_time": "2024-08-02T23:16:25.172Z"
   },
   {
    "duration": 0,
    "start_time": "2024-08-02T23:16:25.175Z"
   },
   {
    "duration": 0,
    "start_time": "2024-08-02T23:16:25.177Z"
   },
   {
    "duration": 0,
    "start_time": "2024-08-02T23:16:25.180Z"
   },
   {
    "duration": 0,
    "start_time": "2024-08-02T23:16:25.182Z"
   },
   {
    "duration": 0,
    "start_time": "2024-08-02T23:16:25.184Z"
   },
   {
    "duration": 0,
    "start_time": "2024-08-02T23:16:25.186Z"
   },
   {
    "duration": 0,
    "start_time": "2024-08-02T23:16:25.188Z"
   },
   {
    "duration": 0,
    "start_time": "2024-08-02T23:16:25.233Z"
   },
   {
    "duration": 0,
    "start_time": "2024-08-02T23:16:25.235Z"
   },
   {
    "duration": 0,
    "start_time": "2024-08-02T23:16:25.237Z"
   },
   {
    "duration": 0,
    "start_time": "2024-08-02T23:16:25.239Z"
   },
   {
    "duration": 0,
    "start_time": "2024-08-02T23:16:25.241Z"
   },
   {
    "duration": 0,
    "start_time": "2024-08-02T23:16:25.242Z"
   },
   {
    "duration": 0,
    "start_time": "2024-08-02T23:16:25.244Z"
   },
   {
    "duration": 0,
    "start_time": "2024-08-02T23:16:25.246Z"
   },
   {
    "duration": 1568,
    "start_time": "2024-08-02T23:17:09.554Z"
   },
   {
    "duration": 832,
    "start_time": "2024-08-02T23:17:11.125Z"
   },
   {
    "duration": 7,
    "start_time": "2024-08-02T23:17:11.960Z"
   },
   {
    "duration": 23,
    "start_time": "2024-08-02T23:17:11.970Z"
   },
   {
    "duration": 46,
    "start_time": "2024-08-02T23:17:11.998Z"
   },
   {
    "duration": 21,
    "start_time": "2024-08-02T23:17:12.047Z"
   },
   {
    "duration": 127,
    "start_time": "2024-08-02T23:17:12.071Z"
   },
   {
    "duration": 39,
    "start_time": "2024-08-02T23:17:12.201Z"
   },
   {
    "duration": 168,
    "start_time": "2024-08-02T23:17:12.243Z"
   },
   {
    "duration": 33,
    "start_time": "2024-08-02T23:17:12.414Z"
   },
   {
    "duration": 8,
    "start_time": "2024-08-02T23:17:12.450Z"
   },
   {
    "duration": 8,
    "start_time": "2024-08-02T23:17:12.461Z"
   },
   {
    "duration": 9,
    "start_time": "2024-08-02T23:17:12.472Z"
   },
   {
    "duration": 709,
    "start_time": "2024-08-02T23:17:12.488Z"
   },
   {
    "duration": 437,
    "start_time": "2024-08-02T23:17:13.200Z"
   },
   {
    "duration": 0,
    "start_time": "2024-08-02T23:17:13.640Z"
   },
   {
    "duration": 0,
    "start_time": "2024-08-02T23:17:13.642Z"
   },
   {
    "duration": 0,
    "start_time": "2024-08-02T23:17:13.644Z"
   },
   {
    "duration": 0,
    "start_time": "2024-08-02T23:17:13.645Z"
   },
   {
    "duration": 0,
    "start_time": "2024-08-02T23:17:13.648Z"
   },
   {
    "duration": 0,
    "start_time": "2024-08-02T23:17:13.650Z"
   },
   {
    "duration": 0,
    "start_time": "2024-08-02T23:17:13.652Z"
   },
   {
    "duration": 0,
    "start_time": "2024-08-02T23:17:13.654Z"
   },
   {
    "duration": 0,
    "start_time": "2024-08-02T23:17:13.656Z"
   },
   {
    "duration": 0,
    "start_time": "2024-08-02T23:17:13.658Z"
   },
   {
    "duration": 0,
    "start_time": "2024-08-02T23:17:13.660Z"
   },
   {
    "duration": 0,
    "start_time": "2024-08-02T23:17:13.662Z"
   },
   {
    "duration": 0,
    "start_time": "2024-08-02T23:17:13.665Z"
   },
   {
    "duration": 0,
    "start_time": "2024-08-02T23:17:13.667Z"
   },
   {
    "duration": 0,
    "start_time": "2024-08-02T23:17:13.670Z"
   },
   {
    "duration": 0,
    "start_time": "2024-08-02T23:17:13.672Z"
   },
   {
    "duration": 0,
    "start_time": "2024-08-02T23:17:13.675Z"
   },
   {
    "duration": 0,
    "start_time": "2024-08-02T23:17:13.733Z"
   },
   {
    "duration": 0,
    "start_time": "2024-08-02T23:17:13.735Z"
   },
   {
    "duration": 0,
    "start_time": "2024-08-02T23:17:13.737Z"
   },
   {
    "duration": 0,
    "start_time": "2024-08-02T23:17:13.738Z"
   },
   {
    "duration": 1567,
    "start_time": "2024-08-02T23:18:54.261Z"
   },
   {
    "duration": 777,
    "start_time": "2024-08-02T23:18:55.832Z"
   },
   {
    "duration": 7,
    "start_time": "2024-08-02T23:18:56.612Z"
   },
   {
    "duration": 27,
    "start_time": "2024-08-02T23:18:56.634Z"
   },
   {
    "duration": 23,
    "start_time": "2024-08-02T23:18:56.665Z"
   },
   {
    "duration": 54,
    "start_time": "2024-08-02T23:18:56.690Z"
   },
   {
    "duration": 110,
    "start_time": "2024-08-02T23:18:56.747Z"
   },
   {
    "duration": 31,
    "start_time": "2024-08-02T23:18:56.860Z"
   },
   {
    "duration": 163,
    "start_time": "2024-08-02T23:18:56.894Z"
   },
   {
    "duration": 22,
    "start_time": "2024-08-02T23:18:57.063Z"
   },
   {
    "duration": 9,
    "start_time": "2024-08-02T23:18:57.089Z"
   },
   {
    "duration": 34,
    "start_time": "2024-08-02T23:18:57.102Z"
   },
   {
    "duration": 10,
    "start_time": "2024-08-02T23:18:57.138Z"
   },
   {
    "duration": 689,
    "start_time": "2024-08-02T23:18:57.153Z"
   },
   {
    "duration": 28,
    "start_time": "2024-08-02T23:18:57.844Z"
   },
   {
    "duration": 16,
    "start_time": "2024-08-02T23:18:57.876Z"
   },
   {
    "duration": 57,
    "start_time": "2024-08-02T23:18:57.895Z"
   },
   {
    "duration": 7,
    "start_time": "2024-08-02T23:18:57.956Z"
   },
   {
    "duration": 493,
    "start_time": "2024-08-02T23:18:57.966Z"
   },
   {
    "duration": 448,
    "start_time": "2024-08-02T23:18:58.462Z"
   },
   {
    "duration": 470,
    "start_time": "2024-08-02T23:18:58.913Z"
   },
   {
    "duration": 6,
    "start_time": "2024-08-02T23:18:59.386Z"
   },
   {
    "duration": 1115,
    "start_time": "2024-08-02T23:18:59.395Z"
   },
   {
    "duration": 1275,
    "start_time": "2024-08-02T23:19:00.512Z"
   },
   {
    "duration": 1302,
    "start_time": "2024-08-02T23:19:01.791Z"
   },
   {
    "duration": 3256,
    "start_time": "2024-08-02T23:19:03.097Z"
   },
   {
    "duration": 1313,
    "start_time": "2024-08-02T23:19:06.357Z"
   },
   {
    "duration": 1439,
    "start_time": "2024-08-02T23:19:07.678Z"
   },
   {
    "duration": 16,
    "start_time": "2024-08-02T23:19:09.121Z"
   },
   {
    "duration": 36,
    "start_time": "2024-08-02T23:19:09.140Z"
   },
   {
    "duration": 18,
    "start_time": "2024-08-02T23:19:09.180Z"
   },
   {
    "duration": 6,
    "start_time": "2024-08-02T23:19:09.235Z"
   },
   {
    "duration": 18,
    "start_time": "2024-08-02T23:19:09.245Z"
   },
   {
    "duration": 7,
    "start_time": "2024-08-02T23:19:09.266Z"
   },
   {
    "duration": 485,
    "start_time": "2024-08-02T23:19:09.276Z"
   },
   {
    "duration": 8,
    "start_time": "2024-08-02T23:20:01.338Z"
   },
   {
    "duration": 560,
    "start_time": "2024-08-02T23:20:09.073Z"
   },
   {
    "duration": 478,
    "start_time": "2024-08-02T23:20:26.571Z"
   },
   {
    "duration": 4124,
    "start_time": "2024-08-02T23:20:51.432Z"
   },
   {
    "duration": 119915,
    "start_time": "2024-08-02T23:21:16.832Z"
   },
   {
    "duration": 16496,
    "start_time": "2024-08-02T23:23:47.653Z"
   },
   {
    "duration": 12,
    "start_time": "2024-08-02T23:25:45.893Z"
   },
   {
    "duration": 1609,
    "start_time": "2024-08-02T23:25:58.353Z"
   },
   {
    "duration": 779,
    "start_time": "2024-08-02T23:25:59.965Z"
   },
   {
    "duration": 7,
    "start_time": "2024-08-02T23:26:00.747Z"
   },
   {
    "duration": 21,
    "start_time": "2024-08-02T23:26:00.757Z"
   },
   {
    "duration": 51,
    "start_time": "2024-08-02T23:26:00.783Z"
   },
   {
    "duration": 21,
    "start_time": "2024-08-02T23:26:00.837Z"
   },
   {
    "duration": 122,
    "start_time": "2024-08-02T23:26:00.861Z"
   },
   {
    "duration": 33,
    "start_time": "2024-08-02T23:26:00.985Z"
   },
   {
    "duration": 148,
    "start_time": "2024-08-02T23:26:01.033Z"
   },
   {
    "duration": 22,
    "start_time": "2024-08-02T23:26:01.184Z"
   },
   {
    "duration": 28,
    "start_time": "2024-08-02T23:26:01.209Z"
   },
   {
    "duration": 7,
    "start_time": "2024-08-02T23:26:01.240Z"
   },
   {
    "duration": 8,
    "start_time": "2024-08-02T23:26:01.250Z"
   },
   {
    "duration": 725,
    "start_time": "2024-08-02T23:26:01.265Z"
   },
   {
    "duration": 40,
    "start_time": "2024-08-02T23:26:01.993Z"
   },
   {
    "duration": 18,
    "start_time": "2024-08-02T23:26:02.036Z"
   },
   {
    "duration": 11,
    "start_time": "2024-08-02T23:26:02.057Z"
   },
   {
    "duration": 7,
    "start_time": "2024-08-02T23:26:02.071Z"
   },
   {
    "duration": 517,
    "start_time": "2024-08-02T23:26:02.081Z"
   },
   {
    "duration": 455,
    "start_time": "2024-08-02T23:26:02.601Z"
   },
   {
    "duration": 469,
    "start_time": "2024-08-02T23:26:03.059Z"
   },
   {
    "duration": 6,
    "start_time": "2024-08-02T23:26:03.532Z"
   },
   {
    "duration": 1062,
    "start_time": "2024-08-02T23:26:03.541Z"
   },
   {
    "duration": 1255,
    "start_time": "2024-08-02T23:26:04.607Z"
   },
   {
    "duration": 1107,
    "start_time": "2024-08-02T23:26:05.867Z"
   },
   {
    "duration": 3158,
    "start_time": "2024-08-02T23:26:06.977Z"
   },
   {
    "duration": 1294,
    "start_time": "2024-08-02T23:26:10.139Z"
   },
   {
    "duration": 1384,
    "start_time": "2024-08-02T23:26:11.437Z"
   },
   {
    "duration": 15,
    "start_time": "2024-08-02T23:26:12.823Z"
   },
   {
    "duration": 36,
    "start_time": "2024-08-02T23:26:12.842Z"
   },
   {
    "duration": 16,
    "start_time": "2024-08-02T23:26:12.881Z"
   },
   {
    "duration": 34,
    "start_time": "2024-08-02T23:26:12.900Z"
   },
   {
    "duration": 19,
    "start_time": "2024-08-02T23:26:12.938Z"
   },
   {
    "duration": 6,
    "start_time": "2024-08-02T23:26:12.960Z"
   },
   {
    "duration": 664,
    "start_time": "2024-08-02T23:26:12.970Z"
   },
   {
    "duration": 4185,
    "start_time": "2024-08-02T23:26:13.640Z"
   },
   {
    "duration": 119994,
    "start_time": "2024-08-02T23:26:17.832Z"
   },
   {
    "duration": 17108,
    "start_time": "2024-08-02T23:28:17.838Z"
   },
   {
    "duration": 16212,
    "start_time": "2024-08-02T23:31:13.272Z"
   },
   {
    "duration": 0,
    "start_time": "2024-08-02T23:32:33.417Z"
   },
   {
    "duration": 16237,
    "start_time": "2024-08-02T23:32:50.047Z"
   },
   {
    "duration": 16149,
    "start_time": "2024-08-02T23:41:29.998Z"
   },
   {
    "duration": 16163,
    "start_time": "2024-08-02T23:42:45.637Z"
   },
   {
    "duration": 1583,
    "start_time": "2024-08-03T00:00:39.894Z"
   },
   {
    "duration": 809,
    "start_time": "2024-08-03T00:00:41.481Z"
   },
   {
    "duration": 7,
    "start_time": "2024-08-03T00:00:42.292Z"
   },
   {
    "duration": 41,
    "start_time": "2024-08-03T00:00:42.303Z"
   },
   {
    "duration": 17,
    "start_time": "2024-08-03T00:00:42.349Z"
   },
   {
    "duration": 22,
    "start_time": "2024-08-03T00:00:42.369Z"
   },
   {
    "duration": 141,
    "start_time": "2024-08-03T00:00:42.395Z"
   },
   {
    "duration": 37,
    "start_time": "2024-08-03T00:00:42.538Z"
   },
   {
    "duration": 167,
    "start_time": "2024-08-03T00:00:42.578Z"
   },
   {
    "duration": 22,
    "start_time": "2024-08-03T00:00:42.748Z"
   },
   {
    "duration": 9,
    "start_time": "2024-08-03T00:00:42.773Z"
   },
   {
    "duration": 9,
    "start_time": "2024-08-03T00:00:42.785Z"
   },
   {
    "duration": 7,
    "start_time": "2024-08-03T00:00:42.833Z"
   },
   {
    "duration": 713,
    "start_time": "2024-08-03T00:00:42.848Z"
   },
   {
    "duration": 27,
    "start_time": "2024-08-03T00:00:43.565Z"
   },
   {
    "duration": 41,
    "start_time": "2024-08-03T00:00:43.595Z"
   },
   {
    "duration": 16,
    "start_time": "2024-08-03T00:00:43.639Z"
   },
   {
    "duration": 7,
    "start_time": "2024-08-03T00:00:43.660Z"
   },
   {
    "duration": 508,
    "start_time": "2024-08-03T00:00:43.670Z"
   },
   {
    "duration": 456,
    "start_time": "2024-08-03T00:00:44.181Z"
   },
   {
    "duration": 477,
    "start_time": "2024-08-03T00:00:44.640Z"
   },
   {
    "duration": 13,
    "start_time": "2024-08-03T00:00:45.121Z"
   },
   {
    "duration": 1071,
    "start_time": "2024-08-03T00:00:45.137Z"
   },
   {
    "duration": 1267,
    "start_time": "2024-08-03T00:00:46.210Z"
   },
   {
    "duration": 1117,
    "start_time": "2024-08-03T00:00:47.481Z"
   },
   {
    "duration": 3051,
    "start_time": "2024-08-03T00:00:48.600Z"
   },
   {
    "duration": 1262,
    "start_time": "2024-08-03T00:00:51.656Z"
   },
   {
    "duration": 1369,
    "start_time": "2024-08-03T00:00:52.921Z"
   },
   {
    "duration": 7,
    "start_time": "2024-08-03T00:00:54.293Z"
   },
   {
    "duration": 47,
    "start_time": "2024-08-03T00:00:54.303Z"
   },
   {
    "duration": 15,
    "start_time": "2024-08-03T00:00:54.353Z"
   },
   {
    "duration": 6,
    "start_time": "2024-08-03T00:00:54.371Z"
   },
   {
    "duration": 61,
    "start_time": "2024-08-03T00:00:54.380Z"
   },
   {
    "duration": 6,
    "start_time": "2024-08-03T00:00:54.445Z"
   },
   {
    "duration": 600,
    "start_time": "2024-08-03T00:00:54.455Z"
   },
   {
    "duration": 4203,
    "start_time": "2024-08-03T00:00:55.133Z"
   },
   {
    "duration": 1611,
    "start_time": "2024-08-03T08:23:41.087Z"
   },
   {
    "duration": 982,
    "start_time": "2024-08-03T08:23:42.701Z"
   },
   {
    "duration": 7,
    "start_time": "2024-08-03T08:23:43.685Z"
   },
   {
    "duration": 45,
    "start_time": "2024-08-03T08:23:43.696Z"
   },
   {
    "duration": 17,
    "start_time": "2024-08-03T08:23:43.744Z"
   },
   {
    "duration": 21,
    "start_time": "2024-08-03T08:23:43.764Z"
   },
   {
    "duration": 134,
    "start_time": "2024-08-03T08:23:43.788Z"
   },
   {
    "duration": 32,
    "start_time": "2024-08-03T08:23:43.932Z"
   },
   {
    "duration": 167,
    "start_time": "2024-08-03T08:23:43.969Z"
   },
   {
    "duration": 22,
    "start_time": "2024-08-03T08:23:44.142Z"
   },
   {
    "duration": 9,
    "start_time": "2024-08-03T08:23:44.166Z"
   },
   {
    "duration": 8,
    "start_time": "2024-08-03T08:23:44.177Z"
   },
   {
    "duration": 45,
    "start_time": "2024-08-03T08:23:44.189Z"
   },
   {
    "duration": 667,
    "start_time": "2024-08-03T08:23:44.237Z"
   },
   {
    "duration": 44,
    "start_time": "2024-08-03T08:23:44.907Z"
   },
   {
    "duration": 17,
    "start_time": "2024-08-03T08:23:44.955Z"
   },
   {
    "duration": 13,
    "start_time": "2024-08-03T08:23:44.977Z"
   },
   {
    "duration": 7,
    "start_time": "2024-08-03T08:23:44.993Z"
   },
   {
    "duration": 511,
    "start_time": "2024-08-03T08:23:45.002Z"
   },
   {
    "duration": 461,
    "start_time": "2024-08-03T08:23:45.517Z"
   },
   {
    "duration": 479,
    "start_time": "2024-08-03T08:23:45.981Z"
   },
   {
    "duration": 5,
    "start_time": "2024-08-03T08:23:46.463Z"
   },
   {
    "duration": 1125,
    "start_time": "2024-08-03T08:23:46.471Z"
   },
   {
    "duration": 1261,
    "start_time": "2024-08-03T08:23:47.599Z"
   },
   {
    "duration": 1110,
    "start_time": "2024-08-03T08:23:48.868Z"
   },
   {
    "duration": 3008,
    "start_time": "2024-08-03T08:23:49.981Z"
   },
   {
    "duration": 1268,
    "start_time": "2024-08-03T08:23:52.993Z"
   },
   {
    "duration": 1391,
    "start_time": "2024-08-03T08:23:54.264Z"
   },
   {
    "duration": 5,
    "start_time": "2024-08-03T08:23:55.658Z"
   },
   {
    "duration": 34,
    "start_time": "2024-08-03T08:23:55.667Z"
   },
   {
    "duration": 15,
    "start_time": "2024-08-03T08:23:55.732Z"
   },
   {
    "duration": 6,
    "start_time": "2024-08-03T08:23:55.749Z"
   },
   {
    "duration": 17,
    "start_time": "2024-08-03T08:23:55.759Z"
   },
   {
    "duration": 7,
    "start_time": "2024-08-03T08:23:55.779Z"
   },
   {
    "duration": 707,
    "start_time": "2024-08-03T08:23:55.832Z"
   },
   {
    "duration": 4168,
    "start_time": "2024-08-03T08:23:56.543Z"
   },
   {
    "duration": 119871,
    "start_time": "2024-08-03T08:24:00.714Z"
   },
   {
    "duration": 16180,
    "start_time": "2024-08-03T08:26:00.588Z"
   }
  ],
  "kernelspec": {
   "display_name": "Python 3 (ipykernel)",
   "language": "python",
   "name": "python3"
  },
  "language_info": {
   "codemirror_mode": {
    "name": "ipython",
    "version": 3
   },
   "file_extension": ".py",
   "mimetype": "text/x-python",
   "name": "python",
   "nbconvert_exporter": "python",
   "pygments_lexer": "ipython3",
   "version": "3.12.3"
  },
  "toc": {
   "base_numbering": 1,
   "nav_menu": {},
   "number_sections": true,
   "sideBar": true,
   "skip_h1_title": true,
   "title_cell": "Table of Contents",
   "title_sidebar": "Contents",
   "toc_cell": false,
   "toc_position": {},
   "toc_section_display": true,
   "toc_window_display": false
  }
 },
 "nbformat": 4,
 "nbformat_minor": 2
}
