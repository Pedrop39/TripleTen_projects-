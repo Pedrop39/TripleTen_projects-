{
 "cells": [
  {
   "cell_type": "markdown",
   "metadata": {},
   "source": [
    "# Predicting Customer Churn in Beta Bank\n",
    "\n",
    "**Objective:** Build a predictive model to identify customers likely to leave Beta Bank. By analyzing historical data on clients’ behavior and contract terminations, we aim to help the bank take proactive measures to retain existing customers.\n",
    "\n",
    "**Dataset:**\n",
    "bank_df contains features such as credit score, age, balance, and more.\n",
    "Target variable: Whether a customer churned or not.\n",
    "Approach:\n",
    "\n",
    "**Data Exploration and Preprocessing:** Handle missing values, encode categorical features.\n",
    "Model Building: Train machine learning models (e.g., logistic regression, decision trees).\n",
    "Model Evaluation: Aim for an F1 score of at least 0.59 on the test set."
   ]
  },
  {
   "cell_type": "code",
   "execution_count": 1,
   "metadata": {},
   "outputs": [],
   "source": [
    "import pandas as pd\n",
    "from sklearn.tree import DecisionTreeClassifier\n",
    "from sklearn.metrics import accuracy_score\n",
    "from sklearn.ensemble import RandomForestClassifier\n",
    "from sklearn.linear_model import LogisticRegression\n",
    "from sklearn.tree import DecisionTreeRegressor\n",
    "from sklearn.ensemble import RandomForestRegressor\n",
    "from sklearn.model_selection import train_test_split\n",
    "from sklearn.dummy import DummyClassifier\n",
    "from sklearn.metrics import mean_squared_error\n",
    "import numpy as np\n",
    "from sklearn.model_selection import train_test_split\n",
    "from sklearn.preprocessing import OneHotEncoder\n",
    "from sklearn.compose import ColumnTransformer\n",
    "from sklearn.metrics import classification_report, roc_auc_score\n",
    "from sklearn.metrics import roc_auc_score, roc_curve\n",
    "import matplotlib.pyplot as plt\n",
    "from sklearn.metrics import f1_score\n",
    "import seaborn as sns\n",
    "from sklearn.datasets import make_classification\n",
    "from sklearn.metrics import f1_score, roc_auc_score, mean_squared_error\n",
    "from sklearn.metrics import confusion_matrix, classification_report, roc_curve, roc_auc_score\n",
    "from sklearn.metrics import roc_curve, auc\n",
    "from sklearn.utils import resample"
   ]
  },
  {
   "cell_type": "code",
   "execution_count": 2,
   "metadata": {},
   "outputs": [],
   "source": [
    "bank_df = pd.read_csv('/datasets/Churn.csv')"
   ]
  },
  {
   "cell_type": "code",
   "execution_count": 3,
   "metadata": {},
   "outputs": [
    {
     "name": "stdout",
     "output_type": "stream",
     "text": [
      "<class 'pandas.core.frame.DataFrame'>\n",
      "RangeIndex: 10000 entries, 0 to 9999\n",
      "Data columns (total 14 columns):\n",
      " #   Column           Non-Null Count  Dtype  \n",
      "---  ------           --------------  -----  \n",
      " 0   RowNumber        10000 non-null  int64  \n",
      " 1   CustomerId       10000 non-null  int64  \n",
      " 2   Surname          10000 non-null  object \n",
      " 3   CreditScore      10000 non-null  int64  \n",
      " 4   Geography        10000 non-null  object \n",
      " 5   Gender           10000 non-null  object \n",
      " 6   Age              10000 non-null  int64  \n",
      " 7   Tenure           9091 non-null   float64\n",
      " 8   Balance          10000 non-null  float64\n",
      " 9   NumOfProducts    10000 non-null  int64  \n",
      " 10  HasCrCard        10000 non-null  int64  \n",
      " 11  IsActiveMember   10000 non-null  int64  \n",
      " 12  EstimatedSalary  10000 non-null  float64\n",
      " 13  Exited           10000 non-null  int64  \n",
      "dtypes: float64(3), int64(8), object(3)\n",
      "memory usage: 1.1+ MB\n"
     ]
    }
   ],
   "source": [
    "bank_df.info()"
   ]
  },
  {
   "cell_type": "code",
   "execution_count": 4,
   "metadata": {},
   "outputs": [
    {
     "data": {
      "text/html": [
       "<div>\n",
       "<style scoped>\n",
       "    .dataframe tbody tr th:only-of-type {\n",
       "        vertical-align: middle;\n",
       "    }\n",
       "\n",
       "    .dataframe tbody tr th {\n",
       "        vertical-align: top;\n",
       "    }\n",
       "\n",
       "    .dataframe thead th {\n",
       "        text-align: right;\n",
       "    }\n",
       "</style>\n",
       "<table border=\"1\" class=\"dataframe\">\n",
       "  <thead>\n",
       "    <tr style=\"text-align: right;\">\n",
       "      <th></th>\n",
       "      <th>RowNumber</th>\n",
       "      <th>CustomerId</th>\n",
       "      <th>Surname</th>\n",
       "      <th>CreditScore</th>\n",
       "      <th>Geography</th>\n",
       "      <th>Gender</th>\n",
       "      <th>Age</th>\n",
       "      <th>Tenure</th>\n",
       "      <th>Balance</th>\n",
       "      <th>NumOfProducts</th>\n",
       "      <th>HasCrCard</th>\n",
       "      <th>IsActiveMember</th>\n",
       "      <th>EstimatedSalary</th>\n",
       "      <th>Exited</th>\n",
       "    </tr>\n",
       "  </thead>\n",
       "  <tbody>\n",
       "    <tr>\n",
       "      <th>0</th>\n",
       "      <td>1</td>\n",
       "      <td>15634602</td>\n",
       "      <td>Hargrave</td>\n",
       "      <td>619</td>\n",
       "      <td>France</td>\n",
       "      <td>Female</td>\n",
       "      <td>42</td>\n",
       "      <td>2.0</td>\n",
       "      <td>0.00</td>\n",
       "      <td>1</td>\n",
       "      <td>1</td>\n",
       "      <td>1</td>\n",
       "      <td>101348.88</td>\n",
       "      <td>1</td>\n",
       "    </tr>\n",
       "    <tr>\n",
       "      <th>1</th>\n",
       "      <td>2</td>\n",
       "      <td>15647311</td>\n",
       "      <td>Hill</td>\n",
       "      <td>608</td>\n",
       "      <td>Spain</td>\n",
       "      <td>Female</td>\n",
       "      <td>41</td>\n",
       "      <td>1.0</td>\n",
       "      <td>83807.86</td>\n",
       "      <td>1</td>\n",
       "      <td>0</td>\n",
       "      <td>1</td>\n",
       "      <td>112542.58</td>\n",
       "      <td>0</td>\n",
       "    </tr>\n",
       "    <tr>\n",
       "      <th>2</th>\n",
       "      <td>3</td>\n",
       "      <td>15619304</td>\n",
       "      <td>Onio</td>\n",
       "      <td>502</td>\n",
       "      <td>France</td>\n",
       "      <td>Female</td>\n",
       "      <td>42</td>\n",
       "      <td>8.0</td>\n",
       "      <td>159660.80</td>\n",
       "      <td>3</td>\n",
       "      <td>1</td>\n",
       "      <td>0</td>\n",
       "      <td>113931.57</td>\n",
       "      <td>1</td>\n",
       "    </tr>\n",
       "    <tr>\n",
       "      <th>3</th>\n",
       "      <td>4</td>\n",
       "      <td>15701354</td>\n",
       "      <td>Boni</td>\n",
       "      <td>699</td>\n",
       "      <td>France</td>\n",
       "      <td>Female</td>\n",
       "      <td>39</td>\n",
       "      <td>1.0</td>\n",
       "      <td>0.00</td>\n",
       "      <td>2</td>\n",
       "      <td>0</td>\n",
       "      <td>0</td>\n",
       "      <td>93826.63</td>\n",
       "      <td>0</td>\n",
       "    </tr>\n",
       "    <tr>\n",
       "      <th>4</th>\n",
       "      <td>5</td>\n",
       "      <td>15737888</td>\n",
       "      <td>Mitchell</td>\n",
       "      <td>850</td>\n",
       "      <td>Spain</td>\n",
       "      <td>Female</td>\n",
       "      <td>43</td>\n",
       "      <td>2.0</td>\n",
       "      <td>125510.82</td>\n",
       "      <td>1</td>\n",
       "      <td>1</td>\n",
       "      <td>1</td>\n",
       "      <td>79084.10</td>\n",
       "      <td>0</td>\n",
       "    </tr>\n",
       "  </tbody>\n",
       "</table>\n",
       "</div>"
      ],
      "text/plain": [
       "   RowNumber  CustomerId   Surname  CreditScore Geography  Gender  Age  \\\n",
       "0          1    15634602  Hargrave          619    France  Female   42   \n",
       "1          2    15647311      Hill          608     Spain  Female   41   \n",
       "2          3    15619304      Onio          502    France  Female   42   \n",
       "3          4    15701354      Boni          699    France  Female   39   \n",
       "4          5    15737888  Mitchell          850     Spain  Female   43   \n",
       "\n",
       "   Tenure    Balance  NumOfProducts  HasCrCard  IsActiveMember  \\\n",
       "0     2.0       0.00              1          1               1   \n",
       "1     1.0   83807.86              1          0               1   \n",
       "2     8.0  159660.80              3          1               0   \n",
       "3     1.0       0.00              2          0               0   \n",
       "4     2.0  125510.82              1          1               1   \n",
       "\n",
       "   EstimatedSalary  Exited  \n",
       "0        101348.88       1  \n",
       "1        112542.58       0  \n",
       "2        113931.57       1  \n",
       "3         93826.63       0  \n",
       "4         79084.10       0  "
      ]
     },
     "execution_count": 4,
     "metadata": {},
     "output_type": "execute_result"
    }
   ],
   "source": [
    "bank_df.head()"
   ]
  },
  {
   "cell_type": "code",
   "execution_count": 5,
   "metadata": {},
   "outputs": [
    {
     "data": {
      "text/html": [
       "<div>\n",
       "<style scoped>\n",
       "    .dataframe tbody tr th:only-of-type {\n",
       "        vertical-align: middle;\n",
       "    }\n",
       "\n",
       "    .dataframe tbody tr th {\n",
       "        vertical-align: top;\n",
       "    }\n",
       "\n",
       "    .dataframe thead th {\n",
       "        text-align: right;\n",
       "    }\n",
       "</style>\n",
       "<table border=\"1\" class=\"dataframe\">\n",
       "  <thead>\n",
       "    <tr style=\"text-align: right;\">\n",
       "      <th></th>\n",
       "      <th>RowNumber</th>\n",
       "      <th>CustomerId</th>\n",
       "      <th>Surname</th>\n",
       "      <th>CreditScore</th>\n",
       "      <th>Geography</th>\n",
       "      <th>Gender</th>\n",
       "      <th>Age</th>\n",
       "      <th>Tenure</th>\n",
       "      <th>Balance</th>\n",
       "      <th>NumOfProducts</th>\n",
       "      <th>HasCrCard</th>\n",
       "      <th>IsActiveMember</th>\n",
       "      <th>EstimatedSalary</th>\n",
       "      <th>Exited</th>\n",
       "    </tr>\n",
       "  </thead>\n",
       "  <tbody>\n",
       "    <tr>\n",
       "      <th>0</th>\n",
       "      <td>1</td>\n",
       "      <td>15634602</td>\n",
       "      <td>hargrave</td>\n",
       "      <td>619</td>\n",
       "      <td>france</td>\n",
       "      <td>female</td>\n",
       "      <td>42</td>\n",
       "      <td>2.0</td>\n",
       "      <td>0.00</td>\n",
       "      <td>1</td>\n",
       "      <td>1</td>\n",
       "      <td>1</td>\n",
       "      <td>101348.88</td>\n",
       "      <td>1</td>\n",
       "    </tr>\n",
       "    <tr>\n",
       "      <th>1</th>\n",
       "      <td>2</td>\n",
       "      <td>15647311</td>\n",
       "      <td>hill</td>\n",
       "      <td>608</td>\n",
       "      <td>spain</td>\n",
       "      <td>female</td>\n",
       "      <td>41</td>\n",
       "      <td>1.0</td>\n",
       "      <td>83807.86</td>\n",
       "      <td>1</td>\n",
       "      <td>0</td>\n",
       "      <td>1</td>\n",
       "      <td>112542.58</td>\n",
       "      <td>0</td>\n",
       "    </tr>\n",
       "    <tr>\n",
       "      <th>2</th>\n",
       "      <td>3</td>\n",
       "      <td>15619304</td>\n",
       "      <td>onio</td>\n",
       "      <td>502</td>\n",
       "      <td>france</td>\n",
       "      <td>female</td>\n",
       "      <td>42</td>\n",
       "      <td>8.0</td>\n",
       "      <td>159660.80</td>\n",
       "      <td>3</td>\n",
       "      <td>1</td>\n",
       "      <td>0</td>\n",
       "      <td>113931.57</td>\n",
       "      <td>1</td>\n",
       "    </tr>\n",
       "    <tr>\n",
       "      <th>3</th>\n",
       "      <td>4</td>\n",
       "      <td>15701354</td>\n",
       "      <td>boni</td>\n",
       "      <td>699</td>\n",
       "      <td>france</td>\n",
       "      <td>female</td>\n",
       "      <td>39</td>\n",
       "      <td>1.0</td>\n",
       "      <td>0.00</td>\n",
       "      <td>2</td>\n",
       "      <td>0</td>\n",
       "      <td>0</td>\n",
       "      <td>93826.63</td>\n",
       "      <td>0</td>\n",
       "    </tr>\n",
       "    <tr>\n",
       "      <th>4</th>\n",
       "      <td>5</td>\n",
       "      <td>15737888</td>\n",
       "      <td>mitchell</td>\n",
       "      <td>850</td>\n",
       "      <td>spain</td>\n",
       "      <td>female</td>\n",
       "      <td>43</td>\n",
       "      <td>2.0</td>\n",
       "      <td>125510.82</td>\n",
       "      <td>1</td>\n",
       "      <td>1</td>\n",
       "      <td>1</td>\n",
       "      <td>79084.10</td>\n",
       "      <td>0</td>\n",
       "    </tr>\n",
       "  </tbody>\n",
       "</table>\n",
       "</div>"
      ],
      "text/plain": [
       "   RowNumber  CustomerId   Surname  CreditScore Geography  Gender  Age  \\\n",
       "0          1    15634602  hargrave          619    france  female   42   \n",
       "1          2    15647311      hill          608     spain  female   41   \n",
       "2          3    15619304      onio          502    france  female   42   \n",
       "3          4    15701354      boni          699    france  female   39   \n",
       "4          5    15737888  mitchell          850     spain  female   43   \n",
       "\n",
       "   Tenure    Balance  NumOfProducts  HasCrCard  IsActiveMember  \\\n",
       "0     2.0       0.00              1          1               1   \n",
       "1     1.0   83807.86              1          0               1   \n",
       "2     8.0  159660.80              3          1               0   \n",
       "3     1.0       0.00              2          0               0   \n",
       "4     2.0  125510.82              1          1               1   \n",
       "\n",
       "   EstimatedSalary  Exited  \n",
       "0        101348.88       1  \n",
       "1        112542.58       0  \n",
       "2        113931.57       1  \n",
       "3         93826.63       0  \n",
       "4         79084.10       0  "
      ]
     },
     "execution_count": 5,
     "metadata": {},
     "output_type": "execute_result"
    }
   ],
   "source": [
    "bank_df['Surname'] = bank_df['Surname'].str.lower()\n",
    "bank_df['Geography'] = bank_df['Geography'].str.lower()\n",
    "bank_df['Gender'] = bank_df['Gender'].str.lower()\n",
    "bank_df.head()"
   ]
  },
  {
   "cell_type": "code",
   "execution_count": 6,
   "metadata": {},
   "outputs": [
    {
     "name": "stdout",
     "output_type": "stream",
     "text": [
      "Actual missing values in the 'tenure' column:\n",
      "      RowNumber  CustomerId    Surname  CreditScore Geography  Gender  Age  \\\n",
      "30           31    15589475    azikiwe          591     spain  female   39   \n",
      "48           49    15766205        yin          550   germany    male   38   \n",
      "51           52    15768193  trevisani          585   germany    male   36   \n",
      "53           54    15702298   parkhill          655   germany    male   41   \n",
      "60           61    15651280     hunter          742   germany    male   35   \n",
      "...         ...         ...        ...          ...       ...     ...  ...   \n",
      "9944       9945    15703923    cameron          744   germany    male   41   \n",
      "9956       9957    15707861      nucci          520    france  female   46   \n",
      "9964       9965    15642785    douglas          479    france    male   34   \n",
      "9985       9986    15586914     nepean          659    france    male   36   \n",
      "9999      10000    15628319     walker          792    france  female   28   \n",
      "\n",
      "      Tenure    Balance  NumOfProducts  HasCrCard  IsActiveMember  \\\n",
      "30       NaN       0.00              3          1               0   \n",
      "48       NaN  103391.38              1          0               1   \n",
      "51       NaN  146050.97              2          0               0   \n",
      "53       NaN  125561.97              1          0               0   \n",
      "60       NaN  136857.00              1          0               0   \n",
      "...      ...        ...            ...        ...             ...   \n",
      "9944     NaN  190409.34              2          1               1   \n",
      "9956     NaN   85216.61              1          1               0   \n",
      "9964     NaN  117593.48              2          0               0   \n",
      "9985     NaN  123841.49              2          1               0   \n",
      "9999     NaN  130142.79              1          1               0   \n",
      "\n",
      "      EstimatedSalary  Exited  \n",
      "30          140469.38       1  \n",
      "48           90878.13       0  \n",
      "51           86424.57       0  \n",
      "53          164040.94       1  \n",
      "60           84509.57       0  \n",
      "...               ...     ...  \n",
      "9944        138361.48       0  \n",
      "9956        117369.52       1  \n",
      "9964        113308.29       0  \n",
      "9985         96833.00       0  \n",
      "9999         38190.78       0  \n",
      "\n",
      "[909 rows x 14 columns]\n"
     ]
    }
   ],
   "source": [
    "missing_values = bank_df[bank_df[\"Tenure\"].isnull()]\n",
    "\n",
    "print(f\"Actual missing values in the 'tenure' column:\")\n",
    "print(missing_values)"
   ]
  },
  {
   "cell_type": "code",
   "execution_count": 7,
   "metadata": {},
   "outputs": [
    {
     "name": "stdout",
     "output_type": "stream",
     "text": [
      "The median tenure is: 5.00\n"
     ]
    }
   ],
   "source": [
    "median_tenure = bank_df['Tenure'].median()\n",
    "\n",
    "print(f\"The median tenure is: {median_tenure:.2f}\")"
   ]
  },
  {
   "cell_type": "code",
   "execution_count": 8,
   "metadata": {},
   "outputs": [],
   "source": [
    "bank_df['Tenure'].fillna(5.0, inplace=True)\n"
   ]
  },
  {
   "cell_type": "code",
   "execution_count": 9,
   "metadata": {},
   "outputs": [
    {
     "name": "stdout",
     "output_type": "stream",
     "text": [
      "<class 'pandas.core.frame.DataFrame'>\n",
      "RangeIndex: 10000 entries, 0 to 9999\n",
      "Data columns (total 14 columns):\n",
      " #   Column           Non-Null Count  Dtype  \n",
      "---  ------           --------------  -----  \n",
      " 0   RowNumber        10000 non-null  int64  \n",
      " 1   CustomerId       10000 non-null  int64  \n",
      " 2   Surname          10000 non-null  object \n",
      " 3   CreditScore      10000 non-null  int64  \n",
      " 4   Geography        10000 non-null  object \n",
      " 5   Gender           10000 non-null  object \n",
      " 6   Age              10000 non-null  int64  \n",
      " 7   Tenure           10000 non-null  float64\n",
      " 8   Balance          10000 non-null  float64\n",
      " 9   NumOfProducts    10000 non-null  int64  \n",
      " 10  HasCrCard        10000 non-null  int64  \n",
      " 11  IsActiveMember   10000 non-null  int64  \n",
      " 12  EstimatedSalary  10000 non-null  float64\n",
      " 13  Exited           10000 non-null  int64  \n",
      "dtypes: float64(3), int64(8), object(3)\n",
      "memory usage: 1.1+ MB\n"
     ]
    }
   ],
   "source": [
    "bank_df.info()"
   ]
  },
  {
   "cell_type": "code",
   "execution_count": 10,
   "metadata": {},
   "outputs": [
    {
     "name": "stdout",
     "output_type": "stream",
     "text": [
      "No duplicate values found in the 'CustomerId' column.\n"
     ]
    }
   ],
   "source": [
    "duplicates_exist = bank_df['CustomerId'].duplicated().all()\n",
    "\n",
    "if duplicates_exist:\n",
    "    print(\"Duplicate values exist in the 'CustomerId' column.\")\n",
    "else:\n",
    "    print(\"No duplicate values found in the 'CustomerId' column.\")"
   ]
  },
  {
   "cell_type": "markdown",
   "metadata": {},
   "source": [
    "After extracting the dataframe and reviewing the general information, we noticed a few missing values. Since they are minimal, we can replace them with the median. Additionally, for better readability in the future, we converted all words to lowercase. Furthermore, during duplicate checks, we found none, which is perfect for our analysis."
   ]
  },
  {
   "cell_type": "code",
   "execution_count": 11,
   "metadata": {},
   "outputs": [
    {
     "name": "stdout",
     "output_type": "stream",
     "text": [
      "Exited customers proportion: 20.37%\n",
      "Non-exited customers proportion: 79.63%\n"
     ]
    }
   ],
   "source": [
    "target_column = 'Exited'  \n",
    "\n",
    "# Calculate class distribution\n",
    "class_counts = bank_df[target_column].value_counts()\n",
    "total_samples = class_counts.sum()\n",
    "\n",
    "# Calculate proportions\n",
    "exited_proportion = class_counts[1] / total_samples\n",
    "non_exited_proportion = class_counts[0] / total_samples\n",
    "\n",
    "print(f\"Exited customers proportion: {exited_proportion:.2%}\")\n",
    "print(f\"Non-exited customers proportion: {non_exited_proportion:.2%}\")"
   ]
  },
  {
   "cell_type": "code",
   "execution_count": 12,
   "metadata": {},
   "outputs": [
    {
     "data": {
      "image/png": "[encoded data removed]",
      "text/plain": [
       "<Figure size 1500x1000 with 6 Axes>"
      ]
     },
     "metadata": {},
     "output_type": "display_data"
    }
   ],
   "source": [
    "fig, axs = plt.subplots(2, 3, figsize=(15, 10))\n",
    "fig.suptitle(\"Distribution of Variables\")\n",
    "\n",
    "# Histogram of CreditScore\n",
    "axs[0, 0].hist(bank_df['CreditScore'], bins=20, color='skyblue', edgecolor='black')\n",
    "axs[0, 0].set_title(\"CreditScore\")\n",
    "axs[0, 0].set_xlabel(\"Credit Score\")\n",
    "axs[0, 0].set_ylabel(\"Number of Credit Score\")\n",
    "\n",
    "# Histogram of Age\n",
    "axs[0, 1].hist(bank_df['Age'], bins=20, color='salmon', edgecolor='black')\n",
    "axs[0, 1].set_title(\"Age\")\n",
    "axs[0, 1].set_xlabel(\"Customer Age\")\n",
    "axs[0, 1].set_ylabel(\"Frequency of Age\")\n",
    "\n",
    "# Histogram of Tenure\n",
    "axs[0, 2].hist(bank_df['Tenure'], bins=10, color='lightgreen', edgecolor='black')\n",
    "axs[0, 2].set_title(\"Tenure\")\n",
    "axs[0, 2].set_xlabel(\"Tenure\")\n",
    "axs[0, 2].set_ylabel(\"Frequency of Tenure\")\n",
    "\n",
    "# Histogram of Balance\n",
    "axs[1, 0].hist(bank_df['Balance'], bins=20, color='gold', edgecolor='black')\n",
    "axs[1, 0].set_title(\"Balance\")\n",
    "axs[1, 0].set_xlabel(\"Balance\")\n",
    "axs[1, 0].set_ylabel(\"Frequency of Balance\")\n",
    "\n",
    "# Histogram of NumOfProducts\n",
    "axs[1, 1].hist(bank_df['NumOfProducts'], bins=10, color='orchid', edgecolor='black')\n",
    "axs[1, 1].set_title(\"NumOfProducts\")\n",
    "axs[1, 1].set_xlabel(\"Num of Products\")\n",
    "axs[1, 1].set_ylabel(\"Frequency of Products\")\n",
    "\n",
    "# Histogram of EstimatedSalary\n",
    "axs[1, 2].hist(bank_df['EstimatedSalary'], bins=20, color='lightcoral', edgecolor='black')\n",
    "axs[1, 2].set_title(\"EstimatedSalary\")\n",
    "axs[1, 2].set_xlabel(\"Estimated Salary\")\n",
    "axs[1, 2].set_ylabel(\"Frequency of Salary\")\n",
    "\n",
    "# Adjust spacing between subplots\n",
    "plt.tight_layout(rect=[0, 0, 1, 0.96])\n",
    "\n",
    "# Show the plots\n",
    "plt.show()"
   ]
  },
  {
   "cell_type": "markdown",
   "metadata": {},
   "source": [
    "In the graphs, very interesting information can be extracted.\n",
    "\n",
    "Credit Score: Most clients have a credit score between 600 and 700, which is considered fair.\n",
    "\n",
    "Age: The majority of clients fall within the age range of 25 to 45 years, with a notable concentration of individuals between 35 and 40 years, representing the largest group.\n",
    "\n",
    "Tenure: It is observed that many clients have been with the account for at least 1 year. The majority of clients have a tenure of 5 years, although it’s important to note that the second-largest group has a tenure of 10 years.\n",
    "\n",
    "Balance: A significant number of clients have a balance of less than $10,000. However, when considering them separately, there are many clients with balances between $100,000 and $150,000.\n",
    "\n",
    "Number of Products: Most clients have 1 or 2 products.\n",
    "\n",
    "Estimated Salary: Although there is a wide variation in estimated salaries among clients, the number of clients in each salary range is fairly consistent.\""
   ]
  },
  {
   "cell_type": "code",
   "execution_count": 13,
   "metadata": {},
   "outputs": [
    {
     "data": {
      "image/png": "[encoded data removed]",
      "text/plain": [
       "<Figure size 1000x800 with 2 Axes>"
      ]
     },
     "metadata": {},
     "output_type": "display_data"
    }
   ],
   "source": [
    "target_column = 'Exited'\n",
    "\n",
    "# Select features (including 'Geography' and 'Gender')\n",
    "features = ['CreditScore', 'Age', 'Tenure', 'Balance', 'NumOfProducts',\n",
    "            'HasCrCard', 'IsActiveMember', 'EstimatedSalary', 'Geography', 'Gender']\n",
    "\n",
    "X = bank_df[features]\n",
    "\n",
    "# One-hot encode categorical features ('Geography' and 'Gender')\n",
    "encoder = OneHotEncoder(drop='first', sparse=False)\n",
    "X_encoded = pd.DataFrame(encoder.fit_transform(X[['Geography', 'Gender']]),\n",
    "                         columns=encoder.get_feature_names(['Geography', 'Gender']))\n",
    "\n",
    "# Concatenate encoded features with other numeric features\n",
    "X_encoded = pd.concat([X_encoded, X.drop(['Geography', 'Gender'], axis=1)], axis=1)\n",
    "\n",
    "# Calculate the correlation matrix\n",
    "correlation_matrix = X_encoded.corr()\n",
    "\n",
    "# Create a heatmap\n",
    "plt.figure(figsize=(10, 8))\n",
    "sns.heatmap(correlation_matrix, annot=True, cmap='coolwarm', fmt='.2f', linewidths=0.5)\n",
    "plt.title('Correlation Matrix Heatmap')\n",
    "plt.show()"
   ]
  },
  {
   "cell_type": "markdown",
   "metadata": {},
   "source": [
    "**Age and Balance:** There is a strong positive correlation (approximately 0.9) between age and balance, indicated by deep red color. As age increases, balance tends to increase as well.\n",
    "\n",
    "**NumOfProducts and Balance:** There is a strong negative correlation (approximately -0.3) between the number of products and balance. Customers with more products tend to have lower balances.\n",
    "\n",
    "**Geography and Gender:** These variables show little to no correlation with other factors, as indicated by white squares. Geography (Germany and Spain) and gender (male) do not significantly impact other variables.\n",
    "CreditScore, Tenure, and HasCrCard: These variables also exhibit weak correlations with other factors."
   ]
  },
  {
   "cell_type": "code",
   "execution_count": 14,
   "metadata": {},
   "outputs": [
    {
     "name": "stdout",
     "output_type": "stream",
     "text": [
      "Training features shape: (7500, 13)\n",
      "Training target shape: (7500,)\n",
      "Validation features shape: (1875, 13)\n",
      "Validation target shape: (1875,)\n",
      "Test features shape: (625, 13)\n",
      "Test target shape: (625,)\n"
     ]
    }
   ],
   "source": [
    "target_column = 'Exited'\n",
    "\n",
    "# Drop 'Surname' column from the dataset first\n",
    "bank_df = bank_df.drop(columns=['Surname'])\n",
    "\n",
    "# Split data into train and temp (validation + test) sets\n",
    "df_train, df_temp = train_test_split(bank_df, test_size=0.25, random_state=12345, stratify=bank_df[target_column])\n",
    "\n",
    "# Split temp data into validation and test sets\n",
    "df_valid, df_test = train_test_split(df_temp, test_size=0.25, random_state=12345, stratify=df_temp[target_column])\n",
    "\n",
    "# One-hot encode 'Gender' and 'Geography' columns\n",
    "df_train_encoded = pd.get_dummies(df_train, drop_first=True)\n",
    "df_valid_encoded = pd.get_dummies(df_valid, drop_first=True)\n",
    "df_test_encoded = pd.get_dummies(df_test, drop_first=True)\n",
    "\n",
    "# Separate features and target variables\n",
    "features_train = df_train_encoded.drop([target_column], axis=1)\n",
    "target_train = df_train_encoded[target_column]\n",
    "features_valid = df_valid_encoded.drop([target_column], axis=1)\n",
    "target_valid = df_valid_encoded[target_column]\n",
    "features_test = df_test_encoded.drop([target_column], axis=1)\n",
    "target_test = df_test_encoded[target_column]\n",
    "\n",
    "# Print the shapes of the resulting datasets\n",
    "print(\"Training features shape:\", features_train.shape)\n",
    "print(\"Training target shape:\", target_train.shape)\n",
    "print(\"Validation features shape:\", features_valid.shape)\n",
    "print(\"Validation target shape:\", target_valid.shape)\n",
    "print(\"Test features shape:\", features_test.shape)\n",
    "print(\"Test target shape:\", target_test.shape)\n"
   ]
  },
  {
   "cell_type": "markdown",
   "metadata": {},
   "source": [
    "**After splitting the data into training, validation, and test sets:**\n",
    "\n",
    "Training Set: 7500 observations with 13 features.\n",
    "\n",
    "Validation Set: 1875 observations with the same 13 features.\n",
    "\n",
    "Test Set: 625 observations with the same 13 features."
   ]
  },
  {
   "cell_type": "code",
   "execution_count": 15,
   "metadata": {},
   "outputs": [
    {
     "name": "stdout",
     "output_type": "stream",
     "text": [
      "F1-score on validation set: 0.4809\n",
      "AUC-ROC on validation set: 0.6769\n"
     ]
    }
   ],
   "source": [
    "# Initialize the decision tree classifier\n",
    "tree_model = DecisionTreeClassifier(random_state=42)\n",
    "\n",
    "# Fit the model on the training data \n",
    "tree_model.fit(features_train, target_train)\n",
    "\n",
    "# Make predictions on the validation set\n",
    "y_val_pred = tree_model.predict(features_valid)\n",
    "\n",
    "# Evaluate model performance\n",
    "f1 = f1_score(target_valid, y_val_pred)\n",
    "roc_auc = roc_auc_score(target_valid, y_val_pred)\n",
    "\n",
    "print(f\"F1-score on validation set: {f1:.4f}\")\n",
    "print(f\"AUC-ROC on validation set: {roc_auc:.4f}\")"
   ]
  },
  {
   "cell_type": "code",
   "execution_count": 16,
   "metadata": {},
   "outputs": [
    {
     "name": "stdout",
     "output_type": "stream",
     "text": [
      "F1-score on validation set: 0.5258\n",
      "AUC-ROC on validation set: 0.7015\n"
     ]
    }
   ],
   "source": [
    "tree_model = DecisionTreeClassifier(class_weight='balanced', random_state=42)\n",
    "\n",
    "# Fit the model on the training data (excluding 'Surname' column)\n",
    "tree_model.fit(features_train, target_train)\n",
    "\n",
    "# Make predictions on the validation set\n",
    "y_val_pred = tree_model.predict(features_valid)\n",
    "\n",
    "# Evaluate model performance\n",
    "f1 = f1_score(target_valid, y_val_pred)\n",
    "roc_auc = roc_auc_score(target_valid, y_val_pred)\n",
    "\n",
    "print(f\"F1-score on validation set: {f1:.4f}\")\n",
    "print(f\"AUC-ROC on validation set: {roc_auc:.4f}\")"
   ]
  },
  {
   "cell_type": "markdown",
   "metadata": {},
   "source": [
    "Our goal for this project is F1=0.59, and the decision tree gives us 0.51 with inbalanced data and 0.69 with balanced data."
   ]
  },
  {
   "cell_type": "code",
   "execution_count": 17,
   "metadata": {},
   "outputs": [
    {
     "name": "stdout",
     "output_type": "stream",
     "text": [
      "F1-score (Random Forest) on validation set: 0.5733\n",
      "AUC-ROC (Random Forest) on validation set: 0.7126\n"
     ]
    }
   ],
   "source": [
    "# Initialize the Random Forest model\n",
    "rf_model = RandomForestClassifier(n_estimators=100, random_state=12345)\n",
    "\n",
    "# Train the model on the training data \n",
    "rf_model.fit(features_train, target_train)\n",
    "\n",
    "# Make predictions on the validation set \n",
    "y_val_pred_rf = rf_model.predict(features_valid)\n",
    "\n",
    "# Evaluate model performance\n",
    "f1_rf = f1_score(target_valid, y_val_pred_rf)\n",
    "roc_auc_rf = roc_auc_score(target_valid, y_val_pred_rf)\n",
    "\n",
    "# Print the evaluation metrics\n",
    "print(f\"F1-score (Random Forest) on validation set: {f1_rf:.4f}\")\n",
    "print(f\"AUC-ROC (Random Forest) on validation set: {roc_auc_rf:.4f}\")"
   ]
  },
  {
   "cell_type": "code",
   "execution_count": 18,
   "metadata": {},
   "outputs": [
    {
     "name": "stdout",
     "output_type": "stream",
     "text": [
      "F1-score (Random Forest with balanced class weights) on validation set: 0.5400\n",
      "AUC-ROC (Random Forest with balanced class weights) on validation set: 0.6933\n"
     ]
    }
   ],
   "source": [
    "# Initialize the Random Forest model with balanced class weights\n",
    "rf_model_balanced = RandomForestClassifier(n_estimators=100, random_state=12345, class_weight='balanced')\n",
    "\n",
    "# Train the model on the training data \n",
    "rf_model_balanced.fit(features_train, target_train)\n",
    "\n",
    "# Make predictions on the validation set \n",
    "y_val_pred_rf_balanced = rf_model_balanced.predict(features_valid)\n",
    "\n",
    "# Evaluate model performance\n",
    "f1_rf_balanced = f1_score(target_valid, y_val_pred_rf_balanced)\n",
    "roc_auc_rf_balanced = roc_auc_score(target_valid, y_val_pred_rf_balanced)\n",
    "\n",
    "# Print the evaluation metrics\n",
    "print(f\"F1-score (Random Forest with balanced class weights) on validation set: {f1_rf_balanced:.4f}\")\n",
    "print(f\"AUC-ROC (Random Forest with balanced class weights) on validation set: {roc_auc_rf_balanced:.4f}\")"
   ]
  },
  {
   "cell_type": "markdown",
   "metadata": {},
   "source": [
    "It seems that we achieved an F1 score of 0.59 with imbalanced data, whereas with balanced data, the F1 score is 0.53, which is quite close."
   ]
  },
  {
   "cell_type": "code",
   "execution_count": 19,
   "metadata": {},
   "outputs": [
    {
     "name": "stdout",
     "output_type": "stream",
     "text": [
      "F1-score (Logistic Regression) on validation set: 0.0000\n",
      "AUC-ROC (Logistic Regression) on validation set: 0.5000\n"
     ]
    }
   ],
   "source": [
    "# Initialize the Logistic Regression model\n",
    "logreg_model = LogisticRegression(random_state=42)\n",
    "\n",
    "# Train the model on the training data\n",
    "logreg_model.fit(features_train, target_train)\n",
    "\n",
    "# Make predictions on the validation set\n",
    "y_val_pred_logreg = logreg_model.predict(features_valid)\n",
    "\n",
    "# Evaluate model performance\n",
    "f1_logreg = f1_score(target_valid, y_val_pred_logreg)\n",
    "roc_auc_logreg = roc_auc_score(target_valid, y_val_pred_logreg)\n",
    "\n",
    "# Print the evaluation metrics\n",
    "print(f\"F1-score (Logistic Regression) on validation set: {f1_logreg:.4f}\")\n",
    "print(f\"AUC-ROC (Logistic Regression) on validation set: {roc_auc_logreg:.4f}\")"
   ]
  },
  {
   "cell_type": "code",
   "execution_count": 20,
   "metadata": {},
   "outputs": [
    {
     "name": "stdout",
     "output_type": "stream",
     "text": [
      "F1-score (Logistic Regression with balanced class weights) on validation set: 0.5248\n",
      "AUC-ROC (Logistic Regression with balanced class weights) on validation set: 0.7330\n"
     ]
    }
   ],
   "source": [
    "logreg_model_balanced = LogisticRegression(random_state=42, class_weight='balanced', solver='liblinear')\n",
    "\n",
    "# Train the model on the training data \n",
    "logreg_model_balanced.fit(features_train, target_train)\n",
    "\n",
    "# Make predictions on the validation set \n",
    "y_val_pred_logreg_balanced = logreg_model_balanced.predict(features_valid)\n",
    "\n",
    "# Evaluate model performance\n",
    "f1_logreg_balanced = f1_score(target_valid, y_val_pred_logreg_balanced)\n",
    "roc_auc_logreg_balanced = roc_auc_score(target_valid, y_val_pred_logreg_balanced)\n",
    "\n",
    "# Print the evaluation metrics\n",
    "print(f\"F1-score (Logistic Regression with balanced class weights) on validation set: {f1_logreg_balanced:.4f}\")\n",
    "print(f\"AUC-ROC (Logistic Regression with balanced class weights) on validation set: {roc_auc_logreg_balanced:.4f}\")"
   ]
  },
  {
   "cell_type": "markdown",
   "metadata": {},
   "source": [
    "Logistic regression gives us the lowest F1=0.00 with inbalanced data and F1=0.52 with balanced data"
   ]
  },
  {
   "cell_type": "markdown",
   "metadata": {},
   "source": [
    "# Balancing Class Distribution for Improved Model Performance"
   ]
  },
  {
   "cell_type": "code",
   "execution_count": 21,
   "metadata": {},
   "outputs": [
    {
     "name": "stdout",
     "output_type": "stream",
     "text": [
      "F1-score (Random Forest with upsampling) on validation set: 0.5796\n",
      "AUC-ROC (Random Forest with upsampling) on validation set: 0.7221\n"
     ]
    }
   ],
   "source": [
    "train_data = pd.concat([features_train, target_train], axis=1)\n",
    "\n",
    "# Separate majority and minority classes\n",
    "majority_class = train_data[train_data[target_column] == 0]\n",
    "minority_class = train_data[train_data[target_column] == 1]\n",
    "\n",
    "# Upsample the minority class\n",
    "minority_upsampled = resample(minority_class,\n",
    "                              replace=True,  # Sample with replacement\n",
    "                              n_samples=len(majority_class),  # Match majority class size\n",
    "                              random_state=12345)\n",
    "\n",
    "# Combine the upsampled minority class with the majority class\n",
    "upsampled_train_data = pd.concat([majority_class, minority_upsampled])\n",
    "\n",
    "# Separate features and target after upsampling\n",
    "features_upsampled_train = upsampled_train_data.drop([target_column], axis=1)\n",
    "target_upsampled_train = upsampled_train_data[target_column]\n",
    "\n",
    "# Initialize the Random Forest model\n",
    "rf_model_upsampled = RandomForestClassifier(n_estimators=100, random_state=12345)\n",
    "\n",
    "# Train the model on the upsampled training data\n",
    "rf_model_upsampled.fit(features_upsampled_train, target_upsampled_train)\n",
    "\n",
    "# Make predictions on the validation set (without 'Surname')\n",
    "y_val_pred_rf_upsampled = rf_model_upsampled.predict(features_valid)\n",
    "\n",
    "# Evaluate model performance\n",
    "f1_rf_upsampled = f1_score(target_valid, y_val_pred_rf_upsampled)\n",
    "roc_auc_rf_upsampled = roc_auc_score(target_valid, y_val_pred_rf_upsampled)\n",
    "\n",
    "# Print the evaluation metrics\n",
    "print(f\"F1-score (Random Forest with upsampling) on validation set: {f1_rf_upsampled:.4f}\")\n",
    "print(f\"AUC-ROC (Random Forest with upsampling) on validation set: {roc_auc_rf_upsampled:.4f}\")"
   ]
  },
  {
   "cell_type": "code",
   "execution_count": 22,
   "metadata": {},
   "outputs": [
    {
     "name": "stdout",
     "output_type": "stream",
     "text": [
      "F1-score (Random Forest with downsampling) on validation set: 0.6143\n",
      "AUC-ROC (Random Forest with downsampling) on validation set: 0.7945\n"
     ]
    }
   ],
   "source": [
    "train_data = pd.concat([features_train, target_train], axis=1)\n",
    "\n",
    "# Separate majority and minority classes\n",
    "majority_class = train_data[train_data[target_column] == 0]\n",
    "minority_class = train_data[train_data[target_column] == 1]\n",
    "\n",
    "# Downsample the majority class\n",
    "majority_downsampled = resample(majority_class,\n",
    "                                replace=False,  # Sample without replacement\n",
    "                                n_samples=len(minority_class),  # Match minority class size\n",
    "                                random_state=12345)\n",
    "\n",
    "# Combine the downsampled majority class with the minority class\n",
    "downsampled_train_data = pd.concat([majority_downsampled, minority_class])\n",
    "\n",
    "# Separate features and target after downsampling\n",
    "features_downsampled_train = downsampled_train_data.drop([target_column], axis=1)\n",
    "target_downsampled_train = downsampled_train_data[target_column]\n",
    "\n",
    "# Initialize the Random Forest model\n",
    "rf_model_downsampled = RandomForestClassifier(n_estimators=100, random_state=12345)\n",
    "\n",
    "# Train the model on the downsampled training data\n",
    "rf_model_downsampled.fit(features_downsampled_train, target_downsampled_train)\n",
    "\n",
    "# Make predictions on the validation set (without 'Surname')\n",
    "y_val_pred_rf_downsampled = rf_model_downsampled.predict(features_valid)\n",
    "\n",
    "# Evaluate model performance\n",
    "f1_rf_downsampled = f1_score(target_valid, y_val_pred_rf_downsampled)\n",
    "roc_auc_rf_downsampled = roc_auc_score(target_valid, y_val_pred_rf_downsampled)\n",
    "\n",
    "# Print the evaluation metrics\n",
    "print(f\"F1-score (Random Forest with downsampling) on validation set: {f1_rf_downsampled:.4f}\")\n",
    "print(f\"AUC-ROC (Random Forest with downsampling) on validation set: {roc_auc_rf_downsampled:.4f}\")"
   ]
  },
  {
   "cell_type": "markdown",
   "metadata": {},
   "source": [
    "Overall, the Random Forest model performs consistently well across precision, recall, and F1-score. Logistic Regression shows lower recall but still reasonable performance with balanced data. Decision Tree has similar metrics but slightly lower accuracy. Once we determined that the Random Forest model was in place, we proceeded to apply Balancing Class Distribution techniques to enhance the model’s performance. As a result, we achieved an F1 score of 0.57 with upsampling and 0.63 with downsampling."
   ]
  },
  {
   "cell_type": "code",
   "execution_count": 23,
   "metadata": {
    "scrolled": false
   },
   "outputs": [
    {
     "name": "stdout",
     "output_type": "stream",
     "text": [
      "F1-score (Random Forest) on test set: 0.5503\n",
      "AUC-ROC (Random Forest) on test set: 0.6947\n"
     ]
    },
    {
     "data": {
      "image/png": "[encoded data removed]",
      "text/plain": [
       "<Figure size 800x600 with 1 Axes>"
      ]
     },
     "metadata": {},
     "output_type": "display_data"
    }
   ],
   "source": [
    "y_test_pred_rf = rf_model.predict(features_test)\n",
    "\n",
    "# Evaluate model performance on the test set\n",
    "f1_rf_test = f1_score(target_test, y_test_pred_rf)\n",
    "roc_auc_rf_test = roc_auc_score(target_test, y_test_pred_rf)\n",
    "\n",
    "# Print F1-score and AUC-ROC on the test set\n",
    "print(f\"F1-score (Random Forest) on test set: {f1_rf_test:.4f}\")\n",
    "print(f\"AUC-ROC (Random Forest) on test set: {roc_auc_rf_test:.4f}\")\n",
    "\n",
    "# Compute ROC curve for the test set\n",
    "fpr_test, tpr_test, _ = roc_curve(target_test, y_test_pred_rf)\n",
    "roc_auc_test = auc(fpr_test, tpr_test)\n",
    "\n",
    "# Plot the ROC curve\n",
    "plt.figure(figsize=(8, 6))\n",
    "plt.plot(fpr_test, tpr_test, color='b', lw=2, label=f'AUC = {roc_auc_test:.4f}')\n",
    "plt.plot([0, 1], [0, 1], color='gray', linestyle='--')\n",
    "plt.xlim([0.0, 1.0])\n",
    "plt.ylim([0.0, 1.05])\n",
    "plt.xlabel('False Positive Rate')\n",
    "plt.ylabel('True Positive Rate')\n",
    "plt.title('Receiver Operating Characteristic (ROC) Curve (Test Set)')\n",
    "plt.legend(loc='lower right')\n",
    "plt.grid(True)\n",
    "plt.show()"
   ]
  },
  {
   "cell_type": "markdown",
   "metadata": {},
   "source": [
    "An F1-score of 0.5532 suggests moderate performance.\n",
    "\n",
    "An AUC of 0.6957 indicates moderate discriminative ability"
   ]
  },
  {
   "cell_type": "code",
   "execution_count": 24,
   "metadata": {},
   "outputs": [
    {
     "name": "stdout",
     "output_type": "stream",
     "text": [
      "F1-score (Random Forest with upsampled) on test set: 0.6075\n",
      "AUC-ROC (Random Forest with upsampled) on test set: 0.7338\n"
     ]
    }
   ],
   "source": [
    "y_test_pred_rf_upsampled = rf_model_upsampled.predict(features_test)\n",
    "\n",
    "# Evaluate model performance on the test set\n",
    "f1_test_rf_upsampled = f1_score(target_test, y_test_pred_rf_upsampled)\n",
    "roc_auc_test_rf_upsampled = roc_auc_score(target_test, y_test_pred_rf_upsampled)\n",
    "\n",
    "# Print the evaluation metrics for the test set\n",
    "print(f\"F1-score (Random Forest with upsampled) on test set: {f1_test_rf_upsampled:.4f}\")\n",
    "print(f\"AUC-ROC (Random Forest with upsampled) on test set: {roc_auc_test_rf_upsampled:.4f}\")"
   ]
  },
  {
   "cell_type": "markdown",
   "metadata": {},
   "source": [
    "When evaluating the test set using upsampling, we achieved an F1 score of 0.60. This result is perfect because our target was 0.59. The model performs according to our objective."
   ]
  },
  {
   "cell_type": "markdown",
   "metadata": {},
   "source": [
    "# Conclusions:\n",
    "\n",
    "After analyzing various models, I determined that Random Forest was the best fit for the project. It not only came closest to our goal but also provided the highest precision. The Decision Tree model did not yield poor results, but it was still far from our target. Logistic Regression gave us a value much lower than desired, so we did not consider it further. After establishing that Random Forest was our best model, I subjected it to a balanced class distribution to enhance its efficiency. This improvement was evident in the test set, where the outcome surpassed our primary objective."
   ]
  }
 ],
 "metadata": {
  "ExecuteTimeLog": [
   {
    "duration": 1245,
    "start_time": "2024-07-06T13:45:49.011Z"
   },
   {
    "duration": 46,
    "start_time": "2024-07-06T13:49:10.877Z"
   },
   {
    "duration": 18,
    "start_time": "2024-07-06T13:49:19.978Z"
   },
   {
    "duration": 23,
    "start_time": "2024-07-06T13:50:58.950Z"
   },
   {
    "duration": 1219,
    "start_time": "2024-07-06T13:57:22.852Z"
   },
   {
    "duration": 22,
    "start_time": "2024-07-06T13:58:04.670Z"
   },
   {
    "duration": 31,
    "start_time": "2024-07-06T13:59:05.203Z"
   },
   {
    "duration": 24,
    "start_time": "2024-07-06T14:02:00.179Z"
   },
   {
    "duration": 82,
    "start_time": "2024-07-06T14:02:10.892Z"
   },
   {
    "duration": 6,
    "start_time": "2024-07-06T14:02:26.833Z"
   },
   {
    "duration": 16,
    "start_time": "2024-07-06T14:03:42.558Z"
   },
   {
    "duration": 96,
    "start_time": "2024-07-06T14:04:32.644Z"
   },
   {
    "duration": 7,
    "start_time": "2024-07-06T14:05:22.122Z"
   },
   {
    "duration": 7,
    "start_time": "2024-07-06T14:05:48.018Z"
   },
   {
    "duration": 5,
    "start_time": "2024-07-06T14:07:24.133Z"
   },
   {
    "duration": 16,
    "start_time": "2024-07-06T14:07:37.773Z"
   },
   {
    "duration": 21,
    "start_time": "2024-07-06T14:12:20.438Z"
   },
   {
    "duration": 16,
    "start_time": "2024-07-06T14:14:04.427Z"
   },
   {
    "duration": 33,
    "start_time": "2024-07-06T14:14:20.477Z"
   },
   {
    "duration": 16,
    "start_time": "2024-07-06T14:14:33.933Z"
   },
   {
    "duration": 15,
    "start_time": "2024-07-06T14:15:37.055Z"
   },
   {
    "duration": 7,
    "start_time": "2024-07-06T14:58:35.170Z"
   },
   {
    "duration": 7,
    "start_time": "2024-07-06T15:01:43.749Z"
   },
   {
    "duration": 40,
    "start_time": "2024-07-06T15:03:48.044Z"
   },
   {
    "duration": 8,
    "start_time": "2024-07-06T15:04:21.968Z"
   },
   {
    "duration": 25,
    "start_time": "2024-07-06T15:04:25.776Z"
   },
   {
    "duration": 282,
    "start_time": "2024-07-06T15:05:53.033Z"
   },
   {
    "duration": 5,
    "start_time": "2024-07-06T15:06:11.331Z"
   },
   {
    "duration": 271,
    "start_time": "2024-07-06T15:06:14.550Z"
   },
   {
    "duration": 32,
    "start_time": "2024-07-06T15:10:34.834Z"
   },
   {
    "duration": 22,
    "start_time": "2024-07-06T15:10:59.522Z"
   },
   {
    "duration": 60,
    "start_time": "2024-07-06T15:12:46.859Z"
   },
   {
    "duration": 54,
    "start_time": "2024-07-06T15:16:39.813Z"
   },
   {
    "duration": 81,
    "start_time": "2024-07-06T15:20:30.108Z"
   },
   {
    "duration": 5,
    "start_time": "2024-07-06T15:22:46.589Z"
   },
   {
    "duration": 54,
    "start_time": "2024-07-06T15:22:50.068Z"
   },
   {
    "duration": 8,
    "start_time": "2024-07-06T15:23:16.118Z"
   },
   {
    "duration": 54,
    "start_time": "2024-07-06T15:23:18.003Z"
   },
   {
    "duration": 80,
    "start_time": "2024-07-06T15:23:36.503Z"
   },
   {
    "duration": 51,
    "start_time": "2024-07-06T15:23:37.043Z"
   },
   {
    "duration": 91,
    "start_time": "2024-07-06T15:23:55.069Z"
   },
   {
    "duration": 6,
    "start_time": "2024-07-06T15:24:12.673Z"
   },
   {
    "duration": 54,
    "start_time": "2024-07-06T15:24:14.450Z"
   },
   {
    "duration": 5,
    "start_time": "2024-07-06T15:24:42.612Z"
   },
   {
    "duration": 53,
    "start_time": "2024-07-06T15:24:44.458Z"
   },
   {
    "duration": 86,
    "start_time": "2024-07-06T15:27:25.869Z"
   },
   {
    "duration": 56,
    "start_time": "2024-07-06T15:28:48.792Z"
   },
   {
    "duration": 1019,
    "start_time": "2024-07-06T15:32:53.927Z"
   },
   {
    "duration": 66,
    "start_time": "2024-07-06T15:32:54.949Z"
   },
   {
    "duration": 960,
    "start_time": "2024-07-06T15:37:51.068Z"
   },
   {
    "duration": 400,
    "start_time": "2024-07-06T21:03:33.297Z"
   },
   {
    "duration": 1351,
    "start_time": "2024-07-06T21:03:47.016Z"
   },
   {
    "duration": 56,
    "start_time": "2024-07-06T21:03:48.371Z"
   },
   {
    "duration": 18,
    "start_time": "2024-07-06T21:03:48.438Z"
   },
   {
    "duration": 24,
    "start_time": "2024-07-06T21:03:48.459Z"
   },
   {
    "duration": 48,
    "start_time": "2024-07-06T21:03:48.488Z"
   },
   {
    "duration": 20,
    "start_time": "2024-07-06T21:03:48.547Z"
   },
   {
    "duration": 5,
    "start_time": "2024-07-06T21:03:48.569Z"
   },
   {
    "duration": 42,
    "start_time": "2024-07-06T21:03:48.578Z"
   },
   {
    "duration": 18,
    "start_time": "2024-07-06T21:03:48.628Z"
   },
   {
    "duration": 9,
    "start_time": "2024-07-06T21:03:48.649Z"
   },
   {
    "duration": 53,
    "start_time": "2024-07-06T21:03:48.661Z"
   },
   {
    "duration": 275,
    "start_time": "2024-07-06T21:03:48.717Z"
   },
   {
    "duration": 1,
    "start_time": "2024-07-06T21:03:49.009Z"
   },
   {
    "duration": 0,
    "start_time": "2024-07-06T21:03:49.011Z"
   },
   {
    "duration": 1050,
    "start_time": "2024-07-06T21:08:17.178Z"
   },
   {
    "duration": 64,
    "start_time": "2024-07-06T21:08:18.232Z"
   },
   {
    "duration": 1097,
    "start_time": "2024-07-06T21:11:15.474Z"
   },
   {
    "duration": 55,
    "start_time": "2024-07-06T21:12:54.993Z"
   },
   {
    "duration": 1085,
    "start_time": "2024-07-06T21:13:51.518Z"
   },
   {
    "duration": 264,
    "start_time": "2024-07-06T21:15:30.672Z"
   },
   {
    "duration": 25,
    "start_time": "2024-07-06T21:16:10.833Z"
   },
   {
    "duration": 91,
    "start_time": "2024-07-06T21:26:00.843Z"
   },
   {
    "duration": 4588,
    "start_time": "2024-07-06T21:26:20.197Z"
   },
   {
    "duration": 373,
    "start_time": "2024-07-06T21:26:24.789Z"
   },
   {
    "duration": 7,
    "start_time": "2024-07-06T21:27:49.179Z"
   },
   {
    "duration": 7,
    "start_time": "2024-07-06T21:28:08.589Z"
   },
   {
    "duration": 188,
    "start_time": "2024-07-06T21:29:19.078Z"
   },
   {
    "duration": 7,
    "start_time": "2024-07-06T21:32:49.815Z"
   },
   {
    "duration": 1154,
    "start_time": "2024-07-06T21:35:59.091Z"
   },
   {
    "duration": 93,
    "start_time": "2024-07-06T21:38:51.855Z"
   },
   {
    "duration": 149,
    "start_time": "2024-07-06T21:39:09.917Z"
   },
   {
    "duration": 1496,
    "start_time": "2024-07-06T21:39:14.626Z"
   },
   {
    "duration": 61,
    "start_time": "2024-07-06T21:45:37.534Z"
   },
   {
    "duration": 2627,
    "start_time": "2024-07-06T21:48:10.082Z"
   },
   {
    "duration": 120,
    "start_time": "2024-07-06T21:49:44.133Z"
   },
   {
    "duration": 44,
    "start_time": "2024-07-06T21:49:58.738Z"
   },
   {
    "duration": 19,
    "start_time": "2024-07-06T21:50:02.313Z"
   },
   {
    "duration": 29,
    "start_time": "2024-07-06T21:51:30.993Z"
   },
   {
    "duration": 34,
    "start_time": "2024-07-06T21:54:43.277Z"
   },
   {
    "duration": 11,
    "start_time": "2024-07-06T21:54:52.433Z"
   },
   {
    "duration": 41,
    "start_time": "2024-07-06T21:55:57.193Z"
   },
   {
    "duration": 7,
    "start_time": "2024-07-06T21:56:16.178Z"
   },
   {
    "duration": 32,
    "start_time": "2024-07-06T21:56:20.318Z"
   },
   {
    "duration": 13,
    "start_time": "2024-07-06T21:57:03.228Z"
   },
   {
    "duration": 12,
    "start_time": "2024-07-06T21:57:06.854Z"
   },
   {
    "duration": 41,
    "start_time": "2024-07-06T23:11:40.173Z"
   },
   {
    "duration": 1000,
    "start_time": "2024-07-06T23:11:54.948Z"
   },
   {
    "duration": 181,
    "start_time": "2024-07-06T23:12:09.935Z"
   },
   {
    "duration": 106748,
    "start_time": "2024-07-06T23:12:40.273Z"
   },
   {
    "duration": 1813,
    "start_time": "2024-07-06T23:14:28.862Z"
   },
   {
    "duration": 46,
    "start_time": "2024-07-06T23:14:30.680Z"
   },
   {
    "duration": 1826,
    "start_time": "2024-07-06T23:14:30.729Z"
   },
   {
    "duration": 2418,
    "start_time": "2024-07-06T23:14:47.688Z"
   },
   {
    "duration": 2479,
    "start_time": "2024-07-06T23:14:56.823Z"
   },
   {
    "duration": 3139,
    "start_time": "2024-07-06T23:15:05.494Z"
   },
   {
    "duration": 2525,
    "start_time": "2024-07-06T23:15:24.313Z"
   },
   {
    "duration": 3155,
    "start_time": "2024-07-06T23:15:33.994Z"
   },
   {
    "duration": 3110,
    "start_time": "2024-07-06T23:15:46.538Z"
   },
   {
    "duration": 52,
    "start_time": "2024-07-06T23:15:57.694Z"
   },
   {
    "duration": 63,
    "start_time": "2024-07-06T23:16:04.804Z"
   },
   {
    "duration": 5331,
    "start_time": "2024-07-07T06:59:09.320Z"
   },
   {
    "duration": 40,
    "start_time": "2024-07-07T06:59:14.656Z"
   },
   {
    "duration": 19,
    "start_time": "2024-07-07T06:59:14.699Z"
   },
   {
    "duration": 23,
    "start_time": "2024-07-07T06:59:14.721Z"
   },
   {
    "duration": 59,
    "start_time": "2024-07-07T06:59:14.748Z"
   },
   {
    "duration": 18,
    "start_time": "2024-07-07T06:59:14.810Z"
   },
   {
    "duration": 6,
    "start_time": "2024-07-07T06:59:14.831Z"
   },
   {
    "duration": 19,
    "start_time": "2024-07-07T06:59:14.840Z"
   },
   {
    "duration": 56,
    "start_time": "2024-07-07T06:59:14.863Z"
   },
   {
    "duration": 9,
    "start_time": "2024-07-07T06:59:14.922Z"
   },
   {
    "duration": 1460,
    "start_time": "2024-07-07T06:59:14.934Z"
   },
   {
    "duration": 94,
    "start_time": "2024-07-07T06:59:16.398Z"
   },
   {
    "duration": 461,
    "start_time": "2024-07-07T06:59:16.503Z"
   },
   {
    "duration": 0,
    "start_time": "2024-07-07T06:59:16.967Z"
   },
   {
    "duration": 0,
    "start_time": "2024-07-07T06:59:16.970Z"
   },
   {
    "duration": 0,
    "start_time": "2024-07-07T06:59:16.973Z"
   },
   {
    "duration": 0,
    "start_time": "2024-07-07T06:59:16.975Z"
   },
   {
    "duration": 0,
    "start_time": "2024-07-07T06:59:16.977Z"
   },
   {
    "duration": 0,
    "start_time": "2024-07-07T06:59:16.980Z"
   },
   {
    "duration": 0,
    "start_time": "2024-07-07T06:59:17.004Z"
   },
   {
    "duration": 0,
    "start_time": "2024-07-07T06:59:17.007Z"
   },
   {
    "duration": 309,
    "start_time": "2024-07-07T17:09:09.478Z"
   },
   {
    "duration": 23,
    "start_time": "2024-07-07T17:09:17.627Z"
   },
   {
    "duration": 5448,
    "start_time": "2024-07-07T17:09:26.133Z"
   },
   {
    "duration": 39,
    "start_time": "2024-07-07T17:09:31.585Z"
   },
   {
    "duration": 18,
    "start_time": "2024-07-07T17:09:31.627Z"
   },
   {
    "duration": 22,
    "start_time": "2024-07-07T17:09:31.650Z"
   },
   {
    "duration": 58,
    "start_time": "2024-07-07T17:09:31.675Z"
   },
   {
    "duration": 21,
    "start_time": "2024-07-07T17:09:31.738Z"
   },
   {
    "duration": 7,
    "start_time": "2024-07-07T17:09:31.764Z"
   },
   {
    "duration": 5,
    "start_time": "2024-07-07T17:09:31.812Z"
   },
   {
    "duration": 16,
    "start_time": "2024-07-07T17:09:31.821Z"
   },
   {
    "duration": 16,
    "start_time": "2024-07-07T17:09:31.844Z"
   },
   {
    "duration": 8,
    "start_time": "2024-07-07T17:09:31.863Z"
   },
   {
    "duration": 1571,
    "start_time": "2024-07-07T17:09:31.914Z"
   },
   {
    "duration": 23,
    "start_time": "2024-07-07T17:09:33.488Z"
   },
   {
    "duration": 451,
    "start_time": "2024-07-07T17:09:33.514Z"
   },
   {
    "duration": 0,
    "start_time": "2024-07-07T17:09:33.971Z"
   },
   {
    "duration": 0,
    "start_time": "2024-07-07T17:09:33.973Z"
   },
   {
    "duration": 0,
    "start_time": "2024-07-07T17:09:33.977Z"
   },
   {
    "duration": 0,
    "start_time": "2024-07-07T17:09:33.980Z"
   },
   {
    "duration": 0,
    "start_time": "2024-07-07T17:09:33.982Z"
   },
   {
    "duration": 0,
    "start_time": "2024-07-07T17:09:33.985Z"
   },
   {
    "duration": 0,
    "start_time": "2024-07-07T17:09:33.987Z"
   },
   {
    "duration": 0,
    "start_time": "2024-07-07T17:09:34.015Z"
   },
   {
    "duration": 5,
    "start_time": "2024-07-07T17:09:44.564Z"
   },
   {
    "duration": 17,
    "start_time": "2024-07-07T17:10:32.123Z"
   },
   {
    "duration": 27,
    "start_time": "2024-07-07T17:10:46.578Z"
   },
   {
    "duration": 8,
    "start_time": "2024-07-07T17:10:51.934Z"
   },
   {
    "duration": 27,
    "start_time": "2024-07-07T17:11:10.525Z"
   },
   {
    "duration": 6,
    "start_time": "2024-07-07T17:11:24.672Z"
   },
   {
    "duration": 8,
    "start_time": "2024-07-07T17:12:16.038Z"
   },
   {
    "duration": 7,
    "start_time": "2024-07-07T17:12:34.813Z"
   },
   {
    "duration": 721,
    "start_time": "2024-07-07T17:19:45.873Z"
   },
   {
    "duration": 1491,
    "start_time": "2024-07-07T17:20:38.304Z"
   },
   {
    "duration": 361,
    "start_time": "2024-07-07T18:25:19.484Z"
   },
   {
    "duration": 5475,
    "start_time": "2024-07-07T18:25:31.279Z"
   },
   {
    "duration": 42,
    "start_time": "2024-07-07T18:25:36.758Z"
   },
   {
    "duration": 20,
    "start_time": "2024-07-07T18:25:36.803Z"
   },
   {
    "duration": 25,
    "start_time": "2024-07-07T18:25:36.826Z"
   },
   {
    "duration": 35,
    "start_time": "2024-07-07T18:25:36.854Z"
   },
   {
    "duration": 50,
    "start_time": "2024-07-07T18:25:36.892Z"
   },
   {
    "duration": 8,
    "start_time": "2024-07-07T18:25:36.946Z"
   },
   {
    "duration": 7,
    "start_time": "2024-07-07T18:25:36.957Z"
   },
   {
    "duration": 68,
    "start_time": "2024-07-07T18:25:36.968Z"
   },
   {
    "duration": 7,
    "start_time": "2024-07-07T18:25:37.042Z"
   },
   {
    "duration": 7,
    "start_time": "2024-07-07T18:25:37.053Z"
   },
   {
    "duration": 1588,
    "start_time": "2024-07-07T18:25:37.064Z"
   },
   {
    "duration": 1574,
    "start_time": "2024-07-07T18:29:53.754Z"
   },
   {
    "duration": 1526,
    "start_time": "2024-07-07T18:30:14.584Z"
   },
   {
    "duration": 1759,
    "start_time": "2024-07-07T18:30:54.927Z"
   },
   {
    "duration": 2441,
    "start_time": "2024-07-07T18:32:19.116Z"
   },
   {
    "duration": 2130,
    "start_time": "2024-07-07T18:32:32.149Z"
   },
   {
    "duration": 1188,
    "start_time": "2024-07-07T18:32:49.657Z"
   },
   {
    "duration": 1718,
    "start_time": "2024-07-07T18:33:02.912Z"
   },
   {
    "duration": 1752,
    "start_time": "2024-07-07T18:34:06.719Z"
   },
   {
    "duration": 1877,
    "start_time": "2024-07-07T18:34:19.774Z"
   },
   {
    "duration": 2266,
    "start_time": "2024-07-07T18:35:23.689Z"
   },
   {
    "duration": 747,
    "start_time": "2024-07-07T18:38:32.493Z"
   },
   {
    "duration": 1894,
    "start_time": "2024-07-07T18:39:04.033Z"
   },
   {
    "duration": 29,
    "start_time": "2024-07-07T18:39:33.018Z"
   },
   {
    "duration": 25,
    "start_time": "2024-07-07T18:39:46.398Z"
   },
   {
    "duration": 29,
    "start_time": "2024-07-07T18:39:50.105Z"
   },
   {
    "duration": 25,
    "start_time": "2024-07-07T18:39:50.834Z"
   },
   {
    "duration": 1047,
    "start_time": "2024-07-07T18:40:28.769Z"
   },
   {
    "duration": 1072,
    "start_time": "2024-07-07T18:40:31.609Z"
   },
   {
    "duration": 1102,
    "start_time": "2024-07-07T18:40:33.793Z"
   },
   {
    "duration": 320,
    "start_time": "2024-07-07T18:41:09.475Z"
   },
   {
    "duration": 141,
    "start_time": "2024-07-07T18:41:10.089Z"
   },
   {
    "duration": 12,
    "start_time": "2024-07-07T18:41:10.929Z"
   },
   {
    "duration": 13,
    "start_time": "2024-07-07T18:41:23.133Z"
   },
   {
    "duration": 1789,
    "start_time": "2024-07-07T18:41:56.508Z"
   },
   {
    "duration": 36,
    "start_time": "2024-07-07T18:41:58.301Z"
   },
   {
    "duration": 20,
    "start_time": "2024-07-07T18:41:58.340Z"
   },
   {
    "duration": 25,
    "start_time": "2024-07-07T18:41:58.365Z"
   },
   {
    "duration": 32,
    "start_time": "2024-07-07T18:41:58.422Z"
   },
   {
    "duration": 20,
    "start_time": "2024-07-07T18:41:58.457Z"
   },
   {
    "duration": 6,
    "start_time": "2024-07-07T18:41:58.480Z"
   },
   {
    "duration": 11,
    "start_time": "2024-07-07T18:41:58.524Z"
   },
   {
    "duration": 18,
    "start_time": "2024-07-07T18:41:58.539Z"
   },
   {
    "duration": 5,
    "start_time": "2024-07-07T18:41:58.564Z"
   },
   {
    "duration": 9,
    "start_time": "2024-07-07T18:41:58.573Z"
   },
   {
    "duration": 2051,
    "start_time": "2024-07-07T18:41:58.624Z"
   },
   {
    "duration": 1426,
    "start_time": "2024-07-07T18:42:00.680Z"
   },
   {
    "duration": 35,
    "start_time": "2024-07-07T18:42:02.109Z"
   },
   {
    "duration": 562,
    "start_time": "2024-07-07T18:42:02.147Z"
   },
   {
    "duration": 0,
    "start_time": "2024-07-07T18:42:02.712Z"
   },
   {
    "duration": 0,
    "start_time": "2024-07-07T18:42:02.714Z"
   },
   {
    "duration": 0,
    "start_time": "2024-07-07T18:42:02.723Z"
   },
   {
    "duration": 0,
    "start_time": "2024-07-07T18:42:02.725Z"
   },
   {
    "duration": 0,
    "start_time": "2024-07-07T18:42:02.728Z"
   },
   {
    "duration": 0,
    "start_time": "2024-07-07T18:42:02.730Z"
   },
   {
    "duration": 25,
    "start_time": "2024-07-07T18:46:24.285Z"
   },
   {
    "duration": 28,
    "start_time": "2024-07-07T18:46:55.303Z"
   },
   {
    "duration": 66,
    "start_time": "2024-07-07T18:47:28.443Z"
   },
   {
    "duration": 27,
    "start_time": "2024-07-07T18:48:55.060Z"
   },
   {
    "duration": 30,
    "start_time": "2024-07-07T18:53:42.072Z"
   },
   {
    "duration": 31,
    "start_time": "2024-07-07T19:05:28.248Z"
   },
   {
    "duration": 62,
    "start_time": "2024-07-07T19:05:58.383Z"
   },
   {
    "duration": 57,
    "start_time": "2024-07-07T19:09:17.326Z"
   },
   {
    "duration": 61,
    "start_time": "2024-07-07T19:09:21.012Z"
   },
   {
    "duration": 57,
    "start_time": "2024-07-07T19:10:26.753Z"
   },
   {
    "duration": 61,
    "start_time": "2024-07-07T19:11:22.890Z"
   },
   {
    "duration": 44,
    "start_time": "2024-07-07T19:11:48.279Z"
   },
   {
    "duration": 58,
    "start_time": "2024-07-07T19:11:50.390Z"
   },
   {
    "duration": 92,
    "start_time": "2024-07-07T19:15:26.975Z"
   },
   {
    "duration": 1296,
    "start_time": "2024-07-07T19:16:43.627Z"
   },
   {
    "duration": 1481,
    "start_time": "2024-07-07T19:17:22.858Z"
   },
   {
    "duration": 0,
    "start_time": "2024-07-07T19:17:24.348Z"
   },
   {
    "duration": 1335,
    "start_time": "2024-07-07T19:17:26.374Z"
   },
   {
    "duration": 231,
    "start_time": "2024-07-07T19:17:29.002Z"
   },
   {
    "duration": 80,
    "start_time": "2024-07-07T19:17:51.484Z"
   },
   {
    "duration": 1273,
    "start_time": "2024-07-07T19:17:57.363Z"
   },
   {
    "duration": 78,
    "start_time": "2024-07-07T19:18:23.648Z"
   },
   {
    "duration": 75,
    "start_time": "2024-07-07T19:18:41.459Z"
   },
   {
    "duration": 83,
    "start_time": "2024-07-07T19:18:48.899Z"
   },
   {
    "duration": 75,
    "start_time": "2024-07-07T19:18:53.438Z"
   },
   {
    "duration": 1280,
    "start_time": "2024-07-07T19:18:54.758Z"
   },
   {
    "duration": 280,
    "start_time": "2024-07-07T19:18:58.844Z"
   },
   {
    "duration": 177,
    "start_time": "2024-07-07T19:19:36.864Z"
   },
   {
    "duration": 48,
    "start_time": "2024-07-07T19:20:17.808Z"
   },
   {
    "duration": 48,
    "start_time": "2024-07-07T19:20:20.769Z"
   },
   {
    "duration": 67,
    "start_time": "2024-07-07T19:20:22.899Z"
   },
   {
    "duration": 1327,
    "start_time": "2024-07-07T19:20:23.524Z"
   },
   {
    "duration": 274,
    "start_time": "2024-07-07T19:20:24.855Z"
   },
   {
    "duration": 93,
    "start_time": "2024-07-07T19:22:15.544Z"
   },
   {
    "duration": 319,
    "start_time": "2024-07-07T22:41:03.639Z"
   },
   {
    "duration": 5283,
    "start_time": "2024-07-07T22:41:12.215Z"
   },
   {
    "duration": 45,
    "start_time": "2024-07-07T22:41:17.502Z"
   },
   {
    "duration": 18,
    "start_time": "2024-07-07T22:41:17.550Z"
   },
   {
    "duration": 36,
    "start_time": "2024-07-07T22:41:17.571Z"
   },
   {
    "duration": 31,
    "start_time": "2024-07-07T22:41:17.612Z"
   },
   {
    "duration": 18,
    "start_time": "2024-07-07T22:41:17.646Z"
   },
   {
    "duration": 45,
    "start_time": "2024-07-07T22:41:17.667Z"
   },
   {
    "duration": 6,
    "start_time": "2024-07-07T22:41:17.715Z"
   },
   {
    "duration": 16,
    "start_time": "2024-07-07T22:41:17.725Z"
   },
   {
    "duration": 6,
    "start_time": "2024-07-07T22:41:17.744Z"
   },
   {
    "duration": 51,
    "start_time": "2024-07-07T22:41:17.754Z"
   },
   {
    "duration": 1935,
    "start_time": "2024-07-07T22:41:17.808Z"
   },
   {
    "duration": 1381,
    "start_time": "2024-07-07T22:41:19.746Z"
   },
   {
    "duration": 43,
    "start_time": "2024-07-07T22:41:21.134Z"
   },
   {
    "duration": 469,
    "start_time": "2024-07-07T22:41:21.180Z"
   },
   {
    "duration": 0,
    "start_time": "2024-07-07T22:41:21.652Z"
   },
   {
    "duration": 0,
    "start_time": "2024-07-07T22:41:21.654Z"
   },
   {
    "duration": 0,
    "start_time": "2024-07-07T22:41:21.657Z"
   },
   {
    "duration": 0,
    "start_time": "2024-07-07T22:41:21.659Z"
   },
   {
    "duration": 0,
    "start_time": "2024-07-07T22:41:21.661Z"
   },
   {
    "duration": 0,
    "start_time": "2024-07-07T22:41:21.664Z"
   },
   {
    "duration": 0,
    "start_time": "2024-07-07T22:41:21.666Z"
   },
   {
    "duration": 29,
    "start_time": "2024-07-07T22:41:34.379Z"
   },
   {
    "duration": 28,
    "start_time": "2024-07-07T22:41:35.021Z"
   },
   {
    "duration": 27,
    "start_time": "2024-07-07T22:41:35.964Z"
   },
   {
    "duration": 1074,
    "start_time": "2024-07-07T22:41:37.760Z"
   },
   {
    "duration": 47,
    "start_time": "2024-07-07T22:42:36.999Z"
   },
   {
    "duration": 79,
    "start_time": "2024-07-07T22:42:39.151Z"
   },
   {
    "duration": 91,
    "start_time": "2024-07-07T22:43:16.304Z"
   },
   {
    "duration": 1303,
    "start_time": "2024-07-07T22:43:18.145Z"
   },
   {
    "duration": 256,
    "start_time": "2024-07-07T22:43:19.451Z"
   },
   {
    "duration": 148,
    "start_time": "2024-07-07T22:43:21.059Z"
   },
   {
    "duration": 1424,
    "start_time": "2024-07-07T22:43:45.120Z"
   },
   {
    "duration": 47,
    "start_time": "2024-07-07T22:44:02.264Z"
   },
   {
    "duration": 1565,
    "start_time": "2024-07-07T22:44:10.949Z"
   },
   {
    "duration": 27,
    "start_time": "2024-07-07T22:44:12.517Z"
   },
   {
    "duration": 21,
    "start_time": "2024-07-07T22:44:12.548Z"
   },
   {
    "duration": 47,
    "start_time": "2024-07-07T22:44:12.573Z"
   },
   {
    "duration": 31,
    "start_time": "2024-07-07T22:44:12.623Z"
   },
   {
    "duration": 50,
    "start_time": "2024-07-07T22:44:12.656Z"
   },
   {
    "duration": 6,
    "start_time": "2024-07-07T22:44:12.709Z"
   },
   {
    "duration": 7,
    "start_time": "2024-07-07T22:44:12.718Z"
   },
   {
    "duration": 16,
    "start_time": "2024-07-07T22:44:12.728Z"
   },
   {
    "duration": 6,
    "start_time": "2024-07-07T22:44:12.751Z"
   },
   {
    "duration": 52,
    "start_time": "2024-07-07T22:44:12.759Z"
   },
   {
    "duration": 1869,
    "start_time": "2024-07-07T22:44:12.814Z"
   },
   {
    "duration": 1313,
    "start_time": "2024-07-07T22:44:14.687Z"
   },
   {
    "duration": 43,
    "start_time": "2024-07-07T22:44:16.007Z"
   },
   {
    "duration": 29,
    "start_time": "2024-07-07T22:44:16.052Z"
   },
   {
    "duration": 89,
    "start_time": "2024-07-07T22:44:16.083Z"
   },
   {
    "duration": 1300,
    "start_time": "2024-07-07T22:44:16.175Z"
   },
   {
    "duration": 153,
    "start_time": "2024-07-07T22:44:17.478Z"
   },
   {
    "duration": 221,
    "start_time": "2024-07-07T22:44:17.707Z"
   },
   {
    "duration": 1084,
    "start_time": "2024-07-07T22:44:18.005Z"
   },
   {
    "duration": 288,
    "start_time": "2024-07-07T22:44:19.093Z"
   },
   {
    "duration": 231,
    "start_time": "2024-07-07T22:44:19.384Z"
   },
   {
    "duration": 89,
    "start_time": "2024-07-07T22:44:19.618Z"
   },
   {
    "duration": 218,
    "start_time": "2024-07-07T22:46:56.834Z"
   },
   {
    "duration": 1048,
    "start_time": "2024-07-07T22:47:09.098Z"
   },
   {
    "duration": 294,
    "start_time": "2024-07-07T22:48:23.129Z"
   },
   {
    "duration": 18,
    "start_time": "2024-07-07T22:48:27.473Z"
   },
   {
    "duration": 553,
    "start_time": "2024-07-07T22:52:29.354Z"
   },
   {
    "duration": 7,
    "start_time": "2024-07-07T22:52:47.007Z"
   },
   {
    "duration": 685,
    "start_time": "2024-07-07T22:52:54.129Z"
   },
   {
    "duration": 34,
    "start_time": "2024-07-07T22:54:49.378Z"
   },
   {
    "duration": 1593,
    "start_time": "2024-07-07T23:06:23.661Z"
   },
   {
    "duration": 26,
    "start_time": "2024-07-07T23:06:25.257Z"
   },
   {
    "duration": 33,
    "start_time": "2024-07-07T23:06:25.285Z"
   },
   {
    "duration": 23,
    "start_time": "2024-07-07T23:06:25.322Z"
   },
   {
    "duration": 59,
    "start_time": "2024-07-07T23:06:25.349Z"
   },
   {
    "duration": 23,
    "start_time": "2024-07-07T23:06:25.413Z"
   },
   {
    "duration": 6,
    "start_time": "2024-07-07T23:06:25.440Z"
   },
   {
    "duration": 5,
    "start_time": "2024-07-07T23:06:25.449Z"
   },
   {
    "duration": 64,
    "start_time": "2024-07-07T23:06:25.458Z"
   },
   {
    "duration": 7,
    "start_time": "2024-07-07T23:06:25.525Z"
   },
   {
    "duration": 7,
    "start_time": "2024-07-07T23:06:25.536Z"
   },
   {
    "duration": 1892,
    "start_time": "2024-07-07T23:06:25.547Z"
   },
   {
    "duration": 1399,
    "start_time": "2024-07-07T23:06:27.441Z"
   },
   {
    "duration": 42,
    "start_time": "2024-07-07T23:06:28.847Z"
   },
   {
    "duration": 27,
    "start_time": "2024-07-07T23:06:28.907Z"
   },
   {
    "duration": 87,
    "start_time": "2024-07-07T23:06:28.937Z"
   },
   {
    "duration": 1289,
    "start_time": "2024-07-07T23:06:29.027Z"
   },
   {
    "duration": 210,
    "start_time": "2024-07-07T23:06:30.319Z"
   },
   {
    "duration": 280,
    "start_time": "2024-07-07T23:06:30.533Z"
   },
   {
    "duration": 610,
    "start_time": "2024-07-07T23:06:30.815Z"
   },
   {
    "duration": 0,
    "start_time": "2024-07-07T23:06:31.427Z"
   },
   {
    "duration": 8,
    "start_time": "2024-07-07T23:07:14.568Z"
   },
   {
    "duration": 28,
    "start_time": "2024-07-07T23:36:08.058Z"
   },
   {
    "duration": 31,
    "start_time": "2024-07-07T23:36:33.329Z"
   },
   {
    "duration": 42,
    "start_time": "2024-07-07T23:36:40.315Z"
   },
   {
    "duration": 1717,
    "start_time": "2024-07-07T23:36:47.614Z"
   },
   {
    "duration": 24,
    "start_time": "2024-07-07T23:36:49.336Z"
   },
   {
    "duration": 39,
    "start_time": "2024-07-07T23:36:49.366Z"
   },
   {
    "duration": 23,
    "start_time": "2024-07-07T23:36:49.410Z"
   },
   {
    "duration": 33,
    "start_time": "2024-07-07T23:36:49.436Z"
   },
   {
    "duration": 51,
    "start_time": "2024-07-07T23:36:49.472Z"
   },
   {
    "duration": 6,
    "start_time": "2024-07-07T23:36:49.526Z"
   },
   {
    "duration": 6,
    "start_time": "2024-07-07T23:36:49.535Z"
   },
   {
    "duration": 59,
    "start_time": "2024-07-07T23:36:49.546Z"
   },
   {
    "duration": 6,
    "start_time": "2024-07-07T23:36:49.608Z"
   },
   {
    "duration": 7,
    "start_time": "2024-07-07T23:36:49.617Z"
   },
   {
    "duration": 1919,
    "start_time": "2024-07-07T23:36:49.628Z"
   },
   {
    "duration": 1361,
    "start_time": "2024-07-07T23:36:51.552Z"
   },
   {
    "duration": 45,
    "start_time": "2024-07-07T23:36:52.916Z"
   },
   {
    "duration": 56,
    "start_time": "2024-07-07T23:36:52.965Z"
   },
   {
    "duration": 68,
    "start_time": "2024-07-07T23:36:53.024Z"
   },
   {
    "duration": 1292,
    "start_time": "2024-07-07T23:36:53.107Z"
   },
   {
    "duration": 224,
    "start_time": "2024-07-07T23:36:54.406Z"
   },
   {
    "duration": 283,
    "start_time": "2024-07-07T23:36:54.633Z"
   },
   {
    "duration": 639,
    "start_time": "2024-07-07T23:36:54.920Z"
   },
   {
    "duration": 0,
    "start_time": "2024-07-07T23:36:55.562Z"
   },
   {
    "duration": 8,
    "start_time": "2024-07-07T23:37:15.612Z"
   },
   {
    "duration": 20,
    "start_time": "2024-07-07T23:37:16.037Z"
   },
   {
    "duration": 16,
    "start_time": "2024-07-07T23:37:16.684Z"
   },
   {
    "duration": 18,
    "start_time": "2024-07-07T23:37:17.303Z"
   },
   {
    "duration": 31,
    "start_time": "2024-07-07T23:37:17.785Z"
   },
   {
    "duration": 18,
    "start_time": "2024-07-07T23:37:18.238Z"
   },
   {
    "duration": 6,
    "start_time": "2024-07-07T23:37:18.675Z"
   },
   {
    "duration": 3,
    "start_time": "2024-07-07T23:37:20.614Z"
   },
   {
    "duration": 18,
    "start_time": "2024-07-07T23:37:21.719Z"
   },
   {
    "duration": 6,
    "start_time": "2024-07-07T23:37:22.313Z"
   },
   {
    "duration": 10,
    "start_time": "2024-07-07T23:37:24.327Z"
   },
   {
    "duration": 1787,
    "start_time": "2024-07-07T23:37:25.819Z"
   },
   {
    "duration": 1324,
    "start_time": "2024-07-07T23:37:31.599Z"
   },
   {
    "duration": 48,
    "start_time": "2024-07-07T23:37:35.036Z"
   },
   {
    "duration": 28,
    "start_time": "2024-07-07T23:37:36.893Z"
   },
   {
    "duration": 67,
    "start_time": "2024-07-07T23:37:38.614Z"
   },
   {
    "duration": 1283,
    "start_time": "2024-07-07T23:37:40.204Z"
   },
   {
    "duration": 142,
    "start_time": "2024-07-07T23:37:43.179Z"
   },
   {
    "duration": 144,
    "start_time": "2024-07-07T23:37:45.369Z"
   },
   {
    "duration": 29,
    "start_time": "2024-07-07T23:37:48.829Z"
   },
   {
    "duration": 55,
    "start_time": "2024-07-07T23:38:14.469Z"
   },
   {
    "duration": 206,
    "start_time": "2024-07-07T23:38:33.019Z"
   },
   {
    "duration": 10,
    "start_time": "2024-07-07T23:40:31.039Z"
   },
   {
    "duration": 31,
    "start_time": "2024-07-07T23:40:41.088Z"
   },
   {
    "duration": 49,
    "start_time": "2024-07-07T23:41:39.493Z"
   },
   {
    "duration": 35,
    "start_time": "2024-07-07T23:42:59.136Z"
   },
   {
    "duration": 32,
    "start_time": "2024-07-07T23:45:01.194Z"
   },
   {
    "duration": 7,
    "start_time": "2024-07-07T23:45:16.113Z"
   },
   {
    "duration": 228,
    "start_time": "2024-07-07T23:45:23.963Z"
   },
   {
    "duration": 432,
    "start_time": "2024-07-07T23:47:10.518Z"
   },
   {
    "duration": 212,
    "start_time": "2024-07-07T23:49:06.724Z"
   },
   {
    "duration": 5751,
    "start_time": "2024-07-08T09:57:20.702Z"
   },
   {
    "duration": 38,
    "start_time": "2024-07-08T09:57:26.457Z"
   },
   {
    "duration": 23,
    "start_time": "2024-07-08T09:57:26.498Z"
   },
   {
    "duration": 31,
    "start_time": "2024-07-08T09:57:26.524Z"
   },
   {
    "duration": 68,
    "start_time": "2024-07-08T09:57:26.561Z"
   },
   {
    "duration": 21,
    "start_time": "2024-07-08T09:57:26.632Z"
   },
   {
    "duration": 7,
    "start_time": "2024-07-08T09:57:26.659Z"
   },
   {
    "duration": 8,
    "start_time": "2024-07-08T09:57:26.670Z"
   },
   {
    "duration": 19,
    "start_time": "2024-07-08T09:57:26.712Z"
   },
   {
    "duration": 8,
    "start_time": "2024-07-08T09:57:26.734Z"
   },
   {
    "duration": 9,
    "start_time": "2024-07-08T09:57:26.746Z"
   },
   {
    "duration": 2154,
    "start_time": "2024-07-08T09:57:26.759Z"
   },
   {
    "duration": 1391,
    "start_time": "2024-07-08T09:57:28.917Z"
   },
   {
    "duration": 57,
    "start_time": "2024-07-08T09:57:30.317Z"
   },
   {
    "duration": 48,
    "start_time": "2024-07-08T09:57:30.377Z"
   },
   {
    "duration": 86,
    "start_time": "2024-07-08T09:57:30.428Z"
   },
   {
    "duration": 1381,
    "start_time": "2024-07-08T09:57:30.518Z"
   },
   {
    "duration": 212,
    "start_time": "2024-07-08T09:57:31.911Z"
   },
   {
    "duration": 293,
    "start_time": "2024-07-08T09:57:32.126Z"
   },
   {
    "duration": 513,
    "start_time": "2024-07-08T09:57:32.422Z"
   },
   {
    "duration": 0,
    "start_time": "2024-07-08T09:57:32.937Z"
   },
   {
    "duration": 8,
    "start_time": "2024-07-08T10:05:23.199Z"
   },
   {
    "duration": 28,
    "start_time": "2024-07-08T10:05:23.211Z"
   },
   {
    "duration": 17,
    "start_time": "2024-07-08T10:05:23.242Z"
   },
   {
    "duration": 17,
    "start_time": "2024-07-08T10:05:23.262Z"
   },
   {
    "duration": 33,
    "start_time": "2024-07-08T10:05:23.318Z"
   },
   {
    "duration": 18,
    "start_time": "2024-07-08T10:05:23.354Z"
   },
   {
    "duration": 5,
    "start_time": "2024-07-08T10:05:23.376Z"
   },
   {
    "duration": 5,
    "start_time": "2024-07-08T10:05:23.416Z"
   },
   {
    "duration": 17,
    "start_time": "2024-07-08T10:05:23.424Z"
   },
   {
    "duration": 7,
    "start_time": "2024-07-08T10:05:23.444Z"
   },
   {
    "duration": 8,
    "start_time": "2024-07-08T10:05:23.454Z"
   },
   {
    "duration": 2253,
    "start_time": "2024-07-08T10:05:23.514Z"
   },
   {
    "duration": 1408,
    "start_time": "2024-07-08T10:05:25.770Z"
   },
   {
    "duration": 65,
    "start_time": "2024-07-08T10:05:27.185Z"
   },
   {
    "duration": 30,
    "start_time": "2024-07-08T10:05:27.254Z"
   },
   {
    "duration": 95,
    "start_time": "2024-07-08T10:05:27.287Z"
   },
   {
    "duration": 1326,
    "start_time": "2024-07-08T10:05:27.386Z"
   },
   {
    "duration": 210,
    "start_time": "2024-07-08T10:05:28.715Z"
   },
   {
    "duration": 293,
    "start_time": "2024-07-08T10:05:28.928Z"
   },
   {
    "duration": 107,
    "start_time": "2024-07-08T10:05:29.231Z"
   },
   {
    "duration": 0,
    "start_time": "2024-07-08T10:05:29.341Z"
   },
   {
    "duration": 326,
    "start_time": "2024-07-08T10:19:20.320Z"
   },
   {
    "duration": 32,
    "start_time": "2024-07-08T10:19:29.878Z"
   },
   {
    "duration": 36,
    "start_time": "2024-07-08T10:19:38.659Z"
   },
   {
    "duration": 5452,
    "start_time": "2024-07-08T10:19:50.761Z"
   },
   {
    "duration": 48,
    "start_time": "2024-07-08T10:19:56.218Z"
   },
   {
    "duration": 18,
    "start_time": "2024-07-08T10:19:56.269Z"
   },
   {
    "duration": 31,
    "start_time": "2024-07-08T10:19:56.290Z"
   },
   {
    "duration": 34,
    "start_time": "2024-07-08T10:19:56.327Z"
   },
   {
    "duration": 48,
    "start_time": "2024-07-08T10:19:56.365Z"
   },
   {
    "duration": 6,
    "start_time": "2024-07-08T10:19:56.416Z"
   },
   {
    "duration": 6,
    "start_time": "2024-07-08T10:19:56.425Z"
   },
   {
    "duration": 18,
    "start_time": "2024-07-08T10:19:56.434Z"
   },
   {
    "duration": 6,
    "start_time": "2024-07-08T10:19:56.456Z"
   },
   {
    "duration": 7,
    "start_time": "2024-07-08T10:19:56.514Z"
   },
   {
    "duration": 1977,
    "start_time": "2024-07-08T10:19:56.524Z"
   },
   {
    "duration": 1398,
    "start_time": "2024-07-08T10:19:58.504Z"
   },
   {
    "duration": 45,
    "start_time": "2024-07-08T10:19:59.916Z"
   },
   {
    "duration": 51,
    "start_time": "2024-07-08T10:19:59.965Z"
   },
   {
    "duration": 68,
    "start_time": "2024-07-08T10:20:00.019Z"
   },
   {
    "duration": 1314,
    "start_time": "2024-07-08T10:20:00.090Z"
   },
   {
    "duration": 201,
    "start_time": "2024-07-08T10:20:01.412Z"
   },
   {
    "duration": 208,
    "start_time": "2024-07-08T10:20:01.617Z"
   },
   {
    "duration": 520,
    "start_time": "2024-07-08T10:20:01.827Z"
   },
   {
    "duration": 0,
    "start_time": "2024-07-08T10:20:02.349Z"
   },
   {
    "duration": 34,
    "start_time": "2024-07-08T10:20:10.778Z"
   },
   {
    "duration": 207,
    "start_time": "2024-07-08T10:20:16.853Z"
   },
   {
    "duration": 1464,
    "start_time": "2024-07-08T10:20:44.339Z"
   },
   {
    "duration": 1655,
    "start_time": "2024-07-08T10:20:59.894Z"
   },
   {
    "duration": 24,
    "start_time": "2024-07-08T10:21:01.553Z"
   },
   {
    "duration": 34,
    "start_time": "2024-07-08T10:21:01.580Z"
   },
   {
    "duration": 23,
    "start_time": "2024-07-08T10:21:01.617Z"
   },
   {
    "duration": 31,
    "start_time": "2024-07-08T10:21:01.645Z"
   },
   {
    "duration": 48,
    "start_time": "2024-07-08T10:21:01.680Z"
   },
   {
    "duration": 8,
    "start_time": "2024-07-08T10:21:01.731Z"
   },
   {
    "duration": 5,
    "start_time": "2024-07-08T10:21:01.742Z"
   },
   {
    "duration": 17,
    "start_time": "2024-07-08T10:21:01.751Z"
   },
   {
    "duration": 48,
    "start_time": "2024-07-08T10:21:01.770Z"
   },
   {
    "duration": 8,
    "start_time": "2024-07-08T10:21:01.822Z"
   },
   {
    "duration": 1951,
    "start_time": "2024-07-08T10:21:01.833Z"
   },
   {
    "duration": 1341,
    "start_time": "2024-07-08T10:21:03.786Z"
   },
   {
    "duration": 52,
    "start_time": "2024-07-08T10:21:05.136Z"
   },
   {
    "duration": 29,
    "start_time": "2024-07-08T10:21:05.212Z"
   },
   {
    "duration": 85,
    "start_time": "2024-07-08T10:21:05.245Z"
   },
   {
    "duration": 1298,
    "start_time": "2024-07-08T10:21:05.333Z"
   },
   {
    "duration": 199,
    "start_time": "2024-07-08T10:21:06.634Z"
   },
   {
    "duration": 291,
    "start_time": "2024-07-08T10:21:06.835Z"
   },
   {
    "duration": 613,
    "start_time": "2024-07-08T10:21:07.132Z"
   },
   {
    "duration": 0,
    "start_time": "2024-07-08T10:21:07.747Z"
   },
   {
    "duration": 44,
    "start_time": "2024-07-08T10:21:09.353Z"
   },
   {
    "duration": 43,
    "start_time": "2024-07-08T10:21:12.193Z"
   },
   {
    "duration": 44,
    "start_time": "2024-07-08T10:21:26.598Z"
   },
   {
    "duration": 1340,
    "start_time": "2024-07-08T10:21:33.763Z"
   },
   {
    "duration": 41,
    "start_time": "2024-07-08T10:21:50.709Z"
   },
   {
    "duration": 68,
    "start_time": "2024-07-08T10:21:53.538Z"
   },
   {
    "duration": 1284,
    "start_time": "2024-07-08T10:21:55.233Z"
   },
   {
    "duration": 209,
    "start_time": "2024-07-08T10:21:56.521Z"
   },
   {
    "duration": 31,
    "start_time": "2024-07-08T10:22:01.883Z"
   },
   {
    "duration": 66,
    "start_time": "2024-07-08T10:22:21.379Z"
   },
   {
    "duration": 436,
    "start_time": "2024-07-09T22:19:28.953Z"
   },
   {
    "duration": 5414,
    "start_time": "2024-07-09T22:19:37.621Z"
   },
   {
    "duration": 46,
    "start_time": "2024-07-09T22:19:43.039Z"
   },
   {
    "duration": 32,
    "start_time": "2024-07-09T22:19:43.088Z"
   },
   {
    "duration": 27,
    "start_time": "2024-07-09T22:19:43.123Z"
   },
   {
    "duration": 60,
    "start_time": "2024-07-09T22:19:43.155Z"
   },
   {
    "duration": 22,
    "start_time": "2024-07-09T22:19:43.218Z"
   },
   {
    "duration": 6,
    "start_time": "2024-07-09T22:19:43.243Z"
   },
   {
    "duration": 5,
    "start_time": "2024-07-09T22:19:43.252Z"
   },
   {
    "duration": 53,
    "start_time": "2024-07-09T22:19:43.261Z"
   },
   {
    "duration": 7,
    "start_time": "2024-07-09T22:19:43.317Z"
   },
   {
    "duration": 8,
    "start_time": "2024-07-09T22:19:43.327Z"
   },
   {
    "duration": 2361,
    "start_time": "2024-07-09T22:19:43.338Z"
   },
   {
    "duration": 1522,
    "start_time": "2024-07-09T22:19:45.702Z"
   },
   {
    "duration": 80,
    "start_time": "2024-07-09T22:19:47.231Z"
   },
   {
    "duration": 496,
    "start_time": "2024-07-09T22:19:47.314Z"
   },
   {
    "duration": 0,
    "start_time": "2024-07-09T22:19:47.813Z"
   },
   {
    "duration": 0,
    "start_time": "2024-07-09T22:19:47.817Z"
   },
   {
    "duration": 0,
    "start_time": "2024-07-09T22:19:47.820Z"
   },
   {
    "duration": 0,
    "start_time": "2024-07-09T22:19:47.822Z"
   },
   {
    "duration": 0,
    "start_time": "2024-07-09T22:19:47.825Z"
   },
   {
    "duration": 63,
    "start_time": "2024-07-09T22:22:43.508Z"
   },
   {
    "duration": 58,
    "start_time": "2024-07-09T22:24:36.920Z"
   },
   {
    "duration": 75,
    "start_time": "2024-07-09T22:24:41.918Z"
   },
   {
    "duration": 31,
    "start_time": "2024-07-09T22:25:17.867Z"
   },
   {
    "duration": 12,
    "start_time": "2024-07-09T22:27:10.739Z"
   },
   {
    "duration": 137,
    "start_time": "2024-07-09T22:27:19.102Z"
   },
   {
    "duration": 31,
    "start_time": "2024-07-09T22:27:23.759Z"
   },
   {
    "duration": 42,
    "start_time": "2024-07-09T22:27:25.939Z"
   },
   {
    "duration": 2170,
    "start_time": "2024-07-09T22:27:32.399Z"
   },
   {
    "duration": 81,
    "start_time": "2024-07-09T22:28:32.019Z"
   },
   {
    "duration": 925,
    "start_time": "2024-07-09T22:32:41.576Z"
   },
   {
    "duration": 146,
    "start_time": "2024-07-09T22:33:13.863Z"
   },
   {
    "duration": 142,
    "start_time": "2024-07-09T22:34:02.940Z"
   },
   {
    "duration": 145,
    "start_time": "2024-07-09T22:36:45.487Z"
   },
   {
    "duration": 122,
    "start_time": "2024-07-09T22:37:33.609Z"
   },
   {
    "duration": 26,
    "start_time": "2024-07-09T22:37:53.038Z"
   },
   {
    "duration": 2139,
    "start_time": "2024-07-09T22:38:08.540Z"
   },
   {
    "duration": 2178,
    "start_time": "2024-07-09T22:39:15.649Z"
   },
   {
    "duration": 45,
    "start_time": "2024-07-09T22:40:09.542Z"
   },
   {
    "duration": 86,
    "start_time": "2024-07-09T22:40:12.643Z"
   },
   {
    "duration": 56,
    "start_time": "2024-07-09T22:42:14.598Z"
   },
   {
    "duration": 60,
    "start_time": "2024-07-09T22:47:18.912Z"
   },
   {
    "duration": 57,
    "start_time": "2024-07-09T22:47:30.317Z"
   },
   {
    "duration": 20,
    "start_time": "2024-07-09T22:47:58.123Z"
   },
   {
    "duration": 19,
    "start_time": "2024-07-09T22:51:34.199Z"
   },
   {
    "duration": 73,
    "start_time": "2024-07-09T22:53:38.878Z"
   },
   {
    "duration": 21,
    "start_time": "2024-07-09T22:53:45.659Z"
   },
   {
    "duration": 57,
    "start_time": "2024-07-09T22:53:49.607Z"
   },
   {
    "duration": 9,
    "start_time": "2024-07-09T22:54:48.457Z"
   },
   {
    "duration": 452,
    "start_time": "2024-07-09T22:54:56.261Z"
   },
   {
    "duration": 41,
    "start_time": "2024-07-09T22:56:32.521Z"
   },
   {
    "duration": 57,
    "start_time": "2024-07-09T22:57:01.357Z"
   },
   {
    "duration": 57,
    "start_time": "2024-07-09T22:58:21.004Z"
   },
   {
    "duration": 210,
    "start_time": "2024-07-09T22:58:26.743Z"
   },
   {
    "duration": 50,
    "start_time": "2024-07-09T22:58:50.280Z"
   },
   {
    "duration": 63,
    "start_time": "2024-07-09T23:00:09.418Z"
   },
   {
    "duration": 27,
    "start_time": "2024-07-09T23:01:36.920Z"
   },
   {
    "duration": 94,
    "start_time": "2024-07-09T23:01:57.764Z"
   },
   {
    "duration": 104,
    "start_time": "2024-07-09T23:04:29.603Z"
   },
   {
    "duration": 63,
    "start_time": "2024-07-09T23:05:23.889Z"
   },
   {
    "duration": 33,
    "start_time": "2024-07-09T23:05:32.603Z"
   },
   {
    "duration": 11,
    "start_time": "2024-07-09T23:07:18.139Z"
   },
   {
    "duration": 131,
    "start_time": "2024-07-09T23:12:09.549Z"
   },
   {
    "duration": 1766,
    "start_time": "2024-07-09T23:20:17.008Z"
   },
   {
    "duration": 2224,
    "start_time": "2024-07-09T23:20:27.959Z"
   },
   {
    "duration": 2964,
    "start_time": "2024-07-09T23:20:36.178Z"
   },
   {
    "duration": 1442,
    "start_time": "2024-07-09T23:22:01.313Z"
   },
   {
    "duration": 2842,
    "start_time": "2024-07-09T23:22:13.199Z"
   },
   {
    "duration": 185,
    "start_time": "2024-07-09T23:23:09.638Z"
   },
   {
    "duration": 37,
    "start_time": "2024-07-09T23:25:07.248Z"
   },
   {
    "duration": 184,
    "start_time": "2024-07-09T23:28:27.223Z"
   },
   {
    "duration": 68,
    "start_time": "2024-07-09T23:32:07.784Z"
   },
   {
    "duration": 2859,
    "start_time": "2024-07-09T23:33:18.119Z"
   },
   {
    "duration": 35,
    "start_time": "2024-07-09T23:34:34.134Z"
   },
   {
    "duration": 3270,
    "start_time": "2024-07-09T23:35:54.280Z"
   },
   {
    "duration": 322,
    "start_time": "2024-07-09T23:36:04.383Z"
   },
   {
    "duration": 39,
    "start_time": "2024-07-09T23:36:18.218Z"
   },
   {
    "duration": 34,
    "start_time": "2024-07-09T23:37:20.401Z"
   },
   {
    "duration": 58,
    "start_time": "2024-07-09T23:37:42.118Z"
   },
   {
    "duration": 311,
    "start_time": "2024-07-09T23:38:32.378Z"
   },
   {
    "duration": 53,
    "start_time": "2024-07-09T23:38:36.559Z"
   },
   {
    "duration": 51,
    "start_time": "2024-07-09T23:39:41.761Z"
   },
   {
    "duration": 28,
    "start_time": "2024-07-09T23:44:06.862Z"
   },
   {
    "duration": 50,
    "start_time": "2024-07-09T23:44:13.662Z"
   },
   {
    "duration": 49,
    "start_time": "2024-07-09T23:46:31.842Z"
   },
   {
    "duration": 78,
    "start_time": "2024-07-09T23:49:21.757Z"
   },
   {
    "duration": 4358,
    "start_time": "2024-07-09T23:49:58.945Z"
   },
   {
    "duration": 111,
    "start_time": "2024-07-09T23:50:10.941Z"
   },
   {
    "duration": 1460,
    "start_time": "2024-07-09T23:51:02.553Z"
   },
   {
    "duration": 46,
    "start_time": "2024-07-09T23:51:12.978Z"
   },
   {
    "duration": 7273,
    "start_time": "2024-07-09T23:51:22.614Z"
   },
   {
    "duration": 182,
    "start_time": "2024-07-09T23:51:35.978Z"
   },
   {
    "duration": 182,
    "start_time": "2024-07-09T23:51:44.519Z"
   },
   {
    "duration": 46,
    "start_time": "2024-07-09T23:52:52.434Z"
   },
   {
    "duration": 65,
    "start_time": "2024-07-09T23:52:56.080Z"
   },
   {
    "duration": 88,
    "start_time": "2024-07-09T23:53:01.108Z"
   },
   {
    "duration": 1018,
    "start_time": "2024-07-09T23:53:13.618Z"
   },
   {
    "duration": 1997,
    "start_time": "2024-07-09T23:53:21.719Z"
   },
   {
    "duration": 2991,
    "start_time": "2024-07-09T23:53:32.058Z"
   },
   {
    "duration": 4985,
    "start_time": "2024-07-09T23:53:41.003Z"
   },
   {
    "duration": 43,
    "start_time": "2024-07-09T23:54:19.523Z"
   },
   {
    "duration": 95,
    "start_time": "2024-07-09T23:54:24.559Z"
   },
   {
    "duration": 128,
    "start_time": "2024-07-09T23:54:28.324Z"
   },
   {
    "duration": 7294,
    "start_time": "2024-07-09T23:54:30.519Z"
   },
   {
    "duration": 7260,
    "start_time": "2024-07-09T23:54:43.958Z"
   },
   {
    "duration": 7124,
    "start_time": "2024-07-09T23:55:01.398Z"
   },
   {
    "duration": 184,
    "start_time": "2024-07-09T23:56:25.198Z"
   },
   {
    "duration": 402,
    "start_time": "2024-07-09T23:59:05.027Z"
   },
   {
    "duration": 5558,
    "start_time": "2024-07-09T23:59:25.462Z"
   },
   {
    "duration": 2806,
    "start_time": "2024-07-09T23:59:36.598Z"
   },
   {
    "duration": 2805,
    "start_time": "2024-07-09T23:59:42.378Z"
   },
   {
    "duration": 2791,
    "start_time": "2024-07-09T23:59:49.020Z"
   },
   {
    "duration": 8293,
    "start_time": "2024-07-09T23:59:57.672Z"
   },
   {
    "duration": 1428,
    "start_time": "2024-07-10T00:04:44.398Z"
   },
   {
    "duration": 1408,
    "start_time": "2024-07-10T00:04:52.158Z"
   },
   {
    "duration": 1403,
    "start_time": "2024-07-10T00:04:58.987Z"
   },
   {
    "duration": 2855,
    "start_time": "2024-07-10T00:05:06.233Z"
   },
   {
    "duration": 2937,
    "start_time": "2024-07-10T00:05:18.739Z"
   },
   {
    "duration": 1486,
    "start_time": "2024-07-10T00:05:27.333Z"
   },
   {
    "duration": 1512,
    "start_time": "2024-07-10T00:05:34.979Z"
   },
   {
    "duration": 1490,
    "start_time": "2024-07-10T00:05:41.463Z"
   },
   {
    "duration": 1489,
    "start_time": "2024-07-10T00:06:05.182Z"
   },
   {
    "duration": 1468,
    "start_time": "2024-07-10T00:06:11.640Z"
   },
   {
    "duration": 8787,
    "start_time": "2024-07-10T00:06:21.729Z"
   },
   {
    "duration": 216,
    "start_time": "2024-07-10T00:06:36.158Z"
   },
   {
    "duration": 67,
    "start_time": "2024-07-10T00:09:15.179Z"
   },
   {
    "duration": 160,
    "start_time": "2024-07-10T00:09:27.318Z"
   },
   {
    "duration": 642,
    "start_time": "2024-07-10T00:09:39.679Z"
   },
   {
    "duration": 28,
    "start_time": "2024-07-10T00:09:46.498Z"
   },
   {
    "duration": 1450,
    "start_time": "2024-07-10T00:09:54.019Z"
   },
   {
    "duration": 1400,
    "start_time": "2024-07-10T00:12:44.419Z"
   },
   {
    "duration": 51,
    "start_time": "2024-07-10T00:12:55.197Z"
   },
   {
    "duration": 4325,
    "start_time": "2024-07-10T00:13:11.298Z"
   },
   {
    "duration": 113,
    "start_time": "2024-07-10T00:13:20.878Z"
   },
   {
    "duration": 1469,
    "start_time": "2024-07-10T00:13:40.138Z"
   },
   {
    "duration": 1410,
    "start_time": "2024-07-10T00:13:51.800Z"
   },
   {
    "duration": 47,
    "start_time": "2024-07-10T00:17:48.973Z"
   },
   {
    "duration": 64,
    "start_time": "2024-07-10T00:17:52.778Z"
   },
   {
    "duration": 96,
    "start_time": "2024-07-10T00:17:53.345Z"
   },
   {
    "duration": 1030,
    "start_time": "2024-07-10T00:17:54.810Z"
   },
   {
    "duration": 978,
    "start_time": "2024-07-10T00:17:57.299Z"
   },
   {
    "duration": 44,
    "start_time": "2024-07-10T00:18:06.842Z"
   },
   {
    "duration": 46,
    "start_time": "2024-07-10T00:18:11.025Z"
   },
   {
    "duration": 99,
    "start_time": "2024-07-10T00:18:15.376Z"
   },
   {
    "duration": 145,
    "start_time": "2024-07-10T00:18:17.703Z"
   },
   {
    "duration": 1491,
    "start_time": "2024-07-10T00:18:21.903Z"
   },
   {
    "duration": 1447,
    "start_time": "2024-07-10T00:18:24.823Z"
   },
   {
    "duration": 33,
    "start_time": "2024-07-10T00:18:31.908Z"
   },
   {
    "duration": 60,
    "start_time": "2024-07-10T00:22:02.799Z"
   },
   {
    "duration": 94,
    "start_time": "2024-07-10T00:22:07.718Z"
   },
   {
    "duration": 129,
    "start_time": "2024-07-10T00:22:10.118Z"
   },
   {
    "duration": 1493,
    "start_time": "2024-07-10T00:22:11.573Z"
   },
   {
    "duration": 1413,
    "start_time": "2024-07-10T00:22:13.779Z"
   },
   {
    "duration": 154,
    "start_time": "2024-07-10T00:22:16.949Z"
   },
   {
    "duration": 171,
    "start_time": "2024-07-10T00:22:17.730Z"
   },
   {
    "duration": 264,
    "start_time": "2024-07-10T00:22:21.259Z"
   },
   {
    "duration": 34,
    "start_time": "2024-07-10T00:22:23.397Z"
   },
   {
    "duration": 7,
    "start_time": "2024-07-10T00:22:45.584Z"
   },
   {
    "duration": 2022,
    "start_time": "2024-07-10T00:23:10.219Z"
   },
   {
    "duration": 655,
    "start_time": "2024-07-10T00:24:08.284Z"
   },
   {
    "duration": 32,
    "start_time": "2024-07-10T00:25:07.838Z"
   },
   {
    "duration": 35,
    "start_time": "2024-07-10T00:26:25.318Z"
   },
   {
    "duration": 8,
    "start_time": "2024-07-10T00:52:49.891Z"
   },
   {
    "duration": 27,
    "start_time": "2024-07-10T00:52:50.228Z"
   },
   {
    "duration": 21,
    "start_time": "2024-07-10T00:52:50.559Z"
   },
   {
    "duration": 19,
    "start_time": "2024-07-10T00:52:50.805Z"
   },
   {
    "duration": 29,
    "start_time": "2024-07-10T00:52:51.025Z"
   },
   {
    "duration": 17,
    "start_time": "2024-07-10T00:52:51.224Z"
   },
   {
    "duration": 5,
    "start_time": "2024-07-10T00:52:51.454Z"
   },
   {
    "duration": 4,
    "start_time": "2024-07-10T00:52:51.645Z"
   },
   {
    "duration": 16,
    "start_time": "2024-07-10T00:52:52.024Z"
   },
   {
    "duration": 6,
    "start_time": "2024-07-10T00:52:52.242Z"
   },
   {
    "duration": 8,
    "start_time": "2024-07-10T00:52:52.999Z"
   },
   {
    "duration": 1894,
    "start_time": "2024-07-10T00:52:53.059Z"
   },
   {
    "duration": 1419,
    "start_time": "2024-07-10T00:52:54.957Z"
   },
   {
    "duration": 63,
    "start_time": "2024-07-10T00:52:56.380Z"
   },
   {
    "duration": 107,
    "start_time": "2024-07-10T00:52:56.448Z"
   },
   {
    "duration": 146,
    "start_time": "2024-07-10T00:52:56.558Z"
   },
   {
    "duration": 1509,
    "start_time": "2024-07-10T00:52:56.709Z"
   },
   {
    "duration": 1514,
    "start_time": "2024-07-10T00:52:58.221Z"
   },
   {
    "duration": 171,
    "start_time": "2024-07-10T00:52:59.740Z"
   },
   {
    "duration": 292,
    "start_time": "2024-07-10T00:52:59.916Z"
   },
   {
    "duration": 2156,
    "start_time": "2024-07-10T00:53:00.211Z"
   },
   {
    "duration": 664,
    "start_time": "2024-07-10T00:53:02.370Z"
   },
   {
    "duration": 283,
    "start_time": "2024-07-10T00:53:03.037Z"
   },
   {
    "duration": 34,
    "start_time": "2024-07-10T00:53:03.323Z"
   },
   {
    "duration": 117,
    "start_time": "2024-07-10T00:58:34.187Z"
   },
   {
    "duration": 264,
    "start_time": "2024-07-10T01:09:32.341Z"
   },
   {
    "duration": 409,
    "start_time": "2024-07-10T01:12:45.959Z"
   },
   {
    "duration": 1501,
    "start_time": "2024-07-10T01:12:56.259Z"
   },
   {
    "duration": 1433,
    "start_time": "2024-07-10T01:12:58.704Z"
   },
   {
    "duration": 259,
    "start_time": "2024-07-10T01:13:05.189Z"
   },
   {
    "duration": 5414,
    "start_time": "2024-07-10T12:24:41.334Z"
   },
   {
    "duration": 43,
    "start_time": "2024-07-10T12:24:46.752Z"
   },
   {
    "duration": 19,
    "start_time": "2024-07-10T12:24:46.797Z"
   },
   {
    "duration": 22,
    "start_time": "2024-07-10T12:24:46.821Z"
   },
   {
    "duration": 32,
    "start_time": "2024-07-10T12:24:46.847Z"
   },
   {
    "duration": 47,
    "start_time": "2024-07-10T12:24:46.881Z"
   },
   {
    "duration": 5,
    "start_time": "2024-07-10T12:24:46.931Z"
   },
   {
    "duration": 6,
    "start_time": "2024-07-10T12:24:46.939Z"
   },
   {
    "duration": 16,
    "start_time": "2024-07-10T12:24:46.949Z"
   },
   {
    "duration": 7,
    "start_time": "2024-07-10T12:24:47.018Z"
   },
   {
    "duration": 9,
    "start_time": "2024-07-10T12:24:47.029Z"
   },
   {
    "duration": 2023,
    "start_time": "2024-07-10T12:24:47.042Z"
   },
   {
    "duration": 1351,
    "start_time": "2024-07-10T12:24:49.068Z"
   },
   {
    "duration": 466,
    "start_time": "2024-07-10T12:24:50.422Z"
   },
   {
    "duration": 0,
    "start_time": "2024-07-10T12:24:50.891Z"
   },
   {
    "duration": 0,
    "start_time": "2024-07-10T12:24:50.892Z"
   },
   {
    "duration": 0,
    "start_time": "2024-07-10T12:24:50.895Z"
   },
   {
    "duration": 0,
    "start_time": "2024-07-10T12:24:50.913Z"
   },
   {
    "duration": 0,
    "start_time": "2024-07-10T12:24:50.917Z"
   },
   {
    "duration": 0,
    "start_time": "2024-07-10T12:24:50.920Z"
   },
   {
    "duration": 0,
    "start_time": "2024-07-10T12:24:50.922Z"
   },
   {
    "duration": 0,
    "start_time": "2024-07-10T12:24:50.924Z"
   },
   {
    "duration": 0,
    "start_time": "2024-07-10T12:24:50.925Z"
   },
   {
    "duration": 0,
    "start_time": "2024-07-10T12:24:50.927Z"
   },
   {
    "duration": 337,
    "start_time": "2024-07-10T12:39:46.199Z"
   },
   {
    "duration": 31,
    "start_time": "2024-07-10T12:42:06.742Z"
   },
   {
    "duration": 36,
    "start_time": "2024-07-10T12:42:48.199Z"
   },
   {
    "duration": 24,
    "start_time": "2024-07-10T12:43:49.936Z"
   },
   {
    "duration": 5471,
    "start_time": "2024-07-10T12:44:01.541Z"
   },
   {
    "duration": 31,
    "start_time": "2024-07-10T12:44:07.016Z"
   },
   {
    "duration": 17,
    "start_time": "2024-07-10T12:44:07.050Z"
   },
   {
    "duration": 42,
    "start_time": "2024-07-10T12:44:07.071Z"
   },
   {
    "duration": 34,
    "start_time": "2024-07-10T12:44:07.116Z"
   },
   {
    "duration": 18,
    "start_time": "2024-07-10T12:44:07.154Z"
   },
   {
    "duration": 42,
    "start_time": "2024-07-10T12:44:07.175Z"
   },
   {
    "duration": 5,
    "start_time": "2024-07-10T12:44:07.221Z"
   },
   {
    "duration": 17,
    "start_time": "2024-07-10T12:44:07.229Z"
   },
   {
    "duration": 5,
    "start_time": "2024-07-10T12:44:07.251Z"
   },
   {
    "duration": 54,
    "start_time": "2024-07-10T12:44:07.259Z"
   },
   {
    "duration": 1929,
    "start_time": "2024-07-10T12:44:07.316Z"
   },
   {
    "duration": 1405,
    "start_time": "2024-07-10T12:44:09.248Z"
   },
   {
    "duration": 482,
    "start_time": "2024-07-10T12:44:10.657Z"
   },
   {
    "duration": 0,
    "start_time": "2024-07-10T12:44:11.142Z"
   },
   {
    "duration": 0,
    "start_time": "2024-07-10T12:44:11.144Z"
   },
   {
    "duration": 0,
    "start_time": "2024-07-10T12:44:11.147Z"
   },
   {
    "duration": 1,
    "start_time": "2024-07-10T12:44:11.149Z"
   },
   {
    "duration": 0,
    "start_time": "2024-07-10T12:44:11.152Z"
   },
   {
    "duration": 0,
    "start_time": "2024-07-10T12:44:11.154Z"
   },
   {
    "duration": 0,
    "start_time": "2024-07-10T12:44:11.156Z"
   },
   {
    "duration": 0,
    "start_time": "2024-07-10T12:44:11.160Z"
   },
   {
    "duration": 0,
    "start_time": "2024-07-10T12:44:11.162Z"
   },
   {
    "duration": 0,
    "start_time": "2024-07-10T12:44:11.164Z"
   },
   {
    "duration": 49,
    "start_time": "2024-07-10T12:44:37.395Z"
   },
   {
    "duration": 94,
    "start_time": "2024-07-10T12:44:59.868Z"
   },
   {
    "duration": 132,
    "start_time": "2024-07-10T12:45:04.781Z"
   },
   {
    "duration": 1535,
    "start_time": "2024-07-10T12:45:07.840Z"
   },
   {
    "duration": 1480,
    "start_time": "2024-07-10T12:45:09.379Z"
   },
   {
    "duration": 171,
    "start_time": "2024-07-10T12:45:10.863Z"
   },
   {
    "duration": 237,
    "start_time": "2024-07-10T12:45:11.113Z"
   },
   {
    "duration": 2081,
    "start_time": "2024-07-10T12:45:11.544Z"
   },
   {
    "duration": 702,
    "start_time": "2024-07-10T12:45:13.628Z"
   },
   {
    "duration": 301,
    "start_time": "2024-07-10T12:45:14.334Z"
   },
   {
    "duration": 36,
    "start_time": "2024-07-10T12:45:14.638Z"
   },
   {
    "duration": 1624,
    "start_time": "2024-07-10T12:49:06.737Z"
   },
   {
    "duration": 47,
    "start_time": "2024-07-10T12:49:55.612Z"
   },
   {
    "duration": 44,
    "start_time": "2024-07-10T12:54:08.362Z"
   },
   {
    "duration": 93,
    "start_time": "2024-07-10T12:54:55.959Z"
   },
   {
    "duration": 254,
    "start_time": "2024-07-10T12:55:27.510Z"
   },
   {
    "duration": 88,
    "start_time": "2024-07-10T12:58:47.353Z"
   },
   {
    "duration": 1460,
    "start_time": "2024-07-10T12:59:34.997Z"
   },
   {
    "duration": 1480,
    "start_time": "2024-07-10T13:00:01.077Z"
   },
   {
    "duration": 49,
    "start_time": "2024-07-10T13:00:24.181Z"
   },
   {
    "duration": 162,
    "start_time": "2024-07-10T13:01:12.602Z"
   },
   {
    "duration": 2035,
    "start_time": "2024-07-10T13:01:35.924Z"
   },
   {
    "duration": 672,
    "start_time": "2024-07-10T13:01:41.340Z"
   },
   {
    "duration": 668,
    "start_time": "2024-07-10T13:01:52.035Z"
   },
   {
    "duration": 260,
    "start_time": "2024-07-10T13:02:05.689Z"
   },
   {
    "duration": 33,
    "start_time": "2024-07-10T13:02:30.831Z"
   },
   {
    "duration": 1717,
    "start_time": "2024-07-10T13:02:38.504Z"
   },
   {
    "duration": 26,
    "start_time": "2024-07-10T13:02:40.225Z"
   },
   {
    "duration": 18,
    "start_time": "2024-07-10T13:02:40.253Z"
   },
   {
    "duration": 54,
    "start_time": "2024-07-10T13:02:40.274Z"
   },
   {
    "duration": 39,
    "start_time": "2024-07-10T13:02:40.333Z"
   },
   {
    "duration": 46,
    "start_time": "2024-07-10T13:02:40.377Z"
   },
   {
    "duration": 8,
    "start_time": "2024-07-10T13:02:40.426Z"
   },
   {
    "duration": 5,
    "start_time": "2024-07-10T13:02:40.438Z"
   },
   {
    "duration": 18,
    "start_time": "2024-07-10T13:02:40.447Z"
   },
   {
    "duration": 34,
    "start_time": "2024-07-10T13:02:40.479Z"
   },
   {
    "duration": 9,
    "start_time": "2024-07-10T13:02:40.517Z"
   },
   {
    "duration": 1896,
    "start_time": "2024-07-10T13:02:40.529Z"
   },
   {
    "duration": 1409,
    "start_time": "2024-07-10T13:02:42.429Z"
   },
   {
    "duration": 43,
    "start_time": "2024-07-10T13:02:43.846Z"
   },
   {
    "duration": 110,
    "start_time": "2024-07-10T13:02:43.891Z"
   },
   {
    "duration": 563,
    "start_time": "2024-07-10T13:02:44.013Z"
   },
   {
    "duration": 0,
    "start_time": "2024-07-10T13:02:44.579Z"
   },
   {
    "duration": 0,
    "start_time": "2024-07-10T13:02:44.582Z"
   },
   {
    "duration": 0,
    "start_time": "2024-07-10T13:02:44.584Z"
   },
   {
    "duration": 0,
    "start_time": "2024-07-10T13:02:44.587Z"
   },
   {
    "duration": 0,
    "start_time": "2024-07-10T13:02:44.590Z"
   },
   {
    "duration": 0,
    "start_time": "2024-07-10T13:02:44.592Z"
   },
   {
    "duration": 0,
    "start_time": "2024-07-10T13:02:44.615Z"
   },
   {
    "duration": 0,
    "start_time": "2024-07-10T13:02:44.618Z"
   },
   {
    "duration": 35,
    "start_time": "2024-07-10T13:03:14.826Z"
   },
   {
    "duration": 85,
    "start_time": "2024-07-10T13:03:27.596Z"
   },
   {
    "duration": 1701,
    "start_time": "2024-07-10T13:15:50.114Z"
   },
   {
    "duration": 26,
    "start_time": "2024-07-10T13:15:51.818Z"
   },
   {
    "duration": 17,
    "start_time": "2024-07-10T13:15:51.847Z"
   },
   {
    "duration": 47,
    "start_time": "2024-07-10T13:15:51.867Z"
   },
   {
    "duration": 32,
    "start_time": "2024-07-10T13:15:51.918Z"
   },
   {
    "duration": 17,
    "start_time": "2024-07-10T13:15:51.954Z"
   },
   {
    "duration": 42,
    "start_time": "2024-07-10T13:15:51.974Z"
   },
   {
    "duration": 5,
    "start_time": "2024-07-10T13:15:52.019Z"
   },
   {
    "duration": 17,
    "start_time": "2024-07-10T13:15:52.027Z"
   },
   {
    "duration": 6,
    "start_time": "2024-07-10T13:15:52.046Z"
   },
   {
    "duration": 8,
    "start_time": "2024-07-10T13:15:52.055Z"
   },
   {
    "duration": 1928,
    "start_time": "2024-07-10T13:15:52.065Z"
   },
   {
    "duration": 1332,
    "start_time": "2024-07-10T13:15:53.996Z"
   },
   {
    "duration": 45,
    "start_time": "2024-07-10T13:15:55.334Z"
   },
   {
    "duration": 116,
    "start_time": "2024-07-10T13:15:55.381Z"
   },
   {
    "duration": 96,
    "start_time": "2024-07-10T13:15:55.500Z"
   },
   {
    "duration": 1499,
    "start_time": "2024-07-10T13:15:55.613Z"
   },
   {
    "duration": 1439,
    "start_time": "2024-07-10T13:15:57.115Z"
   },
   {
    "duration": 168,
    "start_time": "2024-07-10T13:15:58.558Z"
   },
   {
    "duration": 310,
    "start_time": "2024-07-10T13:15:58.729Z"
   },
   {
    "duration": 2646,
    "start_time": "2024-07-10T13:15:59.042Z"
   },
   {
    "duration": 0,
    "start_time": "2024-07-10T13:16:01.691Z"
   },
   {
    "duration": 0,
    "start_time": "2024-07-10T13:16:01.693Z"
   },
   {
    "duration": 0,
    "start_time": "2024-07-10T13:16:01.695Z"
   },
   {
    "duration": 2003,
    "start_time": "2024-07-10T13:16:24.494Z"
   },
   {
    "duration": 692,
    "start_time": "2024-07-10T13:16:40.921Z"
   },
   {
    "duration": 1688,
    "start_time": "2024-07-10T13:16:53.863Z"
   },
   {
    "duration": 24,
    "start_time": "2024-07-10T13:16:55.555Z"
   },
   {
    "duration": 34,
    "start_time": "2024-07-10T13:16:55.582Z"
   },
   {
    "duration": 22,
    "start_time": "2024-07-10T13:16:55.620Z"
   },
   {
    "duration": 33,
    "start_time": "2024-07-10T13:16:55.644Z"
   },
   {
    "duration": 49,
    "start_time": "2024-07-10T13:16:55.680Z"
   },
   {
    "duration": 7,
    "start_time": "2024-07-10T13:16:55.731Z"
   },
   {
    "duration": 6,
    "start_time": "2024-07-10T13:16:55.740Z"
   },
   {
    "duration": 18,
    "start_time": "2024-07-10T13:16:55.748Z"
   },
   {
    "duration": 5,
    "start_time": "2024-07-10T13:16:55.816Z"
   },
   {
    "duration": 9,
    "start_time": "2024-07-10T13:16:55.824Z"
   },
   {
    "duration": 1881,
    "start_time": "2024-07-10T13:16:55.836Z"
   },
   {
    "duration": 1333,
    "start_time": "2024-07-10T13:16:57.721Z"
   },
   {
    "duration": 57,
    "start_time": "2024-07-10T13:16:59.057Z"
   },
   {
    "duration": 107,
    "start_time": "2024-07-10T13:16:59.117Z"
   },
   {
    "duration": 102,
    "start_time": "2024-07-10T13:16:59.227Z"
   },
   {
    "duration": 1494,
    "start_time": "2024-07-10T13:16:59.331Z"
   },
   {
    "duration": 1457,
    "start_time": "2024-07-10T13:17:00.828Z"
   },
   {
    "duration": 141,
    "start_time": "2024-07-10T13:17:02.288Z"
   },
   {
    "duration": 308,
    "start_time": "2024-07-10T13:17:02.432Z"
   },
   {
    "duration": 2206,
    "start_time": "2024-07-10T13:17:02.744Z"
   },
   {
    "duration": 680,
    "start_time": "2024-07-10T13:17:04.954Z"
   },
   {
    "duration": 281,
    "start_time": "2024-07-10T13:17:05.638Z"
   },
   {
    "duration": 37,
    "start_time": "2024-07-10T13:17:05.923Z"
   },
   {
    "duration": 90,
    "start_time": "2024-07-10T13:18:02.826Z"
   },
   {
    "duration": 86,
    "start_time": "2024-07-10T13:18:05.027Z"
   },
   {
    "duration": 1476,
    "start_time": "2024-07-10T13:18:07.740Z"
   },
   {
    "duration": 1463,
    "start_time": "2024-07-10T13:18:10.317Z"
   },
   {
    "duration": 2017,
    "start_time": "2024-07-10T13:18:24.447Z"
   },
   {
    "duration": 653,
    "start_time": "2024-07-10T13:18:27.550Z"
   },
   {
    "duration": 20,
    "start_time": "2024-07-10T13:52:41.864Z"
   },
   {
    "duration": 6,
    "start_time": "2024-07-10T13:52:49.813Z"
   },
   {
    "duration": 6,
    "start_time": "2024-07-10T13:53:07.762Z"
   },
   {
    "duration": 84,
    "start_time": "2024-07-10T13:54:07.104Z"
   },
   {
    "duration": 1733,
    "start_time": "2024-07-10T13:54:59.207Z"
   },
   {
    "duration": 40,
    "start_time": "2024-07-10T13:55:00.944Z"
   },
   {
    "duration": 26,
    "start_time": "2024-07-10T13:55:00.988Z"
   },
   {
    "duration": 22,
    "start_time": "2024-07-10T13:55:01.020Z"
   },
   {
    "duration": 65,
    "start_time": "2024-07-10T13:55:01.047Z"
   },
   {
    "duration": 20,
    "start_time": "2024-07-10T13:55:01.115Z"
   },
   {
    "duration": 7,
    "start_time": "2024-07-10T13:55:01.139Z"
   },
   {
    "duration": 6,
    "start_time": "2024-07-10T13:55:01.150Z"
   },
   {
    "duration": 58,
    "start_time": "2024-07-10T13:55:01.160Z"
   },
   {
    "duration": 6,
    "start_time": "2024-07-10T13:55:01.221Z"
   },
   {
    "duration": 8,
    "start_time": "2024-07-10T13:55:01.232Z"
   },
   {
    "duration": 2062,
    "start_time": "2024-07-10T13:55:01.243Z"
   },
   {
    "duration": 1666,
    "start_time": "2024-07-10T13:55:03.308Z"
   },
   {
    "duration": 73,
    "start_time": "2024-07-10T13:55:04.980Z"
   },
   {
    "duration": 116,
    "start_time": "2024-07-10T13:55:05.057Z"
   },
   {
    "duration": 108,
    "start_time": "2024-07-10T13:55:05.176Z"
   },
   {
    "duration": 1592,
    "start_time": "2024-07-10T13:55:05.287Z"
   },
   {
    "duration": 1521,
    "start_time": "2024-07-10T13:55:06.883Z"
   },
   {
    "duration": 138,
    "start_time": "2024-07-10T13:55:08.407Z"
   },
   {
    "duration": 240,
    "start_time": "2024-07-10T13:55:08.613Z"
   },
   {
    "duration": 2259,
    "start_time": "2024-07-10T13:55:08.856Z"
   },
   {
    "duration": 727,
    "start_time": "2024-07-10T13:55:11.118Z"
   },
   {
    "duration": 288,
    "start_time": "2024-07-10T13:55:11.848Z"
   },
   {
    "duration": 38,
    "start_time": "2024-07-10T13:55:12.139Z"
   },
   {
    "duration": 6501,
    "start_time": "2024-07-10T19:17:28.286Z"
   },
   {
    "duration": 53,
    "start_time": "2024-07-10T19:17:34.790Z"
   },
   {
    "duration": 21,
    "start_time": "2024-07-10T19:17:34.846Z"
   },
   {
    "duration": 40,
    "start_time": "2024-07-10T19:17:34.870Z"
   },
   {
    "duration": 41,
    "start_time": "2024-07-10T19:17:34.917Z"
   },
   {
    "duration": 45,
    "start_time": "2024-07-10T19:17:34.963Z"
   },
   {
    "duration": 7,
    "start_time": "2024-07-10T19:17:35.012Z"
   },
   {
    "duration": 6,
    "start_time": "2024-07-10T19:17:35.023Z"
   },
   {
    "duration": 20,
    "start_time": "2024-07-10T19:17:35.034Z"
   },
   {
    "duration": 46,
    "start_time": "2024-07-10T19:17:35.057Z"
   },
   {
    "duration": 8,
    "start_time": "2024-07-10T19:17:35.106Z"
   },
   {
    "duration": 2104,
    "start_time": "2024-07-10T19:17:35.118Z"
   },
   {
    "duration": 1419,
    "start_time": "2024-07-10T19:17:37.226Z"
   },
   {
    "duration": 66,
    "start_time": "2024-07-10T19:17:38.651Z"
   },
   {
    "duration": 116,
    "start_time": "2024-07-10T19:17:38.720Z"
   },
   {
    "duration": 98,
    "start_time": "2024-07-10T19:17:38.839Z"
   },
   {
    "duration": 1577,
    "start_time": "2024-07-10T19:17:38.940Z"
   },
   {
    "duration": 1450,
    "start_time": "2024-07-10T19:17:40.520Z"
   },
   {
    "duration": 140,
    "start_time": "2024-07-10T19:17:41.973Z"
   },
   {
    "duration": 288,
    "start_time": "2024-07-10T19:17:42.119Z"
   },
   {
    "duration": 2166,
    "start_time": "2024-07-10T19:17:42.411Z"
   },
   {
    "duration": 722,
    "start_time": "2024-07-10T19:17:44.581Z"
   },
   {
    "duration": 270,
    "start_time": "2024-07-10T19:17:45.307Z"
   },
   {
    "duration": 46,
    "start_time": "2024-07-10T19:17:45.581Z"
   }
  ],
  "kernelspec": {
   "display_name": "Python 3 (ipykernel)",
   "language": "python",
   "name": "python3"
  },
  "language_info": {
   "codemirror_mode": {
    "name": "ipython",
    "version": 3
   },
   "file_extension": ".py",
   "mimetype": "text/x-python",
   "name": "python",
   "nbconvert_exporter": "python",
   "pygments_lexer": "ipython3",
   "version": "3.12.3"
  },
  "toc": {
   "base_numbering": 1,
   "nav_menu": {},
   "number_sections": true,
   "sideBar": true,
   "skip_h1_title": true,
   "title_cell": "Table of Contents",
   "title_sidebar": "Contents",
   "toc_cell": false,
   "toc_position": {
    "height": "calc(100% - 180px)",
    "left": "10px",
    "top": "150px",
    "width": "235.6px"
   },
   "toc_section_display": true,
   "toc_window_display": true
  }
 },
 "nbformat": 4,
 "nbformat_minor": 2
}
