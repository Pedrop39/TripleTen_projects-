{
 "cells": [
  {
   "cell_type": "markdown",
   "metadata": {},
   "source": [
    "# Optimal Oil Well Location Selection\n",
    "\n",
    "**Objective**\n",
    "\n",
    "The objective of this project is to identify the optimal location for a new oil well with the aim to maximize profit and minimize risk.\n",
    "\n",
    "**Data Collection:** I will start by gathering data on oil well parameters in the selected region. This includes the quality of oil and the volume of reserves.\n",
    "\n",
    "**Model Building:** Using the collected data, I will develop a predictive model. This model will be capable of predicting the volume of reserves in new wells.\n",
    "\n",
    "**Well Selection:** I will use the predictive model to estimate the volume of reserves in each well. I will then select the oil wells with the highest estimated values.\n",
    "\n",
    "**Region Selection:** Among the regions under consideration, I will choose the one with the highest total profit from the selected oil wells.\n",
    "\n",
    "I have access to data on oil samples from three regions. Parameters of each oil well in the region are already known. I will build a model that will help to pick the region with the highest profit margin. I will analyze potential profit and risks using the Bootstrapping technique.\n",
    "\n",
    "By the end of this project, I aim to provide a recommendation on the best region for drilling the new oil well based on the highest profit margin and the lowest risk."
   ]
  },
  {
   "cell_type": "markdown",
   "metadata": {},
   "source": [
    "# 1- Download and prepare the data. Explain the procedure."
   ]
  },
  {
   "cell_type": "code",
   "execution_count": 1,
   "metadata": {},
   "outputs": [],
   "source": [
    "import pandas as pd\n",
    "from sklearn.metrics import accuracy_score\n",
    "from sklearn.linear_model import LogisticRegression\n",
    "from sklearn.model_selection import train_test_split\n",
    "from sklearn.metrics import mean_squared_error\n",
    "import numpy as np\n",
    "from sklearn.model_selection import train_test_split\n",
    "from sklearn.metrics import classification_report, roc_auc_score\n",
    "from sklearn.metrics import roc_auc_score, roc_curve\n",
    "import matplotlib.pyplot as plt\n",
    "from sklearn.utils import resample\n",
    "import seaborn as sns\n",
    "from sklearn.linear_model import LinearRegression"
   ]
  },
  {
   "cell_type": "code",
   "execution_count": 2,
   "metadata": {},
   "outputs": [],
   "source": [
    "region_one = pd.read_csv('/datasets/geo_data_0.csv')\n",
    "region_two = pd.read_csv('/datasets/geo_data_1.csv')\n",
    "region_three = pd.read_csv('/datasets/geo_data_2.csv')"
   ]
  },
  {
   "cell_type": "code",
   "execution_count": 3,
   "metadata": {},
   "outputs": [
    {
     "name": "stdout",
     "output_type": "stream",
     "text": [
      "<class 'pandas.core.frame.DataFrame'>\n",
      "RangeIndex: 100000 entries, 0 to 99999\n",
      "Data columns (total 5 columns):\n",
      " #   Column   Non-Null Count   Dtype  \n",
      "---  ------   --------------   -----  \n",
      " 0   id       100000 non-null  object \n",
      " 1   f0       100000 non-null  float64\n",
      " 2   f1       100000 non-null  float64\n",
      " 3   f2       100000 non-null  float64\n",
      " 4   product  100000 non-null  float64\n",
      "dtypes: float64(4), object(1)\n",
      "memory usage: 3.8+ MB\n"
     ]
    },
    {
     "data": {
      "text/html": [
       "<div>\n",
       "<style scoped>\n",
       "    .dataframe tbody tr th:only-of-type {\n",
       "        vertical-align: middle;\n",
       "    }\n",
       "\n",
       "    .dataframe tbody tr th {\n",
       "        vertical-align: top;\n",
       "    }\n",
       "\n",
       "    .dataframe thead th {\n",
       "        text-align: right;\n",
       "    }\n",
       "</style>\n",
       "<table border=\"1\" class=\"dataframe\">\n",
       "  <thead>\n",
       "    <tr style=\"text-align: right;\">\n",
       "      <th></th>\n",
       "      <th>id</th>\n",
       "      <th>f0</th>\n",
       "      <th>f1</th>\n",
       "      <th>f2</th>\n",
       "      <th>product</th>\n",
       "    </tr>\n",
       "  </thead>\n",
       "  <tbody>\n",
       "    <tr>\n",
       "      <th>0</th>\n",
       "      <td>txEyH</td>\n",
       "      <td>0.705745</td>\n",
       "      <td>-0.497823</td>\n",
       "      <td>1.221170</td>\n",
       "      <td>105.280062</td>\n",
       "    </tr>\n",
       "    <tr>\n",
       "      <th>1</th>\n",
       "      <td>2acmU</td>\n",
       "      <td>1.334711</td>\n",
       "      <td>-0.340164</td>\n",
       "      <td>4.365080</td>\n",
       "      <td>73.037750</td>\n",
       "    </tr>\n",
       "    <tr>\n",
       "      <th>2</th>\n",
       "      <td>409Wp</td>\n",
       "      <td>1.022732</td>\n",
       "      <td>0.151990</td>\n",
       "      <td>1.419926</td>\n",
       "      <td>85.265647</td>\n",
       "    </tr>\n",
       "    <tr>\n",
       "      <th>3</th>\n",
       "      <td>iJLyR</td>\n",
       "      <td>-0.032172</td>\n",
       "      <td>0.139033</td>\n",
       "      <td>2.978566</td>\n",
       "      <td>168.620776</td>\n",
       "    </tr>\n",
       "    <tr>\n",
       "      <th>4</th>\n",
       "      <td>Xdl7t</td>\n",
       "      <td>1.988431</td>\n",
       "      <td>0.155413</td>\n",
       "      <td>4.751769</td>\n",
       "      <td>154.036647</td>\n",
       "    </tr>\n",
       "  </tbody>\n",
       "</table>\n",
       "</div>"
      ],
      "text/plain": [
       "      id        f0        f1        f2     product\n",
       "0  txEyH  0.705745 -0.497823  1.221170  105.280062\n",
       "1  2acmU  1.334711 -0.340164  4.365080   73.037750\n",
       "2  409Wp  1.022732  0.151990  1.419926   85.265647\n",
       "3  iJLyR -0.032172  0.139033  2.978566  168.620776\n",
       "4  Xdl7t  1.988431  0.155413  4.751769  154.036647"
      ]
     },
     "execution_count": 3,
     "metadata": {},
     "output_type": "execute_result"
    }
   ],
   "source": [
    "region_one.info()\n",
    "region_one.head()"
   ]
  },
  {
   "cell_type": "code",
   "execution_count": 4,
   "metadata": {},
   "outputs": [
    {
     "name": "stdout",
     "output_type": "stream",
     "text": [
      "<class 'pandas.core.frame.DataFrame'>\n",
      "RangeIndex: 100000 entries, 0 to 99999\n",
      "Data columns (total 5 columns):\n",
      " #   Column   Non-Null Count   Dtype  \n",
      "---  ------   --------------   -----  \n",
      " 0   id       100000 non-null  object \n",
      " 1   f0       100000 non-null  float64\n",
      " 2   f1       100000 non-null  float64\n",
      " 3   f2       100000 non-null  float64\n",
      " 4   product  100000 non-null  float64\n",
      "dtypes: float64(4), object(1)\n",
      "memory usage: 3.8+ MB\n"
     ]
    },
    {
     "data": {
      "text/html": [
       "<div>\n",
       "<style scoped>\n",
       "    .dataframe tbody tr th:only-of-type {\n",
       "        vertical-align: middle;\n",
       "    }\n",
       "\n",
       "    .dataframe tbody tr th {\n",
       "        vertical-align: top;\n",
       "    }\n",
       "\n",
       "    .dataframe thead th {\n",
       "        text-align: right;\n",
       "    }\n",
       "</style>\n",
       "<table border=\"1\" class=\"dataframe\">\n",
       "  <thead>\n",
       "    <tr style=\"text-align: right;\">\n",
       "      <th></th>\n",
       "      <th>id</th>\n",
       "      <th>f0</th>\n",
       "      <th>f1</th>\n",
       "      <th>f2</th>\n",
       "      <th>product</th>\n",
       "    </tr>\n",
       "  </thead>\n",
       "  <tbody>\n",
       "    <tr>\n",
       "      <th>0</th>\n",
       "      <td>kBEdx</td>\n",
       "      <td>-15.001348</td>\n",
       "      <td>-8.276000</td>\n",
       "      <td>-0.005876</td>\n",
       "      <td>3.179103</td>\n",
       "    </tr>\n",
       "    <tr>\n",
       "      <th>1</th>\n",
       "      <td>62mP7</td>\n",
       "      <td>14.272088</td>\n",
       "      <td>-3.475083</td>\n",
       "      <td>0.999183</td>\n",
       "      <td>26.953261</td>\n",
       "    </tr>\n",
       "    <tr>\n",
       "      <th>2</th>\n",
       "      <td>vyE1P</td>\n",
       "      <td>6.263187</td>\n",
       "      <td>-5.948386</td>\n",
       "      <td>5.001160</td>\n",
       "      <td>134.766305</td>\n",
       "    </tr>\n",
       "    <tr>\n",
       "      <th>3</th>\n",
       "      <td>KcrkZ</td>\n",
       "      <td>-13.081196</td>\n",
       "      <td>-11.506057</td>\n",
       "      <td>4.999415</td>\n",
       "      <td>137.945408</td>\n",
       "    </tr>\n",
       "    <tr>\n",
       "      <th>4</th>\n",
       "      <td>AHL4O</td>\n",
       "      <td>12.702195</td>\n",
       "      <td>-8.147433</td>\n",
       "      <td>5.004363</td>\n",
       "      <td>134.766305</td>\n",
       "    </tr>\n",
       "  </tbody>\n",
       "</table>\n",
       "</div>"
      ],
      "text/plain": [
       "      id         f0         f1        f2     product\n",
       "0  kBEdx -15.001348  -8.276000 -0.005876    3.179103\n",
       "1  62mP7  14.272088  -3.475083  0.999183   26.953261\n",
       "2  vyE1P   6.263187  -5.948386  5.001160  134.766305\n",
       "3  KcrkZ -13.081196 -11.506057  4.999415  137.945408\n",
       "4  AHL4O  12.702195  -8.147433  5.004363  134.766305"
      ]
     },
     "execution_count": 4,
     "metadata": {},
     "output_type": "execute_result"
    }
   ],
   "source": [
    "region_two.info()\n",
    "region_two.head()"
   ]
  },
  {
   "cell_type": "code",
   "execution_count": 5,
   "metadata": {},
   "outputs": [
    {
     "name": "stdout",
     "output_type": "stream",
     "text": [
      "<class 'pandas.core.frame.DataFrame'>\n",
      "RangeIndex: 100000 entries, 0 to 99999\n",
      "Data columns (total 5 columns):\n",
      " #   Column   Non-Null Count   Dtype  \n",
      "---  ------   --------------   -----  \n",
      " 0   id       100000 non-null  object \n",
      " 1   f0       100000 non-null  float64\n",
      " 2   f1       100000 non-null  float64\n",
      " 3   f2       100000 non-null  float64\n",
      " 4   product  100000 non-null  float64\n",
      "dtypes: float64(4), object(1)\n",
      "memory usage: 3.8+ MB\n"
     ]
    },
    {
     "data": {
      "text/html": [
       "<div>\n",
       "<style scoped>\n",
       "    .dataframe tbody tr th:only-of-type {\n",
       "        vertical-align: middle;\n",
       "    }\n",
       "\n",
       "    .dataframe tbody tr th {\n",
       "        vertical-align: top;\n",
       "    }\n",
       "\n",
       "    .dataframe thead th {\n",
       "        text-align: right;\n",
       "    }\n",
       "</style>\n",
       "<table border=\"1\" class=\"dataframe\">\n",
       "  <thead>\n",
       "    <tr style=\"text-align: right;\">\n",
       "      <th></th>\n",
       "      <th>id</th>\n",
       "      <th>f0</th>\n",
       "      <th>f1</th>\n",
       "      <th>f2</th>\n",
       "      <th>product</th>\n",
       "    </tr>\n",
       "  </thead>\n",
       "  <tbody>\n",
       "    <tr>\n",
       "      <th>0</th>\n",
       "      <td>fwXo0</td>\n",
       "      <td>-1.146987</td>\n",
       "      <td>0.963328</td>\n",
       "      <td>-0.828965</td>\n",
       "      <td>27.758673</td>\n",
       "    </tr>\n",
       "    <tr>\n",
       "      <th>1</th>\n",
       "      <td>WJtFt</td>\n",
       "      <td>0.262778</td>\n",
       "      <td>0.269839</td>\n",
       "      <td>-2.530187</td>\n",
       "      <td>56.069697</td>\n",
       "    </tr>\n",
       "    <tr>\n",
       "      <th>2</th>\n",
       "      <td>ovLUW</td>\n",
       "      <td>0.194587</td>\n",
       "      <td>0.289035</td>\n",
       "      <td>-5.586433</td>\n",
       "      <td>62.871910</td>\n",
       "    </tr>\n",
       "    <tr>\n",
       "      <th>3</th>\n",
       "      <td>q6cA6</td>\n",
       "      <td>2.236060</td>\n",
       "      <td>-0.553760</td>\n",
       "      <td>0.930038</td>\n",
       "      <td>114.572842</td>\n",
       "    </tr>\n",
       "    <tr>\n",
       "      <th>4</th>\n",
       "      <td>WPMUX</td>\n",
       "      <td>-0.515993</td>\n",
       "      <td>1.716266</td>\n",
       "      <td>5.899011</td>\n",
       "      <td>149.600746</td>\n",
       "    </tr>\n",
       "  </tbody>\n",
       "</table>\n",
       "</div>"
      ],
      "text/plain": [
       "      id        f0        f1        f2     product\n",
       "0  fwXo0 -1.146987  0.963328 -0.828965   27.758673\n",
       "1  WJtFt  0.262778  0.269839 -2.530187   56.069697\n",
       "2  ovLUW  0.194587  0.289035 -5.586433   62.871910\n",
       "3  q6cA6  2.236060 -0.553760  0.930038  114.572842\n",
       "4  WPMUX -0.515993  1.716266  5.899011  149.600746"
      ]
     },
     "execution_count": 5,
     "metadata": {},
     "output_type": "execute_result"
    }
   ],
   "source": [
    "region_three.info()\n",
    "region_three.head()"
   ]
  },
  {
   "cell_type": "code",
   "execution_count": 6,
   "metadata": {},
   "outputs": [
    {
     "name": "stdout",
     "output_type": "stream",
     "text": [
      "No duplicate values found in the 'CustomerId' column.\n"
     ]
    }
   ],
   "source": [
    "duplicates_exist = region_one['id'].duplicated().all()\n",
    "\n",
    "if duplicates_exist:\n",
    "    print(\"Duplicate values exist in the 'CustomerId' column.\")\n",
    "else:\n",
    "    print(\"No duplicate values found in the 'CustomerId' column.\")"
   ]
  },
  {
   "cell_type": "code",
   "execution_count": 7,
   "metadata": {},
   "outputs": [
    {
     "name": "stdout",
     "output_type": "stream",
     "text": [
      "No duplicate values found in the 'CustomerId' column.\n"
     ]
    }
   ],
   "source": [
    "duplicates_exist = region_two['id'].duplicated().all()\n",
    "\n",
    "if duplicates_exist:\n",
    "    print(\"Duplicate values exist in the 'CustomerId' column.\")\n",
    "else:\n",
    "    print(\"No duplicate values found in the 'CustomerId' column.\")"
   ]
  },
  {
   "cell_type": "code",
   "execution_count": 8,
   "metadata": {},
   "outputs": [
    {
     "name": "stdout",
     "output_type": "stream",
     "text": [
      "No duplicate values found in the 'CustomerId' column.\n"
     ]
    }
   ],
   "source": [
    "duplicates_exist = region_three['id'].duplicated().all()\n",
    "\n",
    "if duplicates_exist:\n",
    "    print(\"Duplicate values exist in the 'CustomerId' column.\")\n",
    "else:\n",
    "    print(\"No duplicate values found in the 'CustomerId' column.\")"
   ]
  },
  {
   "cell_type": "code",
   "execution_count": 9,
   "metadata": {},
   "outputs": [
    {
     "data": {
      "text/plain": [
       "id         False\n",
       "f0         False\n",
       "f1         False\n",
       "f2         False\n",
       "product    False\n",
       "dtype: bool"
      ]
     },
     "execution_count": 9,
     "metadata": {},
     "output_type": "execute_result"
    }
   ],
   "source": [
    "region_one.isnull().all()"
   ]
  },
  {
   "cell_type": "code",
   "execution_count": 10,
   "metadata": {},
   "outputs": [
    {
     "data": {
      "text/plain": [
       "id         False\n",
       "f0         False\n",
       "f1         False\n",
       "f2         False\n",
       "product    False\n",
       "dtype: bool"
      ]
     },
     "execution_count": 10,
     "metadata": {},
     "output_type": "execute_result"
    }
   ],
   "source": [
    "region_two.isnull().all()"
   ]
  },
  {
   "cell_type": "code",
   "execution_count": 11,
   "metadata": {},
   "outputs": [
    {
     "data": {
      "text/plain": [
       "id         False\n",
       "f0         False\n",
       "f1         False\n",
       "f2         False\n",
       "product    False\n",
       "dtype: bool"
      ]
     },
     "execution_count": 11,
     "metadata": {},
     "output_type": "execute_result"
    }
   ],
   "source": [
    "region_three.isnull().all()"
   ]
  },
  {
   "cell_type": "markdown",
   "metadata": {},
   "source": [
    "First, we import all the libraries that we will use in the project. Once imported, we proceed to check the quality of the data. Upon analysis, we can see that there are no missing values or duplicate values, which is perfect for the work we are going to do. Once this step is completed, we are ready to proceed with training our model."
   ]
  },
  {
   "cell_type": "code",
   "execution_count": 12,
   "metadata": {
    "scrolled": false
   },
   "outputs": [
    {
     "data": {
      "image/png": "[encoded data removed]",
      "text/plain": [
       "<Figure size 800x800 with 2 Axes>"
      ]
     },
     "metadata": {},
     "output_type": "display_data"
    },
    {
     "data": {
      "image/png": "[encoded data removed]",
      "text/plain": [
       "<Figure size 800x800 with 2 Axes>"
      ]
     },
     "metadata": {},
     "output_type": "display_data"
    },
    {
     "data": {
      "image/png": "[encoded data removed]",
      "text/plain": [
       "<Figure size 800x800 with 2 Axes>"
      ]
     },
     "metadata": {},
     "output_type": "display_data"
    }
   ],
   "source": [
    "def create_heatmap(data, title):\n",
    "    correlation_matrix = data.corr()\n",
    "    plt.figure(figsize=(8, 8))\n",
    "    sns.heatmap(correlation_matrix, annot=True, cmap='coolwarm', vmin=-1, vmax=1)\n",
    "    plt.title(title)\n",
    "    plt.show()\n",
    "\n",
    "# Create heatmaps for each region\n",
    "create_heatmap(region_one, 'Correlation Heatmap for Region One')\n",
    "create_heatmap(region_two, 'Correlation Heatmap for Region Two')\n",
    "create_heatmap(region_three, 'Correlation Heatmap for Region Three')"
   ]
  },
  {
   "cell_type": "markdown",
   "metadata": {},
   "source": [
    "**Region one:**\n",
    "\n",
    "f2 and product: There is a moderate positive correlation (0.48), suggesting that as f2 increases, the product tends to increase.\n",
    "\n",
    "f0 and f1: There is a moderate negative correlation (-0.44), indicating that as f0 increases, f1 tends to decrease.\n",
    "\n",
    "f0 and product: There is a weak positive correlation (0.14).\n",
    "\n",
    "**Region two:**\n",
    "\n",
    "f2 and product: There is a perfect positive correlation (1.00), suggesting that as f2 increases, the product also increases proportionally.\n",
    "\n",
    "f0 and f1: There is a weak positive correlation (0.18).\n",
    "\n",
    "f0 and product: There is a very weak negative correlation (-0.03).\n",
    "\n",
    "**Region three:**\n",
    "\n",
    "f2 and product: There is a moderate positive correlation (0.45), suggesting that as f2 increases, the product tends to increase.\n",
    "\n",
    "f0 and f1: There is almost no correlation (0.00053).\n",
    "\n",
    "f0 and product: There is a very weak negative correlation (-0.002)."
   ]
  },
  {
   "cell_type": "markdown",
   "metadata": {},
   "source": [
    "# 2- Train and test the model for each region:"
   ]
  },
  {
   "cell_type": "code",
   "execution_count": 13,
   "metadata": {},
   "outputs": [
    {
     "name": "stdout",
     "output_type": "stream",
     "text": [
      "Training features shape: (75000, 3)\n",
      "Validation features shape: (25000, 3)\n",
      "Training target shape: (75000,)\n",
      "Validation target shape: (25000,)\n"
     ]
    }
   ],
   "source": [
    "features = region_one[['f0', 'f1', 'f2']]\n",
    "target = region_one['product']\n",
    "\n",
    "# Split the data into training and validation sets\n",
    "region_one_train, region_one_valid, y_one_train, y_one_valid = train_test_split(features, target, test_size=0.25, random_state=12345)\n",
    "\n",
    "# Display the shapes of the resulting datasets\n",
    "print(\"Training features shape:\", region_one_train.shape)\n",
    "\n",
    "print(\"Validation features shape:\", region_one_valid.shape)\n",
    "print(\"Training target shape:\", y_one_train.shape)\n",
    "print(\"Validation target shape:\", y_one_valid.shape)"
   ]
  },
  {
   "cell_type": "code",
   "execution_count": 14,
   "metadata": {},
   "outputs": [
    {
     "name": "stdout",
     "output_type": "stream",
     "text": [
      "Training features shape: (75000, 3)\n",
      "Validation features shape: (25000, 3)\n",
      "Training target shape: (75000,)\n",
      "Validation target shape: (25000,)\n"
     ]
    }
   ],
   "source": [
    "features = region_two[['f0', 'f1', 'f2']]\n",
    "target = region_two['product']\n",
    "\n",
    "# Split the data into training and validation sets\n",
    "region_two_train, region_two_valid, y_two_train, y_two_valid = train_test_split(features, target, test_size=0.25, random_state=12345)\n",
    "\n",
    "# Display the shapes of the resulting datasets\n",
    "print(\"Training features shape:\", region_two_train.shape)\n",
    "print(\"Validation features shape:\", region_two_valid.shape)\n",
    "print(\"Training target shape:\", y_two_train.shape)\n",
    "print(\"Validation target shape:\", y_two_valid.shape)"
   ]
  },
  {
   "cell_type": "code",
   "execution_count": 15,
   "metadata": {},
   "outputs": [
    {
     "name": "stdout",
     "output_type": "stream",
     "text": [
      "Training features shape: (75000, 3)\n",
      "Validation features shape: (25000, 3)\n",
      "Training target shape: (75000,)\n",
      "Validation target shape: (25000,)\n"
     ]
    }
   ],
   "source": [
    "features = region_three[['f0', 'f1', 'f2']]\n",
    "target = region_three['product']\n",
    "\n",
    "# Split the data into training and validation sets\n",
    "region_three_train, region_three_valid, y_three_train, y_three_valid = train_test_split(features, target, test_size=0.25, random_state=12345)\n",
    "\n",
    "# Display the shapes of the resulting datasets\n",
    "print(\"Training features shape:\", region_three_train.shape)\n",
    "print(\"Validation features shape:\", region_three_valid.shape)\n",
    "print(\"Training target shape:\", y_three_train.shape)\n",
    "print(\"Validation target shape:\", y_three_valid.shape)"
   ]
  },
  {
   "cell_type": "code",
   "execution_count": 16,
   "metadata": {},
   "outputs": [
    {
     "name": "stdout",
     "output_type": "stream",
     "text": [
      "Average volume of predicted reserves: 92.59256778438035\n",
      "Root Mean Squared Error (RMSE): 37.5794217150813\n"
     ]
    }
   ],
   "source": [
    "# Train the model\n",
    "model_one = LinearRegression()\n",
    "model_one.fit(region_one_train, y_one_train)\n",
    "\n",
    "# Make predictions\n",
    "predictions_one = model_one.predict(region_one_valid)\n",
    "\n",
    "# Save the predictions and correct answers\n",
    "results_one = pd.DataFrame({\n",
    "    'predictions': predictions_one,\n",
    "    'correct_answers': y_one_valid\n",
    "})\n",
    "results_one.to_csv('region_one_results.csv', index=False)\n",
    "\n",
    "# Calculate and print the average volume of predicted reserves and model RMSE\n",
    "average_predicted_reserves = predictions_one.mean()\n",
    "mse_one = mean_squared_error(y_one_valid, predictions_one)\n",
    "rmse_one = mse_one ** 0.5\n",
    "\n",
    "print(\"Average volume of predicted reserves:\", average_predicted_reserves)\n",
    "print(\"Root Mean Squared Error (RMSE):\", rmse_one)"
   ]
  },
  {
   "cell_type": "code",
   "execution_count": 17,
   "metadata": {},
   "outputs": [
    {
     "name": "stdout",
     "output_type": "stream",
     "text": [
      "Average volume of predicted reserves for region_two: 68.728546895446\n",
      "Root Mean Squared Error (RMSE) for region_two: 0.893099286775617\n"
     ]
    }
   ],
   "source": [
    "# Train the model\n",
    "model_two = LinearRegression()\n",
    "model_two.fit(region_two_train, y_two_train)\n",
    "\n",
    "# Make predictions\n",
    "predictions_two = model_two.predict(region_two_valid)\n",
    "\n",
    "# Save the predictions and correct answers\n",
    "results_two = pd.DataFrame({\n",
    "    'predictions': predictions_two,\n",
    "    'correct_answers': y_two_valid\n",
    "})\n",
    "results_two.to_csv('region_two_results.csv', index=False)\n",
    "\n",
    "# Calculate and print the average volume of predicted reserves and model RMSE\n",
    "average_predicted_reserves_two = predictions_two.mean()\n",
    "mse_two = mean_squared_error(y_two_valid, predictions_two)\n",
    "rmse_two = mse_two ** 0.5\n",
    "\n",
    "print(\"Average volume of predicted reserves for region_two:\", average_predicted_reserves_two)\n",
    "print(\"Root Mean Squared Error (RMSE) for region_two:\", rmse_two)"
   ]
  },
  {
   "cell_type": "code",
   "execution_count": 18,
   "metadata": {},
   "outputs": [
    {
     "name": "stdout",
     "output_type": "stream",
     "text": [
      "Average volume of predicted reserves for region_three: 94.96504596800489\n",
      "Root Mean Squared Error (RMSE) for region_three: 40.02970873393434\n"
     ]
    }
   ],
   "source": [
    "# Train the model\n",
    "model_three = LinearRegression()\n",
    "model_three.fit(region_three_train, y_three_train)\n",
    "\n",
    "# Make predictions\n",
    "predictions_three = model_three.predict(region_three_valid)\n",
    "\n",
    "# Save the predictions and correct answers\n",
    "results_three = pd.DataFrame({\n",
    "    'predictions': predictions_three,\n",
    "    'correct_answers': y_three_valid\n",
    "})\n",
    "results_three.to_csv('region_three_results.csv', index=False)\n",
    "\n",
    "# Calculate and print the average volume of predicted reserves and model RMSE\n",
    "average_predicted_reserves_three = predictions_three.mean()\n",
    "mse_three = mean_squared_error(y_three_valid, predictions_three)\n",
    "rmse_three = mse_three ** 0.5\n",
    "\n",
    "print(\"Average volume of predicted reserves for region_three:\", average_predicted_reserves_three)\n",
    "print(\"Root Mean Squared Error (RMSE) for region_three:\", rmse_three)"
   ]
  },
  {
   "cell_type": "markdown",
   "metadata": {},
   "source": [
    "**Region One:**\n",
    "\n",
    "Average volume of predicted reserves: 92.40\n",
    "\n",
    "RMSE: 37.76\n",
    "\n",
    "**Region Two:**\n",
    "\n",
    "Average volume of predicted reserves: 68.71\n",
    "\n",
    "RMSE: 0.89\n",
    "\n",
    "Region Two has the most accurate predictions (lowest RMSE), meaning the model’s estimates are very close to the actual values. This accuracy is crucial for making reliable decisions.\n",
    "\n",
    "**Region Three:**\n",
    "\n",
    "Average volume of predicted reserves: 94.77\n",
    "\n",
    "RMSE: 40.15\n",
    "\n",
    "Region Three has the highest predicted reserves, suggesting it could yield the most oil. However, the higher RMSE (40.15) indicates that the model’s predictions for this region are less accurate, so there is more uncertainty in these estimates.\n",
    "\n",
    "In essence, while Region Two offers more reliable predictions, Region Three shows the highest potential for oil production, albeit with greater uncertainty. Balancing accuracy and potential yield is key in deciding the best region for a new oil well."
   ]
  },
  {
   "cell_type": "markdown",
   "metadata": {},
   "source": [
    "# 3- Prepare for profit calculation"
   ]
  },
  {
   "cell_type": "code",
   "execution_count": 19,
   "metadata": {},
   "outputs": [
    {
     "name": "stdout",
     "output_type": "stream",
     "text": [
      "Total budget: 100000000\n",
      "Revenue per barrel: 4500\n",
      "Number of wells: 200\n",
      "Target production: 500\n"
     ]
    }
   ],
   "source": [
    "# Key values for profit calculations\n",
    "TOTAL_BUDGET = 100000000  \n",
    "NUMBER_OF_WELLS = 200 \n",
    "REVENUE_PER_BARREL = 4500  \n",
    "TARGET_PRODUCTION = 500\n",
    "\n",
    "# Print the key values\n",
    "print(\"Total budget:\", TOTAL_BUDGET)\n",
    "print(\"Revenue per barrel:\", REVENUE_PER_BARREL)\n",
    "print(\"Number of wells:\", NUMBER_OF_WELLS)\n",
    "print(\"Target production:\", TARGET_PRODUCTION)"
   ]
  },
  {
   "cell_type": "code",
   "execution_count": 20,
   "metadata": {},
   "outputs": [
    {
     "name": "stdout",
     "output_type": "stream",
     "text": [
      "Break-even volume per well: 111.11\n",
      "Average volume of reserves in Region 0: 92.50\n",
      "Average volume of reserves in Region 1: 68.83\n",
      "Average volume of reserves in Region 2: 95.00\n",
      "Region one is not profitable based on the average volume of reserves.\n",
      "Region two is not profitable based on the average volume of reserves.\n",
      "Region three is not profitable based on the average volume of reserves.\n"
     ]
    }
   ],
   "source": [
    "# Calculate cost per well\n",
    "COST_PER_WELL = TOTAL_BUDGET / NUMBER_OF_WELLS\n",
    "\n",
    "# Calculate break-even volume per well (in thousand barrels)\n",
    "BREAK_EVEN_VOLUME = (COST_PER_WELL / REVENUE_PER_BARREL)\n",
    "\n",
    "# Calculate average volume of reserves for each region\n",
    "average_volume_0 = region_one['product'].mean()\n",
    "average_volume_1 = region_two['product'].mean()\n",
    "average_volume_2 = region_three['product'].mean()\n",
    "\n",
    "# Print results\n",
    "print(f\"Break-even volume per well: {BREAK_EVEN_VOLUME:.2f}\")\n",
    "print(f\"Average volume of reserves in Region 0: {average_volume_0:.2f}\")\n",
    "print(f\"Average volume of reserves in Region 1: {average_volume_1:.2f}\")\n",
    "print(f\"Average volume of reserves in Region 2: {average_volume_2:.2f}\")\n",
    "\n",
    "# Compare break-even volume with the average volumes in each region\n",
    "if average_volume_0 >= BREAK_EVEN_VOLUME:\n",
    "    print(\"Region one is profitable based on the average volume of reserves.\")\n",
    "else:\n",
    "    print(\"Region one is not profitable based on the average volume of reserves.\")\n",
    "    \n",
    "if average_volume_1 >= BREAK_EVEN_VOLUME:\n",
    "    print(\"Region two is profitable based on the average volume of reserves.\")\n",
    "else:\n",
    "    print(\"Region two is not profitable based on the average volume of reserves.\")\n",
    "    \n",
    "if average_volume_2 >= BREAK_EVEN_VOLUME:\n",
    "    print(\"Region three is profitable based on the average volume of reserves.\")\n",
    "else:\n",
    "    print(\"Region three is not profitable based on the average volume of reserves.\")"
   ]
  },
  {
   "cell_type": "markdown",
   "metadata": {},
   "source": [
    "None of the regions have an average volume of reserves that meets or exceeds the break-even volume of 111,11 thousand barrels. This indicates that, based on the average predicted reserves, developing a new well in any of these regions would not be profitable without additional considerations or improvements in the model’s accuracy."
   ]
  },
  {
   "cell_type": "markdown",
   "metadata": {},
   "source": [
    "# 4- Write a function to calculate profit from a set of selected oil wells and model predictions"
   ]
  },
  {
   "cell_type": "code",
   "execution_count": 28,
   "metadata": {},
   "outputs": [
    {
     "name": "stdout",
     "output_type": "stream",
     "text": [
      "Region One - Total Reserves: 29601.84 barrels, Profit: 33208260.43 USD\n",
      "Region Two - Total Reserves: 27589.08 barrels, Profit: 24150866.97 USD\n",
      "Region Three - Total Reserves: 28245.22 barrels, Profit: 27103499.64 USD\n"
     ]
    }
   ],
   "source": [
    "def calculate_profit(predictions, targets, count):\n",
    "    # Combine predictions and targets into a DataFrame for easy manipulation\n",
    "    predictions_df = pd.DataFrame({'prediction': predictions, 'target': targets})\n",
    "\n",
    "    # Sort by prediction values in descending order\n",
    "    sorted_predictions_df = predictions_df.sort_values(by='prediction', ascending=False)\n",
    "\n",
    "    # Select the top 'count' wells\n",
    "    selected = sorted_predictions_df.head(count)\n",
    "\n",
    "    # Calculate the total volume of reserves in these top wells\n",
    "    total_reserves = selected['target'].sum()\n",
    "    \n",
    "    # Calculate the profit\n",
    "    REVENUE_PER_BARREL = 4500 \n",
    "    TOTAL_REVENUE = total_reserves * REVENUE_PER_BARREL  \n",
    "    BUDGET_PER_WELL = 500000 \n",
    "    TOTAL_COST = count * BUDGET_PER_WELL  \n",
    "    PROFIT = TOTAL_REVENUE - TOTAL_COST\n",
    "    \n",
    "    return total_reserves, PROFIT\n",
    "\n",
    "# Define the number of wells to select\n",
    "NUMBER_OF_WELLS = 200\n",
    "\n",
    "# Calculate profit for each region\n",
    "reserves_one, profit_one = calculate_profit(predictions_one, y_one_valid, NUMBER_OF_WELLS)\n",
    "reserves_two, profit_two = calculate_profit(predictions_two, y_two_valid, NUMBER_OF_WELLS)\n",
    "reserves_three, profit_three = calculate_profit(predictions_three, y_three_valid, NUMBER_OF_WELLS)\n",
    "\n",
    "# Print the results\n",
    "print(f\"Region One - Total Reserves: {reserves_one:.2f} barrels, Profit: {profit_one:.2f} USD\")\n",
    "print(f\"Region Two - Total Reserves: {reserves_two:.2f} barrels, Profit: {profit_two:.2f} USD\")\n",
    "print(f\"Region Three - Total Reserves: {reserves_three:.2f} barrels, Profit: {profit_three:.2f} USD\")\n"
   ]
  },
  {
   "cell_type": "markdown",
   "metadata": {},
   "source": [
    "**Total Reserves:** This represents the total volume of oil reserves predicted for the top wells in each region.\n",
    "\n",
    "**Profit:** The negative values indicate a loss, meaning the revenue generated from the oil reserves is less than the cost of developing the wells.\n",
    "\n",
    "In all three regions, the costs exceed the revenue, resulting in significant losses. This suggests that, based on the current predictions and costs, developing new wells in these regions would not be profitable."
   ]
  },
  {
   "cell_type": "markdown",
   "metadata": {},
   "source": [
    "# 5- Calculate risks and profit for each region"
   ]
  },
  {
   "cell_type": "code",
   "execution_count": 35,
   "metadata": {},
   "outputs": [],
   "source": [
    "def bootstrap_profit_and_risk(predictions, targets, TOTAL_BUDGET, REVENUE_PER_BARREL, NUMBER_OF_WELLS, n_samples=1000):\n",
    "    profits = []\n",
    "    n = len(predictions)\n",
    "    \n",
    "    for _ in range(n_samples):\n",
    "        # Generate a bootstrap sample\n",
    "        bootstrap_indices = np.random.choice(n, size=500, replace=True)\n",
    "        bootstrap_predictions = predictions[bootstrap_indices]\n",
    "        bootstrap_targets = targets[bootstrap_indices]\n",
    "        \n",
    "        # Calculate profit for the bootstrap sample\n",
    "        TOTAL_RESERVES, PROFIT = calculate_profit(bootstrap_predictions, bootstrap_targets, NUMBER_OF_WELLS)\n",
    "        profits.append(PROFIT)\n",
    "    \n",
    "    PROFITS = np.array(profits)  # Create an array of profits\n",
    "    RISK_OF_LOSS = np.mean(PROFITS < 0) * 100  # Calculate risk of loss in percent\n",
    "    \n",
    "    return PROFITS, RISK_OF_LOSS"
   ]
  },
  {
   "cell_type": "code",
   "execution_count": 36,
   "metadata": {},
   "outputs": [
    {
     "name": "stdout",
     "output_type": "stream",
     "text": [
      "Region One - Profit Distribution:\n",
      "Mean Profit: 3883195.38735247\n",
      "95% Confidence Interval: [-1208736.10201526  8727949.80256173]\n",
      "Risk of Loss: 6.5 %\n"
     ]
    }
   ],
   "source": [
    "profits_one, risk_one = bootstrap_profit_and_risk(predictions_one, y_one_valid.values, TOTAL_BUDGET, REVENUE_PER_BARREL, NUMBER_OF_WELLS, n_samples=1000)\n",
    "\n",
    "# Print summary statistics\n",
    "print(\"Region One - Profit Distribution:\")\n",
    "print(\"Mean Profit:\", np.mean(profits_one))\n",
    "print(\"95% Confidence Interval:\", np.percentile(profits_one, [2.5, 97.5]))\n",
    "print(\"Risk of Loss:\", risk_one, \"%\")"
   ]
  },
  {
   "cell_type": "code",
   "execution_count": 37,
   "metadata": {},
   "outputs": [
    {
     "name": "stdout",
     "output_type": "stream",
     "text": [
      "Region Two - Profit Distribution:\n",
      "Mean Profit: 4517117.67810787\n",
      "95% Confidence Interval: [ 596412.15135257 8509195.02540912]\n",
      "Risk of Loss: 1.5 %\n"
     ]
    }
   ],
   "source": [
    "# Example usage with region_two data\n",
    "profits_two, risk_two = bootstrap_profit_and_risk(predictions_two, y_two_valid.values, TOTAL_BUDGET, REVENUE_PER_BARREL, NUMBER_OF_WELLS)\n",
    "\n",
    "# Print summary statistics\n",
    "print(\"Region Two - Profit Distribution:\")\n",
    "print(\"Mean Profit:\", np.mean(profits_two))\n",
    "print(\"95% Confidence Interval:\", np.percentile(profits_two, [2.5, 97.5]))\n",
    "print(\"Risk of Loss:\", risk_two, \"%\")"
   ]
  },
  {
   "cell_type": "code",
   "execution_count": 38,
   "metadata": {},
   "outputs": [
    {
     "name": "stdout",
     "output_type": "stream",
     "text": [
      "Region Three - Profit Distribution:\n",
      "Mean Profit: 4011476.9977830667\n",
      "95% Confidence Interval: [-1223028.38110541  9404841.18675818]\n",
      "Risk of Loss: 7.000000000000001 %\n"
     ]
    }
   ],
   "source": [
    "# Example usage with region_two data\n",
    "profits_three, risk_three = bootstrap_profit_and_risk(predictions_three, y_three_valid.values, TOTAL_BUDGET, REVENUE_PER_BARREL, NUMBER_OF_WELLS)\n",
    "\n",
    "# Print summary statistics\n",
    "print(\"Region Three - Profit Distribution:\")\n",
    "print(\"Mean Profit:\", np.mean(profits_three))\n",
    "print(\"95% Confidence Interval:\", np.percentile(profits_three, [2.5, 97.5]))\n",
    "print(\"Risk of Loss:\", risk_three, \"%\")"
   ]
  },
  {
   "cell_type": "markdown",
   "metadata": {},
   "source": [
    "In all regions, we have a low risk of loss, which is ideal for our company. I would focus on Region Two as it presents a lower risk of loss (1.5%) and a higher average profit. However, we cannot overlook the other two regions as they also generate a good amount of profit and lower risk of loss too. Once we start working in Region Two, I would proceed with Region Three and then Region one in that order."
   ]
  },
  {
   "cell_type": "markdown",
   "metadata": {},
   "source": [
    "# Conclusions \n",
    "After concluding our analysis, we can confirm that the three regions studied are ideal for drilling an oil well. Our machine learning model projections indicate a low risk of loss in all regions, which is a very positive sign.\n",
    "\n",
    "Focusing on the average profit and risk of loss for each region, I would prioritize Region Two. It offers an average profit of $4,517,117.67 and a risk of loss of 1.5, compared to $3,883,195.38 and 6.5 for Region One, and $4,011,476.99 and 7 for Region Three.\n",
    "\n",
    "These figures suggest that while Region Two provides the highest profit, the other regions also offer substantial profits. Therefore, I recommend proceeding as follows: first, focus on Region Two, then Region Three, and finally Region One to maximize short-term gains."
   ]
  }
 ],
 "metadata": {
  "ExecuteTimeLog": [
   {
    "duration": 504,
    "start_time": "2024-07-15T22:31:15.029Z"
   },
   {
    "duration": 1073,
    "start_time": "2024-07-15T22:32:20.204Z"
   },
   {
    "duration": 168,
    "start_time": "2024-07-15T22:33:07.643Z"
   },
   {
    "duration": 312,
    "start_time": "2024-07-15T22:33:40.443Z"
   },
   {
    "duration": 411,
    "start_time": "2024-07-15T22:33:58.283Z"
   },
   {
    "duration": 21,
    "start_time": "2024-07-15T22:34:39.207Z"
   },
   {
    "duration": 18,
    "start_time": "2024-07-15T22:34:51.807Z"
   },
   {
    "duration": 19,
    "start_time": "2024-07-15T22:35:01.924Z"
   },
   {
    "duration": 30,
    "start_time": "2024-07-15T22:35:27.004Z"
   },
   {
    "duration": 28,
    "start_time": "2024-07-15T22:35:48.704Z"
   },
   {
    "duration": 35,
    "start_time": "2024-07-15T22:36:04.343Z"
   },
   {
    "duration": 25,
    "start_time": "2024-07-15T22:36:13.209Z"
   },
   {
    "duration": 25,
    "start_time": "2024-07-15T22:36:23.083Z"
   },
   {
    "duration": 56,
    "start_time": "2024-07-15T22:37:40.232Z"
   },
   {
    "duration": 56,
    "start_time": "2024-07-15T22:39:45.986Z"
   },
   {
    "duration": 70,
    "start_time": "2024-07-15T22:39:54.577Z"
   },
   {
    "duration": 53,
    "start_time": "2024-07-15T22:40:11.084Z"
   },
   {
    "duration": 57,
    "start_time": "2024-07-15T22:40:29.422Z"
   },
   {
    "duration": 4867,
    "start_time": "2024-07-15T23:31:54.409Z"
   },
   {
    "duration": 129,
    "start_time": "2024-07-15T23:33:10.724Z"
   },
   {
    "duration": 305,
    "start_time": "2024-07-15T23:33:25.618Z"
   },
   {
    "duration": 2389,
    "start_time": "2024-07-15T23:35:51.038Z"
   },
   {
    "duration": 2539,
    "start_time": "2024-07-15T23:36:15.408Z"
   },
   {
    "duration": 2354,
    "start_time": "2024-07-15T23:39:15.587Z"
   },
   {
    "duration": 2646,
    "start_time": "2024-07-15T23:42:13.044Z"
   },
   {
    "duration": 2456,
    "start_time": "2024-07-15T23:44:16.829Z"
   },
   {
    "duration": 2838,
    "start_time": "2024-07-15T23:44:21.515Z"
   },
   {
    "duration": 1329,
    "start_time": "2024-07-15T23:49:25.524Z"
   },
   {
    "duration": 1302,
    "start_time": "2024-07-15T23:49:48.525Z"
   },
   {
    "duration": 71,
    "start_time": "2024-07-16T00:02:49.843Z"
   },
   {
    "duration": 59,
    "start_time": "2024-07-16T00:03:02.253Z"
   },
   {
    "duration": 20,
    "start_time": "2024-07-16T00:03:09.824Z"
   },
   {
    "duration": 13,
    "start_time": "2024-07-16T00:03:16.191Z"
   },
   {
    "duration": 20,
    "start_time": "2024-07-16T00:03:39.844Z"
   },
   {
    "duration": 12,
    "start_time": "2024-07-16T00:03:54.337Z"
   },
   {
    "duration": 13,
    "start_time": "2024-07-16T00:03:56.463Z"
   },
   {
    "duration": 13,
    "start_time": "2024-07-16T00:04:16.544Z"
   },
   {
    "duration": 19,
    "start_time": "2024-07-16T00:09:58.784Z"
   },
   {
    "duration": 18,
    "start_time": "2024-07-16T00:10:39.868Z"
   },
   {
    "duration": 18,
    "start_time": "2024-07-16T00:10:54.788Z"
   },
   {
    "duration": 20,
    "start_time": "2024-07-16T00:12:07.944Z"
   },
   {
    "duration": 20,
    "start_time": "2024-07-16T00:12:09.139Z"
   },
   {
    "duration": 18,
    "start_time": "2024-07-16T00:12:10.083Z"
   },
   {
    "duration": 21,
    "start_time": "2024-07-16T00:26:21.763Z"
   },
   {
    "duration": 25,
    "start_time": "2024-07-16T00:27:08.529Z"
   },
   {
    "duration": 20,
    "start_time": "2024-07-16T00:27:55.210Z"
   },
   {
    "duration": 28,
    "start_time": "2024-07-16T00:30:58.084Z"
   },
   {
    "duration": 10,
    "start_time": "2024-07-16T00:31:17.208Z"
   },
   {
    "duration": 24,
    "start_time": "2024-07-16T00:31:22.064Z"
   },
   {
    "duration": 15,
    "start_time": "2024-07-16T00:32:06.209Z"
   },
   {
    "duration": 16,
    "start_time": "2024-07-16T00:33:04.204Z"
   },
   {
    "duration": 478,
    "start_time": "2024-07-16T00:34:02.845Z"
   },
   {
    "duration": 41,
    "start_time": "2024-07-16T00:35:35.789Z"
   },
   {
    "duration": 39,
    "start_time": "2024-07-16T00:35:52.078Z"
   },
   {
    "duration": 39,
    "start_time": "2024-07-16T00:36:04.155Z"
   },
   {
    "duration": 300,
    "start_time": "2024-07-16T00:46:31.183Z"
   },
   {
    "duration": 292,
    "start_time": "2024-07-16T00:47:12.854Z"
   },
   {
    "duration": 295,
    "start_time": "2024-07-16T00:47:58.986Z"
   },
   {
    "duration": 21,
    "start_time": "2024-07-16T00:50:17.602Z"
   },
   {
    "duration": 29,
    "start_time": "2024-07-16T00:50:29.823Z"
   },
   {
    "duration": 283,
    "start_time": "2024-07-16T00:50:33.372Z"
   },
   {
    "duration": 290,
    "start_time": "2024-07-16T00:50:34.939Z"
   },
   {
    "duration": 295,
    "start_time": "2024-07-16T00:50:36.659Z"
   },
   {
    "duration": 6,
    "start_time": "2024-07-16T01:07:30.269Z"
   },
   {
    "duration": 10,
    "start_time": "2024-07-16T01:08:17.329Z"
   },
   {
    "duration": 6,
    "start_time": "2024-07-16T01:09:18.649Z"
   },
   {
    "duration": 13,
    "start_time": "2024-07-16T23:42:58.392Z"
   },
   {
    "duration": 310,
    "start_time": "2024-07-16T23:43:57.197Z"
   },
   {
    "duration": 5370,
    "start_time": "2024-07-16T23:44:07.400Z"
   },
   {
    "duration": 503,
    "start_time": "2024-07-16T23:44:12.775Z"
   },
   {
    "duration": 52,
    "start_time": "2024-07-16T23:44:13.281Z"
   },
   {
    "duration": 26,
    "start_time": "2024-07-16T23:44:13.336Z"
   },
   {
    "duration": 27,
    "start_time": "2024-07-16T23:44:13.368Z"
   },
   {
    "duration": 60,
    "start_time": "2024-07-16T23:44:13.431Z"
   },
   {
    "duration": 74,
    "start_time": "2024-07-16T23:44:13.493Z"
   },
   {
    "duration": 69,
    "start_time": "2024-07-16T23:44:13.570Z"
   },
   {
    "duration": 14,
    "start_time": "2024-07-16T23:44:13.642Z"
   },
   {
    "duration": 13,
    "start_time": "2024-07-16T23:44:13.659Z"
   },
   {
    "duration": 13,
    "start_time": "2024-07-16T23:44:13.674Z"
   },
   {
    "duration": 1426,
    "start_time": "2024-07-16T23:44:13.730Z"
   },
   {
    "duration": 20,
    "start_time": "2024-07-16T23:44:15.159Z"
   },
   {
    "duration": 20,
    "start_time": "2024-07-16T23:44:15.185Z"
   },
   {
    "duration": 20,
    "start_time": "2024-07-16T23:44:15.232Z"
   },
   {
    "duration": 315,
    "start_time": "2024-07-16T23:44:15.256Z"
   },
   {
    "duration": 258,
    "start_time": "2024-07-16T23:44:15.575Z"
   },
   {
    "duration": 295,
    "start_time": "2024-07-16T23:44:15.837Z"
   },
   {
    "duration": 6,
    "start_time": "2024-07-16T23:44:16.134Z"
   },
   {
    "duration": 446,
    "start_time": "2024-07-16T23:44:16.143Z"
   },
   {
    "duration": 0,
    "start_time": "2024-07-16T23:44:16.592Z"
   },
   {
    "duration": 34,
    "start_time": "2024-07-16T23:44:34.092Z"
   },
   {
    "duration": 10,
    "start_time": "2024-07-16T23:44:40.394Z"
   },
   {
    "duration": 12,
    "start_time": "2024-07-16T23:49:43.978Z"
   },
   {
    "duration": 12,
    "start_time": "2024-07-16T23:51:16.960Z"
   },
   {
    "duration": 14,
    "start_time": "2024-07-16T23:53:14.767Z"
   },
   {
    "duration": 36,
    "start_time": "2024-07-16T23:55:59.389Z"
   },
   {
    "duration": 24,
    "start_time": "2024-07-17T00:11:15.467Z"
   },
   {
    "duration": 535,
    "start_time": "2024-07-17T00:18:34.273Z"
   },
   {
    "duration": 14628,
    "start_time": "2024-07-17T00:19:42.086Z"
   },
   {
    "duration": 6,
    "start_time": "2024-07-17T00:20:46.817Z"
   },
   {
    "duration": 4806,
    "start_time": "2024-07-17T00:22:24.504Z"
   },
   {
    "duration": 4929,
    "start_time": "2024-07-17T00:22:29.314Z"
   },
   {
    "duration": 4839,
    "start_time": "2024-07-17T00:22:34.246Z"
   },
   {
    "duration": 12,
    "start_time": "2024-07-17T00:24:03.278Z"
   },
   {
    "duration": 5,
    "start_time": "2024-07-17T00:29:00.168Z"
   },
   {
    "duration": 57,
    "start_time": "2024-07-17T00:31:14.095Z"
   },
   {
    "duration": 8,
    "start_time": "2024-07-17T00:32:17.892Z"
   },
   {
    "duration": 9,
    "start_time": "2024-07-17T00:32:37.693Z"
   },
   {
    "duration": 9,
    "start_time": "2024-07-17T00:32:55.013Z"
   },
   {
    "duration": 6,
    "start_time": "2024-07-17T00:34:10.633Z"
   },
   {
    "duration": 5938,
    "start_time": "2024-07-17T00:34:13.488Z"
   },
   {
    "duration": 6,
    "start_time": "2024-07-17T00:36:39.748Z"
   },
   {
    "duration": 4992,
    "start_time": "2024-07-17T00:37:04.397Z"
   },
   {
    "duration": 4928,
    "start_time": "2024-07-17T00:37:33.206Z"
   },
   {
    "duration": 4886,
    "start_time": "2024-07-17T00:37:54.751Z"
   },
   {
    "duration": 4917,
    "start_time": "2024-07-17T00:37:59.641Z"
   },
   {
    "duration": 4960,
    "start_time": "2024-07-17T00:38:32.034Z"
   },
   {
    "duration": 4920,
    "start_time": "2024-07-17T00:38:44.187Z"
   },
   {
    "duration": 5001,
    "start_time": "2024-07-17T00:38:58.402Z"
   },
   {
    "duration": 4964,
    "start_time": "2024-07-17T00:39:19.077Z"
   },
   {
    "duration": 5,
    "start_time": "2024-07-17T00:39:35.594Z"
   },
   {
    "duration": 4908,
    "start_time": "2024-07-17T00:39:36.028Z"
   },
   {
    "duration": 4936,
    "start_time": "2024-07-17T00:39:40.939Z"
   },
   {
    "duration": 4889,
    "start_time": "2024-07-17T00:39:45.877Z"
   },
   {
    "duration": 580,
    "start_time": "2024-07-17T00:41:09.953Z"
   },
   {
    "duration": 1153,
    "start_time": "2024-07-17T00:42:29.138Z"
   },
   {
    "duration": 622,
    "start_time": "2024-07-17T00:47:50.818Z"
   },
   {
    "duration": 537,
    "start_time": "2024-07-17T00:49:14.548Z"
   },
   {
    "duration": 529,
    "start_time": "2024-07-17T00:49:33.458Z"
   },
   {
    "duration": 554,
    "start_time": "2024-07-17T00:49:46.185Z"
   },
   {
    "duration": 686,
    "start_time": "2024-07-17T00:50:00.913Z"
   },
   {
    "duration": 603,
    "start_time": "2024-07-17T00:50:14.422Z"
   },
   {
    "duration": 545,
    "start_time": "2024-07-17T00:52:52.888Z"
   },
   {
    "duration": 5,
    "start_time": "2024-07-17T01:23:43.573Z"
   },
   {
    "duration": 376,
    "start_time": "2024-07-17T01:23:44.717Z"
   },
   {
    "duration": 31,
    "start_time": "2024-07-17T01:23:45.233Z"
   },
   {
    "duration": 32,
    "start_time": "2024-07-17T01:23:45.798Z"
   },
   {
    "duration": 30,
    "start_time": "2024-07-17T01:23:46.378Z"
   },
   {
    "duration": 57,
    "start_time": "2024-07-17T01:23:46.873Z"
   },
   {
    "duration": 57,
    "start_time": "2024-07-17T01:23:47.363Z"
   },
   {
    "duration": 57,
    "start_time": "2024-07-17T01:23:47.823Z"
   },
   {
    "duration": 15,
    "start_time": "2024-07-17T01:23:48.203Z"
   },
   {
    "duration": 16,
    "start_time": "2024-07-17T01:23:48.639Z"
   },
   {
    "duration": 17,
    "start_time": "2024-07-17T01:23:49.058Z"
   },
   {
    "duration": 1421,
    "start_time": "2024-07-17T01:23:50.149Z"
   },
   {
    "duration": 20,
    "start_time": "2024-07-17T01:23:51.909Z"
   },
   {
    "duration": 20,
    "start_time": "2024-07-17T01:23:52.413Z"
   },
   {
    "duration": 24,
    "start_time": "2024-07-17T01:23:52.915Z"
   },
   {
    "duration": 306,
    "start_time": "2024-07-17T01:23:53.472Z"
   },
   {
    "duration": 324,
    "start_time": "2024-07-17T01:23:54.323Z"
   },
   {
    "duration": 307,
    "start_time": "2024-07-17T01:23:55.023Z"
   },
   {
    "duration": 6,
    "start_time": "2024-07-17T01:23:56.727Z"
   },
   {
    "duration": 12,
    "start_time": "2024-07-17T01:23:57.281Z"
   },
   {
    "duration": 25,
    "start_time": "2024-07-17T01:23:58.833Z"
   },
   {
    "duration": 8,
    "start_time": "2024-07-17T01:24:00.503Z"
   },
   {
    "duration": 5198,
    "start_time": "2024-07-17T01:24:01.016Z"
   },
   {
    "duration": 5191,
    "start_time": "2024-07-17T01:24:06.230Z"
   },
   {
    "duration": 5177,
    "start_time": "2024-07-17T01:24:11.425Z"
   },
   {
    "duration": 572,
    "start_time": "2024-07-17T01:24:16.606Z"
   },
   {
    "duration": 1443,
    "start_time": "2024-07-17T01:39:28.609Z"
   },
   {
    "duration": 398,
    "start_time": "2024-07-17T01:39:30.056Z"
   },
   {
    "duration": 31,
    "start_time": "2024-07-17T01:39:30.457Z"
   },
   {
    "duration": 47,
    "start_time": "2024-07-17T01:39:30.492Z"
   },
   {
    "duration": 29,
    "start_time": "2024-07-17T01:39:30.542Z"
   },
   {
    "duration": 93,
    "start_time": "2024-07-17T01:39:30.574Z"
   },
   {
    "duration": 75,
    "start_time": "2024-07-17T01:39:30.670Z"
   },
   {
    "duration": 58,
    "start_time": "2024-07-17T01:39:30.751Z"
   },
   {
    "duration": 17,
    "start_time": "2024-07-17T01:39:30.832Z"
   },
   {
    "duration": 14,
    "start_time": "2024-07-17T01:39:30.854Z"
   },
   {
    "duration": 14,
    "start_time": "2024-07-17T01:39:30.871Z"
   },
   {
    "duration": 551,
    "start_time": "2024-07-17T01:39:30.888Z"
   },
   {
    "duration": 0,
    "start_time": "2024-07-17T01:39:31.444Z"
   },
   {
    "duration": 0,
    "start_time": "2024-07-17T01:39:31.446Z"
   },
   {
    "duration": 0,
    "start_time": "2024-07-17T01:39:31.450Z"
   },
   {
    "duration": 0,
    "start_time": "2024-07-17T01:39:31.451Z"
   },
   {
    "duration": 0,
    "start_time": "2024-07-17T01:39:31.454Z"
   },
   {
    "duration": 0,
    "start_time": "2024-07-17T01:39:31.456Z"
   },
   {
    "duration": 0,
    "start_time": "2024-07-17T01:39:31.458Z"
   },
   {
    "duration": 0,
    "start_time": "2024-07-17T01:39:31.464Z"
   },
   {
    "duration": 0,
    "start_time": "2024-07-17T01:39:31.466Z"
   },
   {
    "duration": 0,
    "start_time": "2024-07-17T01:39:31.468Z"
   },
   {
    "duration": 0,
    "start_time": "2024-07-17T01:39:31.470Z"
   },
   {
    "duration": 0,
    "start_time": "2024-07-17T01:39:31.473Z"
   },
   {
    "duration": 0,
    "start_time": "2024-07-17T01:39:31.475Z"
   },
   {
    "duration": 0,
    "start_time": "2024-07-17T01:39:31.477Z"
   },
   {
    "duration": 116,
    "start_time": "2024-07-17T01:40:59.285Z"
   },
   {
    "duration": 1648,
    "start_time": "2024-07-17T01:41:06.389Z"
   },
   {
    "duration": 392,
    "start_time": "2024-07-17T01:41:08.042Z"
   },
   {
    "duration": 36,
    "start_time": "2024-07-17T01:41:08.443Z"
   },
   {
    "duration": 50,
    "start_time": "2024-07-17T01:41:08.485Z"
   },
   {
    "duration": 28,
    "start_time": "2024-07-17T01:41:08.538Z"
   },
   {
    "duration": 88,
    "start_time": "2024-07-17T01:41:08.570Z"
   },
   {
    "duration": 79,
    "start_time": "2024-07-17T01:41:08.662Z"
   },
   {
    "duration": 71,
    "start_time": "2024-07-17T01:41:08.745Z"
   },
   {
    "duration": 12,
    "start_time": "2024-07-17T01:41:08.836Z"
   },
   {
    "duration": 15,
    "start_time": "2024-07-17T01:41:08.860Z"
   },
   {
    "duration": 16,
    "start_time": "2024-07-17T01:41:08.879Z"
   },
   {
    "duration": 1427,
    "start_time": "2024-07-17T01:41:08.898Z"
   },
   {
    "duration": 24,
    "start_time": "2024-07-17T01:41:10.332Z"
   },
   {
    "duration": 25,
    "start_time": "2024-07-17T01:41:10.359Z"
   },
   {
    "duration": 50,
    "start_time": "2024-07-17T01:41:10.390Z"
   },
   {
    "duration": 452,
    "start_time": "2024-07-17T01:41:10.443Z"
   },
   {
    "duration": 0,
    "start_time": "2024-07-17T01:41:10.898Z"
   },
   {
    "duration": 0,
    "start_time": "2024-07-17T01:41:10.901Z"
   },
   {
    "duration": 0,
    "start_time": "2024-07-17T01:41:10.904Z"
   },
   {
    "duration": 0,
    "start_time": "2024-07-17T01:41:10.906Z"
   },
   {
    "duration": 1,
    "start_time": "2024-07-17T01:41:10.908Z"
   },
   {
    "duration": 0,
    "start_time": "2024-07-17T01:41:10.910Z"
   },
   {
    "duration": 0,
    "start_time": "2024-07-17T01:41:10.913Z"
   },
   {
    "duration": 0,
    "start_time": "2024-07-17T01:41:10.931Z"
   },
   {
    "duration": 0,
    "start_time": "2024-07-17T01:41:10.934Z"
   },
   {
    "duration": 0,
    "start_time": "2024-07-17T01:41:10.936Z"
   },
   {
    "duration": 7,
    "start_time": "2024-07-17T01:42:30.056Z"
   },
   {
    "duration": 1614,
    "start_time": "2024-07-17T01:42:36.024Z"
   },
   {
    "duration": 401,
    "start_time": "2024-07-17T01:42:37.641Z"
   },
   {
    "duration": 37,
    "start_time": "2024-07-17T01:42:38.049Z"
   },
   {
    "duration": 46,
    "start_time": "2024-07-17T01:42:38.090Z"
   },
   {
    "duration": 29,
    "start_time": "2024-07-17T01:42:38.139Z"
   },
   {
    "duration": 87,
    "start_time": "2024-07-17T01:42:38.171Z"
   },
   {
    "duration": 68,
    "start_time": "2024-07-17T01:42:38.262Z"
   },
   {
    "duration": 61,
    "start_time": "2024-07-17T01:42:38.333Z"
   },
   {
    "duration": 35,
    "start_time": "2024-07-17T01:42:38.398Z"
   },
   {
    "duration": 16,
    "start_time": "2024-07-17T01:42:38.440Z"
   },
   {
    "duration": 15,
    "start_time": "2024-07-17T01:42:38.459Z"
   },
   {
    "duration": 1406,
    "start_time": "2024-07-17T01:42:38.478Z"
   },
   {
    "duration": 20,
    "start_time": "2024-07-17T01:42:39.890Z"
   },
   {
    "duration": 20,
    "start_time": "2024-07-17T01:42:39.930Z"
   },
   {
    "duration": 23,
    "start_time": "2024-07-17T01:42:39.953Z"
   },
   {
    "duration": 319,
    "start_time": "2024-07-17T01:42:39.979Z"
   },
   {
    "duration": 288,
    "start_time": "2024-07-17T01:42:40.300Z"
   },
   {
    "duration": 297,
    "start_time": "2024-07-17T01:42:40.591Z"
   },
   {
    "duration": 6,
    "start_time": "2024-07-17T01:42:40.892Z"
   },
   {
    "duration": 13,
    "start_time": "2024-07-17T01:42:40.904Z"
   },
   {
    "duration": 25,
    "start_time": "2024-07-17T01:42:40.920Z"
   },
   {
    "duration": 7,
    "start_time": "2024-07-17T01:42:40.949Z"
   },
   {
    "duration": 437,
    "start_time": "2024-07-17T01:42:40.959Z"
   },
   {
    "duration": 0,
    "start_time": "2024-07-17T01:42:41.400Z"
   },
   {
    "duration": 0,
    "start_time": "2024-07-17T01:42:41.402Z"
   },
   {
    "duration": 0,
    "start_time": "2024-07-17T01:42:41.404Z"
   },
   {
    "duration": 6,
    "start_time": "2024-07-17T01:43:01.449Z"
   },
   {
    "duration": 35,
    "start_time": "2024-07-17T01:43:02.046Z"
   },
   {
    "duration": 32,
    "start_time": "2024-07-17T01:44:22.722Z"
   },
   {
    "duration": 29,
    "start_time": "2024-07-17T01:44:56.448Z"
   },
   {
    "duration": 7,
    "start_time": "2024-07-17T01:45:02.465Z"
   },
   {
    "duration": 26,
    "start_time": "2024-07-17T01:49:39.317Z"
   },
   {
    "duration": 6,
    "start_time": "2024-07-17T01:51:33.339Z"
   },
   {
    "duration": 10,
    "start_time": "2024-07-17T01:51:38.830Z"
   },
   {
    "duration": 24,
    "start_time": "2024-07-17T01:51:41.434Z"
   },
   {
    "duration": 8,
    "start_time": "2024-07-17T01:51:58.844Z"
   },
   {
    "duration": 4967,
    "start_time": "2024-07-17T01:52:04.319Z"
   },
   {
    "duration": 4917,
    "start_time": "2024-07-17T01:52:11.525Z"
   },
   {
    "duration": 4849,
    "start_time": "2024-07-17T01:52:16.699Z"
   },
   {
    "duration": 1819,
    "start_time": "2024-07-17T01:52:31.470Z"
   },
   {
    "duration": 369,
    "start_time": "2024-07-17T01:52:33.292Z"
   },
   {
    "duration": 39,
    "start_time": "2024-07-17T01:52:33.664Z"
   },
   {
    "duration": 54,
    "start_time": "2024-07-17T01:52:33.706Z"
   },
   {
    "duration": 30,
    "start_time": "2024-07-17T01:52:33.765Z"
   },
   {
    "duration": 86,
    "start_time": "2024-07-17T01:52:33.798Z"
   },
   {
    "duration": 78,
    "start_time": "2024-07-17T01:52:33.887Z"
   },
   {
    "duration": 66,
    "start_time": "2024-07-17T01:52:33.967Z"
   },
   {
    "duration": 13,
    "start_time": "2024-07-17T01:52:34.036Z"
   },
   {
    "duration": 13,
    "start_time": "2024-07-17T01:52:34.052Z"
   },
   {
    "duration": 13,
    "start_time": "2024-07-17T01:52:34.068Z"
   },
   {
    "duration": 1384,
    "start_time": "2024-07-17T01:52:34.085Z"
   },
   {
    "duration": 21,
    "start_time": "2024-07-17T01:52:35.472Z"
   },
   {
    "duration": 41,
    "start_time": "2024-07-17T01:52:35.498Z"
   },
   {
    "duration": 20,
    "start_time": "2024-07-17T01:52:35.542Z"
   },
   {
    "duration": 289,
    "start_time": "2024-07-17T01:52:35.565Z"
   },
   {
    "duration": 283,
    "start_time": "2024-07-17T01:52:35.858Z"
   },
   {
    "duration": 305,
    "start_time": "2024-07-17T01:52:36.145Z"
   },
   {
    "duration": 6,
    "start_time": "2024-07-17T01:52:36.453Z"
   },
   {
    "duration": 13,
    "start_time": "2024-07-17T01:52:36.461Z"
   },
   {
    "duration": 23,
    "start_time": "2024-07-17T01:52:36.477Z"
   },
   {
    "duration": 7,
    "start_time": "2024-07-17T01:52:36.503Z"
   },
   {
    "duration": 4886,
    "start_time": "2024-07-17T01:52:36.531Z"
   },
   {
    "duration": 4933,
    "start_time": "2024-07-17T01:52:41.419Z"
   },
   {
    "duration": 4917,
    "start_time": "2024-07-17T01:52:46.355Z"
   },
   {
    "duration": 574,
    "start_time": "2024-07-17T01:52:51.274Z"
   },
   {
    "duration": 316,
    "start_time": "2024-07-17T22:47:45.541Z"
   },
   {
    "duration": 23,
    "start_time": "2024-07-17T22:47:51.819Z"
   },
   {
    "duration": 5427,
    "start_time": "2024-07-17T22:48:10.923Z"
   },
   {
    "duration": 538,
    "start_time": "2024-07-17T22:48:16.353Z"
   },
   {
    "duration": 34,
    "start_time": "2024-07-17T22:48:16.894Z"
   },
   {
    "duration": 28,
    "start_time": "2024-07-17T22:48:16.933Z"
   },
   {
    "duration": 61,
    "start_time": "2024-07-17T22:48:16.965Z"
   },
   {
    "duration": 23,
    "start_time": "2024-07-17T22:48:17.029Z"
   },
   {
    "duration": 92,
    "start_time": "2024-07-17T22:48:17.056Z"
   },
   {
    "duration": 85,
    "start_time": "2024-07-17T22:48:17.152Z"
   },
   {
    "duration": 17,
    "start_time": "2024-07-17T22:48:17.240Z"
   },
   {
    "duration": 38,
    "start_time": "2024-07-17T22:48:17.264Z"
   },
   {
    "duration": 16,
    "start_time": "2024-07-17T22:48:17.307Z"
   },
   {
    "duration": 1497,
    "start_time": "2024-07-17T22:48:17.326Z"
   },
   {
    "duration": 20,
    "start_time": "2024-07-17T22:48:18.826Z"
   },
   {
    "duration": 21,
    "start_time": "2024-07-17T22:48:18.849Z"
   },
   {
    "duration": 45,
    "start_time": "2024-07-17T22:48:18.873Z"
   },
   {
    "duration": 323,
    "start_time": "2024-07-17T22:48:18.922Z"
   },
   {
    "duration": 276,
    "start_time": "2024-07-17T22:48:19.248Z"
   },
   {
    "duration": 282,
    "start_time": "2024-07-17T22:48:19.528Z"
   },
   {
    "duration": 5,
    "start_time": "2024-07-17T22:48:19.813Z"
   },
   {
    "duration": 10,
    "start_time": "2024-07-17T22:48:19.821Z"
   },
   {
    "duration": 27,
    "start_time": "2024-07-17T22:48:19.834Z"
   },
   {
    "duration": 12,
    "start_time": "2024-07-17T22:48:19.864Z"
   },
   {
    "duration": 5517,
    "start_time": "2024-07-17T22:48:19.904Z"
   },
   {
    "duration": 5392,
    "start_time": "2024-07-17T22:48:25.424Z"
   },
   {
    "duration": 5433,
    "start_time": "2024-07-17T22:48:30.820Z"
   },
   {
    "duration": 658,
    "start_time": "2024-07-17T22:48:36.256Z"
   },
   {
    "duration": 21,
    "start_time": "2024-07-17T22:48:36.920Z"
   },
   {
    "duration": 21,
    "start_time": "2024-07-17T22:48:44.098Z"
   },
   {
    "duration": 7,
    "start_time": "2024-07-17T23:01:54.338Z"
   },
   {
    "duration": 7,
    "start_time": "2024-07-17T23:02:10.262Z"
   },
   {
    "duration": 12,
    "start_time": "2024-07-17T23:03:19.919Z"
   },
   {
    "duration": 31,
    "start_time": "2024-07-17T23:04:14.371Z"
   },
   {
    "duration": 28,
    "start_time": "2024-07-17T23:12:39.107Z"
   },
   {
    "duration": 29,
    "start_time": "2024-07-17T23:12:55.383Z"
   },
   {
    "duration": 26,
    "start_time": "2024-07-17T23:13:02.987Z"
   },
   {
    "duration": 26,
    "start_time": "2024-07-17T23:13:17.513Z"
   },
   {
    "duration": 29,
    "start_time": "2024-07-17T23:15:04.721Z"
   },
   {
    "duration": 25,
    "start_time": "2024-07-17T23:18:58.446Z"
   },
   {
    "duration": 13,
    "start_time": "2024-07-17T23:20:25.630Z"
   },
   {
    "duration": 30,
    "start_time": "2024-07-17T23:23:14.865Z"
   },
   {
    "duration": 9,
    "start_time": "2024-07-17T23:26:46.578Z"
   },
   {
    "duration": 5755,
    "start_time": "2024-07-17T23:28:13.998Z"
   },
   {
    "duration": 6221,
    "start_time": "2024-07-17T23:28:33.129Z"
   },
   {
    "duration": 5701,
    "start_time": "2024-07-17T23:29:09.310Z"
   },
   {
    "duration": 551,
    "start_time": "2024-07-17T23:29:52.925Z"
   },
   {
    "duration": 576,
    "start_time": "2024-07-17T23:30:07.148Z"
   },
   {
    "duration": 5782,
    "start_time": "2024-07-17T23:33:42.338Z"
   },
   {
    "duration": 5755,
    "start_time": "2024-07-17T23:33:48.124Z"
   },
   {
    "duration": 5808,
    "start_time": "2024-07-17T23:33:53.882Z"
   },
   {
    "duration": 576,
    "start_time": "2024-07-17T23:34:11.821Z"
   },
   {
    "duration": 742,
    "start_time": "2024-07-17T23:34:27.140Z"
   },
   {
    "duration": 584,
    "start_time": "2024-07-17T23:34:42.968Z"
   },
   {
    "duration": 1803,
    "start_time": "2024-07-17T23:35:14.488Z"
   },
   {
    "duration": 499,
    "start_time": "2024-07-17T23:35:16.295Z"
   },
   {
    "duration": 40,
    "start_time": "2024-07-17T23:35:16.797Z"
   },
   {
    "duration": 32,
    "start_time": "2024-07-17T23:35:16.840Z"
   },
   {
    "duration": 32,
    "start_time": "2024-07-17T23:35:16.902Z"
   },
   {
    "duration": 30,
    "start_time": "2024-07-17T23:35:16.941Z"
   },
   {
    "duration": 56,
    "start_time": "2024-07-17T23:35:16.975Z"
   },
   {
    "duration": 28,
    "start_time": "2024-07-17T23:35:17.038Z"
   },
   {
    "duration": 36,
    "start_time": "2024-07-17T23:35:17.070Z"
   },
   {
    "duration": 17,
    "start_time": "2024-07-17T23:35:17.112Z"
   },
   {
    "duration": 19,
    "start_time": "2024-07-17T23:35:17.133Z"
   },
   {
    "duration": 1497,
    "start_time": "2024-07-17T23:35:17.156Z"
   },
   {
    "duration": 26,
    "start_time": "2024-07-17T23:35:18.657Z"
   },
   {
    "duration": 25,
    "start_time": "2024-07-17T23:35:18.708Z"
   },
   {
    "duration": 26,
    "start_time": "2024-07-17T23:35:18.740Z"
   },
   {
    "duration": 334,
    "start_time": "2024-07-17T23:35:18.770Z"
   },
   {
    "duration": 340,
    "start_time": "2024-07-17T23:35:19.107Z"
   },
   {
    "duration": 293,
    "start_time": "2024-07-17T23:35:19.451Z"
   },
   {
    "duration": 6,
    "start_time": "2024-07-17T23:35:19.747Z"
   },
   {
    "duration": 451,
    "start_time": "2024-07-17T23:35:19.758Z"
   },
   {
    "duration": 0,
    "start_time": "2024-07-17T23:35:20.212Z"
   },
   {
    "duration": 0,
    "start_time": "2024-07-17T23:35:20.214Z"
   },
   {
    "duration": 0,
    "start_time": "2024-07-17T23:35:20.217Z"
   },
   {
    "duration": 0,
    "start_time": "2024-07-17T23:35:20.219Z"
   },
   {
    "duration": 0,
    "start_time": "2024-07-17T23:35:20.222Z"
   },
   {
    "duration": 0,
    "start_time": "2024-07-17T23:35:20.224Z"
   },
   {
    "duration": 45,
    "start_time": "2024-07-17T23:35:58.058Z"
   },
   {
    "duration": 10,
    "start_time": "2024-07-17T23:36:11.105Z"
   },
   {
    "duration": 15,
    "start_time": "2024-07-17T23:36:53.806Z"
   },
   {
    "duration": 1687,
    "start_time": "2024-07-17T23:37:08.234Z"
   },
   {
    "duration": 396,
    "start_time": "2024-07-17T23:37:09.925Z"
   },
   {
    "duration": 40,
    "start_time": "2024-07-17T23:37:10.324Z"
   },
   {
    "duration": 54,
    "start_time": "2024-07-17T23:37:10.368Z"
   },
   {
    "duration": 34,
    "start_time": "2024-07-17T23:37:10.426Z"
   },
   {
    "duration": 53,
    "start_time": "2024-07-17T23:37:10.464Z"
   },
   {
    "duration": 24,
    "start_time": "2024-07-17T23:37:10.520Z"
   },
   {
    "duration": 55,
    "start_time": "2024-07-17T23:37:10.547Z"
   },
   {
    "duration": 18,
    "start_time": "2024-07-17T23:37:10.605Z"
   },
   {
    "duration": 20,
    "start_time": "2024-07-17T23:37:10.631Z"
   },
   {
    "duration": 50,
    "start_time": "2024-07-17T23:37:10.655Z"
   },
   {
    "duration": 1460,
    "start_time": "2024-07-17T23:37:10.709Z"
   },
   {
    "duration": 34,
    "start_time": "2024-07-17T23:37:12.173Z"
   },
   {
    "duration": 25,
    "start_time": "2024-07-17T23:37:12.211Z"
   },
   {
    "duration": 24,
    "start_time": "2024-07-17T23:37:12.240Z"
   },
   {
    "duration": 358,
    "start_time": "2024-07-17T23:37:12.270Z"
   },
   {
    "duration": 280,
    "start_time": "2024-07-17T23:37:12.631Z"
   },
   {
    "duration": 300,
    "start_time": "2024-07-17T23:37:12.915Z"
   },
   {
    "duration": 7,
    "start_time": "2024-07-17T23:37:13.217Z"
   },
   {
    "duration": 14,
    "start_time": "2024-07-17T23:37:13.227Z"
   },
   {
    "duration": 28,
    "start_time": "2024-07-17T23:37:13.245Z"
   },
   {
    "duration": 28,
    "start_time": "2024-07-17T23:37:13.275Z"
   },
   {
    "duration": 5816,
    "start_time": "2024-07-17T23:37:13.308Z"
   },
   {
    "duration": 5703,
    "start_time": "2024-07-17T23:37:19.128Z"
   },
   {
    "duration": 5765,
    "start_time": "2024-07-17T23:37:24.836Z"
   },
   {
    "duration": 579,
    "start_time": "2024-07-17T23:37:30.604Z"
   },
   {
    "duration": 591,
    "start_time": "2024-07-17T23:37:41.478Z"
   },
   {
    "duration": 670,
    "start_time": "2024-07-17T23:39:16.338Z"
   },
   {
    "duration": 459,
    "start_time": "2024-07-17T23:43:18.398Z"
   },
   {
    "duration": 6,
    "start_time": "2024-07-17T23:44:51.878Z"
   },
   {
    "duration": 5398,
    "start_time": "2024-07-17T23:44:53.537Z"
   },
   {
    "duration": 5621,
    "start_time": "2024-07-17T23:44:58.938Z"
   },
   {
    "duration": 5449,
    "start_time": "2024-07-17T23:45:04.563Z"
   },
   {
    "duration": 6,
    "start_time": "2024-07-17T23:57:06.559Z"
   },
   {
    "duration": 5372,
    "start_time": "2024-07-17T23:57:08.429Z"
   },
   {
    "duration": 5478,
    "start_time": "2024-07-17T23:57:13.805Z"
   },
   {
    "duration": 5387,
    "start_time": "2024-07-17T23:57:19.286Z"
   },
   {
    "duration": 5403,
    "start_time": "2024-07-17T23:59:05.119Z"
   },
   {
    "duration": 28,
    "start_time": "2024-07-18T00:00:56.210Z"
   },
   {
    "duration": 6,
    "start_time": "2024-07-18T00:01:00.128Z"
   },
   {
    "duration": 5368,
    "start_time": "2024-07-18T00:01:00.834Z"
   },
   {
    "duration": 6,
    "start_time": "2024-07-18T00:06:35.138Z"
   },
   {
    "duration": 10,
    "start_time": "2024-07-18T00:06:37.883Z"
   },
   {
    "duration": 24,
    "start_time": "2024-07-18T00:06:43.177Z"
   },
   {
    "duration": 7,
    "start_time": "2024-07-18T00:06:46.768Z"
   },
   {
    "duration": 5326,
    "start_time": "2024-07-18T00:06:47.321Z"
   },
   {
    "duration": 6,
    "start_time": "2024-07-18T00:08:45.679Z"
   },
   {
    "duration": 12,
    "start_time": "2024-07-18T00:09:15.883Z"
   },
   {
    "duration": 1662,
    "start_time": "2024-07-18T00:09:29.215Z"
   },
   {
    "duration": 419,
    "start_time": "2024-07-18T00:09:30.882Z"
   },
   {
    "duration": 34,
    "start_time": "2024-07-18T00:09:31.304Z"
   },
   {
    "duration": 27,
    "start_time": "2024-07-18T00:09:31.341Z"
   },
   {
    "duration": 29,
    "start_time": "2024-07-18T00:09:31.401Z"
   },
   {
    "duration": 24,
    "start_time": "2024-07-18T00:09:31.432Z"
   },
   {
    "duration": 51,
    "start_time": "2024-07-18T00:09:31.460Z"
   },
   {
    "duration": 21,
    "start_time": "2024-07-18T00:09:31.516Z"
   },
   {
    "duration": 13,
    "start_time": "2024-07-18T00:09:31.541Z"
   },
   {
    "duration": 50,
    "start_time": "2024-07-18T00:09:31.558Z"
   },
   {
    "duration": 16,
    "start_time": "2024-07-18T00:09:31.614Z"
   },
   {
    "duration": 1410,
    "start_time": "2024-07-18T00:09:31.634Z"
   },
   {
    "duration": 22,
    "start_time": "2024-07-18T00:09:33.047Z"
   },
   {
    "duration": 41,
    "start_time": "2024-07-18T00:09:33.075Z"
   },
   {
    "duration": 22,
    "start_time": "2024-07-18T00:09:33.119Z"
   },
   {
    "duration": 271,
    "start_time": "2024-07-18T00:09:33.144Z"
   },
   {
    "duration": 291,
    "start_time": "2024-07-18T00:09:33.420Z"
   },
   {
    "duration": 311,
    "start_time": "2024-07-18T00:09:33.715Z"
   },
   {
    "duration": 5,
    "start_time": "2024-07-18T00:09:34.029Z"
   },
   {
    "duration": 11,
    "start_time": "2024-07-18T00:09:34.038Z"
   },
   {
    "duration": 26,
    "start_time": "2024-07-18T00:09:34.051Z"
   },
   {
    "duration": 22,
    "start_time": "2024-07-18T00:09:34.080Z"
   },
   {
    "duration": 5437,
    "start_time": "2024-07-18T00:09:34.106Z"
   },
   {
    "duration": 5418,
    "start_time": "2024-07-18T00:09:39.547Z"
   },
   {
    "duration": 5393,
    "start_time": "2024-07-18T00:09:44.969Z"
   },
   {
    "duration": 37,
    "start_time": "2024-07-18T00:09:50.368Z"
   },
   {
    "duration": 10,
    "start_time": "2024-07-18T00:11:24.689Z"
   },
   {
    "duration": 12,
    "start_time": "2024-07-18T00:11:38.404Z"
   },
   {
    "duration": 6,
    "start_time": "2024-07-18T00:32:12.809Z"
   },
   {
    "duration": 16,
    "start_time": "2024-07-18T00:32:36.678Z"
   },
   {
    "duration": 10,
    "start_time": "2024-07-18T00:32:43.009Z"
   },
   {
    "duration": 23,
    "start_time": "2024-07-18T00:34:18.443Z"
   },
   {
    "duration": 7,
    "start_time": "2024-07-18T00:34:24.418Z"
   },
   {
    "duration": 5646,
    "start_time": "2024-07-18T00:34:25.158Z"
   },
   {
    "duration": 5490,
    "start_time": "2024-07-18T00:34:32.519Z"
   },
   {
    "duration": 5371,
    "start_time": "2024-07-18T00:34:38.012Z"
   },
   {
    "duration": 30,
    "start_time": "2024-07-18T00:35:04.863Z"
   },
   {
    "duration": 6,
    "start_time": "2024-07-18T00:37:07.423Z"
   },
   {
    "duration": 439,
    "start_time": "2024-07-18T00:37:09.343Z"
   },
   {
    "duration": 7,
    "start_time": "2024-07-18T00:37:29.583Z"
   },
   {
    "duration": 5327,
    "start_time": "2024-07-18T00:37:30.017Z"
   },
   {
    "duration": 7,
    "start_time": "2024-07-18T00:42:22.722Z"
   },
   {
    "duration": 5617,
    "start_time": "2024-07-18T00:42:23.062Z"
   },
   {
    "duration": 20,
    "start_time": "2024-07-18T00:52:43.183Z"
   },
   {
    "duration": 22,
    "start_time": "2024-07-18T00:53:19.335Z"
   },
   {
    "duration": 19,
    "start_time": "2024-07-18T00:53:25.459Z"
   },
   {
    "duration": 23,
    "start_time": "2024-07-18T00:54:03.498Z"
   },
   {
    "duration": 30,
    "start_time": "2024-07-18T00:54:16.186Z"
   },
   {
    "duration": 22,
    "start_time": "2024-07-18T00:54:29.449Z"
   },
   {
    "duration": 275,
    "start_time": "2024-07-18T00:55:26.739Z"
   },
   {
    "duration": 312,
    "start_time": "2024-07-18T00:55:28.865Z"
   },
   {
    "duration": 284,
    "start_time": "2024-07-18T00:55:30.160Z"
   },
   {
    "duration": 23,
    "start_time": "2024-07-18T00:56:06.219Z"
   },
   {
    "duration": 21,
    "start_time": "2024-07-18T00:56:09.185Z"
   },
   {
    "duration": 19,
    "start_time": "2024-07-18T00:56:16.150Z"
   },
   {
    "duration": 23,
    "start_time": "2024-07-18T00:56:24.559Z"
   },
   {
    "duration": 290,
    "start_time": "2024-07-18T00:56:27.783Z"
   },
   {
    "duration": 286,
    "start_time": "2024-07-18T00:56:29.538Z"
   },
   {
    "duration": 263,
    "start_time": "2024-07-18T00:56:30.338Z"
   },
   {
    "duration": 28,
    "start_time": "2024-07-18T00:58:02.606Z"
   },
   {
    "duration": 6,
    "start_time": "2024-07-18T00:58:16.060Z"
   },
   {
    "duration": 5470,
    "start_time": "2024-07-18T00:58:16.640Z"
   },
   {
    "duration": 5670,
    "start_time": "2024-07-18T00:58:22.118Z"
   },
   {
    "duration": 5542,
    "start_time": "2024-07-18T00:58:27.792Z"
   },
   {
    "duration": 31,
    "start_time": "2024-07-18T01:03:24.902Z"
   },
   {
    "duration": 27,
    "start_time": "2024-07-18T01:03:32.864Z"
   },
   {
    "duration": 48,
    "start_time": "2024-07-18T01:07:45.240Z"
   },
   {
    "duration": 54,
    "start_time": "2024-07-18T01:12:18.917Z"
   },
   {
    "duration": 1675,
    "start_time": "2024-07-18T01:12:38.529Z"
   },
   {
    "duration": 405,
    "start_time": "2024-07-18T01:12:40.208Z"
   },
   {
    "duration": 36,
    "start_time": "2024-07-18T01:12:40.616Z"
   },
   {
    "duration": 55,
    "start_time": "2024-07-18T01:12:40.657Z"
   },
   {
    "duration": 27,
    "start_time": "2024-07-18T01:12:40.715Z"
   },
   {
    "duration": 22,
    "start_time": "2024-07-18T01:12:40.745Z"
   },
   {
    "duration": 20,
    "start_time": "2024-07-18T01:12:40.802Z"
   },
   {
    "duration": 20,
    "start_time": "2024-07-18T01:12:40.825Z"
   },
   {
    "duration": 14,
    "start_time": "2024-07-18T01:12:40.848Z"
   },
   {
    "duration": 13,
    "start_time": "2024-07-18T01:12:40.901Z"
   },
   {
    "duration": 13,
    "start_time": "2024-07-18T01:12:40.917Z"
   },
   {
    "duration": 1416,
    "start_time": "2024-07-18T01:12:40.933Z"
   },
   {
    "duration": 21,
    "start_time": "2024-07-18T01:12:42.352Z"
   },
   {
    "duration": 40,
    "start_time": "2024-07-18T01:12:42.376Z"
   },
   {
    "duration": 21,
    "start_time": "2024-07-18T01:12:42.419Z"
   },
   {
    "duration": 295,
    "start_time": "2024-07-18T01:12:42.443Z"
   },
   {
    "duration": 278,
    "start_time": "2024-07-18T01:12:42.741Z"
   },
   {
    "duration": 313,
    "start_time": "2024-07-18T01:12:43.022Z"
   },
   {
    "duration": 5,
    "start_time": "2024-07-18T01:12:43.338Z"
   },
   {
    "duration": 12,
    "start_time": "2024-07-18T01:12:43.346Z"
   },
   {
    "duration": 247,
    "start_time": "2024-07-18T01:12:43.361Z"
   },
   {
    "duration": 0,
    "start_time": "2024-07-18T01:12:43.611Z"
   },
   {
    "duration": 0,
    "start_time": "2024-07-18T01:12:43.614Z"
   },
   {
    "duration": 0,
    "start_time": "2024-07-18T01:12:43.616Z"
   },
   {
    "duration": 0,
    "start_time": "2024-07-18T01:12:43.618Z"
   },
   {
    "duration": 626,
    "start_time": "2024-07-18T01:14:40.463Z"
   },
   {
    "duration": 25,
    "start_time": "2024-07-18T01:15:08.365Z"
   },
   {
    "duration": 26,
    "start_time": "2024-07-18T01:16:56.780Z"
   },
   {
    "duration": 6,
    "start_time": "2024-07-18T01:17:11.025Z"
   },
   {
    "duration": 46,
    "start_time": "2024-07-18T01:17:13.097Z"
   },
   {
    "duration": 60,
    "start_time": "2024-07-18T01:17:46.983Z"
   },
   {
    "duration": 30,
    "start_time": "2024-07-18T01:18:12.576Z"
   },
   {
    "duration": 6,
    "start_time": "2024-07-18T01:18:15.122Z"
   },
   {
    "duration": 40,
    "start_time": "2024-07-18T01:18:15.617Z"
   },
   {
    "duration": 24,
    "start_time": "2024-07-18T01:18:49.145Z"
   },
   {
    "duration": 7,
    "start_time": "2024-07-18T01:18:51.198Z"
   },
   {
    "duration": 43,
    "start_time": "2024-07-18T01:18:52.281Z"
   },
   {
    "duration": 29,
    "start_time": "2024-07-18T01:19:39.341Z"
   },
   {
    "duration": 6,
    "start_time": "2024-07-18T01:19:41.259Z"
   },
   {
    "duration": 5465,
    "start_time": "2024-07-18T01:19:41.641Z"
   },
   {
    "duration": 5468,
    "start_time": "2024-07-18T01:19:47.109Z"
   },
   {
    "duration": 5556,
    "start_time": "2024-07-18T01:19:52.580Z"
   },
   {
    "duration": 25,
    "start_time": "2024-07-18T01:20:55.696Z"
   },
   {
    "duration": 16105,
    "start_time": "2024-07-18T01:23:30.666Z"
   },
   {
    "duration": 8,
    "start_time": "2024-07-18T01:24:49.363Z"
   },
   {
    "duration": 15904,
    "start_time": "2024-07-18T01:25:37.202Z"
   },
   {
    "duration": 10,
    "start_time": "2024-07-18T01:27:23.500Z"
   },
   {
    "duration": 5383,
    "start_time": "2024-07-18T01:27:39.119Z"
   },
   {
    "duration": 5451,
    "start_time": "2024-07-18T01:27:44.506Z"
   },
   {
    "duration": 5410,
    "start_time": "2024-07-18T01:27:49.960Z"
   },
   {
    "duration": 1615,
    "start_time": "2024-07-18T01:27:57.666Z"
   },
   {
    "duration": 407,
    "start_time": "2024-07-18T01:27:59.285Z"
   },
   {
    "duration": 36,
    "start_time": "2024-07-18T01:27:59.696Z"
   },
   {
    "duration": 29,
    "start_time": "2024-07-18T01:27:59.737Z"
   },
   {
    "duration": 57,
    "start_time": "2024-07-18T01:27:59.769Z"
   },
   {
    "duration": 25,
    "start_time": "2024-07-18T01:27:59.829Z"
   },
   {
    "duration": 58,
    "start_time": "2024-07-18T01:27:59.857Z"
   },
   {
    "duration": 46,
    "start_time": "2024-07-18T01:27:59.918Z"
   },
   {
    "duration": 15,
    "start_time": "2024-07-18T01:27:59.967Z"
   },
   {
    "duration": 21,
    "start_time": "2024-07-18T01:27:59.988Z"
   },
   {
    "duration": 14,
    "start_time": "2024-07-18T01:28:00.012Z"
   },
   {
    "duration": 1419,
    "start_time": "2024-07-18T01:28:00.029Z"
   },
   {
    "duration": 21,
    "start_time": "2024-07-18T01:28:01.452Z"
   },
   {
    "duration": 40,
    "start_time": "2024-07-18T01:28:01.476Z"
   },
   {
    "duration": 20,
    "start_time": "2024-07-18T01:28:01.520Z"
   },
   {
    "duration": 285,
    "start_time": "2024-07-18T01:28:01.543Z"
   },
   {
    "duration": 290,
    "start_time": "2024-07-18T01:28:01.831Z"
   },
   {
    "duration": 297,
    "start_time": "2024-07-18T01:28:02.124Z"
   },
   {
    "duration": 6,
    "start_time": "2024-07-18T01:28:02.424Z"
   },
   {
    "duration": 12,
    "start_time": "2024-07-18T01:28:02.434Z"
   },
   {
    "duration": 27,
    "start_time": "2024-07-18T01:28:02.450Z"
   },
   {
    "duration": 15990,
    "start_time": "2024-07-18T01:28:02.504Z"
   },
   {
    "duration": 430,
    "start_time": "2024-07-18T01:28:18.496Z"
   },
   {
    "duration": 0,
    "start_time": "2024-07-18T01:28:18.929Z"
   },
   {
    "duration": 0,
    "start_time": "2024-07-18T01:28:18.932Z"
   },
   {
    "duration": 6,
    "start_time": "2024-07-18T01:28:53.199Z"
   },
   {
    "duration": 5468,
    "start_time": "2024-07-18T01:28:53.643Z"
   },
   {
    "duration": 5375,
    "start_time": "2024-07-18T01:28:59.115Z"
   },
   {
    "duration": 5449,
    "start_time": "2024-07-18T01:29:04.493Z"
   },
   {
    "duration": 1557,
    "start_time": "2024-07-18T12:50:44.987Z"
   },
   {
    "duration": 533,
    "start_time": "2024-07-18T12:50:46.548Z"
   },
   {
    "duration": 36,
    "start_time": "2024-07-18T12:50:47.084Z"
   },
   {
    "duration": 26,
    "start_time": "2024-07-18T12:50:47.123Z"
   },
   {
    "duration": 57,
    "start_time": "2024-07-18T12:50:47.154Z"
   },
   {
    "duration": 20,
    "start_time": "2024-07-18T12:50:47.214Z"
   },
   {
    "duration": 18,
    "start_time": "2024-07-18T12:50:47.238Z"
   },
   {
    "duration": 57,
    "start_time": "2024-07-18T12:50:47.259Z"
   },
   {
    "duration": 18,
    "start_time": "2024-07-18T12:50:47.319Z"
   },
   {
    "duration": 27,
    "start_time": "2024-07-18T12:50:47.340Z"
   },
   {
    "duration": 44,
    "start_time": "2024-07-18T12:50:47.371Z"
   },
   {
    "duration": 1328,
    "start_time": "2024-07-18T12:50:47.419Z"
   },
   {
    "duration": 21,
    "start_time": "2024-07-18T12:50:48.750Z"
   },
   {
    "duration": 41,
    "start_time": "2024-07-18T12:50:48.776Z"
   },
   {
    "duration": 21,
    "start_time": "2024-07-18T12:50:48.820Z"
   },
   {
    "duration": 297,
    "start_time": "2024-07-18T12:50:48.844Z"
   },
   {
    "duration": 6,
    "start_time": "2024-07-18T12:50:51.265Z"
   },
   {
    "duration": 17,
    "start_time": "2024-07-18T13:37:47.118Z"
   },
   {
    "duration": 320,
    "start_time": "2024-07-18T13:37:50.440Z"
   },
   {
    "duration": 31,
    "start_time": "2024-07-18T13:37:51.110Z"
   },
   {
    "duration": 5835,
    "start_time": "2024-07-18T13:38:01.501Z"
   },
   {
    "duration": 607,
    "start_time": "2024-07-18T13:38:07.342Z"
   },
   {
    "duration": 58,
    "start_time": "2024-07-18T13:38:07.952Z"
   },
   {
    "duration": 36,
    "start_time": "2024-07-18T13:38:08.015Z"
   },
   {
    "duration": 62,
    "start_time": "2024-07-18T13:38:08.056Z"
   },
   {
    "duration": 26,
    "start_time": "2024-07-18T13:38:08.122Z"
   },
   {
    "duration": 27,
    "start_time": "2024-07-18T13:38:08.151Z"
   },
   {
    "duration": 24,
    "start_time": "2024-07-18T13:38:08.210Z"
   },
   {
    "duration": 14,
    "start_time": "2024-07-18T13:38:08.237Z"
   },
   {
    "duration": 53,
    "start_time": "2024-07-18T13:38:08.258Z"
   },
   {
    "duration": 17,
    "start_time": "2024-07-18T13:38:08.315Z"
   },
   {
    "duration": 1546,
    "start_time": "2024-07-18T13:38:08.335Z"
   },
   {
    "duration": 30,
    "start_time": "2024-07-18T13:38:09.884Z"
   },
   {
    "duration": 27,
    "start_time": "2024-07-18T13:38:09.918Z"
   },
   {
    "duration": 24,
    "start_time": "2024-07-18T13:38:09.949Z"
   },
   {
    "duration": 382,
    "start_time": "2024-07-18T13:38:10.008Z"
   },
   {
    "duration": 311,
    "start_time": "2024-07-18T13:38:10.394Z"
   },
   {
    "duration": 355,
    "start_time": "2024-07-18T13:38:10.708Z"
   },
   {
    "duration": 6,
    "start_time": "2024-07-18T13:38:11.066Z"
   },
   {
    "duration": 11,
    "start_time": "2024-07-18T13:38:11.077Z"
   },
   {
    "duration": 28,
    "start_time": "2024-07-18T13:38:11.091Z"
   },
   {
    "duration": 7,
    "start_time": "2024-07-18T13:38:11.123Z"
   },
   {
    "duration": 2940,
    "start_time": "2024-07-18T13:38:11.135Z"
   },
   {
    "duration": 2882,
    "start_time": "2024-07-18T13:38:14.079Z"
   },
   {
    "duration": 2892,
    "start_time": "2024-07-18T13:38:16.965Z"
   },
   {
    "duration": 2928,
    "start_time": "2024-07-18T13:39:13.040Z"
   },
   {
    "duration": 5729,
    "start_time": "2024-07-18T13:39:36.789Z"
   },
   {
    "duration": 26,
    "start_time": "2024-07-18T13:41:00.518Z"
   },
   {
    "duration": 8,
    "start_time": "2024-07-18T13:41:11.825Z"
   },
   {
    "duration": 6028,
    "start_time": "2024-07-18T13:41:14.329Z"
   },
   {
    "duration": 8,
    "start_time": "2024-07-18T13:42:08.295Z"
   },
   {
    "duration": 1238,
    "start_time": "2024-07-18T13:42:09.548Z"
   },
   {
    "duration": 608,
    "start_time": "2024-07-18T13:42:15.406Z"
   },
   {
    "duration": 642,
    "start_time": "2024-07-18T13:42:16.018Z"
   },
   {
    "duration": 7,
    "start_time": "2024-07-18T13:42:56.670Z"
   },
   {
    "duration": 1274,
    "start_time": "2024-07-18T13:42:58.697Z"
   },
   {
    "duration": 1280,
    "start_time": "2024-07-18T13:43:00.938Z"
   },
   {
    "duration": 1242,
    "start_time": "2024-07-18T13:43:02.878Z"
   }
  ],
  "kernelspec": {
   "display_name": "Python 3 (ipykernel)",
   "language": "python",
   "name": "python3"
  },
  "language_info": {
   "codemirror_mode": {
    "name": "ipython",
    "version": 3
   },
   "file_extension": ".py",
   "mimetype": "text/x-python",
   "name": "python",
   "nbconvert_exporter": "python",
   "pygments_lexer": "ipython3",
   "version": "3.12.3"
  },
  "toc": {
   "base_numbering": 1,
   "nav_menu": {},
   "number_sections": true,
   "sideBar": true,
   "skip_h1_title": true,
   "title_cell": "Table of Contents",
   "title_sidebar": "Contents",
   "toc_cell": false,
   "toc_position": {},
   "toc_section_display": true,
   "toc_window_display": true
  }
 },
 "nbformat": 4,
 "nbformat_minor": 2
}
